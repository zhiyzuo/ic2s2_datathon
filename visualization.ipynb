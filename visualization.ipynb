{
 "cells": [
  {
   "cell_type": "markdown",
   "metadata": {},
   "source": [
    "visualization for final presentation"
   ]
  },
  {
   "cell_type": "markdown",
   "metadata": {},
   "source": [
    "---"
   ]
  },
  {
   "cell_type": "code",
   "execution_count": 62,
   "metadata": {
    "ExecuteTime": {
     "end_time": "2018-07-13T13:39:03.997534Z",
     "start_time": "2018-07-13T13:39:03.990266Z"
    }
   },
   "outputs": [],
   "source": [
    "import pandas as pd\n",
    "import scipy as sp"
   ]
  },
  {
   "cell_type": "code",
   "execution_count": 60,
   "metadata": {
    "ExecuteTime": {
     "end_time": "2018-07-13T13:38:42.946464Z",
     "start_time": "2018-07-13T13:38:42.617577Z"
    }
   },
   "outputs": [
    {
     "data": {
      "text/html": [
       "<div>\n",
       "<style scoped>\n",
       "    .dataframe tbody tr th:only-of-type {\n",
       "        vertical-align: middle;\n",
       "    }\n",
       "\n",
       "    .dataframe tbody tr th {\n",
       "        vertical-align: top;\n",
       "    }\n",
       "\n",
       "    .dataframe thead th {\n",
       "        text-align: right;\n",
       "    }\n",
       "</style>\n",
       "<table border=\"1\" class=\"dataframe\">\n",
       "  <thead>\n",
       "    <tr style=\"text-align: right;\">\n",
       "      <th></th>\n",
       "      <th>level_0</th>\n",
       "      <th>index</th>\n",
       "      <th>type</th>\n",
       "      <th>disease</th>\n",
       "      <th>compound</th>\n",
       "      <th>neg</th>\n",
       "      <th>neu</th>\n",
       "      <th>pos</th>\n",
       "      <th>age</th>\n",
       "      <th>gender</th>\n",
       "      <th>role</th>\n",
       "      <th>role_binary</th>\n",
       "      <th>topic_diversity</th>\n",
       "    </tr>\n",
       "  </thead>\n",
       "  <tbody>\n",
       "    <tr>\n",
       "      <th>0</th>\n",
       "      <td>0</td>\n",
       "      <td>0</td>\n",
       "      <td>q</td>\n",
       "      <td>psychiatric topics</td>\n",
       "      <td>-0.6515</td>\n",
       "      <td>0.123</td>\n",
       "      <td>0.776</td>\n",
       "      <td>0.101</td>\n",
       "      <td>32.0</td>\n",
       "      <td>0</td>\n",
       "      <td>patient</td>\n",
       "      <td>1</td>\n",
       "      <td>1.561658</td>\n",
       "    </tr>\n",
       "    <tr>\n",
       "      <th>1</th>\n",
       "      <td>1</td>\n",
       "      <td>2207</td>\n",
       "      <td>q</td>\n",
       "      <td>neurology topics</td>\n",
       "      <td>-0.9760</td>\n",
       "      <td>0.145</td>\n",
       "      <td>0.793</td>\n",
       "      <td>0.062</td>\n",
       "      <td>32.0</td>\n",
       "      <td>0</td>\n",
       "      <td>patient</td>\n",
       "      <td>1</td>\n",
       "      <td>0.086766</td>\n",
       "    </tr>\n",
       "  </tbody>\n",
       "</table>\n",
       "</div>"
      ],
      "text/plain": [
       "   level_0  index type             disease  compound    neg    neu    pos  \\\n",
       "0        0      0    q  psychiatric topics   -0.6515  0.123  0.776  0.101   \n",
       "1        1   2207    q    neurology topics   -0.9760  0.145  0.793  0.062   \n",
       "\n",
       "    age  gender     role  role_binary  topic_diversity  \n",
       "0  32.0       0  patient            1         1.561658  \n",
       "1  32.0       0  patient            1         0.086766  "
      ]
     },
     "execution_count": 60,
     "metadata": {},
     "output_type": "execute_result"
    }
   ],
   "source": [
    "#df = pd.read_csv('data/sentiment.csv')\n",
    "df = pd.read_stata('data/sentiment-topic_diversity.dta')\n",
    "df.head(2)"
   ]
  },
  {
   "cell_type": "code",
   "execution_count": 63,
   "metadata": {
    "ExecuteTime": {
     "end_time": "2018-07-13T13:39:10.469071Z",
     "start_time": "2018-07-13T13:39:10.451848Z"
    }
   },
   "outputs": [],
   "source": [
    "import seaborn as sns\n",
    "sns.set_context('paper')\n",
    "sns.set_style('white')\n",
    "\n",
    "from matplotlib import pyplot as plt\n",
    "from matplotlib.lines import Line2D\n",
    "%matplotlib inline"
   ]
  },
  {
   "cell_type": "markdown",
   "metadata": {},
   "source": [
    "---"
   ]
  },
  {
   "cell_type": "markdown",
   "metadata": {},
   "source": [
    "#### sentiment"
   ]
  },
  {
   "cell_type": "code",
   "execution_count": 64,
   "metadata": {
    "ExecuteTime": {
     "end_time": "2018-07-13T13:39:32.499123Z",
     "start_time": "2018-07-13T13:39:32.471208Z"
    }
   },
   "outputs": [
    {
     "data": {
      "text/plain": [
       "(0.13275201560468142, 0.15504148794162143)"
      ]
     },
     "execution_count": 64,
     "metadata": {},
     "output_type": "execute_result"
    }
   ],
   "source": [
    "female = df.query(\"gender==1\")['compound'].mean()\n",
    "male = df.query(\"gender==0\")['compound'].mean()\n",
    "female, male"
   ]
  },
  {
   "cell_type": "code",
   "execution_count": 70,
   "metadata": {
    "ExecuteTime": {
     "end_time": "2018-07-13T13:41:08.240954Z",
     "start_time": "2018-07-13T13:41:08.065716Z"
    }
   },
   "outputs": [
    {
     "data": {
      "image/png": "[encoded data removed]",
      "text/plain": [
       "<Figure size 720x360 with 1 Axes>"
      ]
     },
     "metadata": {},
     "output_type": "display_data"
    }
   ],
   "source": [
    "X = [-1., 1]\n",
    "\n",
    "fig, ax = plt.subplots(figsize=(10,5))\n",
    "ax.bar(X, [female, male], width=0.25,\n",
    "       alpha=0.8,\n",
    "       color=['k', '#CC0200'])\n",
    "ax.grid(axis='y')\n",
    "#ax.set_xticks([0, 1, 2, 3])\n",
    "ax.set_xticks([-1, 1])\n",
    "ax.set_ylabel('Sentiment Score', fontdict={'size': 15})\n",
    "ax.set_yticks([0, 0.04, 0.08, 0.12])\n",
    "ax.set_xticklabels(['Female', 'Male'])\n",
    "_ = ax.tick_params(axis='both', which='major', labelsize=15)"
   ]
  },
  {
   "cell_type": "code",
   "execution_count": 72,
   "metadata": {
    "ExecuteTime": {
     "end_time": "2018-07-13T13:41:41.413049Z",
     "start_time": "2018-07-13T13:41:41.384673Z"
    }
   },
   "outputs": [
    {
     "data": {
      "text/plain": [
       "(-0.1909993338884263, 0.40391536910044373)"
      ]
     },
     "execution_count": 72,
     "metadata": {},
     "output_type": "execute_result"
    }
   ],
   "source": [
    "p = df.query(\"role_binary==1\")['compound'].mean()\n",
    "d = df.query(\"role_binary==0\")['compound'].mean()\n",
    "p, d"
   ]
  },
  {
   "cell_type": "code",
   "execution_count": 76,
   "metadata": {
    "ExecuteTime": {
     "end_time": "2018-07-13T13:42:37.243161Z",
     "start_time": "2018-07-13T13:42:37.008367Z"
    }
   },
   "outputs": [
    {
     "data": {
      "image/png": "[encoded data removed]",
      "text/plain": [
       "<Figure size 720x360 with 1 Axes>"
      ]
     },
     "metadata": {},
     "output_type": "display_data"
    }
   ],
   "source": [
    "X = [-1., 1]\n",
    "\n",
    "fig, ax = plt.subplots(figsize=(10,5))\n",
    "ax.bar(X, [d, p], width=0.25,\n",
    "       alpha=0.8,\n",
    "       color=['k', '#CC0200'])\n",
    "ax.grid(axis='y')\n",
    "#ax.set_xticks([0, 1, 2, 3])\n",
    "ax.set_xticks([-1, 1])\n",
    "ax.set_ylabel('Sentiment Score', fontdict={'size': 15})\n",
    "ax.set_yticks([-0.4, -0.2, 0, 0.2, 0.4])\n",
    "ax.set_xticklabels(['Doctor', 'Patient'])\n",
    "_ = ax.tick_params(axis='both', which='major', labelsize=15)"
   ]
  },
  {
   "cell_type": "markdown",
   "metadata": {},
   "source": [
    "bar chart for 4: f,m x p,d"
   ]
  },
  {
   "cell_type": "code",
   "execution_count": 77,
   "metadata": {
    "ExecuteTime": {
     "end_time": "2018-07-13T13:43:15.270119Z",
     "start_time": "2018-07-13T13:43:15.220978Z"
    }
   },
   "outputs": [
    {
     "data": {
      "text/plain": [
       "(-0.22614308956725931,\n",
       " 0.5781584721065779,\n",
       " 0.2936448030562508,\n",
       " -0.13353167855183762)"
      ]
     },
     "execution_count": 77,
     "metadata": {},
     "output_type": "execute_result"
    }
   ],
   "source": [
    "fp = df.query(\"gender==1 and role_binary==1\")['compound'].mean()\n",
    "fd = df.query(\"gender==1 and role_binary==0\")['compound'].mean()\n",
    "md = df.query(\"gender==0 and role_binary==0\")['compound'].mean()\n",
    "mp = df.query(\"gender==0 and role_binary==1\")['compound'].mean()\n",
    "fp, fd, md, mp"
   ]
  },
  {
   "cell_type": "code",
   "execution_count": null,
   "metadata": {},
   "outputs": [],
   "source": [
    "stat"
   ]
  },
  {
   "cell_type": "code",
   "execution_count": 78,
   "metadata": {
    "ExecuteTime": {
     "end_time": "2018-07-13T13:43:15.757126Z",
     "start_time": "2018-07-13T13:43:15.750676Z"
    }
   },
   "outputs": [],
   "source": [
    "X = pd.np.arange(4)"
   ]
  },
  {
   "cell_type": "code",
   "execution_count": 79,
   "metadata": {
    "ExecuteTime": {
     "end_time": "2018-07-13T13:43:17.755029Z",
     "start_time": "2018-07-13T13:43:17.479945Z"
    }
   },
   "outputs": [
    {
     "data": {
      "image/png": "[encoded data removed]",
      "text/plain": [
       "<Figure size 720x360 with 1 Axes>"
      ]
     },
     "metadata": {},
     "output_type": "display_data"
    }
   ],
   "source": [
    "fig, ax = plt.subplots(figsize=(10,5))\n",
    "ax.bar(X, [md, fd, mp, fp], \n",
    "       alpha=0.8,\n",
    "       color=['k', 'k', '#CC0200', '#CC0200'])\n",
    "ax.grid(axis='y')\n",
    "ax.set_xticks([0, 1, 2, 3])\n",
    "ax.set_ylabel('Sentiment Score', fontdict={'size': 15})\n",
    "ax.set_yticks([-0.2, 0, 0.2, 0.4, 0.6])\n",
    "ax.set_xticklabels(['Male Doc', 'Female Doc', \n",
    "                    'Male Patient', 'Female Patient'])\n",
    "_ = ax.tick_params(axis='both', which='major', labelsize=15)"
   ]
  },
  {
   "cell_type": "markdown",
   "metadata": {},
   "source": [
    "---"
   ]
  },
  {
   "cell_type": "markdown",
   "metadata": {},
   "source": [
    "#### topical diversity"
   ]
  },
  {
   "cell_type": "markdown",
   "metadata": {},
   "source": [
    "topic modeling"
   ]
  },
  {
   "cell_type": "code",
   "execution_count": 83,
   "metadata": {
    "ExecuteTime": {
     "end_time": "2018-07-13T13:45:12.844495Z",
     "start_time": "2018-07-13T13:45:12.808790Z"
    }
   },
   "outputs": [
    {
     "data": {
      "text/html": [
       "<div>\n",
       "<style scoped>\n",
       "    .dataframe tbody tr th:only-of-type {\n",
       "        vertical-align: middle;\n",
       "    }\n",
       "\n",
       "    .dataframe tbody tr th {\n",
       "        vertical-align: top;\n",
       "    }\n",
       "\n",
       "    .dataframe thead th {\n",
       "        text-align: right;\n",
       "    }\n",
       "</style>\n",
       "<table border=\"1\" class=\"dataframe\">\n",
       "  <thead>\n",
       "    <tr style=\"text-align: right;\">\n",
       "      <th></th>\n",
       "      <th>coherence</th>\n",
       "      <th>num_topics</th>\n",
       "    </tr>\n",
       "  </thead>\n",
       "  <tbody>\n",
       "    <tr>\n",
       "      <th>0</th>\n",
       "      <td>-2.158152</td>\n",
       "      <td>100</td>\n",
       "    </tr>\n",
       "    <tr>\n",
       "      <th>1</th>\n",
       "      <td>-2.163577</td>\n",
       "      <td>110</td>\n",
       "    </tr>\n",
       "    <tr>\n",
       "      <th>2</th>\n",
       "      <td>-2.174580</td>\n",
       "      <td>120</td>\n",
       "    </tr>\n",
       "    <tr>\n",
       "      <th>3</th>\n",
       "      <td>-2.139994</td>\n",
       "      <td>130</td>\n",
       "    </tr>\n",
       "    <tr>\n",
       "      <th>4</th>\n",
       "      <td>-2.152813</td>\n",
       "      <td>140</td>\n",
       "    </tr>\n",
       "    <tr>\n",
       "      <th>5</th>\n",
       "      <td>-2.170055</td>\n",
       "      <td>150</td>\n",
       "    </tr>\n",
       "  </tbody>\n",
       "</table>\n",
       "</div>"
      ],
      "text/plain": [
       "   coherence  num_topics\n",
       "0  -2.158152         100\n",
       "1  -2.163577         110\n",
       "2  -2.174580         120\n",
       "3  -2.139994         130\n",
       "4  -2.152813         140\n",
       "5  -2.170055         150"
      ]
     },
     "execution_count": 83,
     "metadata": {},
     "output_type": "execute_result"
    }
   ],
   "source": [
    "lda_coh_df = pd.read_csv('data/topic_coherence.csv')\n",
    "lda_coh_df"
   ]
  },
  {
   "cell_type": "code",
   "execution_count": 94,
   "metadata": {
    "ExecuteTime": {
     "end_time": "2018-07-13T13:55:30.124989Z",
     "start_time": "2018-07-13T13:55:29.896568Z"
    }
   },
   "outputs": [
    {
     "data": {
      "image/png": "[encoded data removed]",
      "text/plain": [
       "<Figure size 720x360 with 1 Axes>"
      ]
     },
     "metadata": {},
     "output_type": "display_data"
    }
   ],
   "source": [
    "fig, ax = plt.subplots(figsize=(10, 5))\n",
    "lda_coh_df.plot(x='num_topics', y='coherence', kind='line', \n",
    "                #color='#CC0200', ax=ax, legend=None)\n",
    "                color='#ED7D32', ax=ax, legend=None)\n",
    "lda_coh_df.plot(x='num_topics', y='coherence', kind='scatter', \n",
    "                color='#ED7D32', ax=ax, s=100)\n",
    "                #color='#CC0200', ax=ax, s=100)\n",
    "ax.set_yticks([-2.180, -2.160, -2.140])\n",
    "ax.set_ylabel('Topic Coherence', fontdict={'size': 15})\n",
    "ax.set_xlabel('# of Topics', fontdict={'size': 15})\n",
    "_ = ax.tick_params(axis='both', which='major', labelsize=15)"
   ]
  },
  {
   "cell_type": "code",
   "execution_count": 85,
   "metadata": {
    "ExecuteTime": {
     "end_time": "2018-07-13T13:45:19.592045Z",
     "start_time": "2018-07-13T13:45:19.558056Z"
    }
   },
   "outputs": [
    {
     "data": {
      "text/plain": [
       "(1.0957305539378497,\n",
       " 1.0861653421238169,\n",
       " 1.0919410021021196,\n",
       " 1.0947089357012112)"
      ]
     },
     "execution_count": 85,
     "metadata": {},
     "output_type": "execute_result"
    }
   ],
   "source": [
    "fp = df.query(\"gender==1 and role_binary==1\")['topic_diversity'].mean()\n",
    "fd = df.query(\"gender==1 and role_binary==0\")['topic_diversity'].mean()\n",
    "md = df.query(\"gender==0 and role_binary==0\")['topic_diversity'].mean()\n",
    "mp = df.query(\"gender==0 and role_binary==1\")['topic_diversity'].mean()\n",
    "fp, fd, md, mp"
   ]
  },
  {
   "cell_type": "code",
   "execution_count": 31,
   "metadata": {
    "ExecuteTime": {
     "end_time": "2018-07-13T05:33:01.573241Z",
     "start_time": "2018-07-13T05:33:01.536816Z"
    }
   },
   "outputs": [],
   "source": [
    "X = pd.np.arange(4)"
   ]
  },
  {
   "cell_type": "code",
   "execution_count": 34,
   "metadata": {
    "ExecuteTime": {
     "end_time": "2018-07-13T05:33:29.204288Z",
     "start_time": "2018-07-13T05:33:28.821373Z"
    }
   },
   "outputs": [
    {
     "data": {
      "image/png": "[encoded data removed]",
      "text/plain": [
       "<Figure size 720x360 with 1 Axes>"
      ]
     },
     "metadata": {},
     "output_type": "display_data"
    }
   ],
   "source": [
    "fig, ax = plt.subplots(figsize=(10,5))\n",
    "ax.bar(X, [md, fd, mp, fp], \n",
    "       alpha=0.8,\n",
    "       color=['k', 'k', '#CC0200', '#CC0200'])\n",
    "ax.grid(axis='y')\n",
    "ax.set_xticks([0, 1, 2, 3])\n",
    "ax.set_ylabel('Topical Diversity', fontdict={'size': 15})\n",
    "#ax.set_yticks([-0.2, 0, 0.2, 0.4, 0.6])\n",
    "ax.set_xticklabels(['Male Doc', 'Female Doc', \n",
    "                    'Male Patient', 'Female Patient'])\n",
    "_ = ax.tick_params(axis='both', which='major', labelsize=15)"
   ]
  },
  {
   "cell_type": "markdown",
   "metadata": {},
   "source": [
    "---"
   ]
  },
  {
   "cell_type": "markdown",
   "metadata": {},
   "source": [
    "#### politenness"
   ]
  },
  {
   "cell_type": "code",
   "execution_count": 27,
   "metadata": {
    "ExecuteTime": {
     "end_time": "2018-07-13T13:34:34.761123Z",
     "start_time": "2018-07-13T13:34:34.749635Z"
    }
   },
   "outputs": [],
   "source": [
    "from sqlalchemy import create_engine\n",
    "engine = create_engine('postgresql://zhiyzuo@localhost:5432/ic2s2_datathon')"
   ]
  },
  {
   "cell_type": "code",
   "execution_count": 39,
   "metadata": {
    "ExecuteTime": {
     "end_time": "2018-07-13T13:36:37.275589Z",
     "start_time": "2018-07-13T13:36:36.606986Z"
    }
   },
   "outputs": [
    {
     "data": {
      "text/html": [
       "<div>\n",
       "<style scoped>\n",
       "    .dataframe tbody tr th:only-of-type {\n",
       "        vertical-align: middle;\n",
       "    }\n",
       "\n",
       "    .dataframe tbody tr th {\n",
       "        vertical-align: top;\n",
       "    }\n",
       "\n",
       "    .dataframe thead th {\n",
       "        text-align: right;\n",
       "    }\n",
       "</style>\n",
       "<table border=\"1\" class=\"dataframe\">\n",
       "  <thead>\n",
       "    <tr style=\"text-align: right;\">\n",
       "      <th></th>\n",
       "      <th>user_id</th>\n",
       "      <th>politeness</th>\n",
       "      <th>disease</th>\n",
       "    </tr>\n",
       "  </thead>\n",
       "  <tbody>\n",
       "    <tr>\n",
       "      <th>0</th>\n",
       "      <td>TigerShot</td>\n",
       "      <td>0.75</td>\n",
       "      <td>psychiatric topics</td>\n",
       "    </tr>\n",
       "    <tr>\n",
       "      <th>1</th>\n",
       "      <td>marcia smith</td>\n",
       "      <td>0.66</td>\n",
       "      <td>psychiatric topics</td>\n",
       "    </tr>\n",
       "  </tbody>\n",
       "</table>\n",
       "</div>"
      ],
      "text/plain": [
       "        user_id  politeness             disease\n",
       "0     TigerShot        0.75  psychiatric topics\n",
       "1  marcia smith        0.66  psychiatric topics"
      ]
     },
     "execution_count": 39,
     "metadata": {},
     "output_type": "execute_result"
    }
   ],
   "source": [
    "text_df = pd.read_sql_table(table_name='text', con=engine)\n",
    "text_df = text_df[['post_user_id', 'politeness', 'disease']].rename(columns={'post_user_id': 'user_id'})\n",
    "text_df.head(2)"
   ]
  },
  {
   "cell_type": "code",
   "execution_count": 33,
   "metadata": {
    "ExecuteTime": {
     "end_time": "2018-07-13T13:35:00.211265Z",
     "start_time": "2018-07-13T13:35:00.038882Z"
    }
   },
   "outputs": [
    {
     "data": {
      "text/html": [
       "<div>\n",
       "<style scoped>\n",
       "    .dataframe tbody tr th:only-of-type {\n",
       "        vertical-align: middle;\n",
       "    }\n",
       "\n",
       "    .dataframe tbody tr th {\n",
       "        vertical-align: top;\n",
       "    }\n",
       "\n",
       "    .dataframe thead th {\n",
       "        text-align: right;\n",
       "    }\n",
       "</style>\n",
       "<table border=\"1\" class=\"dataframe\">\n",
       "  <thead>\n",
       "    <tr style=\"text-align: right;\">\n",
       "      <th></th>\n",
       "      <th>user_id</th>\n",
       "      <th>gender</th>\n",
       "      <th>role</th>\n",
       "    </tr>\n",
       "  </thead>\n",
       "  <tbody>\n",
       "    <tr>\n",
       "      <th>0</th>\n",
       "      <td>Faye Lang, RN, MSW</td>\n",
       "      <td>Female</td>\n",
       "      <td>Nurse</td>\n",
       "    </tr>\n",
       "    <tr>\n",
       "      <th>1</th>\n",
       "      <td>Tim W Latsko</td>\n",
       "      <td>Male</td>\n",
       "      <td>Psychotherapist</td>\n",
       "    </tr>\n",
       "  </tbody>\n",
       "</table>\n",
       "</div>"
      ],
      "text/plain": [
       "              user_id  gender             role\n",
       "0  Faye Lang, RN, MSW  Female            Nurse\n",
       "1        Tim W Latsko    Male  Psychotherapist"
      ]
     },
     "execution_count": 33,
     "metadata": {},
     "output_type": "execute_result"
    }
   ],
   "source": [
    "user_df = pd.read_sql_table(table_name='user', con=engine)\n",
    "user_df = user_df[['user_id', 'gender', 'role']]\n",
    "user_df.head(2)"
   ]
  },
  {
   "cell_type": "markdown",
   "metadata": {},
   "source": [
    "merge user"
   ]
  },
  {
   "cell_type": "code",
   "execution_count": 53,
   "metadata": {
    "ExecuteTime": {
     "end_time": "2018-07-13T13:37:56.726951Z",
     "start_time": "2018-07-13T13:37:56.669149Z"
    }
   },
   "outputs": [
    {
     "data": {
      "text/html": [
       "<div>\n",
       "<style scoped>\n",
       "    .dataframe tbody tr th:only-of-type {\n",
       "        vertical-align: middle;\n",
       "    }\n",
       "\n",
       "    .dataframe tbody tr th {\n",
       "        vertical-align: top;\n",
       "    }\n",
       "\n",
       "    .dataframe thead th {\n",
       "        text-align: right;\n",
       "    }\n",
       "</style>\n",
       "<table border=\"1\" class=\"dataframe\">\n",
       "  <thead>\n",
       "    <tr style=\"text-align: right;\">\n",
       "      <th></th>\n",
       "      <th>user_id</th>\n",
       "      <th>politeness</th>\n",
       "      <th>disease</th>\n",
       "      <th>gender</th>\n",
       "      <th>role</th>\n",
       "    </tr>\n",
       "  </thead>\n",
       "  <tbody>\n",
       "    <tr>\n",
       "      <th>0</th>\n",
       "      <td>TigerShot</td>\n",
       "      <td>0.75</td>\n",
       "      <td>psychiatric topics</td>\n",
       "      <td>Male</td>\n",
       "      <td>patient</td>\n",
       "    </tr>\n",
       "    <tr>\n",
       "      <th>1</th>\n",
       "      <td>marcia smith</td>\n",
       "      <td>0.66</td>\n",
       "      <td>psychiatric topics</td>\n",
       "      <td>Female</td>\n",
       "      <td>patient</td>\n",
       "    </tr>\n",
       "  </tbody>\n",
       "</table>\n",
       "</div>"
      ],
      "text/plain": [
       "        user_id  politeness             disease  gender     role\n",
       "0     TigerShot        0.75  psychiatric topics    Male  patient\n",
       "1  marcia smith        0.66  psychiatric topics  Female  patient"
      ]
     },
     "execution_count": 53,
     "metadata": {},
     "output_type": "execute_result"
    }
   ],
   "source": [
    "polite_df = text_df.merge(user_df, on='user_id', how='left')\n",
    "polite_df.head(2)"
   ]
  },
  {
   "cell_type": "code",
   "execution_count": 54,
   "metadata": {
    "ExecuteTime": {
     "end_time": "2018-07-13T13:37:56.920448Z",
     "start_time": "2018-07-13T13:37:56.896461Z"
    }
   },
   "outputs": [],
   "source": [
    "polite_df.dropna(subset=['politeness'], inplace=True, axis=0)\n",
    "polite_df = polite_df[~polite_df.politeness.isnull()]"
   ]
  },
  {
   "cell_type": "code",
   "execution_count": 55,
   "metadata": {
    "ExecuteTime": {
     "end_time": "2018-07-13T13:37:57.399166Z",
     "start_time": "2018-07-13T13:37:57.344291Z"
    }
   },
   "outputs": [],
   "source": [
    "polite_df.role = polite_df.role.str.contains('patient').astype(int)\n",
    "polite_df.gender = polite_df.gender.map({'Male': 1, 'Female': 0})"
   ]
  },
  {
   "cell_type": "code",
   "execution_count": 56,
   "metadata": {
    "ExecuteTime": {
     "end_time": "2018-07-13T13:37:58.614546Z",
     "start_time": "2018-07-13T13:37:58.602108Z"
    }
   },
   "outputs": [
    {
     "data": {
      "text/plain": [
       "0    12395\n",
       "1     9605\n",
       "Name: role, dtype: int64"
      ]
     },
     "execution_count": 56,
     "metadata": {},
     "output_type": "execute_result"
    }
   ],
   "source": [
    "polite_df.role.value_counts()"
   ]
  },
  {
   "cell_type": "code",
   "execution_count": 57,
   "metadata": {
    "ExecuteTime": {
     "end_time": "2018-07-13T13:38:02.123771Z",
     "start_time": "2018-07-13T13:38:02.110651Z"
    }
   },
   "outputs": [
    {
     "data": {
      "text/plain": [
       "1    11237\n",
       "0    10763\n",
       "Name: gender, dtype: int64"
      ]
     },
     "execution_count": 57,
     "metadata": {},
     "output_type": "execute_result"
    }
   ],
   "source": [
    "polite_df.gender.value_counts()"
   ]
  },
  {
   "cell_type": "code",
   "execution_count": 82,
   "metadata": {
    "ExecuteTime": {
     "end_time": "2018-07-13T13:44:16.855107Z",
     "start_time": "2018-07-13T13:44:16.818531Z"
    }
   },
   "outputs": [
    {
     "data": {
      "text/plain": [
       "(0.7348601206801976,\n",
       " 0.8012053747859307,\n",
       " 0.7679850124895921,\n",
       " 0.6975566370196341)"
      ]
     },
     "execution_count": 82,
     "metadata": {},
     "output_type": "execute_result"
    }
   ],
   "source": [
    "fp = polite_df.query(\"gender==1\")['politeness'].mean()\n",
    "fd = polite_df.query(\"gender==1\")['politeness'].mean()\n",
    "md = polite_df.query(\"gender==0 and role==0\")['politeness'].mean()\n",
    "mp = polite_df.query(\"gender==0 and role==1\")['politeness'].mean()\n",
    "fp, fd, md, mp"
   ]
  },
  {
   "cell_type": "code",
   "execution_count": 82,
   "metadata": {
    "ExecuteTime": {
     "end_time": "2018-07-13T13:44:16.855107Z",
     "start_time": "2018-07-13T13:44:16.818531Z"
    }
   },
   "outputs": [
    {
     "data": {
      "text/plain": [
       "(0.7348601206801976,\n",
       " 0.8012053747859307,\n",
       " 0.7679850124895921,\n",
       " 0.6975566370196341)"
      ]
     },
     "execution_count": 82,
     "metadata": {},
     "output_type": "execute_result"
    }
   ],
   "source": [
    "fp = polite_df.query(\"gender==1 and role==1\")['politeness'].mean()\n",
    "fd = polite_df.query(\"gender==1 and role==0\")['politeness'].mean()\n",
    "md = polite_df.query(\"gender==0 and role==0\")['politeness'].mean()\n",
    "mp = polite_df.query(\"gender==0 and role==1\")['politeness'].mean()\n",
    "fp, fd, md, mp"
   ]
  }
 ],
 "metadata": {
  "kernelspec": {
   "display_name": "Python 2",
   "language": "python",
   "name": "python2"
  },
  "language_info": {
   "codemirror_mode": {
    "name": "ipython",
    "version": 2
   },
   "file_extension": ".py",
   "mimetype": "text/x-python",
   "name": "python",
   "nbconvert_exporter": "python",
   "pygments_lexer": "ipython2",
   "version": "2.7.14"
  },
  "toc": {
   "base_numbering": 1,
   "nav_menu": {},
   "number_sections": true,
   "sideBar": true,
   "skip_h1_title": true,
   "title_cell": "Table of Contents",
   "title_sidebar": "Contents",
   "toc_cell": false,
   "toc_position": {},
   "toc_section_display": true,
   "toc_window_display": true
  }
 },
 "nbformat": 4,
 "nbformat_minor": 2
}
