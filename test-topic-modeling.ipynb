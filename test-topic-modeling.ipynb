{
 "cells": [
  {
   "cell_type": "markdown",
   "metadata": {},
   "source": [
    "test: apply lda onto a small corpus"
   ]
  },
  {
   "cell_type": "markdown",
   "metadata": {},
   "source": [
    "--- "
   ]
  },
  {
   "cell_type": "code",
   "execution_count": 5,
   "metadata": {
    "ExecuteTime": {
     "end_time": "2018-07-12T19:17:30.911724Z",
     "start_time": "2018-07-12T19:17:30.908795Z"
    }
   },
   "outputs": [],
   "source": [
    "import pandas as pd\n",
    "from tm_preprocessor import Preprocessor"
   ]
  },
  {
   "cell_type": "markdown",
   "metadata": {},
   "source": [
    "---"
   ]
  },
  {
   "cell_type": "markdown",
   "metadata": {},
   "source": [
    "#### preprocessing"
   ]
  },
  {
   "cell_type": "code",
   "execution_count": 29,
   "metadata": {
    "ExecuteTime": {
     "end_time": "2018-07-12T19:31:57.644270Z",
     "start_time": "2018-07-12T19:31:57.577423Z"
    }
   },
   "outputs": [
    {
     "data": {
      "text/plain": [
       "\"I've been seeing flashing lights now for about a week, it only happens when I touch my eye, like when I get an eye-lash in it or something. I've read about retinal detachment but it only happens when I touch around my eyes... so could it still be retinal detachment? And if it matters I have amblyopia, myopia, & dry eyes.\""
      ]
     },
     "execution_count": 29,
     "metadata": {},
     "output_type": "execute_result"
    }
   ],
   "source": [
    "doc_arr = pd.read_csv('test-data/test.csv')['text'].values\n",
    "doc_arr[0]"
   ]
  },
  {
   "cell_type": "code",
   "execution_count": 30,
   "metadata": {
    "ExecuteTime": {
     "end_time": "2018-07-12T19:31:57.806749Z",
     "start_time": "2018-07-12T19:31:57.792209Z"
    }
   },
   "outputs": [],
   "source": [
    "preprocessor = Preprocessor(doc_arr)"
   ]
  },
  {
   "cell_type": "code",
   "execution_count": 31,
   "metadata": {
    "ExecuteTime": {
     "end_time": "2018-07-12T19:31:57.982031Z",
     "start_time": "2018-07-12T19:31:57.972791Z"
    }
   },
   "outputs": [],
   "source": [
    "preprocessor.remove_digits_punctuactions()"
   ]
  },
  {
   "cell_type": "code",
   "execution_count": 32,
   "metadata": {
    "ExecuteTime": {
     "end_time": "2018-07-12T19:31:58.512444Z",
     "start_time": "2018-07-12T19:31:58.159549Z"
    }
   },
   "outputs": [],
   "source": [
    "preprocessor.remove_stopwords()"
   ]
  },
  {
   "cell_type": "code",
   "execution_count": 33,
   "metadata": {
    "ExecuteTime": {
     "end_time": "2018-07-12T19:31:58.519283Z",
     "start_time": "2018-07-12T19:31:58.515146Z"
    }
   },
   "outputs": [],
   "source": [
    "min_freq = 0\n",
    "max_freq = 1\n",
    "min_len = 3"
   ]
  },
  {
   "cell_type": "code",
   "execution_count": 34,
   "metadata": {
    "ExecuteTime": {
     "end_time": "2018-07-12T19:31:58.525377Z",
     "start_time": "2018-07-12T19:31:58.522099Z"
    }
   },
   "outputs": [],
   "source": [
    "import nltk\n",
    "lemmatizer  = nltk.WordNetLemmatizer()"
   ]
  },
  {
   "cell_type": "code",
   "execution_count": 35,
   "metadata": {
    "ExecuteTime": {
     "end_time": "2018-07-12T19:32:00.748375Z",
     "start_time": "2018-07-12T19:31:59.406837Z"
    }
   },
   "outputs": [],
   "source": [
    "preprocessor.normalize(lemmatizer, min_freq, max_freq, min_len)"
   ]
  },
  {
   "cell_type": "markdown",
   "metadata": {},
   "source": [
    "---"
   ]
  },
  {
   "cell_type": "markdown",
   "metadata": {},
   "source": [
    "#### apply lda"
   ]
  },
  {
   "cell_type": "code",
   "execution_count": 36,
   "metadata": {
    "ExecuteTime": {
     "end_time": "2018-07-12T19:32:00.759477Z",
     "start_time": "2018-07-12T19:32:00.751354Z"
    }
   },
   "outputs": [],
   "source": [
    "from gensim import corpora"
   ]
  },
  {
   "cell_type": "code",
   "execution_count": 37,
   "metadata": {
    "ExecuteTime": {
     "end_time": "2018-07-12T19:32:00.784953Z",
     "start_time": "2018-07-12T19:32:00.762827Z"
    }
   },
   "outputs": [],
   "source": [
    "dictionary = corpora.Dictionary(preprocessor.corpus)"
   ]
  },
  {
   "cell_type": "code",
   "execution_count": 38,
   "metadata": {
    "ExecuteTime": {
     "end_time": "2018-07-12T19:32:00.801885Z",
     "start_time": "2018-07-12T19:32:00.788167Z"
    }
   },
   "outputs": [],
   "source": [
    "dictionary.save('test-data/test.dict')"
   ]
  },
  {
   "cell_type": "markdown",
   "metadata": {},
   "source": [
    "to vector"
   ]
  },
  {
   "cell_type": "code",
   "execution_count": 39,
   "metadata": {
    "ExecuteTime": {
     "end_time": "2018-07-12T19:32:00.910850Z",
     "start_time": "2018-07-12T19:32:00.889560Z"
    }
   },
   "outputs": [
    {
     "data": {
      "text/plain": [
       "198"
      ]
     },
     "execution_count": 39,
     "metadata": {},
     "output_type": "execute_result"
    }
   ],
   "source": [
    "corpus = [dictionary.doc2bow(text) for text in preprocessor.corpus]\n",
    "len(corpus)"
   ]
  },
  {
   "cell_type": "code",
   "execution_count": 40,
   "metadata": {
    "ExecuteTime": {
     "end_time": "2018-07-12T19:32:01.142212Z",
     "start_time": "2018-07-12T19:32:01.138905Z"
    }
   },
   "outputs": [],
   "source": [
    "from gensim.models import ldamodel"
   ]
  },
  {
   "cell_type": "code",
   "execution_count": 53,
   "metadata": {
    "ExecuteTime": {
     "end_time": "2018-07-12T20:04:17.684577Z",
     "start_time": "2018-07-12T20:04:17.668264Z"
    }
   },
   "outputs": [],
   "source": [
    "param_dict = {'num_topics': 4, 'distributed': False, \n",
    "              'chunksize': len(corpus), 'passes': 100}"
   ]
  },
  {
   "cell_type": "code",
   "execution_count": 54,
   "metadata": {
    "ExecuteTime": {
     "end_time": "2018-07-12T20:04:41.049338Z",
     "start_time": "2018-07-12T20:04:18.059058Z"
    }
   },
   "outputs": [],
   "source": [
    "lda = ldamodel.LdaModel(corpus=corpus, id2word=dictionary, \n",
    "                        **param_dict)"
   ]
  },
  {
   "cell_type": "code",
   "execution_count": 55,
   "metadata": {
    "ExecuteTime": {
     "end_time": "2018-07-12T20:04:41.059271Z",
     "start_time": "2018-07-12T20:04:41.051832Z"
    },
    "scrolled": false
   },
   "outputs": [
    {
     "name": "stdout",
     "output_type": "stream",
     "text": [
      "topic 1\n",
      "0.056*\"eye\" + 0.017*\"day\" + 0.013*\"time\" + 0.010*\"problem\" + 0.010*\"drop\" + 0.009*\"vision\" + 0.009*\"feel\" + 0.009*\"leave\"\n",
      "topic 2\n",
      "0.008*\"eye\" + 0.006*\"symptom\" + 0.005*\"color\" + 0.005*\"iris\" + 0.005*\"case\" + 0.004*\"occur\" + 0.004*\"eyelid\" + 0.004*\"follow\"\n",
      "topic 3\n",
      "0.054*\"eye\" + 0.013*\"vision\" + 0.008*\"leave\" + 0.007*\"light\" + 0.007*\"infection\" + 0.007*\"ramamurthy\" + 0.007*\"doctor\" + 0.006*\"year\"\n",
      "topic 4\n",
      "0.039*\"eye\" + 0.014*\"ramamurthy\" + 0.012*\"contact\" + 0.007*\"doctor\" + 0.006*\"relate\" + 0.006*\"avoid\" + 0.006*\"light\" + 0.006*\"glass\"\n"
     ]
    }
   ],
   "source": [
    "for (_, t) in lda.print_topics(num_topics=10, num_words=8):\n",
    "    print('topic', _+1)\n",
    "    print(t)"
   ]
  }
 ],
 "metadata": {
  "kernelspec": {
   "display_name": "Python 3",
   "language": "python",
   "name": "python3"
  },
  "language_info": {
   "codemirror_mode": {
    "name": "ipython",
    "version": 3
   },
   "file_extension": ".py",
   "mimetype": "text/x-python",
   "name": "python",
   "nbconvert_exporter": "python",
   "pygments_lexer": "ipython3",
   "version": "3.7.0"
  },
  "toc": {
   "base_numbering": 1,
   "nav_menu": {},
   "number_sections": true,
   "sideBar": true,
   "skip_h1_title": false,
   "title_cell": "Table of Contents",
   "title_sidebar": "Contents",
   "toc_cell": false,
   "toc_position": {
    "height": "calc(100% - 180px)",
    "left": "10px",
    "top": "150px",
    "width": "165px"
   },
   "toc_section_display": true,
   "toc_window_display": true
  }
 },
 "nbformat": 4,
 "nbformat_minor": 2
}
