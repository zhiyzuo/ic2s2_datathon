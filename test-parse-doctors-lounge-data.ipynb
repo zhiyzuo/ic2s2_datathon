{
 "cells": [
  {
   "cell_type": "markdown",
   "metadata": {},
   "source": [
    "test to parse a small dataset from doctorslounge:\n",
    "> score_Eye diseases (Ophthalmology).xlsx"
   ]
  },
  {
   "cell_type": "markdown",
   "metadata": {},
   "source": [
    "structure: two tables\n",
    "- text\n",
    "    - text_id\n",
    "    - type {answser, question} (maybe not needed)\n",
    "    - user_id (refers to user table id)\n",
    "- user\n",
    "    - user_id\n",
    "    - type {patient, doctor, nurse}\n",
    "    - age\n",
    "    - gender"
   ]
  },
  {
   "cell_type": "markdown",
   "metadata": {},
   "source": [
    "---"
   ]
  },
  {
   "cell_type": "code",
   "execution_count": 1,
   "metadata": {
    "ExecuteTime": {
     "end_time": "2018-07-12T19:08:38.919567Z",
     "start_time": "2018-07-12T19:08:38.220341Z"
    }
   },
   "outputs": [],
   "source": [
    "import pandas as pd"
   ]
  },
  {
   "cell_type": "markdown",
   "metadata": {
    "ExecuteTime": {
     "end_time": "2018-07-12T18:30:41.541498Z",
     "start_time": "2018-07-12T18:30:41.534922Z"
    }
   },
   "source": [
    "---"
   ]
  },
  {
   "cell_type": "markdown",
   "metadata": {},
   "source": [
    "#### load data"
   ]
  },
  {
   "cell_type": "code",
   "execution_count": 72,
   "metadata": {
    "ExecuteTime": {
     "end_time": "2018-07-12T18:52:31.817923Z",
     "start_time": "2018-07-12T18:52:31.752964Z"
    }
   },
   "outputs": [
    {
     "data": {
      "text/html": [
       "<div>\n",
       "<style scoped>\n",
       "    .dataframe tbody tr th:only-of-type {\n",
       "        vertical-align: middle;\n",
       "    }\n",
       "\n",
       "    .dataframe tbody tr th {\n",
       "        vertical-align: top;\n",
       "    }\n",
       "\n",
       "    .dataframe thead th {\n",
       "        text-align: right;\n",
       "    }\n",
       "</style>\n",
       "<table border=\"1\" class=\"dataframe\">\n",
       "  <thead>\n",
       "    <tr style=\"text-align: right;\">\n",
       "      <th></th>\n",
       "      <th>Disease</th>\n",
       "      <th>Topic</th>\n",
       "      <th>Url</th>\n",
       "      <th>Question</th>\n",
       "      <th>Answer</th>\n",
       "      <th>Asker ID</th>\n",
       "      <th>Asker Gender</th>\n",
       "      <th>Asker Dummy</th>\n",
       "      <th>Asker Age</th>\n",
       "      <th>Answerer Title</th>\n",
       "      <th>...</th>\n",
       "      <th>Question Time Stamp</th>\n",
       "      <th>Answer Time Stamp</th>\n",
       "      <th>Question Score</th>\n",
       "      <th>Answer Score</th>\n",
       "      <th>Patient Sentiment</th>\n",
       "      <th>Doctor Sentiment</th>\n",
       "      <th>Patient Topic</th>\n",
       "      <th>Doctor Topic</th>\n",
       "      <th>Patient Formality</th>\n",
       "      <th>Doctor Formality</th>\n",
       "    </tr>\n",
       "  </thead>\n",
       "  <tbody>\n",
       "    <tr>\n",
       "      <th>0</th>\n",
       "      <td>Eye Diseases</td>\n",
       "      <td>Flashing Lights. -</td>\n",
       "      <td>https://www.doctorslounge.com/forums/./viewtop...</td>\n",
       "      <td>I've been seeing flashing lights now for about...</td>\n",
       "      <td>Hello,While retinal detachments remain the mos...</td>\n",
       "      <td>Rene√©</td>\n",
       "      <td>Female</td>\n",
       "      <td>1</td>\n",
       "      <td>27.0</td>\n",
       "      <td>Dr.M.jagesh kamath</td>\n",
       "      <td>...</td>\n",
       "      <td>Tue Nov 10, 2009 2:00 am</td>\n",
       "      <td>Wed Sep 15, 2010 11:05 am</td>\n",
       "      <td>0.87</td>\n",
       "      <td>0.91</td>\n",
       "      <td>0.25</td>\n",
       "      <td>0.57</td>\n",
       "      <td>0.76</td>\n",
       "      <td>1.00</td>\n",
       "      <td>0.00</td>\n",
       "      <td>0.95</td>\n",
       "    </tr>\n",
       "    <tr>\n",
       "      <th>1</th>\n",
       "      <td>Eye Diseases</td>\n",
       "      <td>Large optic nerves suspicious for  glaucoma -</td>\n",
       "      <td>https://www.doctorslounge.com/forums/./viewtop...</td>\n",
       "      <td>How common are large optic nerve discs that ar...</td>\n",
       "      <td>Hi, You have not mentioned her disc size. Howe...</td>\n",
       "      <td>Ruthiejb</td>\n",
       "      <td>Female</td>\n",
       "      <td>1</td>\n",
       "      <td>NaN</td>\n",
       "      <td>Dr.M.Aroon kamath</td>\n",
       "      <td>...</td>\n",
       "      <td>Sat Jul 31, 2010 8:57 am</td>\n",
       "      <td>Fri Aug 20, 2010 1:52 am</td>\n",
       "      <td>0.74</td>\n",
       "      <td>0.98</td>\n",
       "      <td>0.15</td>\n",
       "      <td>0.51</td>\n",
       "      <td>0.79</td>\n",
       "      <td>0.99</td>\n",
       "      <td>0.16</td>\n",
       "      <td>1.00</td>\n",
       "    </tr>\n",
       "  </tbody>\n",
       "</table>\n",
       "<p>2 rows × 24 columns</p>\n",
       "</div>"
      ],
      "text/plain": [
       "        Disease                                           Topic  \\\n",
       "0  Eye Diseases                             Flashing Lights. -    \n",
       "1  Eye Diseases  Large optic nerves suspicious for  glaucoma -    \n",
       "\n",
       "                                                 Url  \\\n",
       "0  https://www.doctorslounge.com/forums/./viewtop...   \n",
       "1  https://www.doctorslounge.com/forums/./viewtop...   \n",
       "\n",
       "                                            Question  \\\n",
       "0  I've been seeing flashing lights now for about...   \n",
       "1  How common are large optic nerve discs that ar...   \n",
       "\n",
       "                                              Answer  Asker ID Asker Gender  \\\n",
       "0  Hello,While retinal detachments remain the mos...    Rene√©       Female   \n",
       "1  Hi, You have not mentioned her disc size. Howe...  Ruthiejb       Female   \n",
       "\n",
       "   Asker Dummy  Asker Age      Answerer Title        ...         \\\n",
       "0            1       27.0  Dr.M.jagesh kamath        ...          \n",
       "1            1        NaN   Dr.M.Aroon kamath        ...          \n",
       "\n",
       "        Question Time Stamp          Answer Time Stamp  Question Score  \\\n",
       "0  Tue Nov 10, 2009 2:00 am  Wed Sep 15, 2010 11:05 am            0.87   \n",
       "1  Sat Jul 31, 2010 8:57 am   Fri Aug 20, 2010 1:52 am            0.74   \n",
       "\n",
       "   Answer Score Patient Sentiment Doctor Sentiment  Patient Topic   \\\n",
       "0          0.91              0.25             0.57            0.76   \n",
       "1          0.98              0.15             0.51            0.79   \n",
       "\n",
       "   Doctor Topic  Patient Formality  Doctor Formality  \n",
       "0          1.00               0.00              0.95  \n",
       "1          0.99               0.16              1.00  \n",
       "\n",
       "[2 rows x 24 columns]"
      ]
     },
     "execution_count": 72,
     "metadata": {},
     "output_type": "execute_result"
    }
   ],
   "source": [
    "df = pd.read_excel('data/score_Eye diseases (Ophthalmology).xlsx', sheet_name=0)\n",
    "df.head(2)"
   ]
  },
  {
   "cell_type": "code",
   "execution_count": 73,
   "metadata": {
    "ExecuteTime": {
     "end_time": "2018-07-12T18:52:32.750714Z",
     "start_time": "2018-07-12T18:52:32.743747Z"
    }
   },
   "outputs": [
    {
     "data": {
      "text/plain": [
       "Index(['Disease', 'Topic', 'Url', 'Question', 'Answer', 'Asker ID',\n",
       "       'Asker Gender', 'Asker Dummy', 'Asker Age', 'Answerer Title',\n",
       "       'Answerer ID', 'Answerer Gender', 'Answerer Dummy', 'Answerer Age',\n",
       "       'Question Time Stamp', 'Answer Time Stamp', 'Question Score',\n",
       "       'Answer Score', 'Patient Sentiment', 'Doctor Sentiment',\n",
       "       'Patient Topic ', 'Doctor Topic', 'Patient Formality',\n",
       "       'Doctor Formality'],\n",
       "      dtype='object')"
      ]
     },
     "execution_count": 73,
     "metadata": {},
     "output_type": "execute_result"
    }
   ],
   "source": [
    "df.columns"
   ]
  },
  {
   "cell_type": "markdown",
   "metadata": {},
   "source": [
    "extract relevant column list"
   ]
  },
  {
   "cell_type": "code",
   "execution_count": 74,
   "metadata": {
    "ExecuteTime": {
     "end_time": "2018-07-12T18:52:33.108540Z",
     "start_time": "2018-07-12T18:52:33.091315Z"
    }
   },
   "outputs": [
    {
     "data": {
      "text/html": [
       "<div>\n",
       "<style scoped>\n",
       "    .dataframe tbody tr th:only-of-type {\n",
       "        vertical-align: middle;\n",
       "    }\n",
       "\n",
       "    .dataframe tbody tr th {\n",
       "        vertical-align: top;\n",
       "    }\n",
       "\n",
       "    .dataframe thead th {\n",
       "        text-align: right;\n",
       "    }\n",
       "</style>\n",
       "<table border=\"1\" class=\"dataframe\">\n",
       "  <thead>\n",
       "    <tr style=\"text-align: right;\">\n",
       "      <th></th>\n",
       "      <th>Question</th>\n",
       "      <th>Answer</th>\n",
       "      <th>Asker ID</th>\n",
       "      <th>Asker Gender</th>\n",
       "      <th>Asker Age</th>\n",
       "      <th>Answerer ID</th>\n",
       "      <th>Answerer Title</th>\n",
       "      <th>Answerer Gender</th>\n",
       "      <th>Answerer Age</th>\n",
       "    </tr>\n",
       "  </thead>\n",
       "  <tbody>\n",
       "    <tr>\n",
       "      <th>0</th>\n",
       "      <td>I've been seeing flashing lights now for about...</td>\n",
       "      <td>Hello,While retinal detachments remain the mos...</td>\n",
       "      <td>Rene√©</td>\n",
       "      <td>Female</td>\n",
       "      <td>27.0</td>\n",
       "      <td>Medical Doctor</td>\n",
       "      <td>Dr.M.jagesh kamath</td>\n",
       "      <td>Male</td>\n",
       "      <td>68.0</td>\n",
       "    </tr>\n",
       "    <tr>\n",
       "      <th>1</th>\n",
       "      <td>How common are large optic nerve discs that ar...</td>\n",
       "      <td>Hi, You have not mentioned her disc size. Howe...</td>\n",
       "      <td>Ruthiejb</td>\n",
       "      <td>Female</td>\n",
       "      <td>NaN</td>\n",
       "      <td>Medical Doctor</td>\n",
       "      <td>Dr.M.Aroon kamath</td>\n",
       "      <td>Male</td>\n",
       "      <td>69.0</td>\n",
       "    </tr>\n",
       "  </tbody>\n",
       "</table>\n",
       "</div>"
      ],
      "text/plain": [
       "                                            Question  \\\n",
       "0  I've been seeing flashing lights now for about...   \n",
       "1  How common are large optic nerve discs that ar...   \n",
       "\n",
       "                                              Answer  Asker ID Asker Gender  \\\n",
       "0  Hello,While retinal detachments remain the mos...    Rene√©       Female   \n",
       "1  Hi, You have not mentioned her disc size. Howe...  Ruthiejb       Female   \n",
       "\n",
       "   Asker Age     Answerer ID      Answerer Title Answerer Gender  Answerer Age  \n",
       "0       27.0  Medical Doctor  Dr.M.jagesh kamath            Male          68.0  \n",
       "1        NaN  Medical Doctor   Dr.M.Aroon kamath            Male          69.0  "
      ]
     },
     "execution_count": 74,
     "metadata": {},
     "output_type": "execute_result"
    }
   ],
   "source": [
    "col_list = ['Question', 'Answer', \n",
    "            'Asker ID', 'Asker Gender', 'Asker Age',\n",
    "            'Answerer ID', 'Answerer Title',\n",
    "            'Answerer Gender', 'Answerer Age']\n",
    "df = df[col_list]\n",
    "df.head(2)"
   ]
  },
  {
   "cell_type": "markdown",
   "metadata": {},
   "source": [
    "rename"
   ]
  },
  {
   "cell_type": "code",
   "execution_count": 75,
   "metadata": {
    "ExecuteTime": {
     "end_time": "2018-07-12T18:52:34.441288Z",
     "start_time": "2018-07-12T18:52:34.437035Z"
    }
   },
   "outputs": [],
   "source": [
    "df.columns = ['question', 'answer', \n",
    "              'asker_id', 'asker_gender', 'asker_age',\n",
    "              'answerer_id', 'answerer_title', 'answerer_gender', 'answerer_age'\n",
    "             ]"
   ]
  },
  {
   "cell_type": "code",
   "execution_count": 76,
   "metadata": {
    "ExecuteTime": {
     "end_time": "2018-07-12T18:52:34.831133Z",
     "start_time": "2018-07-12T18:52:34.810333Z"
    }
   },
   "outputs": [
    {
     "data": {
      "text/html": [
       "<div>\n",
       "<style scoped>\n",
       "    .dataframe tbody tr th:only-of-type {\n",
       "        vertical-align: middle;\n",
       "    }\n",
       "\n",
       "    .dataframe tbody tr th {\n",
       "        vertical-align: top;\n",
       "    }\n",
       "\n",
       "    .dataframe thead th {\n",
       "        text-align: right;\n",
       "    }\n",
       "</style>\n",
       "<table border=\"1\" class=\"dataframe\">\n",
       "  <thead>\n",
       "    <tr style=\"text-align: right;\">\n",
       "      <th></th>\n",
       "      <th>question</th>\n",
       "      <th>answer</th>\n",
       "      <th>asker_id</th>\n",
       "      <th>asker_gender</th>\n",
       "      <th>asker_age</th>\n",
       "      <th>answerer_id</th>\n",
       "      <th>answerer_title</th>\n",
       "      <th>answerer_gender</th>\n",
       "      <th>answerer_age</th>\n",
       "    </tr>\n",
       "  </thead>\n",
       "  <tbody>\n",
       "    <tr>\n",
       "      <th>0</th>\n",
       "      <td>I've been seeing flashing lights now for about...</td>\n",
       "      <td>Hello,While retinal detachments remain the mos...</td>\n",
       "      <td>Rene√©</td>\n",
       "      <td>Female</td>\n",
       "      <td>27.0</td>\n",
       "      <td>Medical Doctor</td>\n",
       "      <td>Dr.M.jagesh kamath</td>\n",
       "      <td>Male</td>\n",
       "      <td>68.0</td>\n",
       "    </tr>\n",
       "    <tr>\n",
       "      <th>1</th>\n",
       "      <td>How common are large optic nerve discs that ar...</td>\n",
       "      <td>Hi, You have not mentioned her disc size. Howe...</td>\n",
       "      <td>Ruthiejb</td>\n",
       "      <td>Female</td>\n",
       "      <td>NaN</td>\n",
       "      <td>Medical Doctor</td>\n",
       "      <td>Dr.M.Aroon kamath</td>\n",
       "      <td>Male</td>\n",
       "      <td>69.0</td>\n",
       "    </tr>\n",
       "  </tbody>\n",
       "</table>\n",
       "</div>"
      ],
      "text/plain": [
       "                                            question  \\\n",
       "0  I've been seeing flashing lights now for about...   \n",
       "1  How common are large optic nerve discs that ar...   \n",
       "\n",
       "                                              answer  asker_id asker_gender  \\\n",
       "0  Hello,While retinal detachments remain the mos...    Rene√©       Female   \n",
       "1  Hi, You have not mentioned her disc size. Howe...  Ruthiejb       Female   \n",
       "\n",
       "   asker_age     answerer_id      answerer_title answerer_gender  answerer_age  \n",
       "0       27.0  Medical Doctor  Dr.M.jagesh kamath            Male          68.0  \n",
       "1        NaN  Medical Doctor   Dr.M.Aroon kamath            Male          69.0  "
      ]
     },
     "execution_count": 76,
     "metadata": {},
     "output_type": "execute_result"
    }
   ],
   "source": [
    "df.head(2)"
   ]
  },
  {
   "cell_type": "markdown",
   "metadata": {},
   "source": [
    "both patients and doctors/nurse. strip string for more coherent results"
   ]
  },
  {
   "cell_type": "code",
   "execution_count": 77,
   "metadata": {
    "ExecuteTime": {
     "end_time": "2018-07-12T18:52:35.778124Z",
     "start_time": "2018-07-12T18:52:35.749506Z"
    }
   },
   "outputs": [],
   "source": [
    "df.asker_id = df.asker_id.str.strip().values\n",
    "df.answerer_id = df.answerer_id.str.strip().values"
   ]
  },
  {
   "cell_type": "markdown",
   "metadata": {},
   "source": [
    "add pair id to match question and answer (maybe not needed but let's see)"
   ]
  },
  {
   "cell_type": "code",
   "execution_count": 78,
   "metadata": {
    "ExecuteTime": {
     "end_time": "2018-07-12T19:00:30.544116Z",
     "start_time": "2018-07-12T19:00:30.524072Z"
    }
   },
   "outputs": [],
   "source": [
    "df['qa_id'] = pd.np.arange(df.shape[0])"
   ]
  },
  {
   "cell_type": "markdown",
   "metadata": {},
   "source": [
    "---"
   ]
  },
  {
   "cell_type": "markdown",
   "metadata": {},
   "source": [
    "#### user table"
   ]
  },
  {
   "cell_type": "markdown",
   "metadata": {},
   "source": [
    "##### patients"
   ]
  },
  {
   "cell_type": "code",
   "execution_count": 79,
   "metadata": {
    "ExecuteTime": {
     "end_time": "2018-07-12T19:00:32.841614Z",
     "start_time": "2018-07-12T19:00:32.812495Z"
    }
   },
   "outputs": [
    {
     "data": {
      "text/html": [
       "<div>\n",
       "<style scoped>\n",
       "    .dataframe tbody tr th:only-of-type {\n",
       "        vertical-align: middle;\n",
       "    }\n",
       "\n",
       "    .dataframe tbody tr th {\n",
       "        vertical-align: top;\n",
       "    }\n",
       "\n",
       "    .dataframe thead th {\n",
       "        text-align: right;\n",
       "    }\n",
       "</style>\n",
       "<table border=\"1\" class=\"dataframe\">\n",
       "  <thead>\n",
       "    <tr style=\"text-align: right;\">\n",
       "      <th></th>\n",
       "      <th>asker_id</th>\n",
       "      <th>asker_age</th>\n",
       "      <th>asker_gender</th>\n",
       "    </tr>\n",
       "  </thead>\n",
       "  <tbody>\n",
       "    <tr>\n",
       "      <th>0</th>\n",
       "      <td>Rene√©</td>\n",
       "      <td>27.0</td>\n",
       "      <td>Female</td>\n",
       "    </tr>\n",
       "    <tr>\n",
       "      <th>1</th>\n",
       "      <td>Ruthiejb</td>\n",
       "      <td>NaN</td>\n",
       "      <td>Female</td>\n",
       "    </tr>\n",
       "  </tbody>\n",
       "</table>\n",
       "</div>"
      ],
      "text/plain": [
       "   asker_id  asker_age asker_gender\n",
       "0    Rene√©       27.0       Female\n",
       "1  Ruthiejb        NaN       Female"
      ]
     },
     "execution_count": 79,
     "metadata": {},
     "output_type": "execute_result"
    }
   ],
   "source": [
    "patient_df = df[['asker_id', 'asker_age', 'asker_gender']]\n",
    "patient_df.head(2)"
   ]
  },
  {
   "cell_type": "markdown",
   "metadata": {},
   "source": [
    "add role"
   ]
  },
  {
   "cell_type": "code",
   "execution_count": 80,
   "metadata": {
    "ExecuteTime": {
     "end_time": "2018-07-12T19:00:33.358658Z",
     "start_time": "2018-07-12T19:00:33.208917Z"
    }
   },
   "outputs": [
    {
     "name": "stderr",
     "output_type": "stream",
     "text": [
      "/Users/zhiyzuo/.virtualenvs/py3/lib/python3.7/site-packages/pandas/core/indexing.py:362: SettingWithCopyWarning: \n",
      "A value is trying to be set on a copy of a slice from a DataFrame.\n",
      "Try using .loc[row_indexer,col_indexer] = value instead\n",
      "\n",
      "See the caveats in the documentation: http://pandas.pydata.org/pandas-docs/stable/indexing.html#indexing-view-versus-copy\n",
      "  self.obj[key] = _infer_fill_value(value)\n",
      "/Users/zhiyzuo/.virtualenvs/py3/lib/python3.7/site-packages/pandas/core/indexing.py:543: SettingWithCopyWarning: \n",
      "A value is trying to be set on a copy of a slice from a DataFrame.\n",
      "Try using .loc[row_indexer,col_indexer] = value instead\n",
      "\n",
      "See the caveats in the documentation: http://pandas.pydata.org/pandas-docs/stable/indexing.html#indexing-view-versus-copy\n",
      "  self.obj[item] = s\n"
     ]
    }
   ],
   "source": [
    "patient_df.loc[:, 'role'] = 'patient'"
   ]
  },
  {
   "cell_type": "markdown",
   "metadata": {},
   "source": [
    "change column names"
   ]
  },
  {
   "cell_type": "code",
   "execution_count": 81,
   "metadata": {
    "ExecuteTime": {
     "end_time": "2018-07-12T19:00:33.609442Z",
     "start_time": "2018-07-12T19:00:33.603034Z"
    }
   },
   "outputs": [
    {
     "data": {
      "text/plain": [
       "Index(['asker_id', 'asker_age', 'asker_gender', 'role'], dtype='object')"
      ]
     },
     "execution_count": 81,
     "metadata": {},
     "output_type": "execute_result"
    }
   ],
   "source": [
    "patient_df.columns"
   ]
  },
  {
   "cell_type": "code",
   "execution_count": 82,
   "metadata": {
    "ExecuteTime": {
     "end_time": "2018-07-12T19:00:33.804353Z",
     "start_time": "2018-07-12T19:00:33.786899Z"
    }
   },
   "outputs": [
    {
     "data": {
      "text/html": [
       "<div>\n",
       "<style scoped>\n",
       "    .dataframe tbody tr th:only-of-type {\n",
       "        vertical-align: middle;\n",
       "    }\n",
       "\n",
       "    .dataframe tbody tr th {\n",
       "        vertical-align: top;\n",
       "    }\n",
       "\n",
       "    .dataframe thead th {\n",
       "        text-align: right;\n",
       "    }\n",
       "</style>\n",
       "<table border=\"1\" class=\"dataframe\">\n",
       "  <thead>\n",
       "    <tr style=\"text-align: right;\">\n",
       "      <th></th>\n",
       "      <th>user_id</th>\n",
       "      <th>age</th>\n",
       "      <th>gender</th>\n",
       "      <th>role</th>\n",
       "    </tr>\n",
       "  </thead>\n",
       "  <tbody>\n",
       "    <tr>\n",
       "      <th>0</th>\n",
       "      <td>Rene√©</td>\n",
       "      <td>27.0</td>\n",
       "      <td>Female</td>\n",
       "      <td>patient</td>\n",
       "    </tr>\n",
       "    <tr>\n",
       "      <th>1</th>\n",
       "      <td>Ruthiejb</td>\n",
       "      <td>NaN</td>\n",
       "      <td>Female</td>\n",
       "      <td>patient</td>\n",
       "    </tr>\n",
       "  </tbody>\n",
       "</table>\n",
       "</div>"
      ],
      "text/plain": [
       "    user_id   age  gender     role\n",
       "0    Rene√©  27.0  Female  patient\n",
       "1  Ruthiejb   NaN  Female  patient"
      ]
     },
     "execution_count": 82,
     "metadata": {},
     "output_type": "execute_result"
    }
   ],
   "source": [
    "patient_df.columns = ['user_id', 'age', 'gender', 'role']\n",
    "patient_df.head(2)"
   ]
  },
  {
   "cell_type": "markdown",
   "metadata": {},
   "source": [
    "##### doctors"
   ]
  },
  {
   "cell_type": "code",
   "execution_count": 83,
   "metadata": {
    "ExecuteTime": {
     "end_time": "2018-07-12T19:00:34.185102Z",
     "start_time": "2018-07-12T19:00:34.170368Z"
    }
   },
   "outputs": [
    {
     "data": {
      "text/html": [
       "<div>\n",
       "<style scoped>\n",
       "    .dataframe tbody tr th:only-of-type {\n",
       "        vertical-align: middle;\n",
       "    }\n",
       "\n",
       "    .dataframe tbody tr th {\n",
       "        vertical-align: top;\n",
       "    }\n",
       "\n",
       "    .dataframe thead th {\n",
       "        text-align: right;\n",
       "    }\n",
       "</style>\n",
       "<table border=\"1\" class=\"dataframe\">\n",
       "  <thead>\n",
       "    <tr style=\"text-align: right;\">\n",
       "      <th></th>\n",
       "      <th>answerer_id</th>\n",
       "      <th>answerer_title</th>\n",
       "      <th>answerer_age</th>\n",
       "      <th>answerer_gender</th>\n",
       "    </tr>\n",
       "  </thead>\n",
       "  <tbody>\n",
       "    <tr>\n",
       "      <th>0</th>\n",
       "      <td>Medical Doctor</td>\n",
       "      <td>Dr.M.jagesh kamath</td>\n",
       "      <td>68.0</td>\n",
       "      <td>Male</td>\n",
       "    </tr>\n",
       "    <tr>\n",
       "      <th>1</th>\n",
       "      <td>Medical Doctor</td>\n",
       "      <td>Dr.M.Aroon kamath</td>\n",
       "      <td>69.0</td>\n",
       "      <td>Male</td>\n",
       "    </tr>\n",
       "  </tbody>\n",
       "</table>\n",
       "</div>"
      ],
      "text/plain": [
       "      answerer_id      answerer_title  answerer_age answerer_gender\n",
       "0  Medical Doctor  Dr.M.jagesh kamath          68.0            Male\n",
       "1  Medical Doctor   Dr.M.Aroon kamath          69.0            Male"
      ]
     },
     "execution_count": 83,
     "metadata": {},
     "output_type": "execute_result"
    }
   ],
   "source": [
    "doctor_df = df[['answerer_id', 'answerer_title', 'answerer_age', 'answerer_gender']]\n",
    "doctor_df.head(2)"
   ]
  },
  {
   "cell_type": "markdown",
   "metadata": {},
   "source": [
    "update columns"
   ]
  },
  {
   "cell_type": "code",
   "execution_count": 84,
   "metadata": {
    "ExecuteTime": {
     "end_time": "2018-07-12T19:00:34.594244Z",
     "start_time": "2018-07-12T19:00:34.575369Z"
    }
   },
   "outputs": [
    {
     "data": {
      "text/html": [
       "<div>\n",
       "<style scoped>\n",
       "    .dataframe tbody tr th:only-of-type {\n",
       "        vertical-align: middle;\n",
       "    }\n",
       "\n",
       "    .dataframe tbody tr th {\n",
       "        vertical-align: top;\n",
       "    }\n",
       "\n",
       "    .dataframe thead th {\n",
       "        text-align: right;\n",
       "    }\n",
       "</style>\n",
       "<table border=\"1\" class=\"dataframe\">\n",
       "  <thead>\n",
       "    <tr style=\"text-align: right;\">\n",
       "      <th></th>\n",
       "      <th>role</th>\n",
       "      <th>user_id</th>\n",
       "      <th>age</th>\n",
       "      <th>gender</th>\n",
       "    </tr>\n",
       "  </thead>\n",
       "  <tbody>\n",
       "    <tr>\n",
       "      <th>0</th>\n",
       "      <td>Medical Doctor</td>\n",
       "      <td>Dr.M.jagesh kamath</td>\n",
       "      <td>68.0</td>\n",
       "      <td>Male</td>\n",
       "    </tr>\n",
       "    <tr>\n",
       "      <th>1</th>\n",
       "      <td>Medical Doctor</td>\n",
       "      <td>Dr.M.Aroon kamath</td>\n",
       "      <td>69.0</td>\n",
       "      <td>Male</td>\n",
       "    </tr>\n",
       "  </tbody>\n",
       "</table>\n",
       "</div>"
      ],
      "text/plain": [
       "             role             user_id   age gender\n",
       "0  Medical Doctor  Dr.M.jagesh kamath  68.0   Male\n",
       "1  Medical Doctor   Dr.M.Aroon kamath  69.0   Male"
      ]
     },
     "execution_count": 84,
     "metadata": {},
     "output_type": "execute_result"
    }
   ],
   "source": [
    "doctor_df.columns = ['role', 'user_id', 'age', 'gender']\n",
    "doctor_df.head(2)"
   ]
  },
  {
   "cell_type": "markdown",
   "metadata": {},
   "source": [
    "##### append"
   ]
  },
  {
   "cell_type": "code",
   "execution_count": 85,
   "metadata": {
    "ExecuteTime": {
     "end_time": "2018-07-12T19:00:35.795418Z",
     "start_time": "2018-07-12T19:00:35.788418Z"
    }
   },
   "outputs": [],
   "source": [
    "user_df = doctor_df.append(patient_df, ignore_index=True, sort=True)"
   ]
  },
  {
   "cell_type": "markdown",
   "metadata": {},
   "source": [
    "add unique id"
   ]
  },
  {
   "cell_type": "code",
   "execution_count": 86,
   "metadata": {
    "ExecuteTime": {
     "end_time": "2018-07-12T19:00:36.128167Z",
     "start_time": "2018-07-12T19:00:36.122228Z"
    }
   },
   "outputs": [],
   "source": [
    "user_df['id'] = pd.np.arange(user_df.shape[0])"
   ]
  },
  {
   "cell_type": "code",
   "execution_count": 87,
   "metadata": {
    "ExecuteTime": {
     "end_time": "2018-07-12T19:00:36.387047Z",
     "start_time": "2018-07-12T19:00:36.372216Z"
    }
   },
   "outputs": [
    {
     "data": {
      "text/html": [
       "<div>\n",
       "<style scoped>\n",
       "    .dataframe tbody tr th:only-of-type {\n",
       "        vertical-align: middle;\n",
       "    }\n",
       "\n",
       "    .dataframe tbody tr th {\n",
       "        vertical-align: top;\n",
       "    }\n",
       "\n",
       "    .dataframe thead th {\n",
       "        text-align: right;\n",
       "    }\n",
       "</style>\n",
       "<table border=\"1\" class=\"dataframe\">\n",
       "  <thead>\n",
       "    <tr style=\"text-align: right;\">\n",
       "      <th></th>\n",
       "      <th>age</th>\n",
       "      <th>gender</th>\n",
       "      <th>role</th>\n",
       "      <th>user_id</th>\n",
       "      <th>id</th>\n",
       "    </tr>\n",
       "  </thead>\n",
       "  <tbody>\n",
       "    <tr>\n",
       "      <th>0</th>\n",
       "      <td>68.0</td>\n",
       "      <td>Male</td>\n",
       "      <td>Medical Doctor</td>\n",
       "      <td>Dr.M.jagesh kamath</td>\n",
       "      <td>0</td>\n",
       "    </tr>\n",
       "    <tr>\n",
       "      <th>1</th>\n",
       "      <td>69.0</td>\n",
       "      <td>Male</td>\n",
       "      <td>Medical Doctor</td>\n",
       "      <td>Dr.M.Aroon kamath</td>\n",
       "      <td>1</td>\n",
       "    </tr>\n",
       "  </tbody>\n",
       "</table>\n",
       "</div>"
      ],
      "text/plain": [
       "    age gender            role             user_id  id\n",
       "0  68.0   Male  Medical Doctor  Dr.M.jagesh kamath   0\n",
       "1  69.0   Male  Medical Doctor   Dr.M.Aroon kamath   1"
      ]
     },
     "execution_count": 87,
     "metadata": {},
     "output_type": "execute_result"
    }
   ],
   "source": [
    "user_df.head(2)"
   ]
  },
  {
   "cell_type": "markdown",
   "metadata": {},
   "source": [
    "##### check"
   ]
  },
  {
   "cell_type": "code",
   "execution_count": 88,
   "metadata": {
    "ExecuteTime": {
     "end_time": "2018-07-12T19:00:38.104067Z",
     "start_time": "2018-07-12T19:00:38.096857Z"
    }
   },
   "outputs": [
    {
     "data": {
      "text/plain": [
       "patient            106\n",
       "Medical Doctor      81\n",
       "Nurse Assistant      7\n",
       "Nurse                4\n",
       "Name: role, dtype: int64"
      ]
     },
     "execution_count": 88,
     "metadata": {},
     "output_type": "execute_result"
    }
   ],
   "source": [
    "user_df.role.value_counts()"
   ]
  },
  {
   "cell_type": "code",
   "execution_count": 89,
   "metadata": {
    "ExecuteTime": {
     "end_time": "2018-07-12T19:00:38.294927Z",
     "start_time": "2018-07-12T19:00:38.287512Z"
    }
   },
   "outputs": [
    {
     "data": {
      "text/plain": [
       "age        float64\n",
       "gender      object\n",
       "role        object\n",
       "user_id     object\n",
       "id           int64\n",
       "dtype: object"
      ]
     },
     "execution_count": 89,
     "metadata": {},
     "output_type": "execute_result"
    }
   ],
   "source": [
    "user_df.dtypes"
   ]
  },
  {
   "cell_type": "code",
   "execution_count": 90,
   "metadata": {
    "ExecuteTime": {
     "end_time": "2018-07-12T19:00:38.852996Z",
     "start_time": "2018-07-12T19:00:38.840794Z"
    }
   },
   "outputs": [
    {
     "data": {
      "text/plain": [
       "Male      140\n",
       "Female     57\n",
       "Name: gender, dtype: int64"
      ]
     },
     "execution_count": 90,
     "metadata": {},
     "output_type": "execute_result"
    }
   ],
   "source": [
    "user_df.gender.value_counts()"
   ]
  },
  {
   "cell_type": "code",
   "execution_count": 91,
   "metadata": {
    "ExecuteTime": {
     "end_time": "2018-07-12T19:00:39.219307Z",
     "start_time": "2018-07-12T19:00:39.208072Z"
    }
   },
   "outputs": [
    {
     "data": {
      "text/plain": [
       "array([68., 69., 68., nan, nan, nan, 69., 69., 69., 69., 69., 69., 69.,\n",
       "       68., nan, nan, nan, 68., 49., 49., 49., 49., 49., 49., 49., 69.,\n",
       "       69., 69., 69., nan, nan, nan, nan, nan, 49., 54., 49., 49., 49.,\n",
       "       49., 49., 49., 49., 49., 49., 49., 49., 49., 73., 49., 49., 49.,\n",
       "       49., 49., 49., 49., 49., 49., 49., 49., 49., 49., 49., 49., 49.,\n",
       "       49., 49., 49., 49., 49., 49., 49., 49., 49., 49., 49., 49., 49.,\n",
       "       49., 49., 73., 73., 49., 49., 49., 49., 49., 49., 49., 49., 49.,\n",
       "       49., 49., 49., 49., 73., 73., 73., nan, nan, 62., nan, 73., 62.,\n",
       "       62., nan, 27., nan, 36., 31., 53., 24., 27., 28., 46., 34., 34.,\n",
       "       27., 28., 37., 57., 28., 23., 41., 36., 58., 33., 58., 58., 55.,\n",
       "       68., 58., 38., 33., 43., 31., 33., 36., 29., 30., 26., 58., 29.,\n",
       "       51., 33., 27., 46., 37., nan, 28., nan, nan, 33., 34., 34., 35.,\n",
       "       48., 27., 60., 33., 28., 44., 51., 35., 35., 31., 44., 26., 35.,\n",
       "       36., 56., 44., 46., 28., 29., 31., 44., 54., 55., 26., 41., 28.,\n",
       "       34., 22., 32., 51., 73., nan, 37., 35., 41., 35., 61., 43., 59.,\n",
       "       33., 43., 82., 68., nan, 26., nan, 37., nan, nan, nan, nan, nan,\n",
       "       nan, nan, nan, nan])"
      ]
     },
     "execution_count": 91,
     "metadata": {},
     "output_type": "execute_result"
    }
   ],
   "source": [
    "user_df.age.values"
   ]
  },
  {
   "cell_type": "markdown",
   "metadata": {},
   "source": [
    "---"
   ]
  },
  {
   "cell_type": "markdown",
   "metadata": {},
   "source": [
    "#### text table"
   ]
  },
  {
   "cell_type": "markdown",
   "metadata": {},
   "source": [
    "##### question"
   ]
  },
  {
   "cell_type": "code",
   "execution_count": 92,
   "metadata": {
    "ExecuteTime": {
     "end_time": "2018-07-12T19:00:49.180657Z",
     "start_time": "2018-07-12T19:00:49.153137Z"
    }
   },
   "outputs": [
    {
     "data": {
      "text/html": [
       "<div>\n",
       "<style scoped>\n",
       "    .dataframe tbody tr th:only-of-type {\n",
       "        vertical-align: middle;\n",
       "    }\n",
       "\n",
       "    .dataframe tbody tr th {\n",
       "        vertical-align: top;\n",
       "    }\n",
       "\n",
       "    .dataframe thead th {\n",
       "        text-align: right;\n",
       "    }\n",
       "</style>\n",
       "<table border=\"1\" class=\"dataframe\">\n",
       "  <thead>\n",
       "    <tr style=\"text-align: right;\">\n",
       "      <th></th>\n",
       "      <th>qa_id</th>\n",
       "      <th>question</th>\n",
       "      <th>asker_id</th>\n",
       "      <th>answerer_title</th>\n",
       "    </tr>\n",
       "  </thead>\n",
       "  <tbody>\n",
       "    <tr>\n",
       "      <th>0</th>\n",
       "      <td>0</td>\n",
       "      <td>I've been seeing flashing lights now for about...</td>\n",
       "      <td>Rene√©</td>\n",
       "      <td>Dr.M.jagesh kamath</td>\n",
       "    </tr>\n",
       "    <tr>\n",
       "      <th>1</th>\n",
       "      <td>1</td>\n",
       "      <td>How common are large optic nerve discs that ar...</td>\n",
       "      <td>Ruthiejb</td>\n",
       "      <td>Dr.M.Aroon kamath</td>\n",
       "    </tr>\n",
       "    <tr>\n",
       "      <th>2</th>\n",
       "      <td>2</td>\n",
       "      <td>My husband has no previous issues with his eye...</td>\n",
       "      <td>kkb</td>\n",
       "      <td>Dr.M.jagesh kamath</td>\n",
       "    </tr>\n",
       "    <tr>\n",
       "      <th>3</th>\n",
       "      <td>3</td>\n",
       "      <td>I had an eye injury a few years back and the d...</td>\n",
       "      <td>chevyboy8602</td>\n",
       "      <td>NaN</td>\n",
       "    </tr>\n",
       "    <tr>\n",
       "      <th>4</th>\n",
       "      <td>4</td>\n",
       "      <td>Had a corneal graft done in 1996.  Vision was ...</td>\n",
       "      <td>buzzac</td>\n",
       "      <td>NaN</td>\n",
       "    </tr>\n",
       "    <tr>\n",
       "      <th>5</th>\n",
       "      <td>5</td>\n",
       "      <td>Hi-My cornea got scratched and I think it got ...</td>\n",
       "      <td>Gbiscuit</td>\n",
       "      <td>NaN</td>\n",
       "    </tr>\n",
       "    <tr>\n",
       "      <th>6</th>\n",
       "      <td>6</td>\n",
       "      <td>Just moments ago, I experienced sudden blurred...</td>\n",
       "      <td>N_eight</td>\n",
       "      <td>Dr.M.Aroon kamath</td>\n",
       "    </tr>\n",
       "    <tr>\n",
       "      <th>7</th>\n",
       "      <td>7</td>\n",
       "      <td>I'm not sure if I'm posting this in the right ...</td>\n",
       "      <td>jmoney</td>\n",
       "      <td>Dr.M.Aroon kamath</td>\n",
       "    </tr>\n",
       "    <tr>\n",
       "      <th>8</th>\n",
       "      <td>8</td>\n",
       "      <td>Hello sir/mam, My son aged 4 years is known to...</td>\n",
       "      <td>mscn71</td>\n",
       "      <td>Dr.M.Aroon kamath</td>\n",
       "    </tr>\n",
       "    <tr>\n",
       "      <th>9</th>\n",
       "      <td>9</td>\n",
       "      <td>Hello Doctor  I am 26 years old. Since 3 days ...</td>\n",
       "      <td>jinkle007</td>\n",
       "      <td>Dr.M.Aroon kamath</td>\n",
       "    </tr>\n",
       "    <tr>\n",
       "      <th>10</th>\n",
       "      <td>10</td>\n",
       "      <td>My eyes recently have been extremely dry and s...</td>\n",
       "      <td>JakeHass</td>\n",
       "      <td>Dr.M.Aroon kamath</td>\n",
       "    </tr>\n",
       "    <tr>\n",
       "      <th>11</th>\n",
       "      <td>11</td>\n",
       "      <td>I have a sty in my eye, I want to know if I ca...</td>\n",
       "      <td>pinkrose8190</td>\n",
       "      <td>Dr.M.Aroon kamath</td>\n",
       "    </tr>\n",
       "    <tr>\n",
       "      <th>12</th>\n",
       "      <td>12</td>\n",
       "      <td>My boyfriend's iris has been changing color. H...</td>\n",
       "      <td>splat315</td>\n",
       "      <td>Dr.M.Aroon kamath</td>\n",
       "    </tr>\n",
       "    <tr>\n",
       "      <th>13</th>\n",
       "      <td>13</td>\n",
       "      <td>Hello,  About five days ago I woke up with a r...</td>\n",
       "      <td>wnjm</td>\n",
       "      <td>Dr.M.jagesh kamath</td>\n",
       "    </tr>\n",
       "    <tr>\n",
       "      <th>14</th>\n",
       "      <td>14</td>\n",
       "      <td>I woke up two days ago with redness in my righ...</td>\n",
       "      <td>lb61</td>\n",
       "      <td>NaN</td>\n",
       "    </tr>\n",
       "    <tr>\n",
       "      <th>15</th>\n",
       "      <td>15</td>\n",
       "      <td>Hi. I am a 20 year old male experiencing eye p...</td>\n",
       "      <td>xACx7</td>\n",
       "      <td>NaN</td>\n",
       "    </tr>\n",
       "    <tr>\n",
       "      <th>16</th>\n",
       "      <td>16</td>\n",
       "      <td>I am 15 years old and within the last half yea...</td>\n",
       "      <td>rachyw94</td>\n",
       "      <td>NaN</td>\n",
       "    </tr>\n",
       "    <tr>\n",
       "      <th>17</th>\n",
       "      <td>17</td>\n",
       "      <td>Hello.  For the past 6 months to a year, I hav...</td>\n",
       "      <td>Turtle2976</td>\n",
       "      <td>Dr.M.jagesh kamath</td>\n",
       "    </tr>\n",
       "    <tr>\n",
       "      <th>18</th>\n",
       "      <td>18</td>\n",
       "      <td>Hi,  I'm a 27 y/o female and have had a broken...</td>\n",
       "      <td>ArtLover</td>\n",
       "      <td>Dr. Ramamurthy M G</td>\n",
       "    </tr>\n",
       "    <tr>\n",
       "      <th>19</th>\n",
       "      <td>19</td>\n",
       "      <td>About 4 years ago, i had an eye infection whic...</td>\n",
       "      <td>iwwwnet</td>\n",
       "      <td>Dr. Ramamurthy M G</td>\n",
       "    </tr>\n",
       "    <tr>\n",
       "      <th>20</th>\n",
       "      <td>20</td>\n",
       "      <td>Hi My name is juli and I have been suffering f...</td>\n",
       "      <td>juli1004</td>\n",
       "      <td>Dr. Ramamurthy M G</td>\n",
       "    </tr>\n",
       "    <tr>\n",
       "      <th>21</th>\n",
       "      <td>21</td>\n",
       "      <td>I don't know if these symptoms are related, bu...</td>\n",
       "      <td>Freddy59</td>\n",
       "      <td>Dr. Ramamurthy M G</td>\n",
       "    </tr>\n",
       "    <tr>\n",
       "      <th>22</th>\n",
       "      <td>22</td>\n",
       "      <td>I'm trying to determine if 200mg, 5 days a wee...</td>\n",
       "      <td>djporter</td>\n",
       "      <td>Dr. Ramamurthy M G</td>\n",
       "    </tr>\n",
       "    <tr>\n",
       "      <th>23</th>\n",
       "      <td>23</td>\n",
       "      <td>With parental aproval: at school a few days ag...</td>\n",
       "      <td>Zzman22</td>\n",
       "      <td>Dr. Ramamurthy M G</td>\n",
       "    </tr>\n",
       "    <tr>\n",
       "      <th>24</th>\n",
       "      <td>24</td>\n",
       "      <td>I was told by a teen that he had black and whi...</td>\n",
       "      <td>cbergs</td>\n",
       "      <td>Dr. Ramamurthy M G</td>\n",
       "    </tr>\n",
       "    <tr>\n",
       "      <th>25</th>\n",
       "      <td>25</td>\n",
       "      <td>We're in Maui and flying home day after tomorr...</td>\n",
       "      <td>cricketluu</td>\n",
       "      <td>Dr.M.Aroon kamath</td>\n",
       "    </tr>\n",
       "    <tr>\n",
       "      <th>26</th>\n",
       "      <td>26</td>\n",
       "      <td>Hi, I have had a twitch in my eye for three mo...</td>\n",
       "      <td>twitchy eye</td>\n",
       "      <td>Dr.M.Aroon kamath</td>\n",
       "    </tr>\n",
       "    <tr>\n",
       "      <th>27</th>\n",
       "      <td>27</td>\n",
       "      <td>Hello, I am a 24 year old generally healthy fe...</td>\n",
       "      <td>eyeproblem</td>\n",
       "      <td>Dr.M.Aroon kamath</td>\n",
       "    </tr>\n",
       "    <tr>\n",
       "      <th>28</th>\n",
       "      <td>28</td>\n",
       "      <td>Every once in a great while when I am extreaml...</td>\n",
       "      <td>loriislola</td>\n",
       "      <td>Dr.M.Aroon kamath</td>\n",
       "    </tr>\n",
       "    <tr>\n",
       "      <th>29</th>\n",
       "      <td>29</td>\n",
       "      <td>Hello, Last night I had a sudden and intense p...</td>\n",
       "      <td>lfergus89</td>\n",
       "      <td>NaN</td>\n",
       "    </tr>\n",
       "    <tr>\n",
       "      <th>...</th>\n",
       "      <td>...</td>\n",
       "      <td>...</td>\n",
       "      <td>...</td>\n",
       "      <td>...</td>\n",
       "    </tr>\n",
       "    <tr>\n",
       "      <th>76</th>\n",
       "      <td>76</td>\n",
       "      <td>I think I may have pink eye and I just started...</td>\n",
       "      <td>glitzie17</td>\n",
       "      <td>Dr. Ramamurthy M G</td>\n",
       "    </tr>\n",
       "    <tr>\n",
       "      <th>77</th>\n",
       "      <td>77</td>\n",
       "      <td>I was whatching House, and this episode a man ...</td>\n",
       "      <td>M.A.D.PenGuiN</td>\n",
       "      <td>Dr. Ramamurthy M G</td>\n",
       "    </tr>\n",
       "    <tr>\n",
       "      <th>78</th>\n",
       "      <td>78</td>\n",
       "      <td>I was wondering if it i should go to the docto...</td>\n",
       "      <td>dispelthemyth</td>\n",
       "      <td>Dr. Ramamurthy M G</td>\n",
       "    </tr>\n",
       "    <tr>\n",
       "      <th>79</th>\n",
       "      <td>79</td>\n",
       "      <td>I have had a small hole between my eyes and no...</td>\n",
       "      <td>deejaymc</td>\n",
       "      <td>Dr. Ramamurthy M G</td>\n",
       "    </tr>\n",
       "    <tr>\n",
       "      <th>80</th>\n",
       "      <td>80</td>\n",
       "      <td>I recently had the ReSTOR IOL lens implanted i...</td>\n",
       "      <td>wvstephens</td>\n",
       "      <td>John Kenyon, CNA</td>\n",
       "    </tr>\n",
       "    <tr>\n",
       "      <th>81</th>\n",
       "      <td>81</td>\n",
       "      <td>I noticed that I cannot see out of my right ey...</td>\n",
       "      <td>shekirab</td>\n",
       "      <td>John Kenyon, CNA</td>\n",
       "    </tr>\n",
       "    <tr>\n",
       "      <th>82</th>\n",
       "      <td>82</td>\n",
       "      <td>Hi, I wanted to know if the new color iris sur...</td>\n",
       "      <td>heaven15</td>\n",
       "      <td>Dr. Ramamurthy M G</td>\n",
       "    </tr>\n",
       "    <tr>\n",
       "      <th>83</th>\n",
       "      <td>83</td>\n",
       "      <td>My 8 month old son woke up this morning with a...</td>\n",
       "      <td>Kbeeler</td>\n",
       "      <td>Dr. Ramamurthy M G</td>\n",
       "    </tr>\n",
       "    <tr>\n",
       "      <th>84</th>\n",
       "      <td>84</td>\n",
       "      <td>Hi, my query is regarding my 6 year old son. H...</td>\n",
       "      <td>um1917</td>\n",
       "      <td>Dr. Ramamurthy M G</td>\n",
       "    </tr>\n",
       "    <tr>\n",
       "      <th>85</th>\n",
       "      <td>85</td>\n",
       "      <td>Here's a chronology of what's been going on.  ...</td>\n",
       "      <td>Reinicken</td>\n",
       "      <td>Dr. Ramamurthy M G</td>\n",
       "    </tr>\n",
       "    <tr>\n",
       "      <th>86</th>\n",
       "      <td>86</td>\n",
       "      <td>Can one fill up their eye with laser spots unt...</td>\n",
       "      <td>jeansmithy</td>\n",
       "      <td>Dr. Ramamurthy M G</td>\n",
       "    </tr>\n",
       "    <tr>\n",
       "      <th>87</th>\n",
       "      <td>87</td>\n",
       "      <td>On the 10th of January '09, my 11 year old son...</td>\n",
       "      <td>tycokaseysmom</td>\n",
       "      <td>Dr. Ramamurthy M G</td>\n",
       "    </tr>\n",
       "    <tr>\n",
       "      <th>88</th>\n",
       "      <td>88</td>\n",
       "      <td>i recently experienced sudden temporary double...</td>\n",
       "      <td>hanasdaddy</td>\n",
       "      <td>Dr. Ramamurthy M G</td>\n",
       "    </tr>\n",
       "    <tr>\n",
       "      <th>89</th>\n",
       "      <td>89</td>\n",
       "      <td>A couple of months ago I got pink eye.  My doc...</td>\n",
       "      <td>rg1984</td>\n",
       "      <td>Dr. Ramamurthy M G</td>\n",
       "    </tr>\n",
       "    <tr>\n",
       "      <th>90</th>\n",
       "      <td>90</td>\n",
       "      <td>On 12/24, I came down with what I assumed was ...</td>\n",
       "      <td>nicd203</td>\n",
       "      <td>Dr. Ramamurthy M G</td>\n",
       "    </tr>\n",
       "    <tr>\n",
       "      <th>91</th>\n",
       "      <td>91</td>\n",
       "      <td>Dear Doctor  I am a 73 years old male; I have ...</td>\n",
       "      <td>ari</td>\n",
       "      <td>Dr. Ramamurthy M G</td>\n",
       "    </tr>\n",
       "    <tr>\n",
       "      <th>92</th>\n",
       "      <td>92</td>\n",
       "      <td>I work on a computer under blue fluorescent li...</td>\n",
       "      <td>tmooreca</td>\n",
       "      <td>Dr. Ramamurthy M G</td>\n",
       "    </tr>\n",
       "    <tr>\n",
       "      <th>93</th>\n",
       "      <td>93</td>\n",
       "      <td>I have been having some problems driving at ni...</td>\n",
       "      <td>Alcubierre</td>\n",
       "      <td>Dr. Ramamurthy M G</td>\n",
       "    </tr>\n",
       "    <tr>\n",
       "      <th>94</th>\n",
       "      <td>94</td>\n",
       "      <td>George has some kind of infection in his eyes....</td>\n",
       "      <td>salmongal09</td>\n",
       "      <td>Dr. Ramamurthy M G</td>\n",
       "    </tr>\n",
       "    <tr>\n",
       "      <th>95</th>\n",
       "      <td>95</td>\n",
       "      <td>at times my left eye will suddenly lose about ...</td>\n",
       "      <td>catemark</td>\n",
       "      <td>John Kenyon, CNA</td>\n",
       "    </tr>\n",
       "    <tr>\n",
       "      <th>96</th>\n",
       "      <td>96</td>\n",
       "      <td>Hi, I am a 27 yr old female. I recently had a ...</td>\n",
       "      <td>jazzyr</td>\n",
       "      <td>John Kenyon, CNA</td>\n",
       "    </tr>\n",
       "    <tr>\n",
       "      <th>97</th>\n",
       "      <td>97</td>\n",
       "      <td>hi you will have to excuse my spellings on cer...</td>\n",
       "      <td>kazza26</td>\n",
       "      <td>John Kenyon, CNA</td>\n",
       "    </tr>\n",
       "    <tr>\n",
       "      <th>98</th>\n",
       "      <td>98</td>\n",
       "      <td>Last friday, September 19th I woke up with som...</td>\n",
       "      <td>mrssantos</td>\n",
       "      <td>NaN</td>\n",
       "    </tr>\n",
       "    <tr>\n",
       "      <th>99</th>\n",
       "      <td>99</td>\n",
       "      <td>Please advise on this. I've been wearing conta...</td>\n",
       "      <td>HelpWiLdeR</td>\n",
       "      <td>NaN</td>\n",
       "    </tr>\n",
       "    <tr>\n",
       "      <th>100</th>\n",
       "      <td>100</td>\n",
       "      <td>Is amblyopia hereditary? I was born with it, a...</td>\n",
       "      <td>aarogers</td>\n",
       "      <td>Debbie Miller, RN</td>\n",
       "    </tr>\n",
       "    <tr>\n",
       "      <th>101</th>\n",
       "      <td>101</td>\n",
       "      <td>Hi, i am a guy of age 18 years.  From the past...</td>\n",
       "      <td>faisalicious</td>\n",
       "      <td>NaN</td>\n",
       "    </tr>\n",
       "    <tr>\n",
       "      <th>102</th>\n",
       "      <td>102</td>\n",
       "      <td>The whites of my eyes have a yellowish stripe ...</td>\n",
       "      <td>rfischr</td>\n",
       "      <td>John Kenyon, CNA</td>\n",
       "    </tr>\n",
       "    <tr>\n",
       "      <th>103</th>\n",
       "      <td>103</td>\n",
       "      <td>Hello,  lately i had something in my eyes i ca...</td>\n",
       "      <td>AhmedSeoudy</td>\n",
       "      <td>Debbie Miller, RN</td>\n",
       "    </tr>\n",
       "    <tr>\n",
       "      <th>104</th>\n",
       "      <td>104</td>\n",
       "      <td>For the past few days, my left eye has been \"t...</td>\n",
       "      <td>smsimpson</td>\n",
       "      <td>Debbie Miller, RN</td>\n",
       "    </tr>\n",
       "    <tr>\n",
       "      <th>105</th>\n",
       "      <td>105</td>\n",
       "      <td>Ok, I am really worried.  There has been this ...</td>\n",
       "      <td>tinamariew</td>\n",
       "      <td>Dr. Chan Lowe</td>\n",
       "    </tr>\n",
       "  </tbody>\n",
       "</table>\n",
       "<p>106 rows × 4 columns</p>\n",
       "</div>"
      ],
      "text/plain": [
       "     qa_id                                           question       asker_id  \\\n",
       "0        0  I've been seeing flashing lights now for about...         Rene√©   \n",
       "1        1  How common are large optic nerve discs that ar...       Ruthiejb   \n",
       "2        2  My husband has no previous issues with his eye...            kkb   \n",
       "3        3  I had an eye injury a few years back and the d...   chevyboy8602   \n",
       "4        4  Had a corneal graft done in 1996.  Vision was ...         buzzac   \n",
       "5        5  Hi-My cornea got scratched and I think it got ...       Gbiscuit   \n",
       "6        6  Just moments ago, I experienced sudden blurred...        N_eight   \n",
       "7        7  I'm not sure if I'm posting this in the right ...         jmoney   \n",
       "8        8  Hello sir/mam, My son aged 4 years is known to...         mscn71   \n",
       "9        9  Hello Doctor  I am 26 years old. Since 3 days ...      jinkle007   \n",
       "10      10  My eyes recently have been extremely dry and s...       JakeHass   \n",
       "11      11  I have a sty in my eye, I want to know if I ca...   pinkrose8190   \n",
       "12      12  My boyfriend's iris has been changing color. H...       splat315   \n",
       "13      13  Hello,  About five days ago I woke up with a r...           wnjm   \n",
       "14      14  I woke up two days ago with redness in my righ...           lb61   \n",
       "15      15  Hi. I am a 20 year old male experiencing eye p...          xACx7   \n",
       "16      16  I am 15 years old and within the last half yea...       rachyw94   \n",
       "17      17  Hello.  For the past 6 months to a year, I hav...     Turtle2976   \n",
       "18      18  Hi,  I'm a 27 y/o female and have had a broken...       ArtLover   \n",
       "19      19  About 4 years ago, i had an eye infection whic...        iwwwnet   \n",
       "20      20  Hi My name is juli and I have been suffering f...       juli1004   \n",
       "21      21  I don't know if these symptoms are related, bu...       Freddy59   \n",
       "22      22  I'm trying to determine if 200mg, 5 days a wee...       djporter   \n",
       "23      23  With parental aproval: at school a few days ag...        Zzman22   \n",
       "24      24  I was told by a teen that he had black and whi...         cbergs   \n",
       "25      25  We're in Maui and flying home day after tomorr...     cricketluu   \n",
       "26      26  Hi, I have had a twitch in my eye for three mo...    twitchy eye   \n",
       "27      27  Hello, I am a 24 year old generally healthy fe...     eyeproblem   \n",
       "28      28  Every once in a great while when I am extreaml...     loriislola   \n",
       "29      29  Hello, Last night I had a sudden and intense p...      lfergus89   \n",
       "..     ...                                                ...            ...   \n",
       "76      76  I think I may have pink eye and I just started...      glitzie17   \n",
       "77      77  I was whatching House, and this episode a man ...  M.A.D.PenGuiN   \n",
       "78      78  I was wondering if it i should go to the docto...  dispelthemyth   \n",
       "79      79  I have had a small hole between my eyes and no...       deejaymc   \n",
       "80      80  I recently had the ReSTOR IOL lens implanted i...     wvstephens   \n",
       "81      81  I noticed that I cannot see out of my right ey...       shekirab   \n",
       "82      82  Hi, I wanted to know if the new color iris sur...       heaven15   \n",
       "83      83  My 8 month old son woke up this morning with a...        Kbeeler   \n",
       "84      84  Hi, my query is regarding my 6 year old son. H...         um1917   \n",
       "85      85  Here's a chronology of what's been going on.  ...      Reinicken   \n",
       "86      86  Can one fill up their eye with laser spots unt...     jeansmithy   \n",
       "87      87  On the 10th of January '09, my 11 year old son...  tycokaseysmom   \n",
       "88      88  i recently experienced sudden temporary double...     hanasdaddy   \n",
       "89      89  A couple of months ago I got pink eye.  My doc...         rg1984   \n",
       "90      90  On 12/24, I came down with what I assumed was ...        nicd203   \n",
       "91      91  Dear Doctor  I am a 73 years old male; I have ...            ari   \n",
       "92      92  I work on a computer under blue fluorescent li...       tmooreca   \n",
       "93      93  I have been having some problems driving at ni...     Alcubierre   \n",
       "94      94  George has some kind of infection in his eyes....    salmongal09   \n",
       "95      95  at times my left eye will suddenly lose about ...       catemark   \n",
       "96      96  Hi, I am a 27 yr old female. I recently had a ...         jazzyr   \n",
       "97      97  hi you will have to excuse my spellings on cer...        kazza26   \n",
       "98      98  Last friday, September 19th I woke up with som...      mrssantos   \n",
       "99      99  Please advise on this. I've been wearing conta...     HelpWiLdeR   \n",
       "100    100  Is amblyopia hereditary? I was born with it, a...       aarogers   \n",
       "101    101  Hi, i am a guy of age 18 years.  From the past...   faisalicious   \n",
       "102    102  The whites of my eyes have a yellowish stripe ...        rfischr   \n",
       "103    103  Hello,  lately i had something in my eyes i ca...    AhmedSeoudy   \n",
       "104    104  For the past few days, my left eye has been \"t...      smsimpson   \n",
       "105    105  Ok, I am really worried.  There has been this ...     tinamariew   \n",
       "\n",
       "         answerer_title  \n",
       "0    Dr.M.jagesh kamath  \n",
       "1     Dr.M.Aroon kamath  \n",
       "2    Dr.M.jagesh kamath  \n",
       "3                   NaN  \n",
       "4                   NaN  \n",
       "5                   NaN  \n",
       "6     Dr.M.Aroon kamath  \n",
       "7     Dr.M.Aroon kamath  \n",
       "8     Dr.M.Aroon kamath  \n",
       "9     Dr.M.Aroon kamath  \n",
       "10    Dr.M.Aroon kamath  \n",
       "11    Dr.M.Aroon kamath  \n",
       "12    Dr.M.Aroon kamath  \n",
       "13   Dr.M.jagesh kamath  \n",
       "14                  NaN  \n",
       "15                  NaN  \n",
       "16                  NaN  \n",
       "17   Dr.M.jagesh kamath  \n",
       "18   Dr. Ramamurthy M G  \n",
       "19   Dr. Ramamurthy M G  \n",
       "20   Dr. Ramamurthy M G  \n",
       "21   Dr. Ramamurthy M G  \n",
       "22   Dr. Ramamurthy M G  \n",
       "23   Dr. Ramamurthy M G  \n",
       "24   Dr. Ramamurthy M G  \n",
       "25    Dr.M.Aroon kamath  \n",
       "26    Dr.M.Aroon kamath  \n",
       "27    Dr.M.Aroon kamath  \n",
       "28    Dr.M.Aroon kamath  \n",
       "29                  NaN  \n",
       "..                  ...  \n",
       "76   Dr. Ramamurthy M G  \n",
       "77   Dr. Ramamurthy M G  \n",
       "78   Dr. Ramamurthy M G  \n",
       "79   Dr. Ramamurthy M G  \n",
       "80     John Kenyon, CNA  \n",
       "81     John Kenyon, CNA  \n",
       "82   Dr. Ramamurthy M G  \n",
       "83   Dr. Ramamurthy M G  \n",
       "84   Dr. Ramamurthy M G  \n",
       "85   Dr. Ramamurthy M G  \n",
       "86   Dr. Ramamurthy M G  \n",
       "87   Dr. Ramamurthy M G  \n",
       "88   Dr. Ramamurthy M G  \n",
       "89   Dr. Ramamurthy M G  \n",
       "90   Dr. Ramamurthy M G  \n",
       "91   Dr. Ramamurthy M G  \n",
       "92   Dr. Ramamurthy M G  \n",
       "93   Dr. Ramamurthy M G  \n",
       "94   Dr. Ramamurthy M G  \n",
       "95     John Kenyon, CNA  \n",
       "96     John Kenyon, CNA  \n",
       "97     John Kenyon, CNA  \n",
       "98                  NaN  \n",
       "99                  NaN  \n",
       "100   Debbie Miller, RN  \n",
       "101                 NaN  \n",
       "102    John Kenyon, CNA  \n",
       "103   Debbie Miller, RN  \n",
       "104   Debbie Miller, RN  \n",
       "105       Dr. Chan Lowe  \n",
       "\n",
       "[106 rows x 4 columns]"
      ]
     },
     "execution_count": 92,
     "metadata": {},
     "output_type": "execute_result"
    }
   ],
   "source": [
    "question_df = df[['qa_id', 'question', 'asker_id', 'answerer_title']]\n",
    "question_df"
   ]
  },
  {
   "cell_type": "markdown",
   "metadata": {},
   "source": [
    "rename columns"
   ]
  },
  {
   "cell_type": "code",
   "execution_count": 93,
   "metadata": {
    "ExecuteTime": {
     "end_time": "2018-07-12T19:00:58.326909Z",
     "start_time": "2018-07-12T19:00:58.322314Z"
    }
   },
   "outputs": [],
   "source": [
    "question_df.columns = ['qa_id', 'text', 'asker_id', 'answerer_id']"
   ]
  },
  {
   "cell_type": "markdown",
   "metadata": {},
   "source": [
    "add type"
   ]
  },
  {
   "cell_type": "code",
   "execution_count": 101,
   "metadata": {
    "ExecuteTime": {
     "end_time": "2018-07-12T19:01:52.560518Z",
     "start_time": "2018-07-12T19:01:52.533124Z"
    }
   },
   "outputs": [
    {
     "name": "stderr",
     "output_type": "stream",
     "text": [
      "/Users/zhiyzuo/.virtualenvs/py3/lib/python3.7/site-packages/ipykernel_launcher.py:1: SettingWithCopyWarning: \n",
      "A value is trying to be set on a copy of a slice from a DataFrame.\n",
      "Try using .loc[row_indexer,col_indexer] = value instead\n",
      "\n",
      "See the caveats in the documentation: http://pandas.pydata.org/pandas-docs/stable/indexing.html#indexing-view-versus-copy\n",
      "  \"\"\"Entry point for launching an IPython kernel.\n"
     ]
    }
   ],
   "source": [
    "question_df['type'] = 'q'"
   ]
  },
  {
   "cell_type": "markdown",
   "metadata": {},
   "source": [
    "##### answer"
   ]
  },
  {
   "cell_type": "code",
   "execution_count": 95,
   "metadata": {
    "ExecuteTime": {
     "end_time": "2018-07-12T19:01:07.154808Z",
     "start_time": "2018-07-12T19:01:07.126170Z"
    }
   },
   "outputs": [
    {
     "data": {
      "text/html": [
       "<div>\n",
       "<style scoped>\n",
       "    .dataframe tbody tr th:only-of-type {\n",
       "        vertical-align: middle;\n",
       "    }\n",
       "\n",
       "    .dataframe tbody tr th {\n",
       "        vertical-align: top;\n",
       "    }\n",
       "\n",
       "    .dataframe thead th {\n",
       "        text-align: right;\n",
       "    }\n",
       "</style>\n",
       "<table border=\"1\" class=\"dataframe\">\n",
       "  <thead>\n",
       "    <tr style=\"text-align: right;\">\n",
       "      <th></th>\n",
       "      <th>qa_id</th>\n",
       "      <th>answer</th>\n",
       "      <th>asker_id</th>\n",
       "      <th>answerer_title</th>\n",
       "    </tr>\n",
       "  </thead>\n",
       "  <tbody>\n",
       "    <tr>\n",
       "      <th>0</th>\n",
       "      <td>0</td>\n",
       "      <td>Hello,While retinal detachments remain the mos...</td>\n",
       "      <td>Rene√©</td>\n",
       "      <td>Dr.M.jagesh kamath</td>\n",
       "    </tr>\n",
       "    <tr>\n",
       "      <th>1</th>\n",
       "      <td>1</td>\n",
       "      <td>Hi, You have not mentioned her disc size. Howe...</td>\n",
       "      <td>Ruthiejb</td>\n",
       "      <td>Dr.M.Aroon kamath</td>\n",
       "    </tr>\n",
       "    <tr>\n",
       "      <th>2</th>\n",
       "      <td>2</td>\n",
       "      <td>Hello,Pyogenic granulomas can occur on the ski...</td>\n",
       "      <td>kkb</td>\n",
       "      <td>Dr.M.jagesh kamath</td>\n",
       "    </tr>\n",
       "    <tr>\n",
       "      <th>3</th>\n",
       "      <td>3</td>\n",
       "      <td>NaN</td>\n",
       "      <td>chevyboy8602</td>\n",
       "      <td>NaN</td>\n",
       "    </tr>\n",
       "    <tr>\n",
       "      <th>4</th>\n",
       "      <td>4</td>\n",
       "      <td>NaN</td>\n",
       "      <td>buzzac</td>\n",
       "      <td>NaN</td>\n",
       "    </tr>\n",
       "    <tr>\n",
       "      <th>5</th>\n",
       "      <td>5</td>\n",
       "      <td>NaN</td>\n",
       "      <td>Gbiscuit</td>\n",
       "      <td>NaN</td>\n",
       "    </tr>\n",
       "    <tr>\n",
       "      <th>6</th>\n",
       "      <td>6</td>\n",
       "      <td>Hi, At the outset, i must stress that a consul...</td>\n",
       "      <td>N_eight</td>\n",
       "      <td>Dr.M.Aroon kamath</td>\n",
       "    </tr>\n",
       "    <tr>\n",
       "      <th>7</th>\n",
       "      <td>7</td>\n",
       "      <td>Hi, Your description strongly resembles the si...</td>\n",
       "      <td>jmoney</td>\n",
       "      <td>Dr.M.Aroon kamath</td>\n",
       "    </tr>\n",
       "    <tr>\n",
       "      <th>8</th>\n",
       "      <td>8</td>\n",
       "      <td>Hi, From the history provided, some possibilit...</td>\n",
       "      <td>mscn71</td>\n",
       "      <td>Dr.M.Aroon kamath</td>\n",
       "    </tr>\n",
       "    <tr>\n",
       "      <th>9</th>\n",
       "      <td>9</td>\n",
       "      <td>Hi, You seem to have predominantly 'tenderness...</td>\n",
       "      <td>jinkle007</td>\n",
       "      <td>Dr.M.Aroon kamath</td>\n",
       "    </tr>\n",
       "    <tr>\n",
       "      <th>10</th>\n",
       "      <td>10</td>\n",
       "      <td>Hi, Thank you for your post and the attached i...</td>\n",
       "      <td>JakeHass</td>\n",
       "      <td>Dr.M.Aroon kamath</td>\n",
       "    </tr>\n",
       "    <tr>\n",
       "      <th>11</th>\n",
       "      <td>11</td>\n",
       "      <td>Hi, Styes (hordeola) are infective conditions ...</td>\n",
       "      <td>pinkrose8190</td>\n",
       "      <td>Dr.M.Aroon kamath</td>\n",
       "    </tr>\n",
       "    <tr>\n",
       "      <th>12</th>\n",
       "      <td>12</td>\n",
       "      <td>Hi, Subtle changes in the color  of the irides...</td>\n",
       "      <td>splat315</td>\n",
       "      <td>Dr.M.Aroon kamath</td>\n",
       "    </tr>\n",
       "    <tr>\n",
       "      <th>13</th>\n",
       "      <td>13</td>\n",
       "      <td>Hello,I wonder whether you developed any skin ...</td>\n",
       "      <td>wnjm</td>\n",
       "      <td>Dr.M.jagesh kamath</td>\n",
       "    </tr>\n",
       "    <tr>\n",
       "      <th>14</th>\n",
       "      <td>14</td>\n",
       "      <td>NaN</td>\n",
       "      <td>lb61</td>\n",
       "      <td>NaN</td>\n",
       "    </tr>\n",
       "    <tr>\n",
       "      <th>15</th>\n",
       "      <td>15</td>\n",
       "      <td>NaN</td>\n",
       "      <td>xACx7</td>\n",
       "      <td>NaN</td>\n",
       "    </tr>\n",
       "    <tr>\n",
       "      <th>16</th>\n",
       "      <td>16</td>\n",
       "      <td>NaN</td>\n",
       "      <td>rachyw94</td>\n",
       "      <td>NaN</td>\n",
       "    </tr>\n",
       "    <tr>\n",
       "      <th>17</th>\n",
       "      <td>17</td>\n",
       "      <td>Hello,The eyelids are very prone to allergic c...</td>\n",
       "      <td>Turtle2976</td>\n",
       "      <td>Dr.M.jagesh kamath</td>\n",
       "    </tr>\n",
       "    <tr>\n",
       "      <th>18</th>\n",
       "      <td>18</td>\n",
       "      <td>Hi,looks like there is a family h/o of high ey...</td>\n",
       "      <td>ArtLover</td>\n",
       "      <td>Dr. Ramamurthy M G</td>\n",
       "    </tr>\n",
       "    <tr>\n",
       "      <th>19</th>\n",
       "      <td>19</td>\n",
       "      <td>Hi, in allergic reactions of the eye like alle...</td>\n",
       "      <td>iwwwnet</td>\n",
       "      <td>Dr. Ramamurthy M G</td>\n",
       "    </tr>\n",
       "    <tr>\n",
       "      <th>20</th>\n",
       "      <td>20</td>\n",
       "      <td>Hi, first of all, get the cause of the dry eye...</td>\n",
       "      <td>juli1004</td>\n",
       "      <td>Dr. Ramamurthy M G</td>\n",
       "    </tr>\n",
       "    <tr>\n",
       "      <th>21</th>\n",
       "      <td>21</td>\n",
       "      <td>Hi, I think you need to contact the ENT specia...</td>\n",
       "      <td>Freddy59</td>\n",
       "      <td>Dr. Ramamurthy M G</td>\n",
       "    </tr>\n",
       "    <tr>\n",
       "      <th>22</th>\n",
       "      <td>22</td>\n",
       "      <td>Hi, The drug is a fantastic drug for arthritis...</td>\n",
       "      <td>djporter</td>\n",
       "      <td>Dr. Ramamurthy M G</td>\n",
       "    </tr>\n",
       "    <tr>\n",
       "      <th>23</th>\n",
       "      <td>23</td>\n",
       "      <td>Hi,don't worry it looks like a simple attack o...</td>\n",
       "      <td>Zzman22</td>\n",
       "      <td>Dr. Ramamurthy M G</td>\n",
       "    </tr>\n",
       "    <tr>\n",
       "      <th>24</th>\n",
       "      <td>24</td>\n",
       "      <td>Hi,in most of the cases, the color-blindness i...</td>\n",
       "      <td>cbergs</td>\n",
       "      <td>Dr. Ramamurthy M G</td>\n",
       "    </tr>\n",
       "    <tr>\n",
       "      <th>25</th>\n",
       "      <td>25</td>\n",
       "      <td>Hi, There have been few reports of retinal det...</td>\n",
       "      <td>cricketluu</td>\n",
       "      <td>Dr.M.Aroon kamath</td>\n",
       "    </tr>\n",
       "    <tr>\n",
       "      <th>26</th>\n",
       "      <td>26</td>\n",
       "      <td>Hi, Twitching of the eye lid/lids alone is usu...</td>\n",
       "      <td>twitchy eye</td>\n",
       "      <td>Dr.M.Aroon kamath</td>\n",
       "    </tr>\n",
       "    <tr>\n",
       "      <th>27</th>\n",
       "      <td>27</td>\n",
       "      <td>Hi, ' Scotomas' occur in anumber of conditions...</td>\n",
       "      <td>eyeproblem</td>\n",
       "      <td>Dr.M.Aroon kamath</td>\n",
       "    </tr>\n",
       "    <tr>\n",
       "      <th>28</th>\n",
       "      <td>28</td>\n",
       "      <td>Hi, Unequal pupils are termed anisocoria are d...</td>\n",
       "      <td>loriislola</td>\n",
       "      <td>Dr.M.Aroon kamath</td>\n",
       "    </tr>\n",
       "    <tr>\n",
       "      <th>29</th>\n",
       "      <td>29</td>\n",
       "      <td>NaN</td>\n",
       "      <td>lfergus89</td>\n",
       "      <td>NaN</td>\n",
       "    </tr>\n",
       "    <tr>\n",
       "      <th>...</th>\n",
       "      <td>...</td>\n",
       "      <td>...</td>\n",
       "      <td>...</td>\n",
       "      <td>...</td>\n",
       "    </tr>\n",
       "    <tr>\n",
       "      <th>76</th>\n",
       "      <td>76</td>\n",
       "      <td>Hi.the systemic antibiotics used for sinusitis...</td>\n",
       "      <td>glitzie17</td>\n",
       "      <td>Dr. Ramamurthy M G</td>\n",
       "    </tr>\n",
       "    <tr>\n",
       "      <th>77</th>\n",
       "      <td>77</td>\n",
       "      <td>Hi, Torch is shined on the eye for any general...</td>\n",
       "      <td>M.A.D.PenGuiN</td>\n",
       "      <td>Dr. Ramamurthy M G</td>\n",
       "    </tr>\n",
       "    <tr>\n",
       "      <th>78</th>\n",
       "      <td>78</td>\n",
       "      <td>Hi,  I think you don't have to worry so much. ...</td>\n",
       "      <td>dispelthemyth</td>\n",
       "      <td>Dr. Ramamurthy M G</td>\n",
       "    </tr>\n",
       "    <tr>\n",
       "      <th>79</th>\n",
       "      <td>79</td>\n",
       "      <td>Hi, I suggest you send us the clear  photoes, ...</td>\n",
       "      <td>deejaymc</td>\n",
       "      <td>Dr. Ramamurthy M G</td>\n",
       "    </tr>\n",
       "    <tr>\n",
       "      <th>80</th>\n",
       "      <td>80</td>\n",
       "      <td>Hi there --  I've heard of this happening,  bu...</td>\n",
       "      <td>wvstephens</td>\n",
       "      <td>John Kenyon, CNA</td>\n",
       "    </tr>\n",
       "    <tr>\n",
       "      <th>81</th>\n",
       "      <td>81</td>\n",
       "      <td>Hello --  \"Normal\" is extremely relative, and ...</td>\n",
       "      <td>shekirab</td>\n",
       "      <td>John Kenyon, CNA</td>\n",
       "    </tr>\n",
       "    <tr>\n",
       "      <th>82</th>\n",
       "      <td>82</td>\n",
       "      <td>Hello, very sorry for a delayed reply. Normall...</td>\n",
       "      <td>heaven15</td>\n",
       "      <td>Dr. Ramamurthy M G</td>\n",
       "    </tr>\n",
       "    <tr>\n",
       "      <th>83</th>\n",
       "      <td>83</td>\n",
       "      <td>Hi, Sorry for a very delayed reply. Hopefully ...</td>\n",
       "      <td>Kbeeler</td>\n",
       "      <td>Dr. Ramamurthy M G</td>\n",
       "    </tr>\n",
       "    <tr>\n",
       "      <th>84</th>\n",
       "      <td>84</td>\n",
       "      <td>Hi, it is been long and by this time the probl...</td>\n",
       "      <td>um1917</td>\n",
       "      <td>Dr. Ramamurthy M G</td>\n",
       "    </tr>\n",
       "    <tr>\n",
       "      <th>85</th>\n",
       "      <td>85</td>\n",
       "      <td>hi,first and the foremost you look to be reall...</td>\n",
       "      <td>Reinicken</td>\n",
       "      <td>Dr. Ramamurthy M G</td>\n",
       "    </tr>\n",
       "    <tr>\n",
       "      <th>86</th>\n",
       "      <td>86</td>\n",
       "      <td>Hello/ Hi, for proliferative diabetic retinopa...</td>\n",
       "      <td>jeansmithy</td>\n",
       "      <td>Dr. Ramamurthy M G</td>\n",
       "    </tr>\n",
       "    <tr>\n",
       "      <th>87</th>\n",
       "      <td>87</td>\n",
       "      <td>Hello and hi, I am very sorry to hear about th...</td>\n",
       "      <td>tycokaseysmom</td>\n",
       "      <td>Dr. Ramamurthy M G</td>\n",
       "    </tr>\n",
       "    <tr>\n",
       "      <th>88</th>\n",
       "      <td>88</td>\n",
       "      <td>Sir, Please Get your general health checked up...</td>\n",
       "      <td>hanasdaddy</td>\n",
       "      <td>Dr. Ramamurthy M G</td>\n",
       "    </tr>\n",
       "    <tr>\n",
       "      <th>89</th>\n",
       "      <td>89</td>\n",
       "      <td>hi, as the history suggests, there is an on an...</td>\n",
       "      <td>rg1984</td>\n",
       "      <td>Dr. Ramamurthy M G</td>\n",
       "    </tr>\n",
       "    <tr>\n",
       "      <th>90</th>\n",
       "      <td>90</td>\n",
       "      <td>Hi, I do understand your problem. First of all...</td>\n",
       "      <td>nicd203</td>\n",
       "      <td>Dr. Ramamurthy M G</td>\n",
       "    </tr>\n",
       "    <tr>\n",
       "      <th>91</th>\n",
       "      <td>91</td>\n",
       "      <td>Sir,going through the details furnished, for a...</td>\n",
       "      <td>ari</td>\n",
       "      <td>Dr. Ramamurthy M G</td>\n",
       "    </tr>\n",
       "    <tr>\n",
       "      <th>92</th>\n",
       "      <td>92</td>\n",
       "      <td>Hi, basically the fluorescent lights are  gene...</td>\n",
       "      <td>tmooreca</td>\n",
       "      <td>Dr. Ramamurthy M G</td>\n",
       "    </tr>\n",
       "    <tr>\n",
       "      <th>93</th>\n",
       "      <td>93</td>\n",
       "      <td>Hi, it is common for most of us to have distur...</td>\n",
       "      <td>Alcubierre</td>\n",
       "      <td>Dr. Ramamurthy M G</td>\n",
       "    </tr>\n",
       "    <tr>\n",
       "      <th>94</th>\n",
       "      <td>94</td>\n",
       "      <td>hi , George might have a problem of increased ...</td>\n",
       "      <td>salmongal09</td>\n",
       "      <td>Dr. Ramamurthy M G</td>\n",
       "    </tr>\n",
       "    <tr>\n",
       "      <th>95</th>\n",
       "      <td>95</td>\n",
       "      <td>Hi there -  This is very likely one of two thi...</td>\n",
       "      <td>catemark</td>\n",
       "      <td>John Kenyon, CNA</td>\n",
       "    </tr>\n",
       "    <tr>\n",
       "      <th>96</th>\n",
       "      <td>96</td>\n",
       "      <td>Hi there -  My first thought is that we should...</td>\n",
       "      <td>jazzyr</td>\n",
       "      <td>John Kenyon, CNA</td>\n",
       "    </tr>\n",
       "    <tr>\n",
       "      <th>97</th>\n",
       "      <td>97</td>\n",
       "      <td>Hello -  Conjunctivitis, an inflamation of the...</td>\n",
       "      <td>kazza26</td>\n",
       "      <td>John Kenyon, CNA</td>\n",
       "    </tr>\n",
       "    <tr>\n",
       "      <th>98</th>\n",
       "      <td>98</td>\n",
       "      <td>NaN</td>\n",
       "      <td>mrssantos</td>\n",
       "      <td>NaN</td>\n",
       "    </tr>\n",
       "    <tr>\n",
       "      <th>99</th>\n",
       "      <td>99</td>\n",
       "      <td>NaN</td>\n",
       "      <td>HelpWiLdeR</td>\n",
       "      <td>NaN</td>\n",
       "    </tr>\n",
       "    <tr>\n",
       "      <th>100</th>\n",
       "      <td>100</td>\n",
       "      <td>Hello, Yes, amblyopia can be hereditary but it...</td>\n",
       "      <td>aarogers</td>\n",
       "      <td>Debbie Miller, RN</td>\n",
       "    </tr>\n",
       "    <tr>\n",
       "      <th>101</th>\n",
       "      <td>101</td>\n",
       "      <td>NaN</td>\n",
       "      <td>faisalicious</td>\n",
       "      <td>NaN</td>\n",
       "    </tr>\n",
       "    <tr>\n",
       "      <th>102</th>\n",
       "      <td>102</td>\n",
       "      <td>Hello -  This sounds odd but may be normal. I'...</td>\n",
       "      <td>rfischr</td>\n",
       "      <td>John Kenyon, CNA</td>\n",
       "    </tr>\n",
       "    <tr>\n",
       "      <th>103</th>\n",
       "      <td>103</td>\n",
       "      <td>Hello, I assume it is an eye doctor you are se...</td>\n",
       "      <td>AhmedSeoudy</td>\n",
       "      <td>Debbie Miller, RN</td>\n",
       "    </tr>\n",
       "    <tr>\n",
       "      <th>104</th>\n",
       "      <td>104</td>\n",
       "      <td>Hello, It could be something as simple as dry ...</td>\n",
       "      <td>smsimpson</td>\n",
       "      <td>Debbie Miller, RN</td>\n",
       "    </tr>\n",
       "    <tr>\n",
       "      <th>105</th>\n",
       "      <td>105</td>\n",
       "      <td>Hello Tinamariew,  Most commonly these bumps o...</td>\n",
       "      <td>tinamariew</td>\n",
       "      <td>Dr. Chan Lowe</td>\n",
       "    </tr>\n",
       "  </tbody>\n",
       "</table>\n",
       "<p>106 rows × 4 columns</p>\n",
       "</div>"
      ],
      "text/plain": [
       "     qa_id                                             answer       asker_id  \\\n",
       "0        0  Hello,While retinal detachments remain the mos...         Rene√©   \n",
       "1        1  Hi, You have not mentioned her disc size. Howe...       Ruthiejb   \n",
       "2        2  Hello,Pyogenic granulomas can occur on the ski...            kkb   \n",
       "3        3                                                NaN   chevyboy8602   \n",
       "4        4                                                NaN         buzzac   \n",
       "5        5                                                NaN       Gbiscuit   \n",
       "6        6  Hi, At the outset, i must stress that a consul...        N_eight   \n",
       "7        7  Hi, Your description strongly resembles the si...         jmoney   \n",
       "8        8  Hi, From the history provided, some possibilit...         mscn71   \n",
       "9        9  Hi, You seem to have predominantly 'tenderness...      jinkle007   \n",
       "10      10  Hi, Thank you for your post and the attached i...       JakeHass   \n",
       "11      11  Hi, Styes (hordeola) are infective conditions ...   pinkrose8190   \n",
       "12      12  Hi, Subtle changes in the color  of the irides...       splat315   \n",
       "13      13  Hello,I wonder whether you developed any skin ...           wnjm   \n",
       "14      14                                                NaN           lb61   \n",
       "15      15                                                NaN          xACx7   \n",
       "16      16                                                NaN       rachyw94   \n",
       "17      17  Hello,The eyelids are very prone to allergic c...     Turtle2976   \n",
       "18      18  Hi,looks like there is a family h/o of high ey...       ArtLover   \n",
       "19      19  Hi, in allergic reactions of the eye like alle...        iwwwnet   \n",
       "20      20  Hi, first of all, get the cause of the dry eye...       juli1004   \n",
       "21      21  Hi, I think you need to contact the ENT specia...       Freddy59   \n",
       "22      22  Hi, The drug is a fantastic drug for arthritis...       djporter   \n",
       "23      23  Hi,don't worry it looks like a simple attack o...        Zzman22   \n",
       "24      24  Hi,in most of the cases, the color-blindness i...         cbergs   \n",
       "25      25  Hi, There have been few reports of retinal det...     cricketluu   \n",
       "26      26  Hi, Twitching of the eye lid/lids alone is usu...    twitchy eye   \n",
       "27      27  Hi, ' Scotomas' occur in anumber of conditions...     eyeproblem   \n",
       "28      28  Hi, Unequal pupils are termed anisocoria are d...     loriislola   \n",
       "29      29                                                NaN      lfergus89   \n",
       "..     ...                                                ...            ...   \n",
       "76      76  Hi.the systemic antibiotics used for sinusitis...      glitzie17   \n",
       "77      77  Hi, Torch is shined on the eye for any general...  M.A.D.PenGuiN   \n",
       "78      78  Hi,  I think you don't have to worry so much. ...  dispelthemyth   \n",
       "79      79  Hi, I suggest you send us the clear  photoes, ...       deejaymc   \n",
       "80      80  Hi there --  I've heard of this happening,  bu...     wvstephens   \n",
       "81      81  Hello --  \"Normal\" is extremely relative, and ...       shekirab   \n",
       "82      82  Hello, very sorry for a delayed reply. Normall...       heaven15   \n",
       "83      83  Hi, Sorry for a very delayed reply. Hopefully ...        Kbeeler   \n",
       "84      84  Hi, it is been long and by this time the probl...         um1917   \n",
       "85      85  hi,first and the foremost you look to be reall...      Reinicken   \n",
       "86      86  Hello/ Hi, for proliferative diabetic retinopa...     jeansmithy   \n",
       "87      87  Hello and hi, I am very sorry to hear about th...  tycokaseysmom   \n",
       "88      88  Sir, Please Get your general health checked up...     hanasdaddy   \n",
       "89      89  hi, as the history suggests, there is an on an...         rg1984   \n",
       "90      90  Hi, I do understand your problem. First of all...        nicd203   \n",
       "91      91  Sir,going through the details furnished, for a...            ari   \n",
       "92      92  Hi, basically the fluorescent lights are  gene...       tmooreca   \n",
       "93      93  Hi, it is common for most of us to have distur...     Alcubierre   \n",
       "94      94  hi , George might have a problem of increased ...    salmongal09   \n",
       "95      95  Hi there -  This is very likely one of two thi...       catemark   \n",
       "96      96  Hi there -  My first thought is that we should...         jazzyr   \n",
       "97      97  Hello -  Conjunctivitis, an inflamation of the...        kazza26   \n",
       "98      98                                                NaN      mrssantos   \n",
       "99      99                                                NaN     HelpWiLdeR   \n",
       "100    100  Hello, Yes, amblyopia can be hereditary but it...       aarogers   \n",
       "101    101                                                NaN   faisalicious   \n",
       "102    102  Hello -  This sounds odd but may be normal. I'...        rfischr   \n",
       "103    103  Hello, I assume it is an eye doctor you are se...    AhmedSeoudy   \n",
       "104    104  Hello, It could be something as simple as dry ...      smsimpson   \n",
       "105    105  Hello Tinamariew,  Most commonly these bumps o...     tinamariew   \n",
       "\n",
       "         answerer_title  \n",
       "0    Dr.M.jagesh kamath  \n",
       "1     Dr.M.Aroon kamath  \n",
       "2    Dr.M.jagesh kamath  \n",
       "3                   NaN  \n",
       "4                   NaN  \n",
       "5                   NaN  \n",
       "6     Dr.M.Aroon kamath  \n",
       "7     Dr.M.Aroon kamath  \n",
       "8     Dr.M.Aroon kamath  \n",
       "9     Dr.M.Aroon kamath  \n",
       "10    Dr.M.Aroon kamath  \n",
       "11    Dr.M.Aroon kamath  \n",
       "12    Dr.M.Aroon kamath  \n",
       "13   Dr.M.jagesh kamath  \n",
       "14                  NaN  \n",
       "15                  NaN  \n",
       "16                  NaN  \n",
       "17   Dr.M.jagesh kamath  \n",
       "18   Dr. Ramamurthy M G  \n",
       "19   Dr. Ramamurthy M G  \n",
       "20   Dr. Ramamurthy M G  \n",
       "21   Dr. Ramamurthy M G  \n",
       "22   Dr. Ramamurthy M G  \n",
       "23   Dr. Ramamurthy M G  \n",
       "24   Dr. Ramamurthy M G  \n",
       "25    Dr.M.Aroon kamath  \n",
       "26    Dr.M.Aroon kamath  \n",
       "27    Dr.M.Aroon kamath  \n",
       "28    Dr.M.Aroon kamath  \n",
       "29                  NaN  \n",
       "..                  ...  \n",
       "76   Dr. Ramamurthy M G  \n",
       "77   Dr. Ramamurthy M G  \n",
       "78   Dr. Ramamurthy M G  \n",
       "79   Dr. Ramamurthy M G  \n",
       "80     John Kenyon, CNA  \n",
       "81     John Kenyon, CNA  \n",
       "82   Dr. Ramamurthy M G  \n",
       "83   Dr. Ramamurthy M G  \n",
       "84   Dr. Ramamurthy M G  \n",
       "85   Dr. Ramamurthy M G  \n",
       "86   Dr. Ramamurthy M G  \n",
       "87   Dr. Ramamurthy M G  \n",
       "88   Dr. Ramamurthy M G  \n",
       "89   Dr. Ramamurthy M G  \n",
       "90   Dr. Ramamurthy M G  \n",
       "91   Dr. Ramamurthy M G  \n",
       "92   Dr. Ramamurthy M G  \n",
       "93   Dr. Ramamurthy M G  \n",
       "94   Dr. Ramamurthy M G  \n",
       "95     John Kenyon, CNA  \n",
       "96     John Kenyon, CNA  \n",
       "97     John Kenyon, CNA  \n",
       "98                  NaN  \n",
       "99                  NaN  \n",
       "100   Debbie Miller, RN  \n",
       "101                 NaN  \n",
       "102    John Kenyon, CNA  \n",
       "103   Debbie Miller, RN  \n",
       "104   Debbie Miller, RN  \n",
       "105       Dr. Chan Lowe  \n",
       "\n",
       "[106 rows x 4 columns]"
      ]
     },
     "execution_count": 95,
     "metadata": {},
     "output_type": "execute_result"
    }
   ],
   "source": [
    "answer_df = df[['qa_id', 'answer', 'asker_id', 'answerer_title']]\n",
    "answer_df"
   ]
  },
  {
   "cell_type": "markdown",
   "metadata": {},
   "source": [
    "rename columns"
   ]
  },
  {
   "cell_type": "code",
   "execution_count": 98,
   "metadata": {
    "ExecuteTime": {
     "end_time": "2018-07-12T19:01:40.143908Z",
     "start_time": "2018-07-12T19:01:40.139529Z"
    }
   },
   "outputs": [],
   "source": [
    "answer_df.columns = ['qa_id', 'text', 'asker_id', 'answerer_id']"
   ]
  },
  {
   "cell_type": "markdown",
   "metadata": {},
   "source": [
    "add type"
   ]
  },
  {
   "cell_type": "code",
   "execution_count": 100,
   "metadata": {
    "ExecuteTime": {
     "end_time": "2018-07-12T19:01:50.006008Z",
     "start_time": "2018-07-12T19:01:49.977734Z"
    }
   },
   "outputs": [
    {
     "name": "stderr",
     "output_type": "stream",
     "text": [
      "/Users/zhiyzuo/.virtualenvs/py3/lib/python3.7/site-packages/ipykernel_launcher.py:1: SettingWithCopyWarning: \n",
      "A value is trying to be set on a copy of a slice from a DataFrame.\n",
      "Try using .loc[row_indexer,col_indexer] = value instead\n",
      "\n",
      "See the caveats in the documentation: http://pandas.pydata.org/pandas-docs/stable/indexing.html#indexing-view-versus-copy\n",
      "  \"\"\"Entry point for launching an IPython kernel.\n"
     ]
    }
   ],
   "source": [
    "answer_df['type'] = 'a'"
   ]
  },
  {
   "cell_type": "code",
   "execution_count": 102,
   "metadata": {
    "ExecuteTime": {
     "end_time": "2018-07-12T19:01:54.465256Z",
     "start_time": "2018-07-12T19:01:54.452437Z"
    }
   },
   "outputs": [
    {
     "data": {
      "text/html": [
       "<div>\n",
       "<style scoped>\n",
       "    .dataframe tbody tr th:only-of-type {\n",
       "        vertical-align: middle;\n",
       "    }\n",
       "\n",
       "    .dataframe tbody tr th {\n",
       "        vertical-align: top;\n",
       "    }\n",
       "\n",
       "    .dataframe thead th {\n",
       "        text-align: right;\n",
       "    }\n",
       "</style>\n",
       "<table border=\"1\" class=\"dataframe\">\n",
       "  <thead>\n",
       "    <tr style=\"text-align: right;\">\n",
       "      <th></th>\n",
       "      <th>qa_id</th>\n",
       "      <th>text</th>\n",
       "      <th>asker_id</th>\n",
       "      <th>answerer_id</th>\n",
       "      <th>type</th>\n",
       "    </tr>\n",
       "  </thead>\n",
       "  <tbody>\n",
       "    <tr>\n",
       "      <th>0</th>\n",
       "      <td>0</td>\n",
       "      <td>Hello,While retinal detachments remain the mos...</td>\n",
       "      <td>Rene√©</td>\n",
       "      <td>Dr.M.jagesh kamath</td>\n",
       "      <td>a</td>\n",
       "    </tr>\n",
       "    <tr>\n",
       "      <th>1</th>\n",
       "      <td>1</td>\n",
       "      <td>Hi, You have not mentioned her disc size. Howe...</td>\n",
       "      <td>Ruthiejb</td>\n",
       "      <td>Dr.M.Aroon kamath</td>\n",
       "      <td>a</td>\n",
       "    </tr>\n",
       "  </tbody>\n",
       "</table>\n",
       "</div>"
      ],
      "text/plain": [
       "   qa_id                                               text  asker_id  \\\n",
       "0      0  Hello,While retinal detachments remain the mos...    Rene√©   \n",
       "1      1  Hi, You have not mentioned her disc size. Howe...  Ruthiejb   \n",
       "\n",
       "          answerer_id type  \n",
       "0  Dr.M.jagesh kamath    a  \n",
       "1   Dr.M.Aroon kamath    a  "
      ]
     },
     "execution_count": 102,
     "metadata": {},
     "output_type": "execute_result"
    }
   ],
   "source": [
    "answer_df.head(2)"
   ]
  },
  {
   "cell_type": "markdown",
   "metadata": {},
   "source": [
    "##### append"
   ]
  },
  {
   "cell_type": "code",
   "execution_count": 103,
   "metadata": {
    "ExecuteTime": {
     "end_time": "2018-07-12T19:02:20.400063Z",
     "start_time": "2018-07-12T19:02:20.385178Z"
    }
   },
   "outputs": [
    {
     "data": {
      "text/html": [
       "<div>\n",
       "<style scoped>\n",
       "    .dataframe tbody tr th:only-of-type {\n",
       "        vertical-align: middle;\n",
       "    }\n",
       "\n",
       "    .dataframe tbody tr th {\n",
       "        vertical-align: top;\n",
       "    }\n",
       "\n",
       "    .dataframe thead th {\n",
       "        text-align: right;\n",
       "    }\n",
       "</style>\n",
       "<table border=\"1\" class=\"dataframe\">\n",
       "  <thead>\n",
       "    <tr style=\"text-align: right;\">\n",
       "      <th></th>\n",
       "      <th>qa_id</th>\n",
       "      <th>text</th>\n",
       "      <th>asker_id</th>\n",
       "      <th>answerer_id</th>\n",
       "      <th>type</th>\n",
       "    </tr>\n",
       "  </thead>\n",
       "  <tbody>\n",
       "    <tr>\n",
       "      <th>0</th>\n",
       "      <td>0</td>\n",
       "      <td>I've been seeing flashing lights now for about...</td>\n",
       "      <td>Rene√©</td>\n",
       "      <td>Dr.M.jagesh kamath</td>\n",
       "      <td>q</td>\n",
       "    </tr>\n",
       "    <tr>\n",
       "      <th>1</th>\n",
       "      <td>1</td>\n",
       "      <td>How common are large optic nerve discs that ar...</td>\n",
       "      <td>Ruthiejb</td>\n",
       "      <td>Dr.M.Aroon kamath</td>\n",
       "      <td>q</td>\n",
       "    </tr>\n",
       "  </tbody>\n",
       "</table>\n",
       "</div>"
      ],
      "text/plain": [
       "   qa_id                                               text  asker_id  \\\n",
       "0      0  I've been seeing flashing lights now for about...    Rene√©   \n",
       "1      1  How common are large optic nerve discs that ar...  Ruthiejb   \n",
       "\n",
       "          answerer_id type  \n",
       "0  Dr.M.jagesh kamath    q  \n",
       "1   Dr.M.Aroon kamath    q  "
      ]
     },
     "execution_count": 103,
     "metadata": {},
     "output_type": "execute_result"
    }
   ],
   "source": [
    "text_df = question_df.append(answer_df, ignore_index=True)\n",
    "text_df.head(2)"
   ]
  },
  {
   "cell_type": "markdown",
   "metadata": {},
   "source": [
    "drop if `text` field is missing"
   ]
  },
  {
   "cell_type": "code",
   "execution_count": 105,
   "metadata": {
    "ExecuteTime": {
     "end_time": "2018-07-12T19:03:46.088162Z",
     "start_time": "2018-07-12T19:03:46.074816Z"
    }
   },
   "outputs": [
    {
     "data": {
      "text/plain": [
       "(198, 5)"
      ]
     },
     "execution_count": 105,
     "metadata": {},
     "output_type": "execute_result"
    }
   ],
   "source": [
    "text_df.dropna(subset=['text'], axis=0, inplace=True)\n",
    "text_df.shape"
   ]
  },
  {
   "cell_type": "code",
   "execution_count": 106,
   "metadata": {
    "ExecuteTime": {
     "end_time": "2018-07-12T19:03:46.836600Z",
     "start_time": "2018-07-12T19:03:46.829545Z"
    }
   },
   "outputs": [
    {
     "data": {
      "text/plain": [
       "q    106\n",
       "a     92\n",
       "Name: type, dtype: int64"
      ]
     },
     "execution_count": 106,
     "metadata": {},
     "output_type": "execute_result"
    }
   ],
   "source": [
    "text_df['type'].value_counts()"
   ]
  },
  {
   "cell_type": "markdown",
   "metadata": {},
   "source": [
    "---"
   ]
  },
  {
   "cell_type": "markdown",
   "metadata": {},
   "source": [
    "#### wrapper"
   ]
  },
  {
   "cell_type": "markdown",
   "metadata": {},
   "source": [
    "add disease type to `text` table"
   ]
  },
  {
   "cell_type": "code",
   "execution_count": 8,
   "metadata": {
    "ExecuteTime": {
     "end_time": "2018-07-12T19:09:39.910944Z",
     "start_time": "2018-07-12T19:09:39.897241Z"
    }
   },
   "outputs": [],
   "source": [
    "def wrapper(f):\n",
    "    df = pd.read_excel(f, sheet_name=0)\n",
    "    ## retrieve the first disease name\n",
    "    assert pd.np.all(df['Disease'].values == df.loc[0, 'Disease'])\n",
    "    disease_name = df.loc[0, 'Disease']\n",
    "    ## extract relevant column list\n",
    "    col_list = ['Question', 'Answer', \n",
    "                'Asker ID', 'Asker Gender', 'Asker Age',\n",
    "                'Answerer ID', 'Answerer Title',\n",
    "                'Answerer Gender', 'Answerer Age']\n",
    "    df = df[col_list]\n",
    "    \n",
    "    ## rename\n",
    "    df.columns = ['question', 'answer',\n",
    "                  'asker_id', 'asker_gender', 'asker_age',\n",
    "                  'answerer_id', 'answerer_title', 'answerer_gender', 'answerer_age'\n",
    "                 ]\n",
    "    ## both patients and doctors/nurse. strip string for more coherent results\n",
    "    df.asker_id = df.asker_id.str.strip().values\n",
    "    df.answerer_id = df.answerer_id.str.strip().values\n",
    "\n",
    "    ## add pair id to match question and answer (maybe not needed but let's see)\n",
    "    df['qa_id'] = pd.np.arange(df.shape[0])\n",
    "\n",
    "    #### user table\n",
    "    ##### patients\n",
    "    patient_df = df[['asker_id', 'asker_age', 'asker_gender']]\n",
    "    ## add role\n",
    "    patient_df.loc[:, 'role'] = 'patient'\n",
    "    ## change column names\n",
    "    patient_df.columns = ['user_id', 'age', 'gender', 'role']\n",
    "    ##### doctors\n",
    "    doctor_df = df[['answerer_id', 'answerer_title', 'answerer_age', 'answerer_gender']]\n",
    "    ## update columns\n",
    "    doctor_df.columns = ['role', 'user_id', 'age', 'gender']\n",
    "    \n",
    "    ##### append\n",
    "    user_df = doctor_df.append(patient_df, ignore_index=True, sort=True)\n",
    "    user_df['id'] = pd.np.arange(user_df.shape[0])\n",
    "\n",
    "    #### text table\n",
    "    ##### question\n",
    "    question_df = df[['qa_id', 'question', 'asker_id', 'answerer_title']]\n",
    "    ## rename columns\n",
    "    question_df.columns = ['qa_id', 'text', 'asker_id', 'answerer_id']\n",
    "    ## add type\n",
    "    question_df['type'] = 'q'\n",
    "    ##### answer\n",
    "    answer_df = df[['qa_id', 'answer', 'asker_id', 'answerer_title']]\n",
    "    ## rename columns\n",
    "    answer_df.columns = ['qa_id', 'text', 'asker_id', 'answerer_id']\n",
    "    ## add type\n",
    "    answer_df['type'] = 'a'\n",
    "\n",
    "    ##### append\n",
    "    text_df = question_df.append(answer_df, ignore_index=True)\n",
    "    ## add disease name\n",
    "    text_df['disease'] = disease_name\n",
    "    ## drop if `text` field is missing\n",
    "    text_df.dropna(subset=['text'], axis=0, inplace=True)\n",
    "    \n",
    "    return user_df, text_df"
   ]
  },
  {
   "cell_type": "markdown",
   "metadata": {},
   "source": [
    "##### text it"
   ]
  },
  {
   "cell_type": "code",
   "execution_count": 9,
   "metadata": {
    "ExecuteTime": {
     "end_time": "2018-07-12T19:09:40.557703Z",
     "start_time": "2018-07-12T19:09:40.554269Z"
    }
   },
   "outputs": [],
   "source": [
    "f = 'data/score_Eye diseases (Ophthalmology).xlsx'"
   ]
  },
  {
   "cell_type": "code",
   "execution_count": 10,
   "metadata": {
    "ExecuteTime": {
     "end_time": "2018-07-12T19:09:41.354404Z",
     "start_time": "2018-07-12T19:09:41.153764Z"
    }
   },
   "outputs": [
    {
     "name": "stderr",
     "output_type": "stream",
     "text": [
      "/Users/zhiyzuo/.virtualenvs/py3/lib/python3.7/site-packages/pandas/core/indexing.py:362: SettingWithCopyWarning: \n",
      "A value is trying to be set on a copy of a slice from a DataFrame.\n",
      "Try using .loc[row_indexer,col_indexer] = value instead\n",
      "\n",
      "See the caveats in the documentation: http://pandas.pydata.org/pandas-docs/stable/indexing.html#indexing-view-versus-copy\n",
      "  self.obj[key] = _infer_fill_value(value)\n",
      "/Users/zhiyzuo/.virtualenvs/py3/lib/python3.7/site-packages/pandas/core/indexing.py:543: SettingWithCopyWarning: \n",
      "A value is trying to be set on a copy of a slice from a DataFrame.\n",
      "Try using .loc[row_indexer,col_indexer] = value instead\n",
      "\n",
      "See the caveats in the documentation: http://pandas.pydata.org/pandas-docs/stable/indexing.html#indexing-view-versus-copy\n",
      "  self.obj[item] = s\n",
      "/Users/zhiyzuo/.virtualenvs/py3/lib/python3.7/site-packages/ipykernel_launcher.py:47: SettingWithCopyWarning: \n",
      "A value is trying to be set on a copy of a slice from a DataFrame.\n",
      "Try using .loc[row_indexer,col_indexer] = value instead\n",
      "\n",
      "See the caveats in the documentation: http://pandas.pydata.org/pandas-docs/stable/indexing.html#indexing-view-versus-copy\n",
      "/Users/zhiyzuo/.virtualenvs/py3/lib/python3.7/site-packages/ipykernel_launcher.py:53: SettingWithCopyWarning: \n",
      "A value is trying to be set on a copy of a slice from a DataFrame.\n",
      "Try using .loc[row_indexer,col_indexer] = value instead\n",
      "\n",
      "See the caveats in the documentation: http://pandas.pydata.org/pandas-docs/stable/indexing.html#indexing-view-versus-copy\n"
     ]
    }
   ],
   "source": [
    "user_df, text_df = wrapper(f)"
   ]
  },
  {
   "cell_type": "code",
   "execution_count": 11,
   "metadata": {
    "ExecuteTime": {
     "end_time": "2018-07-12T19:09:45.518884Z",
     "start_time": "2018-07-12T19:09:45.498324Z"
    }
   },
   "outputs": [
    {
     "data": {
      "text/plain": [
       "(212, 5)"
      ]
     },
     "execution_count": 11,
     "metadata": {},
     "output_type": "execute_result"
    }
   ],
   "source": [
    "user_df.shape"
   ]
  },
  {
   "cell_type": "code",
   "execution_count": 12,
   "metadata": {
    "ExecuteTime": {
     "end_time": "2018-07-12T19:09:49.754678Z",
     "start_time": "2018-07-12T19:09:49.726812Z"
    }
   },
   "outputs": [
    {
     "data": {
      "text/html": [
       "<div>\n",
       "<style scoped>\n",
       "    .dataframe tbody tr th:only-of-type {\n",
       "        vertical-align: middle;\n",
       "    }\n",
       "\n",
       "    .dataframe tbody tr th {\n",
       "        vertical-align: top;\n",
       "    }\n",
       "\n",
       "    .dataframe thead th {\n",
       "        text-align: right;\n",
       "    }\n",
       "</style>\n",
       "<table border=\"1\" class=\"dataframe\">\n",
       "  <thead>\n",
       "    <tr style=\"text-align: right;\">\n",
       "      <th></th>\n",
       "      <th>age</th>\n",
       "      <th>gender</th>\n",
       "      <th>role</th>\n",
       "      <th>user_id</th>\n",
       "      <th>id</th>\n",
       "    </tr>\n",
       "  </thead>\n",
       "  <tbody>\n",
       "    <tr>\n",
       "      <th>0</th>\n",
       "      <td>68.0</td>\n",
       "      <td>Male</td>\n",
       "      <td>Medical Doctor</td>\n",
       "      <td>Dr.M.jagesh kamath</td>\n",
       "      <td>0</td>\n",
       "    </tr>\n",
       "    <tr>\n",
       "      <th>1</th>\n",
       "      <td>69.0</td>\n",
       "      <td>Male</td>\n",
       "      <td>Medical Doctor</td>\n",
       "      <td>Dr.M.Aroon kamath</td>\n",
       "      <td>1</td>\n",
       "    </tr>\n",
       "  </tbody>\n",
       "</table>\n",
       "</div>"
      ],
      "text/plain": [
       "    age gender            role             user_id  id\n",
       "0  68.0   Male  Medical Doctor  Dr.M.jagesh kamath   0\n",
       "1  69.0   Male  Medical Doctor   Dr.M.Aroon kamath   1"
      ]
     },
     "execution_count": 12,
     "metadata": {},
     "output_type": "execute_result"
    }
   ],
   "source": [
    "user_df.head(2)"
   ]
  },
  {
   "cell_type": "code",
   "execution_count": 13,
   "metadata": {
    "ExecuteTime": {
     "end_time": "2018-07-12T19:10:02.898486Z",
     "start_time": "2018-07-12T19:10:02.883646Z"
    }
   },
   "outputs": [
    {
     "data": {
      "text/html": [
       "<div>\n",
       "<style scoped>\n",
       "    .dataframe tbody tr th:only-of-type {\n",
       "        vertical-align: middle;\n",
       "    }\n",
       "\n",
       "    .dataframe tbody tr th {\n",
       "        vertical-align: top;\n",
       "    }\n",
       "\n",
       "    .dataframe thead th {\n",
       "        text-align: right;\n",
       "    }\n",
       "</style>\n",
       "<table border=\"1\" class=\"dataframe\">\n",
       "  <thead>\n",
       "    <tr style=\"text-align: right;\">\n",
       "      <th></th>\n",
       "      <th>qa_id</th>\n",
       "      <th>text</th>\n",
       "      <th>asker_id</th>\n",
       "      <th>answerer_id</th>\n",
       "      <th>type</th>\n",
       "      <th>disease</th>\n",
       "    </tr>\n",
       "  </thead>\n",
       "  <tbody>\n",
       "    <tr>\n",
       "      <th>0</th>\n",
       "      <td>0</td>\n",
       "      <td>I've been seeing flashing lights now for about...</td>\n",
       "      <td>Rene√©</td>\n",
       "      <td>Dr.M.jagesh kamath</td>\n",
       "      <td>q</td>\n",
       "      <td>Eye Diseases</td>\n",
       "    </tr>\n",
       "    <tr>\n",
       "      <th>1</th>\n",
       "      <td>1</td>\n",
       "      <td>How common are large optic nerve discs that ar...</td>\n",
       "      <td>Ruthiejb</td>\n",
       "      <td>Dr.M.Aroon kamath</td>\n",
       "      <td>q</td>\n",
       "      <td>Eye Diseases</td>\n",
       "    </tr>\n",
       "  </tbody>\n",
       "</table>\n",
       "</div>"
      ],
      "text/plain": [
       "   qa_id                                               text  asker_id  \\\n",
       "0      0  I've been seeing flashing lights now for about...    Rene√©   \n",
       "1      1  How common are large optic nerve discs that ar...  Ruthiejb   \n",
       "\n",
       "          answerer_id type       disease  \n",
       "0  Dr.M.jagesh kamath    q  Eye Diseases  \n",
       "1   Dr.M.Aroon kamath    q  Eye Diseases  "
      ]
     },
     "execution_count": 13,
     "metadata": {},
     "output_type": "execute_result"
    }
   ],
   "source": [
    "text_df.head(2)"
   ]
  },
  {
   "cell_type": "code",
   "execution_count": 14,
   "metadata": {
    "ExecuteTime": {
     "end_time": "2018-07-12T19:16:50.133355Z",
     "start_time": "2018-07-12T19:16:50.102997Z"
    }
   },
   "outputs": [],
   "source": [
    "text_df.to_csv('test-data/test.csv', index=False)"
   ]
  },
  {
   "cell_type": "markdown",
   "metadata": {},
   "source": [
    "---"
   ]
  },
  {
   "cell_type": "markdown",
   "metadata": {},
   "source": [
    "now turn everything to tables and merge them"
   ]
  }
 ],
 "metadata": {
  "kernelspec": {
   "display_name": "Python 3",
   "language": "python",
   "name": "python3"
  },
  "language_info": {
   "codemirror_mode": {
    "name": "ipython",
    "version": 3
   },
   "file_extension": ".py",
   "mimetype": "text/x-python",
   "name": "python",
   "nbconvert_exporter": "python",
   "pygments_lexer": "ipython3",
   "version": "3.7.0"
  },
  "toc": {
   "base_numbering": 1,
   "nav_menu": {},
   "number_sections": true,
   "sideBar": true,
   "skip_h1_title": false,
   "title_cell": "Table of Contents",
   "title_sidebar": "Contents",
   "toc_cell": false,
   "toc_position": {
    "height": "calc(100% - 180px)",
    "left": "10px",
    "top": "150px",
    "width": "335px"
   },
   "toc_section_display": true,
   "toc_window_display": true
  }
 },
 "nbformat": 4,
 "nbformat_minor": 2
}
