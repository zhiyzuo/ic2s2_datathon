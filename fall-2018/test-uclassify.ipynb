{
 "cells": [
  {
   "cell_type": "markdown",
   "metadata": {},
   "source": [
    "play with uclassify apis: \n",
    "- https://uclassify.com/browse/uclassify/topics\n",
    "- ~~https://github.com/psibi/pyuClassify~~ not suitable for our needs"
   ]
  },
  {
   "cell_type": "markdown",
   "metadata": {},
   "source": [
    "09-01-2018. maybe we can gain free access or cheaper on uclassify by asking. wait now"
   ]
  },
  {
   "cell_type": "markdown",
   "metadata": {},
   "source": [
    "---"
   ]
  },
  {
   "cell_type": "code",
   "execution_count": 26,
   "metadata": {
    "ExecuteTime": {
     "end_time": "2018-09-02T04:15:50.892936Z",
     "start_time": "2018-09-02T04:15:50.863106Z"
    }
   },
   "outputs": [
    {
     "data": {
      "text/plain": [
       "('wei2018', 'E6LgKOxIO56m', 'q0heSScY7xQi')"
      ]
     },
     "execution_count": 26,
     "metadata": {},
     "output_type": "execute_result"
    }
   ],
   "source": [
    "import pandas as pd\n",
    "USERNAME, READ_API_KEY, WRITE_API_KEY = pd.np.genfromtxt('uclassify_apis.csv', dtype=str)\n",
    "USERNAME, READ_API_KEY, WRITE_API_KEY"
   ]
  },
  {
   "cell_type": "code",
   "execution_count": 27,
   "metadata": {
    "ExecuteTime": {
     "end_time": "2018-09-02T04:15:51.085463Z",
     "start_time": "2018-09-02T04:15:51.080238Z"
    }
   },
   "outputs": [],
   "source": [
    "import requests\n",
    "CLF_NAME = 'topics'\n",
    "API_URL = \"https://api.uclassify.com/v1/uclassify/{}/classify/\".format(CLF_NAME)\n",
    "params_dict = {'readKey': READ_API_KEY}"
   ]
  },
  {
   "cell_type": "markdown",
   "metadata": {},
   "source": [
    "---"
   ]
  },
  {
   "cell_type": "markdown",
   "metadata": {},
   "source": [
    "#### madeup text"
   ]
  },
  {
   "cell_type": "code",
   "execution_count": 28,
   "metadata": {
    "ExecuteTime": {
     "end_time": "2018-09-02T04:15:51.984374Z",
     "start_time": "2018-09-02T04:15:51.980233Z"
    }
   },
   "outputs": [],
   "source": [
    "s = 'this is a great debate on heart disease. we want to go the hospital'"
   ]
  },
  {
   "cell_type": "code",
   "execution_count": 29,
   "metadata": {
    "ExecuteTime": {
     "end_time": "2018-09-02T04:15:52.156518Z",
     "start_time": "2018-09-02T04:15:52.152253Z"
    }
   },
   "outputs": [],
   "source": [
    "params_dict['text'] = s"
   ]
  },
  {
   "cell_type": "code",
   "execution_count": 30,
   "metadata": {
    "ExecuteTime": {
     "end_time": "2018-09-02T04:15:52.497142Z",
     "start_time": "2018-09-02T04:15:52.350347Z"
    }
   },
   "outputs": [],
   "source": [
    "r = requests.get(API_URL, params_dict)"
   ]
  },
  {
   "cell_type": "code",
   "execution_count": 31,
   "metadata": {
    "ExecuteTime": {
     "end_time": "2018-09-02T04:15:52.576679Z",
     "start_time": "2018-09-02T04:15:52.570326Z"
    }
   },
   "outputs": [
    {
     "data": {
      "text/plain": [
       "200"
      ]
     },
     "execution_count": 31,
     "metadata": {},
     "output_type": "execute_result"
    }
   ],
   "source": [
    "r.status_code"
   ]
  },
  {
   "cell_type": "code",
   "execution_count": 32,
   "metadata": {
    "ExecuteTime": {
     "end_time": "2018-09-02T04:15:53.054775Z",
     "start_time": "2018-09-02T04:15:53.048473Z"
    }
   },
   "outputs": [
    {
     "data": {
      "text/plain": [
       "b'{\"Arts\":0.0354012,\"Business\":0.023591,\"Computers\":0.0163398,\"Games\":0.0282418,\"Health\":0.750048,\"Home\":0.0292273,\"Recreation\":0.0260797,\"Science\":0.0212057,\"Society\":0.0566251,\"Sports\":0.0132403}'"
      ]
     },
     "execution_count": 32,
     "metadata": {},
     "output_type": "execute_result"
    }
   ],
   "source": [
    "r.content"
   ]
  },
  {
   "cell_type": "markdown",
   "metadata": {},
   "source": [
    "looks simple enough; apply it to all text"
   ]
  },
  {
   "cell_type": "markdown",
   "metadata": {},
   "source": [
    "---"
   ]
  },
  {
   "cell_type": "markdown",
   "metadata": {},
   "source": [
    "#### apply to our data"
   ]
  },
  {
   "cell_type": "markdown",
   "metadata": {},
   "source": [
    "read data from `merge-data-for-iconference.ipynb`"
   ]
  },
  {
   "cell_type": "code",
   "execution_count": 33,
   "metadata": {
    "ExecuteTime": {
     "end_time": "2018-09-02T05:20:34.255735Z",
     "start_time": "2018-09-02T05:20:33.438570Z"
    }
   },
   "outputs": [
    {
     "data": {
      "text/plain": [
       "(47905, 12)"
      ]
     },
     "execution_count": 33,
     "metadata": {},
     "output_type": "execute_result"
    }
   ],
   "source": [
    "df = pd.read_csv('ohc_data.csv')\n",
    "df.shape"
   ]
  },
  {
   "cell_type": "code",
   "execution_count": 34,
   "metadata": {
    "ExecuteTime": {
     "end_time": "2018-09-02T05:20:35.607411Z",
     "start_time": "2018-09-02T05:20:35.526611Z"
    }
   },
   "outputs": [
    {
     "data": {
      "text/html": [
       "<div>\n",
       "<style scoped>\n",
       "    .dataframe tbody tr th:only-of-type {\n",
       "        vertical-align: middle;\n",
       "    }\n",
       "\n",
       "    .dataframe tbody tr th {\n",
       "        vertical-align: top;\n",
       "    }\n",
       "\n",
       "    .dataframe thead th {\n",
       "        text-align: right;\n",
       "    }\n",
       "</style>\n",
       "<table border=\"1\" class=\"dataframe\">\n",
       "  <thead>\n",
       "    <tr style=\"text-align: right;\">\n",
       "      <th></th>\n",
       "      <th>age</th>\n",
       "      <th>politeness</th>\n",
       "      <th>politeness_web</th>\n",
       "      <th>question_flag</th>\n",
       "      <th>role_dummy</th>\n",
       "      <th>text</th>\n",
       "      <th>url</th>\n",
       "      <th>gender_dummy</th>\n",
       "      <th>disease</th>\n",
       "      <th>id</th>\n",
       "      <th>sentiment_score</th>\n",
       "      <th>topic_diversity</th>\n",
       "    </tr>\n",
       "  </thead>\n",
       "  <tbody>\n",
       "    <tr>\n",
       "      <th>0</th>\n",
       "      <td>30.0</td>\n",
       "      <td>0.80</td>\n",
       "      <td>0.68</td>\n",
       "      <td>1</td>\n",
       "      <td>1</td>\n",
       "      <td>hi there,  I am a 22 year old male of Indian b...</td>\n",
       "      <td>f=79&amp;t=46845&amp;sid=b9f93eff1d31e0c2adf2ca3a89e06145</td>\n",
       "      <td>0</td>\n",
       "      <td>Dermatology Topics</td>\n",
       "      <td>q0</td>\n",
       "      <td>0.6130</td>\n",
       "      <td>0.928300</td>\n",
       "    </tr>\n",
       "    <tr>\n",
       "      <th>1</th>\n",
       "      <td>68.0</td>\n",
       "      <td>0.68</td>\n",
       "      <td>0.00</td>\n",
       "      <td>0</td>\n",
       "      <td>0</td>\n",
       "      <td>Hello,Hypertrichosis relates to excessive grow...</td>\n",
       "      <td>f=79&amp;t=46845&amp;sid=b9f93eff1d31e0c2adf2ca3a89e06145</td>\n",
       "      <td>0</td>\n",
       "      <td>Dermatology Topics</td>\n",
       "      <td>a0_0</td>\n",
       "      <td>0.9169</td>\n",
       "      <td>1.895711</td>\n",
       "    </tr>\n",
       "  </tbody>\n",
       "</table>\n",
       "</div>"
      ],
      "text/plain": [
       "    age  politeness  politeness_web  question_flag  role_dummy  \\\n",
       "0  30.0        0.80            0.68              1           1   \n",
       "1  68.0        0.68            0.00              0           0   \n",
       "\n",
       "                                                text  \\\n",
       "0  hi there,  I am a 22 year old male of Indian b...   \n",
       "1  Hello,Hypertrichosis relates to excessive grow...   \n",
       "\n",
       "                                                 url  gender_dummy  \\\n",
       "0  f=79&t=46845&sid=b9f93eff1d31e0c2adf2ca3a89e06145             0   \n",
       "1  f=79&t=46845&sid=b9f93eff1d31e0c2adf2ca3a89e06145             0   \n",
       "\n",
       "              disease    id  sentiment_score  topic_diversity  \n",
       "0  Dermatology Topics    q0           0.6130         0.928300  \n",
       "1  Dermatology Topics  a0_0           0.9169         1.895711  "
      ]
     },
     "execution_count": 34,
     "metadata": {},
     "output_type": "execute_result"
    }
   ],
   "source": [
    "df.head(2)"
   ]
  },
  {
   "cell_type": "markdown",
   "metadata": {},
   "source": [
    "09-01-2018. did not remove any stop words at now. has sent email to ask"
   ]
  },
  {
   "cell_type": "code",
   "execution_count": null,
   "metadata": {},
   "outputs": [],
   "source": []
  }
 ],
 "metadata": {
  "kernelspec": {
   "display_name": "Python 3",
   "language": "python",
   "name": "python3"
  },
  "language_info": {
   "codemirror_mode": {
    "name": "ipython",
    "version": 3
   },
   "file_extension": ".py",
   "mimetype": "text/x-python",
   "name": "python",
   "nbconvert_exporter": "python",
   "pygments_lexer": "ipython3",
   "version": "3.6.4"
  },
  "toc": {
   "base_numbering": 1,
   "nav_menu": {},
   "number_sections": true,
   "sideBar": true,
   "skip_h1_title": true,
   "title_cell": "Table of Contents",
   "title_sidebar": "Contents",
   "toc_cell": false,
   "toc_position": {},
   "toc_section_display": true,
   "toc_window_display": true
  }
 },
 "nbformat": 4,
 "nbformat_minor": 2
}
