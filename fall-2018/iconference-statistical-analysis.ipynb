{
 "cells": [
  {
   "cell_type": "markdown",
   "metadata": {},
   "source": [
    "statistical analyses on data exported from `iconference-merge-data.ipynb`"
   ]
  },
  {
   "cell_type": "markdown",
   "metadata": {},
   "source": [
    "for sentiment, politeness, topic diversity, do comparison between \n",
    "- female and male (i.e., gender)，\n",
    "- patient and doctor (i.e., occupation role)\n",
    "\n",
    "use t test and regression"
   ]
  },
  {
   "cell_type": "markdown",
   "metadata": {},
   "source": [
    "then include interaction (product term) between gender and medical role, regress the three linguistic measures above on gender, medical role, and  gender*medical role"
   ]
  },
  {
   "cell_type": "markdown",
   "metadata": {},
   "source": [
    "note: \n",
    "- drop web version score due to the inconsistency (`politeness_web`)\n",
    "- drop unknown gender (value -1)\n",
    "- code for \n",
    "    - gender: 1 for female and 0 for male\n",
    "    - role: 1 for patient and 0 for doctor"
   ]
  },
  {
   "cell_type": "markdown",
   "metadata": {},
   "source": [
    "09-02-2018"
   ]
  },
  {
   "cell_type": "markdown",
   "metadata": {},
   "source": [
    "---"
   ]
  },
  {
   "cell_type": "code",
   "execution_count": 12,
   "metadata": {
    "ExecuteTime": {
     "end_time": "2018-09-02T17:39:12.404494Z",
     "start_time": "2018-09-02T17:39:11.982333Z"
    }
   },
   "outputs": [
    {
     "data": {
      "text/plain": [
       "(20304, 11)"
      ]
     },
     "execution_count": 12,
     "metadata": {},
     "output_type": "execute_result"
    }
   ],
   "source": [
    "import pandas as pd\n",
    "df = pd.read_csv('ohc_data.csv')\n",
    "df.drop(columns='politeness_web', inplace=True)\n",
    "df = df[df.gender_dummy!=-1]\n",
    "df.shape"
   ]
  },
  {
   "cell_type": "code",
   "execution_count": 13,
   "metadata": {
    "ExecuteTime": {
     "end_time": "2018-09-02T17:39:16.496948Z",
     "start_time": "2018-09-02T17:39:16.492681Z"
    }
   },
   "outputs": [
    {
     "data": {
      "text/plain": [
       "Index(['age', 'politeness', 'question_flag', 'role_dummy', 'text', 'url',\n",
       "       'gender_dummy', 'disease', 'id', 'sentiment_score', 'topic_diversity'],\n",
       "      dtype='object')"
      ]
     },
     "execution_count": 13,
     "metadata": {},
     "output_type": "execute_result"
    }
   ],
   "source": [
    "df.columns"
   ]
  },
  {
   "cell_type": "code",
   "execution_count": 28,
   "metadata": {
    "ExecuteTime": {
     "end_time": "2018-09-02T17:45:39.103761Z",
     "start_time": "2018-09-02T17:45:39.098434Z"
    }
   },
   "outputs": [
    {
     "data": {
      "text/plain": [
       "age                float64\n",
       "politeness         float64\n",
       "question_flag        int64\n",
       "role_dummy           int64\n",
       "text                object\n",
       "url                 object\n",
       "gender_dummy         int64\n",
       "disease             object\n",
       "id                  object\n",
       "sentiment_score    float64\n",
       "topic_diversity    float64\n",
       "dtype: object"
      ]
     },
     "execution_count": 28,
     "metadata": {},
     "output_type": "execute_result"
    }
   ],
   "source": [
    "df.dtypes"
   ]
  },
  {
   "cell_type": "code",
   "execution_count": 19,
   "metadata": {
    "ExecuteTime": {
     "end_time": "2018-09-02T17:41:20.554421Z",
     "start_time": "2018-09-02T17:41:19.199564Z"
    }
   },
   "outputs": [],
   "source": [
    "import scipy as sp\n",
    "import statsmodels.api as sm\n",
    "import statsmodels.formula.api as smf"
   ]
  },
  {
   "cell_type": "code",
   "execution_count": 73,
   "metadata": {
    "ExecuteTime": {
     "end_time": "2018-09-02T18:07:40.534073Z",
     "start_time": "2018-09-02T18:07:40.529309Z"
    }
   },
   "outputs": [],
   "source": [
    "def get_coef_table(lin_reg):\n",
    "    ''' lin_reg is a fitted statsmodels regression model\n",
    "    Return a dataframe containing coefficients, pvalues, and the confidence intervals\n",
    "    '''\n",
    "    err_series = lin_reg.params - lin_reg.conf_int()[0]\n",
    "    coef_df = pd.DataFrame({'coef': lin_reg.params.values[1:],\n",
    "                            'ci_err': err_series.values[1:],\n",
    "                            'pvalue': lin_reg.pvalues.round(4).values[1:],\n",
    "                            'varname': err_series.index.values[1:]\n",
    "                           })\n",
    "    return coef_df"
   ]
  },
  {
   "cell_type": "code",
   "execution_count": 146,
   "metadata": {
    "ExecuteTime": {
     "end_time": "2018-09-02T18:33:02.562347Z",
     "start_time": "2018-09-02T18:33:02.555606Z"
    }
   },
   "outputs": [],
   "source": [
    "import palettable\n",
    "import seaborn as sns\n",
    "sns.set_style('white')\n",
    "from matplotlib import pyplot as plt\n",
    "%matplotlib inline"
   ]
  },
  {
   "cell_type": "markdown",
   "metadata": {},
   "source": [
    "---"
   ]
  },
  {
   "cell_type": "code",
   "execution_count": 53,
   "metadata": {
    "ExecuteTime": {
     "end_time": "2018-09-02T17:57:45.945630Z",
     "start_time": "2018-09-02T17:57:45.942665Z"
    }
   },
   "outputs": [],
   "source": [
    "col_name = ['sentiment_score', 'politeness', 'topic_diversity']"
   ]
  },
  {
   "cell_type": "markdown",
   "metadata": {},
   "source": [
    "#### statistics w/ t test"
   ]
  },
  {
   "cell_type": "markdown",
   "metadata": {},
   "source": [
    "first on gender"
   ]
  },
  {
   "cell_type": "code",
   "execution_count": 62,
   "metadata": {
    "ExecuteTime": {
     "end_time": "2018-09-02T17:59:45.047526Z",
     "start_time": "2018-09-02T17:59:45.032116Z"
    }
   },
   "outputs": [
    {
     "data": {
      "text/html": [
       "<div>\n",
       "<style scoped>\n",
       "    .dataframe tbody tr th:only-of-type {\n",
       "        vertical-align: middle;\n",
       "    }\n",
       "\n",
       "    .dataframe tbody tr th {\n",
       "        vertical-align: top;\n",
       "    }\n",
       "\n",
       "    .dataframe thead th {\n",
       "        text-align: right;\n",
       "    }\n",
       "</style>\n",
       "<table border=\"1\" class=\"dataframe\">\n",
       "  <thead>\n",
       "    <tr style=\"text-align: right;\">\n",
       "      <th></th>\n",
       "      <th>tstats</th>\n",
       "      <th>pval</th>\n",
       "    </tr>\n",
       "  </thead>\n",
       "  <tbody>\n",
       "    <tr>\n",
       "      <th>sentiment_score</th>\n",
       "      <td>-8.221814</td>\n",
       "      <td>2.123739e-16</td>\n",
       "    </tr>\n",
       "    <tr>\n",
       "      <th>politeness</th>\n",
       "      <td>-17.088902</td>\n",
       "      <td>5.116461e-65</td>\n",
       "    </tr>\n",
       "    <tr>\n",
       "      <th>topic_diversity</th>\n",
       "      <td>-3.324215</td>\n",
       "      <td>8.882459e-04</td>\n",
       "    </tr>\n",
       "  </tbody>\n",
       "</table>\n",
       "</div>"
      ],
      "text/plain": [
       "                    tstats          pval\n",
       "sentiment_score  -8.221814  2.123739e-16\n",
       "politeness      -17.088902  5.116461e-65\n",
       "topic_diversity  -3.324215  8.882459e-04"
      ]
     },
     "execution_count": 62,
     "metadata": {},
     "output_type": "execute_result"
    }
   ],
   "source": [
    "tval, pval = sp.stats.ttest_ind(df[df.gender_dummy==1][col_name],\n",
    "                                df[df.gender_dummy==0][col_name],\n",
    "                               )\n",
    "pd.DataFrame({'tstats': tval, 'pval': pval}, index=col_name)"
   ]
  },
  {
   "cell_type": "code",
   "execution_count": 63,
   "metadata": {
    "ExecuteTime": {
     "end_time": "2018-09-02T17:59:51.934120Z",
     "start_time": "2018-09-02T17:59:51.920552Z"
    }
   },
   "outputs": [
    {
     "data": {
      "text/html": [
       "<div>\n",
       "<style scoped>\n",
       "    .dataframe tbody tr th:only-of-type {\n",
       "        vertical-align: middle;\n",
       "    }\n",
       "\n",
       "    .dataframe tbody tr th {\n",
       "        vertical-align: top;\n",
       "    }\n",
       "\n",
       "    .dataframe thead th {\n",
       "        text-align: right;\n",
       "    }\n",
       "</style>\n",
       "<table border=\"1\" class=\"dataframe\">\n",
       "  <thead>\n",
       "    <tr style=\"text-align: right;\">\n",
       "      <th></th>\n",
       "      <th>sentiment_score</th>\n",
       "      <th>politeness</th>\n",
       "      <th>topic_diversity</th>\n",
       "    </tr>\n",
       "    <tr>\n",
       "      <th>gender_dummy</th>\n",
       "      <th></th>\n",
       "      <th></th>\n",
       "      <th></th>\n",
       "    </tr>\n",
       "  </thead>\n",
       "  <tbody>\n",
       "    <tr>\n",
       "      <th>0</th>\n",
       "      <td>0.155874</td>\n",
       "      <td>0.773950</td>\n",
       "      <td>1.142649</td>\n",
       "    </tr>\n",
       "    <tr>\n",
       "      <th>1</th>\n",
       "      <td>0.069417</td>\n",
       "      <td>0.721123</td>\n",
       "      <td>1.123849</td>\n",
       "    </tr>\n",
       "  </tbody>\n",
       "</table>\n",
       "</div>"
      ],
      "text/plain": [
       "              sentiment_score  politeness  topic_diversity\n",
       "gender_dummy                                              \n",
       "0                    0.155874    0.773950         1.142649\n",
       "1                    0.069417    0.721123         1.123849"
      ]
     },
     "execution_count": 63,
     "metadata": {},
     "output_type": "execute_result"
    }
   ],
   "source": [
    "df[['gender_dummy'] + col_name].groupby('gender_dummy').mean()"
   ]
  },
  {
   "cell_type": "markdown",
   "metadata": {},
   "source": [
    "then on occpuation"
   ]
  },
  {
   "cell_type": "code",
   "execution_count": 64,
   "metadata": {
    "ExecuteTime": {
     "end_time": "2018-09-02T18:00:07.699617Z",
     "start_time": "2018-09-02T18:00:07.681221Z"
    }
   },
   "outputs": [
    {
     "data": {
      "text/html": [
       "<div>\n",
       "<style scoped>\n",
       "    .dataframe tbody tr th:only-of-type {\n",
       "        vertical-align: middle;\n",
       "    }\n",
       "\n",
       "    .dataframe tbody tr th {\n",
       "        vertical-align: top;\n",
       "    }\n",
       "\n",
       "    .dataframe thead th {\n",
       "        text-align: right;\n",
       "    }\n",
       "</style>\n",
       "<table border=\"1\" class=\"dataframe\">\n",
       "  <thead>\n",
       "    <tr style=\"text-align: right;\">\n",
       "      <th></th>\n",
       "      <th>tstats</th>\n",
       "      <th>pval</th>\n",
       "    </tr>\n",
       "  </thead>\n",
       "  <tbody>\n",
       "    <tr>\n",
       "      <th>sentiment_score</th>\n",
       "      <td>-58.129774</td>\n",
       "      <td>0.000000e+00</td>\n",
       "    </tr>\n",
       "    <tr>\n",
       "      <th>politeness</th>\n",
       "      <td>-28.321063</td>\n",
       "      <td>4.366943e-173</td>\n",
       "    </tr>\n",
       "    <tr>\n",
       "      <th>topic_diversity</th>\n",
       "      <td>-4.370332</td>\n",
       "      <td>1.246734e-05</td>\n",
       "    </tr>\n",
       "  </tbody>\n",
       "</table>\n",
       "</div>"
      ],
      "text/plain": [
       "                    tstats           pval\n",
       "sentiment_score -58.129774   0.000000e+00\n",
       "politeness      -28.321063  4.366943e-173\n",
       "topic_diversity  -4.370332   1.246734e-05"
      ]
     },
     "execution_count": 64,
     "metadata": {},
     "output_type": "execute_result"
    }
   ],
   "source": [
    "tval, pval = sp.stats.ttest_ind(df[df.role_dummy==1][col_name],\n",
    "                                df[df.role_dummy==0][col_name],\n",
    "                               )\n",
    "pd.DataFrame({'tstats': tval, 'pval': pval}, index=col_name)"
   ]
  },
  {
   "cell_type": "code",
   "execution_count": 65,
   "metadata": {
    "ExecuteTime": {
     "end_time": "2018-09-02T18:00:11.804525Z",
     "start_time": "2018-09-02T18:00:11.791853Z"
    }
   },
   "outputs": [
    {
     "data": {
      "text/html": [
       "<div>\n",
       "<style scoped>\n",
       "    .dataframe tbody tr th:only-of-type {\n",
       "        vertical-align: middle;\n",
       "    }\n",
       "\n",
       "    .dataframe tbody tr th {\n",
       "        vertical-align: top;\n",
       "    }\n",
       "\n",
       "    .dataframe thead th {\n",
       "        text-align: right;\n",
       "    }\n",
       "</style>\n",
       "<table border=\"1\" class=\"dataframe\">\n",
       "  <thead>\n",
       "    <tr style=\"text-align: right;\">\n",
       "      <th></th>\n",
       "      <th>sentiment_score</th>\n",
       "      <th>politeness</th>\n",
       "      <th>topic_diversity</th>\n",
       "    </tr>\n",
       "    <tr>\n",
       "      <th>role_dummy</th>\n",
       "      <th></th>\n",
       "      <th></th>\n",
       "      <th></th>\n",
       "    </tr>\n",
       "  </thead>\n",
       "  <tbody>\n",
       "    <tr>\n",
       "      <th>0</th>\n",
       "      <td>0.381158</td>\n",
       "      <td>0.791572</td>\n",
       "      <td>1.146118</td>\n",
       "    </tr>\n",
       "    <tr>\n",
       "      <th>1</th>\n",
       "      <td>-0.180172</td>\n",
       "      <td>0.705939</td>\n",
       "      <td>1.121651</td>\n",
       "    </tr>\n",
       "  </tbody>\n",
       "</table>\n",
       "</div>"
      ],
      "text/plain": [
       "            sentiment_score  politeness  topic_diversity\n",
       "role_dummy                                              \n",
       "0                  0.381158    0.791572         1.146118\n",
       "1                 -0.180172    0.705939         1.121651"
      ]
     },
     "execution_count": 65,
     "metadata": {},
     "output_type": "execute_result"
    }
   ],
   "source": [
    "df[['role_dummy'] + col_name].groupby('role_dummy').mean()"
   ]
  },
  {
   "cell_type": "markdown",
   "metadata": {},
   "source": [
    "both: mean value across groups"
   ]
  },
  {
   "cell_type": "code",
   "execution_count": 66,
   "metadata": {
    "ExecuteTime": {
     "end_time": "2018-09-02T18:00:52.852123Z",
     "start_time": "2018-09-02T18:00:52.831706Z"
    }
   },
   "outputs": [
    {
     "data": {
      "text/html": [
       "<div>\n",
       "<style scoped>\n",
       "    .dataframe tbody tr th:only-of-type {\n",
       "        vertical-align: middle;\n",
       "    }\n",
       "\n",
       "    .dataframe tbody tr th {\n",
       "        vertical-align: top;\n",
       "    }\n",
       "\n",
       "    .dataframe thead th {\n",
       "        text-align: right;\n",
       "    }\n",
       "</style>\n",
       "<table border=\"1\" class=\"dataframe\">\n",
       "  <thead>\n",
       "    <tr style=\"text-align: right;\">\n",
       "      <th></th>\n",
       "      <th></th>\n",
       "      <th>sentiment_score</th>\n",
       "      <th>politeness</th>\n",
       "      <th>topic_diversity</th>\n",
       "    </tr>\n",
       "    <tr>\n",
       "      <th>gender_dummy</th>\n",
       "      <th>role_dummy</th>\n",
       "      <th></th>\n",
       "      <th></th>\n",
       "      <th></th>\n",
       "    </tr>\n",
       "  </thead>\n",
       "  <tbody>\n",
       "    <tr>\n",
       "      <th rowspan=\"2\" valign=\"top\">0</th>\n",
       "      <th>0</th>\n",
       "      <td>0.308300</td>\n",
       "      <td>0.799500</td>\n",
       "      <td>1.156427</td>\n",
       "    </tr>\n",
       "    <tr>\n",
       "      <th>1</th>\n",
       "      <td>-0.123011</td>\n",
       "      <td>0.727203</td>\n",
       "      <td>1.117439</td>\n",
       "    </tr>\n",
       "    <tr>\n",
       "      <th rowspan=\"2\" valign=\"top\">1</th>\n",
       "      <th>0</th>\n",
       "      <td>0.551024</td>\n",
       "      <td>0.773087</td>\n",
       "      <td>1.122083</td>\n",
       "    </tr>\n",
       "    <tr>\n",
       "      <th>1</th>\n",
       "      <td>-0.224647</td>\n",
       "      <td>0.689394</td>\n",
       "      <td>1.124927</td>\n",
       "    </tr>\n",
       "  </tbody>\n",
       "</table>\n",
       "</div>"
      ],
      "text/plain": [
       "                         sentiment_score  politeness  topic_diversity\n",
       "gender_dummy role_dummy                                              \n",
       "0            0                  0.308300    0.799500         1.156427\n",
       "             1                 -0.123011    0.727203         1.117439\n",
       "1            0                  0.551024    0.773087         1.122083\n",
       "             1                 -0.224647    0.689394         1.124927"
      ]
     },
     "execution_count": 66,
     "metadata": {},
     "output_type": "execute_result"
    }
   ],
   "source": [
    "df[['gender_dummy', 'role_dummy']+col_name].groupby(['gender_dummy', 'role_dummy']).mean()"
   ]
  },
  {
   "cell_type": "markdown",
   "metadata": {},
   "source": [
    "---"
   ]
  },
  {
   "cell_type": "markdown",
   "metadata": {},
   "source": [
    "#### regression"
   ]
  },
  {
   "cell_type": "markdown",
   "metadata": {},
   "source": [
    "##### test"
   ]
  },
  {
   "cell_type": "markdown",
   "metadata": {},
   "source": [
    "run for one measure and write a wrapper for all"
   ]
  },
  {
   "cell_type": "code",
   "execution_count": 67,
   "metadata": {
    "ExecuteTime": {
     "end_time": "2018-09-02T18:03:01.945069Z",
     "start_time": "2018-09-02T18:03:01.941619Z"
    }
   },
   "outputs": [],
   "source": [
    "target_col = 'sentiment_score'"
   ]
  },
  {
   "cell_type": "code",
   "execution_count": 71,
   "metadata": {
    "ExecuteTime": {
     "end_time": "2018-09-02T18:05:56.204815Z",
     "start_time": "2018-09-02T18:05:56.199633Z"
    }
   },
   "outputs": [
    {
     "data": {
      "text/plain": [
       "{'gender': 'sentiment_score ~ gender_dummy',\n",
       " 'role': 'sentiment_score ~ role_dummy',\n",
       " 'gender+role': 'sentiment_score ~ gender_dummy + role_dummy',\n",
       " 'full': 'sentiment_score ~ gender_dummy * role_dummy'}"
      ]
     },
     "execution_count": 71,
     "metadata": {},
     "output_type": "execute_result"
    }
   ],
   "source": [
    "fml_d = {'gender': '{} ~ gender_dummy'.format(target_col),\n",
    "         'role': '{} ~ role_dummy'.format(target_col),\n",
    "         'gender+role': '{} ~ gender_dummy + role_dummy'.format(target_col),\n",
    "         'full': '{} ~ gender_dummy * role_dummy'.format(target_col),\n",
    "        }\n",
    "fml_d"
   ]
  },
  {
   "cell_type": "code",
   "execution_count": 78,
   "metadata": {
    "ExecuteTime": {
     "end_time": "2018-09-02T18:09:21.356804Z",
     "start_time": "2018-09-02T18:09:21.298553Z"
    }
   },
   "outputs": [
    {
     "data": {
      "text/html": [
       "<div>\n",
       "<style scoped>\n",
       "    .dataframe tbody tr th:only-of-type {\n",
       "        vertical-align: middle;\n",
       "    }\n",
       "\n",
       "    .dataframe tbody tr th {\n",
       "        vertical-align: top;\n",
       "    }\n",
       "\n",
       "    .dataframe thead th {\n",
       "        text-align: right;\n",
       "    }\n",
       "</style>\n",
       "<table border=\"1\" class=\"dataframe\">\n",
       "  <thead>\n",
       "    <tr style=\"text-align: right;\">\n",
       "      <th></th>\n",
       "      <th>coef</th>\n",
       "      <th>ci_err</th>\n",
       "      <th>pvalue</th>\n",
       "      <th>varname</th>\n",
       "      <th>model_name</th>\n",
       "    </tr>\n",
       "  </thead>\n",
       "  <tbody>\n",
       "    <tr>\n",
       "      <th>0</th>\n",
       "      <td>-0.086457</td>\n",
       "      <td>0.020611</td>\n",
       "      <td>0.0</td>\n",
       "      <td>gender_dummy</td>\n",
       "      <td>gender</td>\n",
       "    </tr>\n",
       "    <tr>\n",
       "      <th>1</th>\n",
       "      <td>-0.561330</td>\n",
       "      <td>0.018928</td>\n",
       "      <td>0.0</td>\n",
       "      <td>role_dummy</td>\n",
       "      <td>role</td>\n",
       "    </tr>\n",
       "    <tr>\n",
       "      <th>2</th>\n",
       "      <td>0.068497</td>\n",
       "      <td>0.019802</td>\n",
       "      <td>0.0</td>\n",
       "      <td>gender_dummy</td>\n",
       "      <td>gender+role</td>\n",
       "    </tr>\n",
       "    <tr>\n",
       "      <th>3</th>\n",
       "      <td>-0.579293</td>\n",
       "      <td>0.019607</td>\n",
       "      <td>0.0</td>\n",
       "      <td>role_dummy</td>\n",
       "      <td>gender+role</td>\n",
       "    </tr>\n",
       "    <tr>\n",
       "      <th>4</th>\n",
       "      <td>0.242724</td>\n",
       "      <td>0.027971</td>\n",
       "      <td>0.0</td>\n",
       "      <td>gender_dummy</td>\n",
       "      <td>full</td>\n",
       "    </tr>\n",
       "    <tr>\n",
       "      <th>5</th>\n",
       "      <td>-0.431311</td>\n",
       "      <td>0.025778</td>\n",
       "      <td>0.0</td>\n",
       "      <td>role_dummy</td>\n",
       "      <td>full</td>\n",
       "    </tr>\n",
       "    <tr>\n",
       "      <th>6</th>\n",
       "      <td>-0.344360</td>\n",
       "      <td>0.039323</td>\n",
       "      <td>0.0</td>\n",
       "      <td>gender_dummy:role_dummy</td>\n",
       "      <td>full</td>\n",
       "    </tr>\n",
       "  </tbody>\n",
       "</table>\n",
       "</div>"
      ],
      "text/plain": [
       "       coef    ci_err  pvalue                  varname   model_name\n",
       "0 -0.086457  0.020611     0.0             gender_dummy       gender\n",
       "1 -0.561330  0.018928     0.0               role_dummy         role\n",
       "2  0.068497  0.019802     0.0             gender_dummy  gender+role\n",
       "3 -0.579293  0.019607     0.0               role_dummy  gender+role\n",
       "4  0.242724  0.027971     0.0             gender_dummy         full\n",
       "5 -0.431311  0.025778     0.0               role_dummy         full\n",
       "6 -0.344360  0.039323     0.0  gender_dummy:role_dummy         full"
      ]
     },
     "execution_count": 78,
     "metadata": {},
     "output_type": "execute_result"
    }
   ],
   "source": [
    "result_df = list()\n",
    "for key, fml in fml_d.items():\n",
    "    fml_coef_df = get_coef_table(smf.ols(fml, data=df).fit())\n",
    "    fml_coef_df['model_name'] = key\n",
    "    result_df.append(fml_coef_df)\n",
    "result_df = pd.concat(result_df, ignore_index=True)\n",
    "result_df"
   ]
  },
  {
   "cell_type": "code",
   "execution_count": 82,
   "metadata": {
    "ExecuteTime": {
     "end_time": "2018-09-02T18:11:42.619091Z",
     "start_time": "2018-09-02T18:11:42.613740Z"
    }
   },
   "outputs": [],
   "source": [
    "def do_regression(target_col):\n",
    "    global df\n",
    "    fml_d = {'gender': '{} ~ gender_dummy'.format(target_col),\n",
    "             'role': '{} ~ role_dummy'.format(target_col),\n",
    "             'gender+role': '{} ~ gender_dummy + role_dummy'.format(target_col),\n",
    "             'full': '{} ~ gender_dummy * role_dummy'.format(target_col),\n",
    "            }\n",
    "    result_df = list()\n",
    "    for key, fml in fml_d.items():\n",
    "        fml_coef_df = get_coef_table(smf.ols(fml, data=df).fit())\n",
    "        fml_coef_df['model_name'] = key\n",
    "        result_df.append(fml_coef_df)\n",
    "    result_df = pd.concat(result_df, ignore_index=True)\n",
    "    result_df['target_col'] = target_col\n",
    "    return result_df"
   ]
  },
  {
   "cell_type": "code",
   "execution_count": 83,
   "metadata": {
    "ExecuteTime": {
     "end_time": "2018-09-02T18:11:42.893361Z",
     "start_time": "2018-09-02T18:11:42.890846Z"
    }
   },
   "outputs": [],
   "source": [
    "def do_regression_wrapper(target_col_list):\n",
    "    ''' a list of target columns\n",
    "    '''\n",
    "    global df\n",
    "    result_df = list()\n",
    "    for target_col in target_col_list:\n",
    "        result_df.append(do_regression(target_col))\n",
    "    return pd.concat(result_df, ignore_index=True)"
   ]
  },
  {
   "cell_type": "markdown",
   "metadata": {},
   "source": [
    "##### apply"
   ]
  },
  {
   "cell_type": "code",
   "execution_count": 84,
   "metadata": {
    "ExecuteTime": {
     "end_time": "2018-09-02T18:11:50.240497Z",
     "start_time": "2018-09-02T18:11:50.236399Z"
    }
   },
   "outputs": [
    {
     "data": {
      "text/plain": [
       "['sentiment_score', 'politeness', 'topic_diversity']"
      ]
     },
     "execution_count": 84,
     "metadata": {},
     "output_type": "execute_result"
    }
   ],
   "source": [
    "col_name"
   ]
  },
  {
   "cell_type": "code",
   "execution_count": 85,
   "metadata": {
    "ExecuteTime": {
     "end_time": "2018-09-02T18:11:56.026187Z",
     "start_time": "2018-09-02T18:11:55.892041Z"
    }
   },
   "outputs": [
    {
     "data": {
      "text/html": [
       "<div>\n",
       "<style scoped>\n",
       "    .dataframe tbody tr th:only-of-type {\n",
       "        vertical-align: middle;\n",
       "    }\n",
       "\n",
       "    .dataframe tbody tr th {\n",
       "        vertical-align: top;\n",
       "    }\n",
       "\n",
       "    .dataframe thead th {\n",
       "        text-align: right;\n",
       "    }\n",
       "</style>\n",
       "<table border=\"1\" class=\"dataframe\">\n",
       "  <thead>\n",
       "    <tr style=\"text-align: right;\">\n",
       "      <th></th>\n",
       "      <th>coef</th>\n",
       "      <th>ci_err</th>\n",
       "      <th>pvalue</th>\n",
       "      <th>varname</th>\n",
       "      <th>model_name</th>\n",
       "      <th>target_col</th>\n",
       "    </tr>\n",
       "  </thead>\n",
       "  <tbody>\n",
       "    <tr>\n",
       "      <th>0</th>\n",
       "      <td>-0.086457</td>\n",
       "      <td>0.020611</td>\n",
       "      <td>0.0000</td>\n",
       "      <td>gender_dummy</td>\n",
       "      <td>gender</td>\n",
       "      <td>sentiment_score</td>\n",
       "    </tr>\n",
       "    <tr>\n",
       "      <th>1</th>\n",
       "      <td>-0.561330</td>\n",
       "      <td>0.018928</td>\n",
       "      <td>0.0000</td>\n",
       "      <td>role_dummy</td>\n",
       "      <td>role</td>\n",
       "      <td>sentiment_score</td>\n",
       "    </tr>\n",
       "    <tr>\n",
       "      <th>2</th>\n",
       "      <td>0.068497</td>\n",
       "      <td>0.019802</td>\n",
       "      <td>0.0000</td>\n",
       "      <td>gender_dummy</td>\n",
       "      <td>gender+role</td>\n",
       "      <td>sentiment_score</td>\n",
       "    </tr>\n",
       "    <tr>\n",
       "      <th>3</th>\n",
       "      <td>-0.579293</td>\n",
       "      <td>0.019607</td>\n",
       "      <td>0.0000</td>\n",
       "      <td>role_dummy</td>\n",
       "      <td>gender+role</td>\n",
       "      <td>sentiment_score</td>\n",
       "    </tr>\n",
       "    <tr>\n",
       "      <th>4</th>\n",
       "      <td>0.242724</td>\n",
       "      <td>0.027971</td>\n",
       "      <td>0.0000</td>\n",
       "      <td>gender_dummy</td>\n",
       "      <td>full</td>\n",
       "      <td>sentiment_score</td>\n",
       "    </tr>\n",
       "    <tr>\n",
       "      <th>5</th>\n",
       "      <td>-0.431311</td>\n",
       "      <td>0.025778</td>\n",
       "      <td>0.0000</td>\n",
       "      <td>role_dummy</td>\n",
       "      <td>full</td>\n",
       "      <td>sentiment_score</td>\n",
       "    </tr>\n",
       "    <tr>\n",
       "      <th>6</th>\n",
       "      <td>-0.344360</td>\n",
       "      <td>0.039323</td>\n",
       "      <td>0.0000</td>\n",
       "      <td>gender_dummy:role_dummy</td>\n",
       "      <td>full</td>\n",
       "      <td>sentiment_score</td>\n",
       "    </tr>\n",
       "    <tr>\n",
       "      <th>7</th>\n",
       "      <td>-0.052828</td>\n",
       "      <td>0.006059</td>\n",
       "      <td>0.0000</td>\n",
       "      <td>gender_dummy</td>\n",
       "      <td>gender</td>\n",
       "      <td>politeness</td>\n",
       "    </tr>\n",
       "    <tr>\n",
       "      <th>8</th>\n",
       "      <td>-0.085633</td>\n",
       "      <td>0.005927</td>\n",
       "      <td>0.0000</td>\n",
       "      <td>role_dummy</td>\n",
       "      <td>role</td>\n",
       "      <td>politeness</td>\n",
       "    </tr>\n",
       "    <tr>\n",
       "      <th>9</th>\n",
       "      <td>-0.032179</td>\n",
       "      <td>0.006192</td>\n",
       "      <td>0.0000</td>\n",
       "      <td>gender_dummy</td>\n",
       "      <td>gender+role</td>\n",
       "      <td>politeness</td>\n",
       "    </tr>\n",
       "    <tr>\n",
       "      <th>10</th>\n",
       "      <td>-0.077194</td>\n",
       "      <td>0.006131</td>\n",
       "      <td>0.0000</td>\n",
       "      <td>role_dummy</td>\n",
       "      <td>gender+role</td>\n",
       "      <td>politeness</td>\n",
       "    </tr>\n",
       "    <tr>\n",
       "      <th>11</th>\n",
       "      <td>-0.026413</td>\n",
       "      <td>0.008808</td>\n",
       "      <td>0.0000</td>\n",
       "      <td>gender_dummy</td>\n",
       "      <td>full</td>\n",
       "      <td>politeness</td>\n",
       "    </tr>\n",
       "    <tr>\n",
       "      <th>12</th>\n",
       "      <td>-0.072297</td>\n",
       "      <td>0.008118</td>\n",
       "      <td>0.0000</td>\n",
       "      <td>role_dummy</td>\n",
       "      <td>full</td>\n",
       "      <td>politeness</td>\n",
       "    </tr>\n",
       "    <tr>\n",
       "      <th>13</th>\n",
       "      <td>-0.011397</td>\n",
       "      <td>0.012383</td>\n",
       "      <td>0.0713</td>\n",
       "      <td>gender_dummy:role_dummy</td>\n",
       "      <td>full</td>\n",
       "      <td>politeness</td>\n",
       "    </tr>\n",
       "    <tr>\n",
       "      <th>14</th>\n",
       "      <td>-0.018800</td>\n",
       "      <td>0.011085</td>\n",
       "      <td>0.0009</td>\n",
       "      <td>gender_dummy</td>\n",
       "      <td>gender</td>\n",
       "      <td>topic_diversity</td>\n",
       "    </tr>\n",
       "    <tr>\n",
       "      <th>15</th>\n",
       "      <td>-0.024468</td>\n",
       "      <td>0.010974</td>\n",
       "      <td>0.0000</td>\n",
       "      <td>role_dummy</td>\n",
       "      <td>role</td>\n",
       "      <td>topic_diversity</td>\n",
       "    </tr>\n",
       "    <tr>\n",
       "      <th>16</th>\n",
       "      <td>-0.013180</td>\n",
       "      <td>0.011492</td>\n",
       "      <td>0.0246</td>\n",
       "      <td>gender_dummy</td>\n",
       "      <td>gender+role</td>\n",
       "      <td>topic_diversity</td>\n",
       "    </tr>\n",
       "    <tr>\n",
       "      <th>17</th>\n",
       "      <td>-0.021011</td>\n",
       "      <td>0.011379</td>\n",
       "      <td>0.0003</td>\n",
       "      <td>role_dummy</td>\n",
       "      <td>gender+role</td>\n",
       "      <td>topic_diversity</td>\n",
       "    </tr>\n",
       "    <tr>\n",
       "      <th>18</th>\n",
       "      <td>-0.034344</td>\n",
       "      <td>0.016345</td>\n",
       "      <td>0.0000</td>\n",
       "      <td>gender_dummy</td>\n",
       "      <td>full</td>\n",
       "      <td>topic_diversity</td>\n",
       "    </tr>\n",
       "    <tr>\n",
       "      <th>19</th>\n",
       "      <td>-0.038987</td>\n",
       "      <td>0.015064</td>\n",
       "      <td>0.0000</td>\n",
       "      <td>role_dummy</td>\n",
       "      <td>full</td>\n",
       "      <td>topic_diversity</td>\n",
       "    </tr>\n",
       "    <tr>\n",
       "      <th>20</th>\n",
       "      <td>0.041831</td>\n",
       "      <td>0.022979</td>\n",
       "      <td>0.0004</td>\n",
       "      <td>gender_dummy:role_dummy</td>\n",
       "      <td>full</td>\n",
       "      <td>topic_diversity</td>\n",
       "    </tr>\n",
       "  </tbody>\n",
       "</table>\n",
       "</div>"
      ],
      "text/plain": [
       "        coef    ci_err  pvalue                  varname   model_name  \\\n",
       "0  -0.086457  0.020611  0.0000             gender_dummy       gender   \n",
       "1  -0.561330  0.018928  0.0000               role_dummy         role   \n",
       "2   0.068497  0.019802  0.0000             gender_dummy  gender+role   \n",
       "3  -0.579293  0.019607  0.0000               role_dummy  gender+role   \n",
       "4   0.242724  0.027971  0.0000             gender_dummy         full   \n",
       "5  -0.431311  0.025778  0.0000               role_dummy         full   \n",
       "6  -0.344360  0.039323  0.0000  gender_dummy:role_dummy         full   \n",
       "7  -0.052828  0.006059  0.0000             gender_dummy       gender   \n",
       "8  -0.085633  0.005927  0.0000               role_dummy         role   \n",
       "9  -0.032179  0.006192  0.0000             gender_dummy  gender+role   \n",
       "10 -0.077194  0.006131  0.0000               role_dummy  gender+role   \n",
       "11 -0.026413  0.008808  0.0000             gender_dummy         full   \n",
       "12 -0.072297  0.008118  0.0000               role_dummy         full   \n",
       "13 -0.011397  0.012383  0.0713  gender_dummy:role_dummy         full   \n",
       "14 -0.018800  0.011085  0.0009             gender_dummy       gender   \n",
       "15 -0.024468  0.010974  0.0000               role_dummy         role   \n",
       "16 -0.013180  0.011492  0.0246             gender_dummy  gender+role   \n",
       "17 -0.021011  0.011379  0.0003               role_dummy  gender+role   \n",
       "18 -0.034344  0.016345  0.0000             gender_dummy         full   \n",
       "19 -0.038987  0.015064  0.0000               role_dummy         full   \n",
       "20  0.041831  0.022979  0.0004  gender_dummy:role_dummy         full   \n",
       "\n",
       "         target_col  \n",
       "0   sentiment_score  \n",
       "1   sentiment_score  \n",
       "2   sentiment_score  \n",
       "3   sentiment_score  \n",
       "4   sentiment_score  \n",
       "5   sentiment_score  \n",
       "6   sentiment_score  \n",
       "7        politeness  \n",
       "8        politeness  \n",
       "9        politeness  \n",
       "10       politeness  \n",
       "11       politeness  \n",
       "12       politeness  \n",
       "13       politeness  \n",
       "14  topic_diversity  \n",
       "15  topic_diversity  \n",
       "16  topic_diversity  \n",
       "17  topic_diversity  \n",
       "18  topic_diversity  \n",
       "19  topic_diversity  \n",
       "20  topic_diversity  "
      ]
     },
     "execution_count": 85,
     "metadata": {},
     "output_type": "execute_result"
    }
   ],
   "source": [
    "regression_result_df = do_regression_wrapper(col_name)\n",
    "regression_result_df"
   ]
  },
  {
   "cell_type": "code",
   "execution_count": 185,
   "metadata": {
    "ExecuteTime": {
     "end_time": "2018-09-02T18:52:03.723965Z",
     "start_time": "2018-09-02T18:52:03.710321Z"
    }
   },
   "outputs": [],
   "source": [
    "regression_result_df.to_csv('regression-result-iconference.csv', index=False)"
   ]
  },
  {
   "cell_type": "markdown",
   "metadata": {},
   "source": [
    "---"
   ]
  },
  {
   "cell_type": "markdown",
   "metadata": {},
   "source": [
    "#### visualization"
   ]
  },
  {
   "cell_type": "code",
   "execution_count": 132,
   "metadata": {
    "ExecuteTime": {
     "end_time": "2018-09-02T18:29:51.441978Z",
     "start_time": "2018-09-02T18:29:51.335442Z"
    }
   },
   "outputs": [
    {
     "data": {
      "text/html": [
       "<div>\n",
       "<style scoped>\n",
       "    .dataframe tbody tr th:only-of-type {\n",
       "        vertical-align: middle;\n",
       "    }\n",
       "\n",
       "    .dataframe tbody tr th {\n",
       "        vertical-align: top;\n",
       "    }\n",
       "\n",
       "    .dataframe thead th {\n",
       "        text-align: right;\n",
       "    }\n",
       "</style>\n",
       "<table border=\"1\" class=\"dataframe\">\n",
       "  <thead>\n",
       "    <tr style=\"text-align: right;\">\n",
       "      <th></th>\n",
       "      <th></th>\n",
       "      <th>sentiment_score</th>\n",
       "      <th>politeness</th>\n",
       "      <th>topic_diversity</th>\n",
       "    </tr>\n",
       "    <tr>\n",
       "      <th>gender_dummy</th>\n",
       "      <th>role_dummy</th>\n",
       "      <th></th>\n",
       "      <th></th>\n",
       "      <th></th>\n",
       "    </tr>\n",
       "  </thead>\n",
       "  <tbody>\n",
       "    <tr>\n",
       "      <th rowspan=\"2\" valign=\"top\">0</th>\n",
       "      <th>0</th>\n",
       "      <td>0.308300</td>\n",
       "      <td>0.799500</td>\n",
       "      <td>1.156427</td>\n",
       "    </tr>\n",
       "    <tr>\n",
       "      <th>1</th>\n",
       "      <td>-0.123011</td>\n",
       "      <td>0.727203</td>\n",
       "      <td>1.117439</td>\n",
       "    </tr>\n",
       "    <tr>\n",
       "      <th rowspan=\"2\" valign=\"top\">1</th>\n",
       "      <th>0</th>\n",
       "      <td>0.551024</td>\n",
       "      <td>0.773087</td>\n",
       "      <td>1.122083</td>\n",
       "    </tr>\n",
       "    <tr>\n",
       "      <th>1</th>\n",
       "      <td>-0.224647</td>\n",
       "      <td>0.689394</td>\n",
       "      <td>1.124927</td>\n",
       "    </tr>\n",
       "  </tbody>\n",
       "</table>\n",
       "</div>"
      ],
      "text/plain": [
       "                         sentiment_score  politeness  topic_diversity\n",
       "gender_dummy role_dummy                                              \n",
       "0            0                  0.308300    0.799500         1.156427\n",
       "             1                 -0.123011    0.727203         1.117439\n",
       "1            0                  0.551024    0.773087         1.122083\n",
       "             1                 -0.224647    0.689394         1.124927"
      ]
     },
     "execution_count": 132,
     "metadata": {},
     "output_type": "execute_result"
    }
   ],
   "source": [
    "bar_df = df[['gender_dummy', 'role_dummy']+col_name].groupby(['gender_dummy', 'role_dummy']).mean()\n",
    "bar_df"
   ]
  },
  {
   "cell_type": "code",
   "execution_count": 136,
   "metadata": {
    "ExecuteTime": {
     "end_time": "2018-09-02T18:30:05.843467Z",
     "start_time": "2018-09-02T18:30:05.829685Z"
    }
   },
   "outputs": [
    {
     "data": {
      "text/html": [
       "<div>\n",
       "<style scoped>\n",
       "    .dataframe tbody tr th:only-of-type {\n",
       "        vertical-align: middle;\n",
       "    }\n",
       "\n",
       "    .dataframe tbody tr th {\n",
       "        vertical-align: top;\n",
       "    }\n",
       "\n",
       "    .dataframe thead th {\n",
       "        text-align: right;\n",
       "    }\n",
       "</style>\n",
       "<table border=\"1\" class=\"dataframe\">\n",
       "  <thead>\n",
       "    <tr style=\"text-align: right;\">\n",
       "      <th></th>\n",
       "      <th></th>\n",
       "      <th>sentiment_score</th>\n",
       "      <th>politeness</th>\n",
       "      <th>topic_diversity</th>\n",
       "    </tr>\n",
       "    <tr>\n",
       "      <th>role_dummy</th>\n",
       "      <th>gender_dummy</th>\n",
       "      <th></th>\n",
       "      <th></th>\n",
       "      <th></th>\n",
       "    </tr>\n",
       "  </thead>\n",
       "  <tbody>\n",
       "    <tr>\n",
       "      <th rowspan=\"2\" valign=\"top\">0</th>\n",
       "      <th>0</th>\n",
       "      <td>0.308300</td>\n",
       "      <td>0.799500</td>\n",
       "      <td>1.156427</td>\n",
       "    </tr>\n",
       "    <tr>\n",
       "      <th>1</th>\n",
       "      <td>0.551024</td>\n",
       "      <td>0.773087</td>\n",
       "      <td>1.122083</td>\n",
       "    </tr>\n",
       "    <tr>\n",
       "      <th rowspan=\"2\" valign=\"top\">1</th>\n",
       "      <th>0</th>\n",
       "      <td>-0.123011</td>\n",
       "      <td>0.727203</td>\n",
       "      <td>1.117439</td>\n",
       "    </tr>\n",
       "    <tr>\n",
       "      <th>1</th>\n",
       "      <td>-0.224647</td>\n",
       "      <td>0.689394</td>\n",
       "      <td>1.124927</td>\n",
       "    </tr>\n",
       "  </tbody>\n",
       "</table>\n",
       "</div>"
      ],
      "text/plain": [
       "                         sentiment_score  politeness  topic_diversity\n",
       "role_dummy gender_dummy                                              \n",
       "0          0                    0.308300    0.799500         1.156427\n",
       "           1                    0.551024    0.773087         1.122083\n",
       "1          0                   -0.123011    0.727203         1.117439\n",
       "           1                   -0.224647    0.689394         1.124927"
      ]
     },
     "execution_count": 136,
     "metadata": {},
     "output_type": "execute_result"
    }
   ],
   "source": [
    "bar_df = bar_df.swaplevel()\n",
    "bar_df = bar_df.reindex(axis=0, level=0, labels=[0,1])\n",
    "#bar_df = bar_df.reindex(axis=0, level=1, labels=[0,1,0,1])\n",
    "bar_df"
   ]
  },
  {
   "cell_type": "code",
   "execution_count": 169,
   "metadata": {
    "ExecuteTime": {
     "end_time": "2018-09-02T18:43:42.321958Z",
     "start_time": "2018-09-02T18:43:42.317406Z"
    }
   },
   "outputs": [
    {
     "data": {
      "text/plain": [
       "array([ 0.30830024,  0.79950013,  1.15642696,  0.55102445,  0.77308733,\n",
       "        1.12208315, -0.12301122,  0.72720319,  1.11743948, -0.22464748,\n",
       "        0.68939354,  1.12492699])"
      ]
     },
     "execution_count": 169,
     "metadata": {},
     "output_type": "execute_result"
    }
   ],
   "source": [
    "val_mat = bar_df.values.flatten()\n",
    "val_mat"
   ]
  },
  {
   "cell_type": "code",
   "execution_count": 182,
   "metadata": {
    "ExecuteTime": {
     "end_time": "2018-09-02T18:49:23.109838Z",
     "start_time": "2018-09-02T18:49:22.731718Z"
    }
   },
   "outputs": [
    {
     "data": {
      "image/png": "[encoded data removed]",
      "text/plain": [
       "<Figure size 864x288 with 1 Axes>"
      ]
     },
     "metadata": {},
     "output_type": "display_data"
    }
   ],
   "source": [
    "fig, ax = plt.subplots(figsize=(12, 4))\n",
    "bar_df.plot(kind='bar', legend=False, ax=ax,\n",
    "            colormap=palettable.colorbrewer.qualitative.Pastel1_3.mpl_colormap)\n",
    "ax.legend(loc=6, bbox_to_anchor=[1, 0.6], \n",
    "          labels=['Sentiment', 'Politeness', 'Topic Diversity'],\n",
    "          labelspacing=2, fontsize=12)\n",
    "ax.axhline(y=0, c='k', lw=3)\n",
    "ax.yaxis.grid(True, ls='--')\n",
    "ax.set_frame_on(False)\n",
    "ax.set_xticklabels(['Male Doctor', 'Female Doctor', 'Male Patient', 'Female Patient'], \n",
    "                   rotation=0)\n",
    "ax.set_xlabel('')\n",
    "    \n",
    "for i, patch in enumerate(ax.patches):\n",
    "    x, _ = patch.xy\n",
    "    y = patch.get_height()\n",
    "    if y > 0:\n",
    "        ax.text(x, y+0.05, '{:.3f}'.format(y))\n",
    "    else:\n",
    "        ax.text(x, y-0.08, '{:.3f}'.format(y))"
   ]
  }
 ],
 "metadata": {
  "kernelspec": {
   "display_name": "Python 3",
   "language": "python",
   "name": "python3"
  },
  "language_info": {
   "codemirror_mode": {
    "name": "ipython",
    "version": 3
   },
   "file_extension": ".py",
   "mimetype": "text/x-python",
   "name": "python",
   "nbconvert_exporter": "python",
   "pygments_lexer": "ipython3",
   "version": "3.6.4"
  },
  "toc": {
   "base_numbering": 1,
   "nav_menu": {},
   "number_sections": true,
   "sideBar": true,
   "skip_h1_title": true,
   "title_cell": "Table of Contents",
   "title_sidebar": "Contents",
   "toc_cell": false,
   "toc_position": {
    "height": "calc(100% - 180px)",
    "left": "10px",
    "top": "150px",
    "width": "367px"
   },
   "toc_section_display": true,
   "toc_window_display": true
  }
 },
 "nbformat": 4,
 "nbformat_minor": 2
}
