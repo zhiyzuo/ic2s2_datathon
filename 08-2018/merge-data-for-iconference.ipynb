{
 "cells": [
  {
   "cell_type": "markdown",
   "metadata": {},
   "source": [
    "merge the data wei and wenjun gave me so that she could discuss that with a professor in syracuse and for submission as a poster to iconference"
   ]
  },
  {
   "cell_type": "markdown",
   "metadata": {},
   "source": [
    "08-14-2018"
   ]
  },
  {
   "cell_type": "markdown",
   "metadata": {},
   "source": [
    "overall structure:\n",
    "- question_dummy\n",
    "- role_dummy\n",
    "- politeness_offline\n",
    "- politeness_web\n",
    "- gender\n",
    "- topic_diversity\n",
    "- sentiment_score"
   ]
  },
  {
   "cell_type": "markdown",
   "metadata": {},
   "source": [
    "i may add an index so that i can merge scores back"
   ]
  },
  {
   "cell_type": "markdown",
   "metadata": {},
   "source": [
    "08-23-2018. include question and answer index"
   ]
  },
  {
   "cell_type": "markdown",
   "metadata": {},
   "source": [
    "---"
   ]
  },
  {
   "cell_type": "code",
   "execution_count": 1,
   "metadata": {
    "ExecuteTime": {
     "end_time": "2018-08-24T03:39:54.726675Z",
     "start_time": "2018-08-24T03:39:53.625833Z"
    }
   },
   "outputs": [],
   "source": [
    "import os\n",
    "import pandas as pd\n",
    "%matplotlib inline"
   ]
  },
  {
   "cell_type": "markdown",
   "metadata": {
    "ExecuteTime": {
     "end_time": "2018-08-15T01:05:14.802548Z",
     "start_time": "2018-08-15T01:05:14.766300Z"
    }
   },
   "source": [
    "get a list of disease names"
   ]
  },
  {
   "cell_type": "code",
   "execution_count": 2,
   "metadata": {
    "ExecuteTime": {
     "end_time": "2018-08-24T03:39:54.731762Z",
     "start_time": "2018-08-24T03:39:54.729145Z"
    }
   },
   "outputs": [],
   "source": [
    "base_dir = '../excel-data/'"
   ]
  },
  {
   "cell_type": "code",
   "execution_count": 3,
   "metadata": {
    "ExecuteTime": {
     "end_time": "2018-08-24T03:39:54.826787Z",
     "start_time": "2018-08-24T03:39:54.733705Z"
    }
   },
   "outputs": [
    {
     "data": {
      "text/plain": [
       "89"
      ]
     },
     "execution_count": 3,
     "metadata": {},
     "output_type": "execute_result"
    }
   ],
   "source": [
    "name_list = [fn[6:-4] for fn in os.listdir(base_dir+'offline/')]\n",
    "len(name_list)"
   ]
  },
  {
   "cell_type": "markdown",
   "metadata": {},
   "source": [
    "---"
   ]
  },
  {
   "cell_type": "markdown",
   "metadata": {},
   "source": [
    "#### test"
   ]
  },
  {
   "cell_type": "markdown",
   "metadata": {},
   "source": [
    "read `offline` and `web` simultaneously"
   ]
  },
  {
   "cell_type": "code",
   "execution_count": 4,
   "metadata": {
    "ExecuteTime": {
     "end_time": "2018-08-24T03:39:55.120119Z",
     "start_time": "2018-08-24T03:39:55.111089Z"
    }
   },
   "outputs": [
    {
     "data": {
      "text/plain": [
       "'Dermatology Topics'"
      ]
     },
     "execution_count": 4,
     "metadata": {},
     "output_type": "execute_result"
    }
   ],
   "source": [
    "i = 0\n",
    "name = name_list[i]\n",
    "name"
   ]
  },
  {
   "cell_type": "code",
   "execution_count": 5,
   "metadata": {
    "ExecuteTime": {
     "end_time": "2018-08-24T03:39:55.330487Z",
     "start_time": "2018-08-24T03:39:55.327442Z"
    }
   },
   "outputs": [],
   "source": [
    "name = 'Gastroenterology Topics'"
   ]
  },
  {
   "cell_type": "code",
   "execution_count": 6,
   "metadata": {
    "ExecuteTime": {
     "end_time": "2018-08-24T03:39:55.472706Z",
     "start_time": "2018-08-24T03:39:55.469574Z"
    }
   },
   "outputs": [],
   "source": [
    "type_ = 'offline'"
   ]
  },
  {
   "cell_type": "code",
   "execution_count": 7,
   "metadata": {
    "ExecuteTime": {
     "end_time": "2018-08-24T03:39:55.734449Z",
     "start_time": "2018-08-24T03:39:55.665315Z"
    }
   },
   "outputs": [
    {
     "data": {
      "text/plain": [
       "(1977, 21)"
      ]
     },
     "execution_count": 7,
     "metadata": {},
     "output_type": "execute_result"
    }
   ],
   "source": [
    "df = pd.read_table(base_dir+type_+'/score_{}.xls'.format(name))\n",
    "df.shape"
   ]
  },
  {
   "cell_type": "code",
   "execution_count": 8,
   "metadata": {
    "ExecuteTime": {
     "end_time": "2018-08-24T03:39:55.925349Z",
     "start_time": "2018-08-24T03:39:55.893545Z"
    }
   },
   "outputs": [
    {
     "data": {
      "text/html": [
       "<div>\n",
       "<style scoped>\n",
       "    .dataframe tbody tr th:only-of-type {\n",
       "        vertical-align: middle;\n",
       "    }\n",
       "\n",
       "    .dataframe tbody tr th {\n",
       "        vertical-align: top;\n",
       "    }\n",
       "\n",
       "    .dataframe thead th {\n",
       "        text-align: right;\n",
       "    }\n",
       "</style>\n",
       "<table border=\"1\" class=\"dataframe\">\n",
       "  <thead>\n",
       "    <tr style=\"text-align: right;\">\n",
       "      <th></th>\n",
       "      <th>Disease</th>\n",
       "      <th>Topic</th>\n",
       "      <th>Url</th>\n",
       "      <th>Question No</th>\n",
       "      <th>Question</th>\n",
       "      <th>Answer</th>\n",
       "      <th>Asker ID</th>\n",
       "      <th>Asker Type</th>\n",
       "      <th>Asker Gender</th>\n",
       "      <th>Asker Dummy</th>\n",
       "      <th>...</th>\n",
       "      <th>Answerer Title</th>\n",
       "      <th>Answerer ID</th>\n",
       "      <th>Answerer Type</th>\n",
       "      <th>Answerer Gender</th>\n",
       "      <th>Answer Dummy</th>\n",
       "      <th>Answerer Age</th>\n",
       "      <th>Question Time Stamp</th>\n",
       "      <th>Answer Time Stamp</th>\n",
       "      <th>Question Score</th>\n",
       "      <th>Answer Score</th>\n",
       "    </tr>\n",
       "  </thead>\n",
       "  <tbody>\n",
       "    <tr>\n",
       "      <th>0</th>\n",
       "      <td>Gastroenterology Topics</td>\n",
       "      <td>VOMITTING WHITE FOAM, SEVERE UPPER ABDOMINAL A...</td>\n",
       "      <td>https://www.doctorslounge.com/forums/./viewtop...</td>\n",
       "      <td>0</td>\n",
       "      <td>HI,  I AM A 28Y/O FEMALE WITH FIBRO AND RA. I ...</td>\n",
       "      <td>Hi, It is possible that long term aspirin inta...</td>\n",
       "      <td>BUCSFAN6998</td>\n",
       "      <td>Patient</td>\n",
       "      <td>Female</td>\n",
       "      <td>1.0</td>\n",
       "      <td>...</td>\n",
       "      <td>Medical Doctor</td>\n",
       "      <td>Dr.M.Aroon kamath</td>\n",
       "      <td>Doctor</td>\n",
       "      <td>Male</td>\n",
       "      <td>0.0</td>\n",
       "      <td>69.0</td>\n",
       "      <td>Tue Jul 06, 2010 8:56 pm</td>\n",
       "      <td>Tue Sep 14, 2010 8:23 am</td>\n",
       "      <td>0.71</td>\n",
       "      <td>0.97</td>\n",
       "    </tr>\n",
       "    <tr>\n",
       "      <th>1</th>\n",
       "      <td>Gastroenterology Topics</td>\n",
       "      <td>Loose Motion,Vomiting Due to Climate Change. -</td>\n",
       "      <td>https://www.doctorslounge.com/forums/./viewtop...</td>\n",
       "      <td>0</td>\n",
       "      <td>Dear All.I need some immediate advice in a mat...</td>\n",
       "      <td>Hello,It is quite common for travelers to get ...</td>\n",
       "      <td>ahmeed80</td>\n",
       "      <td>Patient</td>\n",
       "      <td>Male</td>\n",
       "      <td>0.0</td>\n",
       "      <td>...</td>\n",
       "      <td>Medical Doctor</td>\n",
       "      <td>Dr.M.jagesh kamath</td>\n",
       "      <td>Doctor</td>\n",
       "      <td>Male</td>\n",
       "      <td>0.0</td>\n",
       "      <td>68.0</td>\n",
       "      <td>Tue Aug 17, 2010 2:41 pm</td>\n",
       "      <td>Mon Sep 06, 2010 10:32 am</td>\n",
       "      <td>0.57</td>\n",
       "      <td>0.92</td>\n",
       "    </tr>\n",
       "  </tbody>\n",
       "</table>\n",
       "<p>2 rows × 21 columns</p>\n",
       "</div>"
      ],
      "text/plain": [
       "                   Disease                                              Topic  \\\n",
       "0  Gastroenterology Topics  VOMITTING WHITE FOAM, SEVERE UPPER ABDOMINAL A...   \n",
       "1  Gastroenterology Topics    Loose Motion,Vomiting Due to Climate Change. -    \n",
       "\n",
       "                                                 Url  Question No  \\\n",
       "0  https://www.doctorslounge.com/forums/./viewtop...            0   \n",
       "1  https://www.doctorslounge.com/forums/./viewtop...            0   \n",
       "\n",
       "                                            Question  \\\n",
       "0  HI,  I AM A 28Y/O FEMALE WITH FIBRO AND RA. I ...   \n",
       "1  Dear All.I need some immediate advice in a mat...   \n",
       "\n",
       "                                              Answer     Asker ID Asker Type  \\\n",
       "0  Hi, It is possible that long term aspirin inta...  BUCSFAN6998    Patient   \n",
       "1  Hello,It is quite common for travelers to get ...     ahmeed80    Patient   \n",
       "\n",
       "  Asker Gender  Asker Dummy      ...       Answerer Title         Answerer ID  \\\n",
       "0       Female          1.0      ...       Medical Doctor   Dr.M.Aroon kamath   \n",
       "1         Male          0.0      ...       Medical Doctor  Dr.M.jagesh kamath   \n",
       "\n",
       "  Answerer Type Answerer Gender Answer Dummy  Answerer Age  \\\n",
       "0        Doctor            Male          0.0          69.0   \n",
       "1        Doctor            Male          0.0          68.0   \n",
       "\n",
       "        Question Time Stamp          Answer Time Stamp Question Score  \\\n",
       "0  Tue Jul 06, 2010 8:56 pm   Tue Sep 14, 2010 8:23 am           0.71   \n",
       "1  Tue Aug 17, 2010 2:41 pm  Mon Sep 06, 2010 10:32 am           0.57   \n",
       "\n",
       "   Answer Score  \n",
       "0          0.97  \n",
       "1          0.92  \n",
       "\n",
       "[2 rows x 21 columns]"
      ]
     },
     "execution_count": 8,
     "metadata": {},
     "output_type": "execute_result"
    }
   ],
   "source": [
    "df.head(2)"
   ]
  },
  {
   "cell_type": "code",
   "execution_count": 9,
   "metadata": {
    "ExecuteTime": {
     "end_time": "2018-08-24T03:39:56.150296Z",
     "start_time": "2018-08-24T03:39:56.143693Z"
    }
   },
   "outputs": [
    {
     "data": {
      "text/plain": [
       "Index(['Disease', 'Topic', 'Url', 'Question No', 'Question', 'Answer',\n",
       "       'Asker ID', 'Asker Type', 'Asker Gender', 'Asker Dummy', 'Asker Age',\n",
       "       'Answerer Title', 'Answerer ID', 'Answerer Type', 'Answerer Gender',\n",
       "       'Answer Dummy', 'Answerer Age', 'Question Time Stamp',\n",
       "       'Answer Time Stamp', 'Question Score', 'Answer Score'],\n",
       "      dtype='object')"
      ]
     },
     "execution_count": 9,
     "metadata": {},
     "output_type": "execute_result"
    }
   ],
   "source": [
    "df.columns"
   ]
  },
  {
   "cell_type": "code",
   "execution_count": 10,
   "metadata": {
    "ExecuteTime": {
     "end_time": "2018-08-24T03:39:56.841044Z",
     "start_time": "2018-08-24T03:39:56.811393Z"
    }
   },
   "outputs": [
    {
     "data": {
      "text/html": [
       "<div>\n",
       "<style scoped>\n",
       "    .dataframe tbody tr th:only-of-type {\n",
       "        vertical-align: middle;\n",
       "    }\n",
       "\n",
       "    .dataframe tbody tr th {\n",
       "        vertical-align: top;\n",
       "    }\n",
       "\n",
       "    .dataframe thead th {\n",
       "        text-align: right;\n",
       "    }\n",
       "</style>\n",
       "<table border=\"1\" class=\"dataframe\">\n",
       "  <thead>\n",
       "    <tr style=\"text-align: right;\">\n",
       "      <th></th>\n",
       "      <th>disease</th>\n",
       "      <th>topic</th>\n",
       "      <th>url</th>\n",
       "      <th>question_no</th>\n",
       "      <th>question</th>\n",
       "      <th>answer</th>\n",
       "      <th>asker_id</th>\n",
       "      <th>asker_type</th>\n",
       "      <th>asker_gender</th>\n",
       "      <th>asker_dummy</th>\n",
       "      <th>...</th>\n",
       "      <th>answerer_title</th>\n",
       "      <th>answerer_id</th>\n",
       "      <th>answerer_type</th>\n",
       "      <th>answerer_gender</th>\n",
       "      <th>answer_dummy</th>\n",
       "      <th>answerer_age</th>\n",
       "      <th>question_time_stamp</th>\n",
       "      <th>answer_time_stamp</th>\n",
       "      <th>question_score</th>\n",
       "      <th>answer_score</th>\n",
       "    </tr>\n",
       "  </thead>\n",
       "  <tbody>\n",
       "    <tr>\n",
       "      <th>0</th>\n",
       "      <td>Gastroenterology Topics</td>\n",
       "      <td>VOMITTING WHITE FOAM, SEVERE UPPER ABDOMINAL A...</td>\n",
       "      <td>https://www.doctorslounge.com/forums/./viewtop...</td>\n",
       "      <td>0</td>\n",
       "      <td>HI,  I AM A 28Y/O FEMALE WITH FIBRO AND RA. I ...</td>\n",
       "      <td>Hi, It is possible that long term aspirin inta...</td>\n",
       "      <td>BUCSFAN6998</td>\n",
       "      <td>Patient</td>\n",
       "      <td>Female</td>\n",
       "      <td>1.0</td>\n",
       "      <td>...</td>\n",
       "      <td>Medical Doctor</td>\n",
       "      <td>Dr.M.Aroon kamath</td>\n",
       "      <td>Doctor</td>\n",
       "      <td>Male</td>\n",
       "      <td>0.0</td>\n",
       "      <td>69.0</td>\n",
       "      <td>Tue Jul 06, 2010 8:56 pm</td>\n",
       "      <td>Tue Sep 14, 2010 8:23 am</td>\n",
       "      <td>0.71</td>\n",
       "      <td>0.97</td>\n",
       "    </tr>\n",
       "    <tr>\n",
       "      <th>1</th>\n",
       "      <td>Gastroenterology Topics</td>\n",
       "      <td>Loose Motion,Vomiting Due to Climate Change. -</td>\n",
       "      <td>https://www.doctorslounge.com/forums/./viewtop...</td>\n",
       "      <td>0</td>\n",
       "      <td>Dear All.I need some immediate advice in a mat...</td>\n",
       "      <td>Hello,It is quite common for travelers to get ...</td>\n",
       "      <td>ahmeed80</td>\n",
       "      <td>Patient</td>\n",
       "      <td>Male</td>\n",
       "      <td>0.0</td>\n",
       "      <td>...</td>\n",
       "      <td>Medical Doctor</td>\n",
       "      <td>Dr.M.jagesh kamath</td>\n",
       "      <td>Doctor</td>\n",
       "      <td>Male</td>\n",
       "      <td>0.0</td>\n",
       "      <td>68.0</td>\n",
       "      <td>Tue Aug 17, 2010 2:41 pm</td>\n",
       "      <td>Mon Sep 06, 2010 10:32 am</td>\n",
       "      <td>0.57</td>\n",
       "      <td>0.92</td>\n",
       "    </tr>\n",
       "  </tbody>\n",
       "</table>\n",
       "<p>2 rows × 21 columns</p>\n",
       "</div>"
      ],
      "text/plain": [
       "                   disease                                              topic  \\\n",
       "0  Gastroenterology Topics  VOMITTING WHITE FOAM, SEVERE UPPER ABDOMINAL A...   \n",
       "1  Gastroenterology Topics    Loose Motion,Vomiting Due to Climate Change. -    \n",
       "\n",
       "                                                 url  question_no  \\\n",
       "0  https://www.doctorslounge.com/forums/./viewtop...            0   \n",
       "1  https://www.doctorslounge.com/forums/./viewtop...            0   \n",
       "\n",
       "                                            question  \\\n",
       "0  HI,  I AM A 28Y/O FEMALE WITH FIBRO AND RA. I ...   \n",
       "1  Dear All.I need some immediate advice in a mat...   \n",
       "\n",
       "                                              answer     asker_id asker_type  \\\n",
       "0  Hi, It is possible that long term aspirin inta...  BUCSFAN6998    Patient   \n",
       "1  Hello,It is quite common for travelers to get ...     ahmeed80    Patient   \n",
       "\n",
       "  asker_gender  asker_dummy      ...       answerer_title         answerer_id  \\\n",
       "0       Female          1.0      ...       Medical Doctor   Dr.M.Aroon kamath   \n",
       "1         Male          0.0      ...       Medical Doctor  Dr.M.jagesh kamath   \n",
       "\n",
       "  answerer_type answerer_gender answer_dummy  answerer_age  \\\n",
       "0        Doctor            Male          0.0          69.0   \n",
       "1        Doctor            Male          0.0          68.0   \n",
       "\n",
       "        question_time_stamp          answer_time_stamp question_score  \\\n",
       "0  Tue Jul 06, 2010 8:56 pm   Tue Sep 14, 2010 8:23 am           0.71   \n",
       "1  Tue Aug 17, 2010 2:41 pm  Mon Sep 06, 2010 10:32 am           0.57   \n",
       "\n",
       "   answer_score  \n",
       "0          0.97  \n",
       "1          0.92  \n",
       "\n",
       "[2 rows x 21 columns]"
      ]
     },
     "execution_count": 10,
     "metadata": {},
     "output_type": "execute_result"
    }
   ],
   "source": [
    "df.columns = df.columns.str.lower().str.replace(' ', '_')\n",
    "df.head(2)"
   ]
  },
  {
   "cell_type": "markdown",
   "metadata": {},
   "source": [
    "##### read score data"
   ]
  },
  {
   "cell_type": "markdown",
   "metadata": {},
   "source": [
    "the scores here are calculated separately."
   ]
  },
  {
   "cell_type": "code",
   "execution_count": 11,
   "metadata": {
    "ExecuteTime": {
     "end_time": "2018-08-24T03:39:59.271163Z",
     "start_time": "2018-08-24T03:39:59.197631Z"
    }
   },
   "outputs": [
    {
     "data": {
      "text/html": [
       "<div>\n",
       "<style scoped>\n",
       "    .dataframe tbody tr th:only-of-type {\n",
       "        vertical-align: middle;\n",
       "    }\n",
       "\n",
       "    .dataframe tbody tr th {\n",
       "        vertical-align: top;\n",
       "    }\n",
       "\n",
       "    .dataframe thead th {\n",
       "        text-align: right;\n",
       "    }\n",
       "</style>\n",
       "<table border=\"1\" class=\"dataframe\">\n",
       "  <thead>\n",
       "    <tr style=\"text-align: right;\">\n",
       "      <th></th>\n",
       "      <th>question_score_web</th>\n",
       "      <th>answer_score_web</th>\n",
       "    </tr>\n",
       "  </thead>\n",
       "  <tbody>\n",
       "    <tr>\n",
       "      <th>0</th>\n",
       "      <td>Neutral</td>\n",
       "      <td>Polite   Algorithm's Confidence: 80%</td>\n",
       "    </tr>\n",
       "    <tr>\n",
       "      <th>1</th>\n",
       "      <td>Polite   Algorithm's Confidence: 62%</td>\n",
       "      <td>Polite   Algorithm's Confidence: 78%</td>\n",
       "    </tr>\n",
       "  </tbody>\n",
       "</table>\n",
       "</div>"
      ],
      "text/plain": [
       "                     question_score_web                      answer_score_web\n",
       "0                             Neutral    Polite   Algorithm's Confidence: 80%\n",
       "1  Polite   Algorithm's Confidence: 62%  Polite   Algorithm's Confidence: 78%"
      ]
     },
     "execution_count": 11,
     "metadata": {},
     "output_type": "execute_result"
    }
   ],
   "source": [
    "web_score_df = pd.read_table(base_dir+'web/score_{}.xls'.format(name), usecols=[19, 20])\n",
    "web_score_df.columns = web_score_df.columns.str.lower().str.replace(' ', '_') + '_web'\n",
    "web_score_df.head(2)"
   ]
  },
  {
   "cell_type": "markdown",
   "metadata": {},
   "source": [
    "a wrapper function to parse `web` scores"
   ]
  },
  {
   "cell_type": "code",
   "execution_count": 12,
   "metadata": {
    "ExecuteTime": {
     "end_time": "2018-08-24T03:39:59.608229Z",
     "start_time": "2018-08-24T03:39:59.601720Z"
    }
   },
   "outputs": [],
   "source": [
    "def parse_web_score(score_string):\n",
    "    ''' parse politeness score by web interface'''\n",
    "    score_string = score_string.lower()\n",
    "    if 'neutral' in score_string:\n",
    "        return 0\n",
    "    else:\n",
    "        score = int(score_string.split(': ')[-1].replace('%', ''))/100\n",
    "    if 'impolite' in score_string:\n",
    "        return -score\n",
    "    else:\n",
    "        return score"
   ]
  },
  {
   "cell_type": "code",
   "execution_count": 13,
   "metadata": {
    "ExecuteTime": {
     "end_time": "2018-08-24T03:39:59.797866Z",
     "start_time": "2018-08-24T03:39:59.791620Z"
    }
   },
   "outputs": [
    {
     "data": {
      "text/plain": [
       "0.95"
      ]
     },
     "execution_count": 13,
     "metadata": {},
     "output_type": "execute_result"
    }
   ],
   "source": [
    "parse_web_score(web_score_df.loc[3, 'question_score_web'])"
   ]
  },
  {
   "cell_type": "code",
   "execution_count": 14,
   "metadata": {
    "ExecuteTime": {
     "end_time": "2018-08-24T03:40:01.015502Z",
     "start_time": "2018-08-24T03:40:00.987403Z"
    }
   },
   "outputs": [
    {
     "data": {
      "text/html": [
       "<div>\n",
       "<style scoped>\n",
       "    .dataframe tbody tr th:only-of-type {\n",
       "        vertical-align: middle;\n",
       "    }\n",
       "\n",
       "    .dataframe tbody tr th {\n",
       "        vertical-align: top;\n",
       "    }\n",
       "\n",
       "    .dataframe thead th {\n",
       "        text-align: right;\n",
       "    }\n",
       "</style>\n",
       "<table border=\"1\" class=\"dataframe\">\n",
       "  <thead>\n",
       "    <tr style=\"text-align: right;\">\n",
       "      <th></th>\n",
       "      <th>question_score_web</th>\n",
       "      <th>answer_score_web</th>\n",
       "    </tr>\n",
       "  </thead>\n",
       "  <tbody>\n",
       "    <tr>\n",
       "      <th>0</th>\n",
       "      <td>0.00</td>\n",
       "      <td>0.80</td>\n",
       "    </tr>\n",
       "    <tr>\n",
       "      <th>1</th>\n",
       "      <td>0.62</td>\n",
       "      <td>0.78</td>\n",
       "    </tr>\n",
       "  </tbody>\n",
       "</table>\n",
       "</div>"
      ],
      "text/plain": [
       "   question_score_web  answer_score_web\n",
       "0                0.00              0.80\n",
       "1                0.62              0.78"
      ]
     },
     "execution_count": 14,
     "metadata": {},
     "output_type": "execute_result"
    }
   ],
   "source": [
    "for col in web_score_df.columns:\n",
    "    web_score_df[col] = web_score_df[col].map(parse_web_score)\n",
    "web_score_df.head(2)"
   ]
  },
  {
   "cell_type": "markdown",
   "metadata": {},
   "source": [
    "##### merge"
   ]
  },
  {
   "cell_type": "markdown",
   "metadata": {},
   "source": [
    "merge the two"
   ]
  },
  {
   "cell_type": "code",
   "execution_count": 15,
   "metadata": {
    "ExecuteTime": {
     "end_time": "2018-08-24T03:40:02.048045Z",
     "start_time": "2018-08-24T03:40:01.991849Z"
    }
   },
   "outputs": [
    {
     "data": {
      "text/html": [
       "<div>\n",
       "<style scoped>\n",
       "    .dataframe tbody tr th:only-of-type {\n",
       "        vertical-align: middle;\n",
       "    }\n",
       "\n",
       "    .dataframe tbody tr th {\n",
       "        vertical-align: top;\n",
       "    }\n",
       "\n",
       "    .dataframe thead th {\n",
       "        text-align: right;\n",
       "    }\n",
       "</style>\n",
       "<table border=\"1\" class=\"dataframe\">\n",
       "  <thead>\n",
       "    <tr style=\"text-align: right;\">\n",
       "      <th></th>\n",
       "      <th>disease</th>\n",
       "      <th>topic</th>\n",
       "      <th>url</th>\n",
       "      <th>question_no</th>\n",
       "      <th>question</th>\n",
       "      <th>answer</th>\n",
       "      <th>asker_id</th>\n",
       "      <th>asker_type</th>\n",
       "      <th>asker_gender</th>\n",
       "      <th>asker_dummy</th>\n",
       "      <th>...</th>\n",
       "      <th>answerer_type</th>\n",
       "      <th>answerer_gender</th>\n",
       "      <th>answer_dummy</th>\n",
       "      <th>answerer_age</th>\n",
       "      <th>question_time_stamp</th>\n",
       "      <th>answer_time_stamp</th>\n",
       "      <th>question_score</th>\n",
       "      <th>answer_score</th>\n",
       "      <th>question_score_web</th>\n",
       "      <th>answer_score_web</th>\n",
       "    </tr>\n",
       "  </thead>\n",
       "  <tbody>\n",
       "    <tr>\n",
       "      <th>0</th>\n",
       "      <td>Gastroenterology Topics</td>\n",
       "      <td>VOMITTING WHITE FOAM, SEVERE UPPER ABDOMINAL A...</td>\n",
       "      <td>https://www.doctorslounge.com/forums/./viewtop...</td>\n",
       "      <td>0</td>\n",
       "      <td>HI,  I AM A 28Y/O FEMALE WITH FIBRO AND RA. I ...</td>\n",
       "      <td>Hi, It is possible that long term aspirin inta...</td>\n",
       "      <td>BUCSFAN6998</td>\n",
       "      <td>Patient</td>\n",
       "      <td>Female</td>\n",
       "      <td>1.0</td>\n",
       "      <td>...</td>\n",
       "      <td>Doctor</td>\n",
       "      <td>Male</td>\n",
       "      <td>0.0</td>\n",
       "      <td>69.0</td>\n",
       "      <td>Tue Jul 06, 2010 8:56 pm</td>\n",
       "      <td>Tue Sep 14, 2010 8:23 am</td>\n",
       "      <td>0.71</td>\n",
       "      <td>0.97</td>\n",
       "      <td>0.00</td>\n",
       "      <td>0.80</td>\n",
       "    </tr>\n",
       "    <tr>\n",
       "      <th>1</th>\n",
       "      <td>Gastroenterology Topics</td>\n",
       "      <td>Loose Motion,Vomiting Due to Climate Change. -</td>\n",
       "      <td>https://www.doctorslounge.com/forums/./viewtop...</td>\n",
       "      <td>0</td>\n",
       "      <td>Dear All.I need some immediate advice in a mat...</td>\n",
       "      <td>Hello,It is quite common for travelers to get ...</td>\n",
       "      <td>ahmeed80</td>\n",
       "      <td>Patient</td>\n",
       "      <td>Male</td>\n",
       "      <td>0.0</td>\n",
       "      <td>...</td>\n",
       "      <td>Doctor</td>\n",
       "      <td>Male</td>\n",
       "      <td>0.0</td>\n",
       "      <td>68.0</td>\n",
       "      <td>Tue Aug 17, 2010 2:41 pm</td>\n",
       "      <td>Mon Sep 06, 2010 10:32 am</td>\n",
       "      <td>0.57</td>\n",
       "      <td>0.92</td>\n",
       "      <td>0.62</td>\n",
       "      <td>0.78</td>\n",
       "    </tr>\n",
       "  </tbody>\n",
       "</table>\n",
       "<p>2 rows × 23 columns</p>\n",
       "</div>"
      ],
      "text/plain": [
       "                   disease                                              topic  \\\n",
       "0  Gastroenterology Topics  VOMITTING WHITE FOAM, SEVERE UPPER ABDOMINAL A...   \n",
       "1  Gastroenterology Topics    Loose Motion,Vomiting Due to Climate Change. -    \n",
       "\n",
       "                                                 url  question_no  \\\n",
       "0  https://www.doctorslounge.com/forums/./viewtop...            0   \n",
       "1  https://www.doctorslounge.com/forums/./viewtop...            0   \n",
       "\n",
       "                                            question  \\\n",
       "0  HI,  I AM A 28Y/O FEMALE WITH FIBRO AND RA. I ...   \n",
       "1  Dear All.I need some immediate advice in a mat...   \n",
       "\n",
       "                                              answer     asker_id asker_type  \\\n",
       "0  Hi, It is possible that long term aspirin inta...  BUCSFAN6998    Patient   \n",
       "1  Hello,It is quite common for travelers to get ...     ahmeed80    Patient   \n",
       "\n",
       "  asker_gender  asker_dummy        ...         answerer_type answerer_gender  \\\n",
       "0       Female          1.0        ...                Doctor            Male   \n",
       "1         Male          0.0        ...                Doctor            Male   \n",
       "\n",
       "  answer_dummy answerer_age       question_time_stamp  \\\n",
       "0          0.0         69.0  Tue Jul 06, 2010 8:56 pm   \n",
       "1          0.0         68.0  Tue Aug 17, 2010 2:41 pm   \n",
       "\n",
       "           answer_time_stamp  question_score answer_score question_score_web  \\\n",
       "0   Tue Sep 14, 2010 8:23 am            0.71         0.97               0.00   \n",
       "1  Mon Sep 06, 2010 10:32 am            0.57         0.92               0.62   \n",
       "\n",
       "   answer_score_web  \n",
       "0              0.80  \n",
       "1              0.78  \n",
       "\n",
       "[2 rows x 23 columns]"
      ]
     },
     "execution_count": 15,
     "metadata": {},
     "output_type": "execute_result"
    }
   ],
   "source": [
    "for col in web_score_df.columns:\n",
    "    df[col] = web_score_df[col].values\n",
    "df.head(2)"
   ]
  },
  {
   "cell_type": "code",
   "execution_count": 16,
   "metadata": {
    "ExecuteTime": {
     "end_time": "2018-08-24T03:40:03.260725Z",
     "start_time": "2018-08-24T03:40:03.240024Z"
    }
   },
   "outputs": [
    {
     "data": {
      "text/html": [
       "<div>\n",
       "<style scoped>\n",
       "    .dataframe tbody tr th:only-of-type {\n",
       "        vertical-align: middle;\n",
       "    }\n",
       "\n",
       "    .dataframe tbody tr th {\n",
       "        vertical-align: top;\n",
       "    }\n",
       "\n",
       "    .dataframe thead th {\n",
       "        text-align: right;\n",
       "    }\n",
       "</style>\n",
       "<table border=\"1\" class=\"dataframe\">\n",
       "  <thead>\n",
       "    <tr style=\"text-align: right;\">\n",
       "      <th></th>\n",
       "      <th>question_score</th>\n",
       "      <th>question_score_web</th>\n",
       "      <th>answer_score</th>\n",
       "      <th>answer_score_web</th>\n",
       "    </tr>\n",
       "  </thead>\n",
       "  <tbody>\n",
       "    <tr>\n",
       "      <th>question_score</th>\n",
       "      <td>1.000000</td>\n",
       "      <td>0.836948</td>\n",
       "      <td>0.072258</td>\n",
       "      <td>0.073439</td>\n",
       "    </tr>\n",
       "    <tr>\n",
       "      <th>question_score_web</th>\n",
       "      <td>0.836948</td>\n",
       "      <td>1.000000</td>\n",
       "      <td>0.065268</td>\n",
       "      <td>0.073621</td>\n",
       "    </tr>\n",
       "    <tr>\n",
       "      <th>answer_score</th>\n",
       "      <td>0.072258</td>\n",
       "      <td>0.065268</td>\n",
       "      <td>1.000000</td>\n",
       "      <td>0.799862</td>\n",
       "    </tr>\n",
       "    <tr>\n",
       "      <th>answer_score_web</th>\n",
       "      <td>0.073439</td>\n",
       "      <td>0.073621</td>\n",
       "      <td>0.799862</td>\n",
       "      <td>1.000000</td>\n",
       "    </tr>\n",
       "  </tbody>\n",
       "</table>\n",
       "</div>"
      ],
      "text/plain": [
       "                    question_score  question_score_web  answer_score  \\\n",
       "question_score            1.000000            0.836948      0.072258   \n",
       "question_score_web        0.836948            1.000000      0.065268   \n",
       "answer_score              0.072258            0.065268      1.000000   \n",
       "answer_score_web          0.073439            0.073621      0.799862   \n",
       "\n",
       "                    answer_score_web  \n",
       "question_score              0.073439  \n",
       "question_score_web          0.073621  \n",
       "answer_score                0.799862  \n",
       "answer_score_web            1.000000  "
      ]
     },
     "execution_count": 16,
     "metadata": {},
     "output_type": "execute_result"
    }
   ],
   "source": [
    "df[['question_score', 'question_score_web', 'answer_score', 'answer_score_web']].corr()"
   ]
  },
  {
   "cell_type": "code",
   "execution_count": 17,
   "metadata": {
    "ExecuteTime": {
     "end_time": "2018-08-24T03:40:03.475436Z",
     "start_time": "2018-08-24T03:40:03.445738Z"
    }
   },
   "outputs": [
    {
     "data": {
      "text/html": [
       "<div>\n",
       "<style scoped>\n",
       "    .dataframe tbody tr th:only-of-type {\n",
       "        vertical-align: middle;\n",
       "    }\n",
       "\n",
       "    .dataframe tbody tr th {\n",
       "        vertical-align: top;\n",
       "    }\n",
       "\n",
       "    .dataframe thead th {\n",
       "        text-align: right;\n",
       "    }\n",
       "</style>\n",
       "<table border=\"1\" class=\"dataframe\">\n",
       "  <thead>\n",
       "    <tr style=\"text-align: right;\">\n",
       "      <th></th>\n",
       "      <th>question_score</th>\n",
       "      <th>question_score_web</th>\n",
       "      <th>answer_score</th>\n",
       "      <th>answer_score_web</th>\n",
       "    </tr>\n",
       "  </thead>\n",
       "  <tbody>\n",
       "    <tr>\n",
       "      <th>question_score</th>\n",
       "      <td>1.000000</td>\n",
       "      <td>0.856763</td>\n",
       "      <td>0.063985</td>\n",
       "      <td>0.066715</td>\n",
       "    </tr>\n",
       "    <tr>\n",
       "      <th>question_score_web</th>\n",
       "      <td>0.856763</td>\n",
       "      <td>1.000000</td>\n",
       "      <td>0.050501</td>\n",
       "      <td>0.062804</td>\n",
       "    </tr>\n",
       "    <tr>\n",
       "      <th>answer_score</th>\n",
       "      <td>0.063985</td>\n",
       "      <td>0.050501</td>\n",
       "      <td>1.000000</td>\n",
       "      <td>0.840005</td>\n",
       "    </tr>\n",
       "    <tr>\n",
       "      <th>answer_score_web</th>\n",
       "      <td>0.066715</td>\n",
       "      <td>0.062804</td>\n",
       "      <td>0.840005</td>\n",
       "      <td>1.000000</td>\n",
       "    </tr>\n",
       "  </tbody>\n",
       "</table>\n",
       "</div>"
      ],
      "text/plain": [
       "                    question_score  question_score_web  answer_score  \\\n",
       "question_score            1.000000            0.856763      0.063985   \n",
       "question_score_web        0.856763            1.000000      0.050501   \n",
       "answer_score              0.063985            0.050501      1.000000   \n",
       "answer_score_web          0.066715            0.062804      0.840005   \n",
       "\n",
       "                    answer_score_web  \n",
       "question_score              0.066715  \n",
       "question_score_web          0.062804  \n",
       "answer_score                0.840005  \n",
       "answer_score_web            1.000000  "
      ]
     },
     "execution_count": 17,
     "metadata": {},
     "output_type": "execute_result"
    }
   ],
   "source": [
    "df[['question_score', 'question_score_web', 'answer_score', 'answer_score_web']].corr(method='spearman')"
   ]
  },
  {
   "cell_type": "code",
   "execution_count": 19,
   "metadata": {
    "ExecuteTime": {
     "end_time": "2018-08-24T03:40:08.740438Z",
     "start_time": "2018-08-24T03:40:08.684632Z"
    }
   },
   "outputs": [
    {
     "data": {
      "text/html": [
       "<div>\n",
       "<style scoped>\n",
       "    .dataframe tbody tr th:only-of-type {\n",
       "        vertical-align: middle;\n",
       "    }\n",
       "\n",
       "    .dataframe tbody tr th {\n",
       "        vertical-align: top;\n",
       "    }\n",
       "\n",
       "    .dataframe thead th {\n",
       "        text-align: right;\n",
       "    }\n",
       "</style>\n",
       "<table border=\"1\" class=\"dataframe\">\n",
       "  <thead>\n",
       "    <tr style=\"text-align: right;\">\n",
       "      <th></th>\n",
       "      <th>disease</th>\n",
       "      <th>topic</th>\n",
       "      <th>url</th>\n",
       "      <th>question_no</th>\n",
       "      <th>question</th>\n",
       "      <th>answer</th>\n",
       "      <th>asker_id</th>\n",
       "      <th>asker_type</th>\n",
       "      <th>asker_gender</th>\n",
       "      <th>asker_dummy</th>\n",
       "      <th>...</th>\n",
       "      <th>answerer_type</th>\n",
       "      <th>answerer_gender</th>\n",
       "      <th>answer_dummy</th>\n",
       "      <th>answerer_age</th>\n",
       "      <th>question_time_stamp</th>\n",
       "      <th>answer_time_stamp</th>\n",
       "      <th>question_score</th>\n",
       "      <th>answer_score</th>\n",
       "      <th>question_score_web</th>\n",
       "      <th>answer_score_web</th>\n",
       "    </tr>\n",
       "  </thead>\n",
       "  <tbody>\n",
       "    <tr>\n",
       "      <th>0</th>\n",
       "      <td>Gastroenterology Topics</td>\n",
       "      <td>VOMITTING WHITE FOAM, SEVERE UPPER ABDOMINAL A...</td>\n",
       "      <td>https://www.doctorslounge.com/forums/./viewtop...</td>\n",
       "      <td>0</td>\n",
       "      <td>HI,  I AM A 28Y/O FEMALE WITH FIBRO AND RA. I ...</td>\n",
       "      <td>Hi, It is possible that long term aspirin inta...</td>\n",
       "      <td>BUCSFAN6998</td>\n",
       "      <td>Patient</td>\n",
       "      <td>Female</td>\n",
       "      <td>1.0</td>\n",
       "      <td>...</td>\n",
       "      <td>Doctor</td>\n",
       "      <td>Male</td>\n",
       "      <td>0.0</td>\n",
       "      <td>69.0</td>\n",
       "      <td>Tue Jul 06, 2010 8:56 pm</td>\n",
       "      <td>Tue Sep 14, 2010 8:23 am</td>\n",
       "      <td>0.71</td>\n",
       "      <td>0.97</td>\n",
       "      <td>0.00</td>\n",
       "      <td>0.80</td>\n",
       "    </tr>\n",
       "    <tr>\n",
       "      <th>1</th>\n",
       "      <td>Gastroenterology Topics</td>\n",
       "      <td>Loose Motion,Vomiting Due to Climate Change. -</td>\n",
       "      <td>https://www.doctorslounge.com/forums/./viewtop...</td>\n",
       "      <td>0</td>\n",
       "      <td>Dear All.I need some immediate advice in a mat...</td>\n",
       "      <td>Hello,It is quite common for travelers to get ...</td>\n",
       "      <td>ahmeed80</td>\n",
       "      <td>Patient</td>\n",
       "      <td>Male</td>\n",
       "      <td>0.0</td>\n",
       "      <td>...</td>\n",
       "      <td>Doctor</td>\n",
       "      <td>Male</td>\n",
       "      <td>0.0</td>\n",
       "      <td>68.0</td>\n",
       "      <td>Tue Aug 17, 2010 2:41 pm</td>\n",
       "      <td>Mon Sep 06, 2010 10:32 am</td>\n",
       "      <td>0.57</td>\n",
       "      <td>0.92</td>\n",
       "      <td>0.62</td>\n",
       "      <td>0.78</td>\n",
       "    </tr>\n",
       "    <tr>\n",
       "      <th>2</th>\n",
       "      <td>Gastroenterology Topics</td>\n",
       "      <td>Treatment options for Blastocystis? -</td>\n",
       "      <td>https://www.doctorslounge.com/forums/./viewtop...</td>\n",
       "      <td>0</td>\n",
       "      <td>Hello,  After going through a bit of an ordeal...</td>\n",
       "      <td>Hello, The question posed by the following art...</td>\n",
       "      <td>marplz</td>\n",
       "      <td>Patient</td>\n",
       "      <td>Male</td>\n",
       "      <td>0.0</td>\n",
       "      <td>...</td>\n",
       "      <td>Doctor</td>\n",
       "      <td>Male</td>\n",
       "      <td>0.0</td>\n",
       "      <td>68.0</td>\n",
       "      <td>Fri Aug 13, 2010 7:19 am</td>\n",
       "      <td>Sun Sep 05, 2010 10:42 am</td>\n",
       "      <td>0.88</td>\n",
       "      <td>0.56</td>\n",
       "      <td>0.75</td>\n",
       "      <td>0.00</td>\n",
       "    </tr>\n",
       "  </tbody>\n",
       "</table>\n",
       "<p>3 rows × 23 columns</p>\n",
       "</div>"
      ],
      "text/plain": [
       "                   disease                                              topic  \\\n",
       "0  Gastroenterology Topics  VOMITTING WHITE FOAM, SEVERE UPPER ABDOMINAL A...   \n",
       "1  Gastroenterology Topics    Loose Motion,Vomiting Due to Climate Change. -    \n",
       "2  Gastroenterology Topics             Treatment options for Blastocystis? -    \n",
       "\n",
       "                                                 url  question_no  \\\n",
       "0  https://www.doctorslounge.com/forums/./viewtop...            0   \n",
       "1  https://www.doctorslounge.com/forums/./viewtop...            0   \n",
       "2  https://www.doctorslounge.com/forums/./viewtop...            0   \n",
       "\n",
       "                                            question  \\\n",
       "0  HI,  I AM A 28Y/O FEMALE WITH FIBRO AND RA. I ...   \n",
       "1  Dear All.I need some immediate advice in a mat...   \n",
       "2  Hello,  After going through a bit of an ordeal...   \n",
       "\n",
       "                                              answer     asker_id asker_type  \\\n",
       "0  Hi, It is possible that long term aspirin inta...  BUCSFAN6998    Patient   \n",
       "1  Hello,It is quite common for travelers to get ...     ahmeed80    Patient   \n",
       "2  Hello, The question posed by the following art...       marplz    Patient   \n",
       "\n",
       "  asker_gender  asker_dummy        ...         answerer_type answerer_gender  \\\n",
       "0       Female          1.0        ...                Doctor            Male   \n",
       "1         Male          0.0        ...                Doctor            Male   \n",
       "2         Male          0.0        ...                Doctor            Male   \n",
       "\n",
       "  answer_dummy answerer_age       question_time_stamp  \\\n",
       "0          0.0         69.0  Tue Jul 06, 2010 8:56 pm   \n",
       "1          0.0         68.0  Tue Aug 17, 2010 2:41 pm   \n",
       "2          0.0         68.0  Fri Aug 13, 2010 7:19 am   \n",
       "\n",
       "           answer_time_stamp  question_score answer_score question_score_web  \\\n",
       "0   Tue Sep 14, 2010 8:23 am            0.71         0.97               0.00   \n",
       "1  Mon Sep 06, 2010 10:32 am            0.57         0.92               0.62   \n",
       "2  Sun Sep 05, 2010 10:42 am            0.88         0.56               0.75   \n",
       "\n",
       "   answer_score_web  \n",
       "0              0.80  \n",
       "1              0.78  \n",
       "2              0.00  \n",
       "\n",
       "[3 rows x 23 columns]"
      ]
     },
     "execution_count": 19,
     "metadata": {},
     "output_type": "execute_result"
    }
   ],
   "source": [
    "df.head(3)"
   ]
  },
  {
   "cell_type": "markdown",
   "metadata": {},
   "source": [
    "##### reshape"
   ]
  },
  {
   "cell_type": "markdown",
   "metadata": {},
   "source": [
    "now get to the hard part: `question_no=0` means a ___reset___ of a thread, therefore the `question` may have already been in the list.\n",
    "\n",
    "~~i will take a simple approach and just match `question` and `asker_id` textual content~~\n",
    "\n",
    "drop duplicates to eliminate questions that occur multiple times due to multiple answers"
   ]
  },
  {
   "cell_type": "code",
   "execution_count": 51,
   "metadata": {
    "ExecuteTime": {
     "end_time": "2018-08-24T03:45:38.952872Z",
     "start_time": "2018-08-24T03:45:38.946342Z"
    }
   },
   "outputs": [],
   "source": [
    "reshape_l = list()"
   ]
  },
  {
   "cell_type": "code",
   "execution_count": 52,
   "metadata": {
    "ExecuteTime": {
     "end_time": "2018-08-24T03:45:39.175949Z",
     "start_time": "2018-08-24T03:45:39.171820Z"
    }
   },
   "outputs": [],
   "source": [
    "q_columns = ['question', 'asker_gender', 'asker_type', 'asker_age', 'question_score', 'question_score_web']\n",
    "a_columns = ['answer', 'answerer_gender', 'answerer_type', 'answerer_age', 'answer_score', 'answer_score_web']"
   ]
  },
  {
   "cell_type": "code",
   "execution_count": 53,
   "metadata": {
    "ExecuteTime": {
     "end_time": "2018-08-24T03:45:39.379430Z",
     "start_time": "2018-08-24T03:45:39.375748Z"
    }
   },
   "outputs": [],
   "source": [
    "reshape_columns = ['text', 'gender', 'role_dummy', 'age', 'politeness', 'politeness_web', 'question_flag']"
   ]
  },
  {
   "cell_type": "code",
   "execution_count": 54,
   "metadata": {
    "ExecuteTime": {
     "end_time": "2018-08-24T03:45:42.540411Z",
     "start_time": "2018-08-24T03:45:39.585789Z"
    }
   },
   "outputs": [],
   "source": [
    "for i, series in df.iterrows():\n",
    "    #print(series.loc[['question', 'asker_gender', 'asker_dummy', 'asker_age', 'question_score', 'question_score_web']])\n",
    "    #print(series)\n",
    "    #break\n",
    "    q_list = series.loc[q_columns].tolist()\n",
    "    if q_list not in reshape_l:\n",
    "        q_list.append(1)\n",
    "        reshape_l.append(dict(zip(reshape_columns, q_list)))\n",
    "    a_list = series.loc[a_columns].tolist()\n",
    "    a_list.append(0)\n",
    "    reshape_l.append(dict(zip(reshape_columns, a_list)))\n",
    "reshape_df = pd.DataFrame(reshape_l)"
   ]
  },
  {
   "cell_type": "markdown",
   "metadata": {},
   "source": [
    "remove duplicate values"
   ]
  },
  {
   "cell_type": "code",
   "execution_count": 55,
   "metadata": {
    "ExecuteTime": {
     "end_time": "2018-08-24T03:45:42.546755Z",
     "start_time": "2018-08-24T03:45:42.542636Z"
    }
   },
   "outputs": [
    {
     "data": {
      "text/plain": [
       "(3954, 7)"
      ]
     },
     "execution_count": 55,
     "metadata": {},
     "output_type": "execute_result"
    }
   ],
   "source": [
    "reshape_df.shape"
   ]
  },
  {
   "cell_type": "code",
   "execution_count": 56,
   "metadata": {
    "ExecuteTime": {
     "end_time": "2018-08-24T03:45:42.567866Z",
     "start_time": "2018-08-24T03:45:42.548542Z"
    }
   },
   "outputs": [],
   "source": [
    "reshape_df.drop_duplicates(inplace=True)"
   ]
  },
  {
   "cell_type": "code",
   "execution_count": 57,
   "metadata": {
    "ExecuteTime": {
     "end_time": "2018-08-24T03:45:42.573108Z",
     "start_time": "2018-08-24T03:45:42.569678Z"
    }
   },
   "outputs": [
    {
     "data": {
      "text/plain": [
       "(3647, 7)"
      ]
     },
     "execution_count": 57,
     "metadata": {},
     "output_type": "execute_result"
    }
   ],
   "source": [
    "reshape_df.shape"
   ]
  },
  {
   "cell_type": "code",
   "execution_count": 61,
   "metadata": {
    "ExecuteTime": {
     "end_time": "2018-08-24T03:46:00.684391Z",
     "start_time": "2018-08-24T03:46:00.649640Z"
    }
   },
   "outputs": [
    {
     "data": {
      "text/html": [
       "<div>\n",
       "<style scoped>\n",
       "    .dataframe tbody tr th:only-of-type {\n",
       "        vertical-align: middle;\n",
       "    }\n",
       "\n",
       "    .dataframe tbody tr th {\n",
       "        vertical-align: top;\n",
       "    }\n",
       "\n",
       "    .dataframe thead th {\n",
       "        text-align: right;\n",
       "    }\n",
       "</style>\n",
       "<table border=\"1\" class=\"dataframe\">\n",
       "  <thead>\n",
       "    <tr style=\"text-align: right;\">\n",
       "      <th></th>\n",
       "      <th>age</th>\n",
       "      <th>gender</th>\n",
       "      <th>politeness</th>\n",
       "      <th>politeness_web</th>\n",
       "      <th>question_flag</th>\n",
       "      <th>role_dummy</th>\n",
       "      <th>text</th>\n",
       "    </tr>\n",
       "  </thead>\n",
       "  <tbody>\n",
       "    <tr>\n",
       "      <th>0</th>\n",
       "      <td>36.0</td>\n",
       "      <td>Female</td>\n",
       "      <td>0.71</td>\n",
       "      <td>0.00</td>\n",
       "      <td>1</td>\n",
       "      <td>Patient</td>\n",
       "      <td>HI,  I AM A 28Y/O FEMALE WITH FIBRO AND RA. I ...</td>\n",
       "    </tr>\n",
       "    <tr>\n",
       "      <th>1</th>\n",
       "      <td>69.0</td>\n",
       "      <td>Male</td>\n",
       "      <td>0.97</td>\n",
       "      <td>0.80</td>\n",
       "      <td>0</td>\n",
       "      <td>Doctor</td>\n",
       "      <td>Hi, It is possible that long term aspirin inta...</td>\n",
       "    </tr>\n",
       "    <tr>\n",
       "      <th>2</th>\n",
       "      <td>37.0</td>\n",
       "      <td>Male</td>\n",
       "      <td>0.57</td>\n",
       "      <td>0.62</td>\n",
       "      <td>1</td>\n",
       "      <td>Patient</td>\n",
       "      <td>Dear All.I need some immediate advice in a mat...</td>\n",
       "    </tr>\n",
       "    <tr>\n",
       "      <th>3</th>\n",
       "      <td>68.0</td>\n",
       "      <td>Male</td>\n",
       "      <td>0.92</td>\n",
       "      <td>0.78</td>\n",
       "      <td>0</td>\n",
       "      <td>Doctor</td>\n",
       "      <td>Hello,It is quite common for travelers to get ...</td>\n",
       "    </tr>\n",
       "    <tr>\n",
       "      <th>4</th>\n",
       "      <td>53.0</td>\n",
       "      <td>Male</td>\n",
       "      <td>0.88</td>\n",
       "      <td>0.75</td>\n",
       "      <td>1</td>\n",
       "      <td>Patient</td>\n",
       "      <td>Hello,  After going through a bit of an ordeal...</td>\n",
       "    </tr>\n",
       "    <tr>\n",
       "      <th>5</th>\n",
       "      <td>68.0</td>\n",
       "      <td>Male</td>\n",
       "      <td>0.56</td>\n",
       "      <td>0.00</td>\n",
       "      <td>0</td>\n",
       "      <td>Doctor</td>\n",
       "      <td>Hello, The question posed by the following art...</td>\n",
       "    </tr>\n",
       "    <tr>\n",
       "      <th>6</th>\n",
       "      <td>33.0</td>\n",
       "      <td>Female</td>\n",
       "      <td>0.96</td>\n",
       "      <td>0.95</td>\n",
       "      <td>1</td>\n",
       "      <td>Patient</td>\n",
       "      <td>Hi, I am a 25 yr old female and I think I migh...</td>\n",
       "    </tr>\n",
       "    <tr>\n",
       "      <th>7</th>\n",
       "      <td>69.0</td>\n",
       "      <td>Male</td>\n",
       "      <td>0.78</td>\n",
       "      <td>-0.62</td>\n",
       "      <td>0</td>\n",
       "      <td>Doctor</td>\n",
       "      <td>Hi, Your symptoms are not \"typical\" for a hiat...</td>\n",
       "    </tr>\n",
       "    <tr>\n",
       "      <th>8</th>\n",
       "      <td>75.0</td>\n",
       "      <td>Male</td>\n",
       "      <td>0.83</td>\n",
       "      <td>0.62</td>\n",
       "      <td>1</td>\n",
       "      <td>Patient</td>\n",
       "      <td>Maybe not related, but just started taking Met...</td>\n",
       "    </tr>\n",
       "    <tr>\n",
       "      <th>9</th>\n",
       "      <td>68.0</td>\n",
       "      <td>Male</td>\n",
       "      <td>0.86</td>\n",
       "      <td>0.79</td>\n",
       "      <td>0</td>\n",
       "      <td>Doctor</td>\n",
       "      <td>Hello,If you are taking extended release table...</td>\n",
       "    </tr>\n",
       "    <tr>\n",
       "      <th>11</th>\n",
       "      <td>69.0</td>\n",
       "      <td>Male</td>\n",
       "      <td>0.62</td>\n",
       "      <td>-0.76</td>\n",
       "      <td>0</td>\n",
       "      <td>Doctor</td>\n",
       "      <td>Hi, Dr.Jagesh is very right in pointing out th...</td>\n",
       "    </tr>\n",
       "    <tr>\n",
       "      <th>12</th>\n",
       "      <td>37.0</td>\n",
       "      <td>Female</td>\n",
       "      <td>0.97</td>\n",
       "      <td>0.94</td>\n",
       "      <td>1</td>\n",
       "      <td>Patient</td>\n",
       "      <td>I have been a heavy drinker for more than 3 ye...</td>\n",
       "    </tr>\n",
       "    <tr>\n",
       "      <th>13</th>\n",
       "      <td>69.0</td>\n",
       "      <td>Male</td>\n",
       "      <td>0.99</td>\n",
       "      <td>0.97</td>\n",
       "      <td>0</td>\n",
       "      <td>Doctor</td>\n",
       "      <td>Hi, Although your symptoms could be due to div...</td>\n",
       "    </tr>\n",
       "    <tr>\n",
       "      <th>14</th>\n",
       "      <td>54.0</td>\n",
       "      <td>Male</td>\n",
       "      <td>0.62</td>\n",
       "      <td>0.68</td>\n",
       "      <td>1</td>\n",
       "      <td>Patient</td>\n",
       "      <td>As I am new to this condition I seek advice fr...</td>\n",
       "    </tr>\n",
       "    <tr>\n",
       "      <th>15</th>\n",
       "      <td>69.0</td>\n",
       "      <td>Male</td>\n",
       "      <td>0.97</td>\n",
       "      <td>0.80</td>\n",
       "      <td>0</td>\n",
       "      <td>Doctor</td>\n",
       "      <td>Hi, An elevation in the serum amylase levels i...</td>\n",
       "    </tr>\n",
       "    <tr>\n",
       "      <th>16</th>\n",
       "      <td>40.0</td>\n",
       "      <td>Female</td>\n",
       "      <td>0.96</td>\n",
       "      <td>0.82</td>\n",
       "      <td>1</td>\n",
       "      <td>Patient</td>\n",
       "      <td>Hi  Blood tests in March revealed that I had a...</td>\n",
       "    </tr>\n",
       "    <tr>\n",
       "      <th>17</th>\n",
       "      <td>68.0</td>\n",
       "      <td>Male</td>\n",
       "      <td>0.68</td>\n",
       "      <td>0.00</td>\n",
       "      <td>0</td>\n",
       "      <td>Doctor</td>\n",
       "      <td>Hello,Vit B12 is a water soluble vitamin of b-...</td>\n",
       "    </tr>\n",
       "    <tr>\n",
       "      <th>18</th>\n",
       "      <td>56.0</td>\n",
       "      <td>Male</td>\n",
       "      <td>0.92</td>\n",
       "      <td>0.94</td>\n",
       "      <td>1</td>\n",
       "      <td>Patient</td>\n",
       "      <td>Dear Doctor and other users of this forum,  I ...</td>\n",
       "    </tr>\n",
       "    <tr>\n",
       "      <th>19</th>\n",
       "      <td>74.0</td>\n",
       "      <td>Female</td>\n",
       "      <td>0.94</td>\n",
       "      <td>0.83</td>\n",
       "      <td>0</td>\n",
       "      <td>Doctor</td>\n",
       "      <td>Hello, mike1486,  I'm sorry to hear of your di...</td>\n",
       "    </tr>\n",
       "    <tr>\n",
       "      <th>20</th>\n",
       "      <td>26.0</td>\n",
       "      <td>Female</td>\n",
       "      <td>0.92</td>\n",
       "      <td>0.94</td>\n",
       "      <td>1</td>\n",
       "      <td>Patient</td>\n",
       "      <td>Hello, I have been having stomach bloating 30-...</td>\n",
       "    </tr>\n",
       "  </tbody>\n",
       "</table>\n",
       "</div>"
      ],
      "text/plain": [
       "     age  gender  politeness  politeness_web  question_flag role_dummy  \\\n",
       "0   36.0  Female        0.71            0.00              1    Patient   \n",
       "1   69.0    Male        0.97            0.80              0     Doctor   \n",
       "2   37.0    Male        0.57            0.62              1    Patient   \n",
       "3   68.0    Male        0.92            0.78              0     Doctor   \n",
       "4   53.0    Male        0.88            0.75              1    Patient   \n",
       "5   68.0    Male        0.56            0.00              0     Doctor   \n",
       "6   33.0  Female        0.96            0.95              1    Patient   \n",
       "7   69.0    Male        0.78           -0.62              0     Doctor   \n",
       "8   75.0    Male        0.83            0.62              1    Patient   \n",
       "9   68.0    Male        0.86            0.79              0     Doctor   \n",
       "11  69.0    Male        0.62           -0.76              0     Doctor   \n",
       "12  37.0  Female        0.97            0.94              1    Patient   \n",
       "13  69.0    Male        0.99            0.97              0     Doctor   \n",
       "14  54.0    Male        0.62            0.68              1    Patient   \n",
       "15  69.0    Male        0.97            0.80              0     Doctor   \n",
       "16  40.0  Female        0.96            0.82              1    Patient   \n",
       "17  68.0    Male        0.68            0.00              0     Doctor   \n",
       "18  56.0    Male        0.92            0.94              1    Patient   \n",
       "19  74.0  Female        0.94            0.83              0     Doctor   \n",
       "20  26.0  Female        0.92            0.94              1    Patient   \n",
       "\n",
       "                                                 text  \n",
       "0   HI,  I AM A 28Y/O FEMALE WITH FIBRO AND RA. I ...  \n",
       "1   Hi, It is possible that long term aspirin inta...  \n",
       "2   Dear All.I need some immediate advice in a mat...  \n",
       "3   Hello,It is quite common for travelers to get ...  \n",
       "4   Hello,  After going through a bit of an ordeal...  \n",
       "5   Hello, The question posed by the following art...  \n",
       "6   Hi, I am a 25 yr old female and I think I migh...  \n",
       "7   Hi, Your symptoms are not \"typical\" for a hiat...  \n",
       "8   Maybe not related, but just started taking Met...  \n",
       "9   Hello,If you are taking extended release table...  \n",
       "11  Hi, Dr.Jagesh is very right in pointing out th...  \n",
       "12  I have been a heavy drinker for more than 3 ye...  \n",
       "13  Hi, Although your symptoms could be due to div...  \n",
       "14  As I am new to this condition I seek advice fr...  \n",
       "15  Hi, An elevation in the serum amylase levels i...  \n",
       "16  Hi  Blood tests in March revealed that I had a...  \n",
       "17  Hello,Vit B12 is a water soluble vitamin of b-...  \n",
       "18  Dear Doctor and other users of this forum,  I ...  \n",
       "19  Hello, mike1486,  I'm sorry to hear of your di...  \n",
       "20  Hello, I have been having stomach bloating 30-...  "
      ]
     },
     "execution_count": 61,
     "metadata": {},
     "output_type": "execute_result"
    }
   ],
   "source": [
    "reshape_df.head(20)"
   ]
  },
  {
   "cell_type": "code",
   "execution_count": 62,
   "metadata": {
    "ExecuteTime": {
     "end_time": "2018-08-24T03:46:00.945900Z",
     "start_time": "2018-08-24T03:46:00.939548Z"
    }
   },
   "outputs": [
    {
     "data": {
      "text/plain": [
       "array(['Female', 'Male', nan], dtype=object)"
      ]
     },
     "execution_count": 62,
     "metadata": {},
     "output_type": "execute_result"
    }
   ],
   "source": [
    "reshape_df.gender.unique()"
   ]
  },
  {
   "cell_type": "code",
   "execution_count": 63,
   "metadata": {
    "ExecuteTime": {
     "end_time": "2018-08-24T03:46:01.212175Z",
     "start_time": "2018-08-24T03:46:01.205666Z"
    }
   },
   "outputs": [
    {
     "data": {
      "text/plain": [
       "array(['Patient', 'Doctor'], dtype=object)"
      ]
     },
     "execution_count": 63,
     "metadata": {},
     "output_type": "execute_result"
    }
   ],
   "source": [
    "reshape_df.role_dummy.unique()"
   ]
  },
  {
   "cell_type": "markdown",
   "metadata": {},
   "source": [
    "##### map gender and role"
   ]
  },
  {
   "cell_type": "code",
   "execution_count": 66,
   "metadata": {
    "ExecuteTime": {
     "end_time": "2018-08-24T03:46:13.165369Z",
     "start_time": "2018-08-24T03:46:13.154451Z"
    }
   },
   "outputs": [],
   "source": [
    "reshape_df['gender_dummy'] = reshape_df['gender'].map({'Female': 1, 'Male': 0, pd.np.nan: -1}).astype(int)\n",
    "reshape_df['role_dummy'] = reshape_df['role_dummy'].map({'Patient': 1, 'Doctor': 0})"
   ]
  },
  {
   "cell_type": "code",
   "execution_count": 67,
   "metadata": {
    "ExecuteTime": {
     "end_time": "2018-08-24T03:46:13.360493Z",
     "start_time": "2018-08-24T03:46:13.353599Z"
    }
   },
   "outputs": [
    {
     "data": {
      "text/plain": [
       "array([ 1,  0, -1])"
      ]
     },
     "execution_count": 67,
     "metadata": {},
     "output_type": "execute_result"
    }
   ],
   "source": [
    "reshape_df.gender_dummy.unique()"
   ]
  },
  {
   "cell_type": "code",
   "execution_count": 68,
   "metadata": {
    "ExecuteTime": {
     "end_time": "2018-08-24T03:46:13.840682Z",
     "start_time": "2018-08-24T03:46:13.833903Z"
    }
   },
   "outputs": [
    {
     "data": {
      "text/plain": [
       "array([ nan])"
      ]
     },
     "execution_count": 68,
     "metadata": {},
     "output_type": "execute_result"
    }
   ],
   "source": [
    "reshape_df.role_dummy.unique()"
   ]
  },
  {
   "cell_type": "markdown",
   "metadata": {},
   "source": [
    "add disease"
   ]
  },
  {
   "cell_type": "code",
   "execution_count": 69,
   "metadata": {
    "ExecuteTime": {
     "end_time": "2018-08-24T03:46:15.344495Z",
     "start_time": "2018-08-24T03:46:15.340000Z"
    }
   },
   "outputs": [],
   "source": [
    "reshape_df['disease'] = name"
   ]
  },
  {
   "cell_type": "markdown",
   "metadata": {},
   "source": [
    "drop gender column"
   ]
  },
  {
   "cell_type": "code",
   "execution_count": 70,
   "metadata": {
    "ExecuteTime": {
     "end_time": "2018-08-24T03:46:15.729488Z",
     "start_time": "2018-08-24T03:46:15.721796Z"
    }
   },
   "outputs": [],
   "source": [
    "reshape_df.drop(columns=['gender'], inplace=True)"
   ]
  },
  {
   "cell_type": "code",
   "execution_count": 71,
   "metadata": {
    "ExecuteTime": {
     "end_time": "2018-08-24T03:46:15.941442Z",
     "start_time": "2018-08-24T03:46:15.915738Z"
    }
   },
   "outputs": [
    {
     "data": {
      "text/html": [
       "<div>\n",
       "<style scoped>\n",
       "    .dataframe tbody tr th:only-of-type {\n",
       "        vertical-align: middle;\n",
       "    }\n",
       "\n",
       "    .dataframe tbody tr th {\n",
       "        vertical-align: top;\n",
       "    }\n",
       "\n",
       "    .dataframe thead th {\n",
       "        text-align: right;\n",
       "    }\n",
       "</style>\n",
       "<table border=\"1\" class=\"dataframe\">\n",
       "  <thead>\n",
       "    <tr style=\"text-align: right;\">\n",
       "      <th></th>\n",
       "      <th>age</th>\n",
       "      <th>politeness</th>\n",
       "      <th>politeness_web</th>\n",
       "      <th>question_flag</th>\n",
       "      <th>role_dummy</th>\n",
       "      <th>text</th>\n",
       "      <th>gender_dummy</th>\n",
       "      <th>disease</th>\n",
       "    </tr>\n",
       "  </thead>\n",
       "  <tbody>\n",
       "    <tr>\n",
       "      <th>0</th>\n",
       "      <td>36.0</td>\n",
       "      <td>0.71</td>\n",
       "      <td>0.00</td>\n",
       "      <td>1</td>\n",
       "      <td>NaN</td>\n",
       "      <td>HI,  I AM A 28Y/O FEMALE WITH FIBRO AND RA. I ...</td>\n",
       "      <td>1</td>\n",
       "      <td>Gastroenterology Topics</td>\n",
       "    </tr>\n",
       "    <tr>\n",
       "      <th>1</th>\n",
       "      <td>69.0</td>\n",
       "      <td>0.97</td>\n",
       "      <td>0.80</td>\n",
       "      <td>0</td>\n",
       "      <td>NaN</td>\n",
       "      <td>Hi, It is possible that long term aspirin inta...</td>\n",
       "      <td>0</td>\n",
       "      <td>Gastroenterology Topics</td>\n",
       "    </tr>\n",
       "    <tr>\n",
       "      <th>2</th>\n",
       "      <td>37.0</td>\n",
       "      <td>0.57</td>\n",
       "      <td>0.62</td>\n",
       "      <td>1</td>\n",
       "      <td>NaN</td>\n",
       "      <td>Dear All.I need some immediate advice in a mat...</td>\n",
       "      <td>0</td>\n",
       "      <td>Gastroenterology Topics</td>\n",
       "    </tr>\n",
       "    <tr>\n",
       "      <th>3</th>\n",
       "      <td>68.0</td>\n",
       "      <td>0.92</td>\n",
       "      <td>0.78</td>\n",
       "      <td>0</td>\n",
       "      <td>NaN</td>\n",
       "      <td>Hello,It is quite common for travelers to get ...</td>\n",
       "      <td>0</td>\n",
       "      <td>Gastroenterology Topics</td>\n",
       "    </tr>\n",
       "    <tr>\n",
       "      <th>4</th>\n",
       "      <td>53.0</td>\n",
       "      <td>0.88</td>\n",
       "      <td>0.75</td>\n",
       "      <td>1</td>\n",
       "      <td>NaN</td>\n",
       "      <td>Hello,  After going through a bit of an ordeal...</td>\n",
       "      <td>0</td>\n",
       "      <td>Gastroenterology Topics</td>\n",
       "    </tr>\n",
       "  </tbody>\n",
       "</table>\n",
       "</div>"
      ],
      "text/plain": [
       "    age  politeness  politeness_web  question_flag  role_dummy  \\\n",
       "0  36.0        0.71            0.00              1         NaN   \n",
       "1  69.0        0.97            0.80              0         NaN   \n",
       "2  37.0        0.57            0.62              1         NaN   \n",
       "3  68.0        0.92            0.78              0         NaN   \n",
       "4  53.0        0.88            0.75              1         NaN   \n",
       "\n",
       "                                                text  gender_dummy  \\\n",
       "0  HI,  I AM A 28Y/O FEMALE WITH FIBRO AND RA. I ...             1   \n",
       "1  Hi, It is possible that long term aspirin inta...             0   \n",
       "2  Dear All.I need some immediate advice in a mat...             0   \n",
       "3  Hello,It is quite common for travelers to get ...             0   \n",
       "4  Hello,  After going through a bit of an ordeal...             0   \n",
       "\n",
       "                   disease  \n",
       "0  Gastroenterology Topics  \n",
       "1  Gastroenterology Topics  \n",
       "2  Gastroenterology Topics  \n",
       "3  Gastroenterology Topics  \n",
       "4  Gastroenterology Topics  "
      ]
     },
     "execution_count": 71,
     "metadata": {},
     "output_type": "execute_result"
    }
   ],
   "source": [
    "reshape_df.head()"
   ]
  },
  {
   "cell_type": "markdown",
   "metadata": {},
   "source": [
    "##### unique id"
   ]
  },
  {
   "cell_type": "markdown",
   "metadata": {},
   "source": [
    "add unique id for each question/answer:\n",
    "- `q` as question prefix\n",
    "- `a` as answer prefix"
   ]
  },
  {
   "cell_type": "code",
   "execution_count": null,
   "metadata": {
    "ExecuteTime": {
     "end_time": "2018-08-24T03:52:26.326417Z",
     "start_time": "2018-08-24T03:52:23.641192Z"
    }
   },
   "outputs": [],
   "source": [
    "reshape_df['id'] = None\n",
    "qi = -1\n",
    "for row_index, series in reshape_df[['question_flag']].iterrows():\n",
    "    q_flag = series.question_flag\n",
    "    if q_flag:\n",
    "        qi += 1\n",
    "        aj = 0\n",
    "        reshape_df.loc[row_index, 'id'] = 'q{}'.format(qi)\n",
    "    else:\n",
    "        reshape_df.loc[row_index, 'id'] = 'a{}_{}'.format(qi, aj)\n",
    "        aj += 1"
   ]
  },
  {
   "cell_type": "markdown",
   "metadata": {},
   "source": [
    "good. make a wrapper"
   ]
  },
  {
   "cell_type": "markdown",
   "metadata": {},
   "source": [
    "---"
   ]
  },
  {
   "cell_type": "markdown",
   "metadata": {},
   "source": [
    "#### wrapper"
   ]
  },
  {
   "cell_type": "code",
   "execution_count": 78,
   "metadata": {
    "ExecuteTime": {
     "end_time": "2018-08-24T03:53:09.194985Z",
     "start_time": "2018-08-24T03:53:09.188942Z"
    }
   },
   "outputs": [],
   "source": [
    "def parse_web_score(score_string):\n",
    "    ''' parse politeness score by web interface'''\n",
    "    score_string = score_string.lower()\n",
    "    if 'neutral' in score_string:\n",
    "        return 0\n",
    "    else:\n",
    "        score = int(score_string.split(': ')[-1].replace('%', ''))/100\n",
    "    if 'impolite' in score_string:\n",
    "        return -score\n",
    "    else:\n",
    "        return score"
   ]
  },
  {
   "cell_type": "code",
   "execution_count": 83,
   "metadata": {
    "ExecuteTime": {
     "end_time": "2018-08-24T03:53:55.626932Z",
     "start_time": "2018-08-24T03:53:55.606953Z"
    }
   },
   "outputs": [],
   "source": [
    "def parser(name):\n",
    "    base_dir = '../excel-data/'\n",
    "    df = pd.read_table(base_dir+'offline/score_{}.xls'.format(name))\n",
    "    df.columns = df.columns.str.lower().str.replace(' ', '_')\n",
    "\n",
    "    web_score_df = pd.read_table(base_dir+'web/score_{}.xls'.format(name), usecols=[19, 20])\n",
    "    web_score_df.columns = web_score_df.columns.str.lower().str.replace(' ', '_') + '_web'\n",
    "    ## parse web score\n",
    "    for col in web_score_df.columns:\n",
    "        web_score_df[col] = web_score_df[col].map(parse_web_score)\n",
    "\n",
    "    ## merge the two\n",
    "    for col in web_score_df.columns:\n",
    "        df[col] = web_score_df[col].values\n",
    "\n",
    "    ## now get to the hard part: `question_no=0` means a ___reset___ of a thread, therefore the `question` may have already been in the list.\n",
    "    ## i will just drop duplicate\n",
    "    reshape_l = list()\n",
    "    q_columns = ['question', 'asker_gender', 'asker_type', 'asker_age', 'question_score', 'question_score_web']\n",
    "    a_columns = ['answer', 'answerer_gender', 'answerer_type', 'answerer_age', 'answer_score', 'answer_score_web']\n",
    "    reshape_columns = ['text', 'gender', 'role_dummy', 'age', 'politeness', 'politeness_web', 'question_flag']\n",
    "    for i, series in df.iterrows():\n",
    "        q_list = series.loc[q_columns].tolist()\n",
    "        if q_list not in reshape_l:\n",
    "            q_list.append(1)\n",
    "            reshape_l.append(dict(zip(reshape_columns, q_list)))\n",
    "        a_list = series.loc[a_columns].tolist()\n",
    "        a_list.append(0)\n",
    "        reshape_l.append(dict(zip(reshape_columns, a_list)))\n",
    "    reshape_df = pd.DataFrame(reshape_l)\n",
    "    ## remove duplicate values\n",
    "    reshape_df.drop_duplicates(inplace=True)\n",
    "\n",
    "    ##### extra columns\n",
    "    ## map gender and role\n",
    "    reshape_df['gender_dummy'] = reshape_df['gender'].map({'Female': 1, 'Male': 0, pd.np.nan: -1}).astype(int)\n",
    "    reshape_df['role_dummy'] = reshape_df['role_dummy'].map({'Patient': 1, 'Doctor': 0})\n",
    "    ## add disease\n",
    "    reshape_df['disease'] = name\n",
    "    ## drop gender column\n",
    "    reshape_df.drop(columns=['gender'], inplace=True)\n",
    "    ##### add unique id\n",
    "    reshape_df['id'] = None\n",
    "    qi = -1\n",
    "    for row_index, series in reshape_df[['question_flag']].iterrows():\n",
    "        q_flag = series.question_flag\n",
    "        if q_flag:\n",
    "            qi += 1\n",
    "            aj = 0\n",
    "            reshape_df.loc[row_index, 'id'] = 'q{}'.format(qi)\n",
    "        else:\n",
    "            reshape_df.loc[row_index, 'id'] = 'a{}_{}'.format(qi, aj)\n",
    "            aj += 1\n",
    "    ## return\n",
    "    return reshape_df"
   ]
  },
  {
   "cell_type": "code",
   "execution_count": 84,
   "metadata": {
    "ExecuteTime": {
     "end_time": "2018-08-24T03:53:55.813714Z",
     "start_time": "2018-08-24T03:53:55.807832Z"
    }
   },
   "outputs": [
    {
     "data": {
      "text/plain": [
       "['Dermatology Topics',\n",
       " 'Psychiatric Topics',\n",
       " 'Lymphoma',\n",
       " 'Breast Cancer',\n",
       " 'AIDS',\n",
       " 'Fertility',\n",
       " 'Ischemic Heart Disease',\n",
       " 'Pancreatic Cancer',\n",
       " 'Miscellaneous Chest Diseases',\n",
       " 'Chest Symptoms']"
      ]
     },
     "execution_count": 84,
     "metadata": {},
     "output_type": "execute_result"
    }
   ],
   "source": [
    "name_list[:10]"
   ]
  },
  {
   "cell_type": "code",
   "execution_count": 85,
   "metadata": {
    "ExecuteTime": {
     "end_time": "2018-08-24T03:53:57.796437Z",
     "start_time": "2018-08-24T03:53:56.917779Z"
    }
   },
   "outputs": [
    {
     "data": {
      "text/html": [
       "<div>\n",
       "<style scoped>\n",
       "    .dataframe tbody tr th:only-of-type {\n",
       "        vertical-align: middle;\n",
       "    }\n",
       "\n",
       "    .dataframe tbody tr th {\n",
       "        vertical-align: top;\n",
       "    }\n",
       "\n",
       "    .dataframe thead th {\n",
       "        text-align: right;\n",
       "    }\n",
       "</style>\n",
       "<table border=\"1\" class=\"dataframe\">\n",
       "  <thead>\n",
       "    <tr style=\"text-align: right;\">\n",
       "      <th></th>\n",
       "      <th>age</th>\n",
       "      <th>politeness</th>\n",
       "      <th>politeness_web</th>\n",
       "      <th>question_flag</th>\n",
       "      <th>role_dummy</th>\n",
       "      <th>text</th>\n",
       "      <th>gender_dummy</th>\n",
       "      <th>disease</th>\n",
       "      <th>id</th>\n",
       "    </tr>\n",
       "  </thead>\n",
       "  <tbody>\n",
       "    <tr>\n",
       "      <th>0</th>\n",
       "      <td>54.0</td>\n",
       "      <td>0.97</td>\n",
       "      <td>0.78</td>\n",
       "      <td>1</td>\n",
       "      <td>1</td>\n",
       "      <td>I want to know if it is truly standard procedu...</td>\n",
       "      <td>1</td>\n",
       "      <td>Breast Cancer</td>\n",
       "      <td>q0</td>\n",
       "    </tr>\n",
       "    <tr>\n",
       "      <th>1</th>\n",
       "      <td>69.0</td>\n",
       "      <td>0.95</td>\n",
       "      <td>0.81</td>\n",
       "      <td>0</td>\n",
       "      <td>0</td>\n",
       "      <td>Hi, Your query is rather ambiguous. You indica...</td>\n",
       "      <td>0</td>\n",
       "      <td>Breast Cancer</td>\n",
       "      <td>a0_0</td>\n",
       "    </tr>\n",
       "    <tr>\n",
       "      <th>2</th>\n",
       "      <td>61.0</td>\n",
       "      <td>0.96</td>\n",
       "      <td>0.78</td>\n",
       "      <td>1</td>\n",
       "      <td>1</td>\n",
       "      <td>I'm a 53 year old female, currently recovering...</td>\n",
       "      <td>1</td>\n",
       "      <td>Breast Cancer</td>\n",
       "      <td>q1</td>\n",
       "    </tr>\n",
       "    <tr>\n",
       "      <th>3</th>\n",
       "      <td>69.0</td>\n",
       "      <td>0.73</td>\n",
       "      <td>0.00</td>\n",
       "      <td>0</td>\n",
       "      <td>0</td>\n",
       "      <td>Hi,   A rash/redness over the breast can be ca...</td>\n",
       "      <td>0</td>\n",
       "      <td>Breast Cancer</td>\n",
       "      <td>a1_0</td>\n",
       "    </tr>\n",
       "    <tr>\n",
       "      <th>5</th>\n",
       "      <td>68.0</td>\n",
       "      <td>0.79</td>\n",
       "      <td>0.00</td>\n",
       "      <td>0</td>\n",
       "      <td>0</td>\n",
       "      <td>Hello,A dermatologist opinion would be in favo...</td>\n",
       "      <td>0</td>\n",
       "      <td>Breast Cancer</td>\n",
       "      <td>a1_1</td>\n",
       "    </tr>\n",
       "  </tbody>\n",
       "</table>\n",
       "</div>"
      ],
      "text/plain": [
       "    age  politeness  politeness_web  question_flag  role_dummy  \\\n",
       "0  54.0        0.97            0.78              1           1   \n",
       "1  69.0        0.95            0.81              0           0   \n",
       "2  61.0        0.96            0.78              1           1   \n",
       "3  69.0        0.73            0.00              0           0   \n",
       "5  68.0        0.79            0.00              0           0   \n",
       "\n",
       "                                                text  gender_dummy  \\\n",
       "0  I want to know if it is truly standard procedu...             1   \n",
       "1  Hi, Your query is rather ambiguous. You indica...             0   \n",
       "2  I'm a 53 year old female, currently recovering...             1   \n",
       "3  Hi,   A rash/redness over the breast can be ca...             0   \n",
       "5  Hello,A dermatologist opinion would be in favo...             0   \n",
       "\n",
       "         disease    id  \n",
       "0  Breast Cancer    q0  \n",
       "1  Breast Cancer  a0_0  \n",
       "2  Breast Cancer    q1  \n",
       "3  Breast Cancer  a1_0  \n",
       "5  Breast Cancer  a1_1  "
      ]
     },
     "execution_count": 85,
     "metadata": {},
     "output_type": "execute_result"
    }
   ],
   "source": [
    "parser(name_list[3]).head()"
   ]
  },
  {
   "cell_type": "markdown",
   "metadata": {},
   "source": [
    "---"
   ]
  },
  {
   "cell_type": "markdown",
   "metadata": {},
   "source": [
    "#### run for all"
   ]
  },
  {
   "cell_type": "code",
   "execution_count": 86,
   "metadata": {
    "ExecuteTime": {
     "end_time": "2018-08-24T03:55:33.437151Z",
     "start_time": "2018-08-24T03:54:15.320557Z"
    }
   },
   "outputs": [
    {
     "name": "stdout",
     "output_type": "stream",
     "text": [
      "Dermatology Topics\n",
      "Psychiatric Topics\n",
      "Lymphoma\n",
      "Breast Cancer\n",
      "AIDS\n",
      "Fertility\n",
      "Ischemic Heart Disease\n",
      "Pancreatic Cancer\n",
      "Miscellaneous Chest Diseases\n",
      "Chest Symptoms\n",
      "Gynecology\n",
      "Dialysis\n",
      "Pericardial Diseases\n",
      "Testicular Cancer\n",
      "Head and Neck Cancer\n",
      "Gall Bladder Cancer\n",
      "Chemotherapy\n",
      "Surgery Topics\n",
      "Neurology Topics\n",
      "Cervical Cancer\n",
      "Ovarian Cancer\n",
      "Brain Tumors\n",
      "Diabetes\n",
      "Hypertension\n",
      "Miscellaneous Cancer Topics\n",
      "Pharmacy & Drug Topics\n",
      "Cardiomyopathy\n",
      "Sarcoma\n",
      "Spinal Problems and Back Pain\n",
      "Sexually Transmitted Diseases\n",
      "Leukemia\n",
      "Skin Cancer\n",
      "Osteoporosis\n",
      "Cancer of Unknown Primary\n",
      "Anal Cancer\n",
      "Bone Infections\n",
      "Cardiology Treatment Modalities\n",
      "Multiple Myeloma\n",
      "Antidepressants\n",
      "Valvular Heart Diseases\n",
      "Diseases of the Aorta\n",
      "Pediatric Topics\n",
      "Esophageal Cancer\n",
      "Arrhythmias\n",
      "Lung Cancer\n",
      "Miscellaneous Orthopedic Topics\n",
      "Viral Infections\n",
      "Cardiology Symptoms\n",
      "Bladder Cancer\n",
      "Ear Nose and Throat\n",
      "Fungal Infections\n",
      "Nephrotic Syndrome\n",
      "Endocrinology Topics\n",
      "Cardiology Diagnostics\n",
      "Carcinoid Tumor\n",
      "Rheumatology Topics\n",
      "Degenerative Bone Diseases\n",
      "Renal Cell Cancer\n",
      "Heart Failure\n",
      "Endometrial Cancer\n",
      "Nephrology Symptoms\n",
      "Miscellaneous Cardiology Topics\n",
      "Male Sexual Disorders\n",
      "Glomerulonephritis\n",
      "Oral and Dental Diseases\n",
      "Nutrition & Diet\n",
      "Gastroenterology Topics\n",
      "Other Infections\n",
      "Sports Medicine\n",
      "Congenital Heart Disease in Adults\n",
      "Pneumonia\n",
      "Bone Trauma and Fractures\n",
      "Asthma\n",
      "Colon and Rectal Cancers\n",
      "Prostate Cancer\n",
      "Obstetrics\n",
      "Liver Diseases\n",
      "Female Sexual Disorders\n",
      "Urology Topics\n",
      "Headaches\n",
      "Urinary Tract Infections\n",
      "Joint Surgery\n",
      "Eye Diseases (Ophthalmology)\n",
      "Miscellaneous Nephrology Topics\n",
      "Renal Failure\n",
      "Clots & Anticoagulants\n",
      "Endocrine Cancers\n",
      "Liver Cancer\n",
      "Hematology Topics\n"
     ]
    }
   ],
   "source": [
    "not_working_list = list()\n",
    "l = list()\n",
    "\n",
    "for name in name_list:\n",
    "    print(name)\n",
    "    try:\n",
    "        l.append(parser(name))\n",
    "    except:\n",
    "        not_working_list.append(name)\n",
    "df = pd.concat(l, ignore_index=True)"
   ]
  },
  {
   "cell_type": "code",
   "execution_count": 91,
   "metadata": {
    "ExecuteTime": {
     "end_time": "2018-08-24T03:56:14.852647Z",
     "start_time": "2018-08-24T03:56:14.846682Z"
    }
   },
   "outputs": [
    {
     "data": {
      "text/plain": [
       "87"
      ]
     },
     "execution_count": 91,
     "metadata": {},
     "output_type": "execute_result"
    }
   ],
   "source": [
    "len(l)"
   ]
  },
  {
   "cell_type": "code",
   "execution_count": 92,
   "metadata": {
    "ExecuteTime": {
     "end_time": "2018-08-24T03:56:15.084876Z",
     "start_time": "2018-08-24T03:56:15.079430Z"
    }
   },
   "outputs": [
    {
     "data": {
      "text/plain": [
       "['Gynecology', 'Other Infections']"
      ]
     },
     "execution_count": 92,
     "metadata": {},
     "output_type": "execute_result"
    }
   ],
   "source": [
    "not_working_list"
   ]
  },
  {
   "cell_type": "code",
   "execution_count": 93,
   "metadata": {
    "ExecuteTime": {
     "end_time": "2018-08-24T03:56:36.999236Z",
     "start_time": "2018-08-24T03:56:36.968565Z"
    }
   },
   "outputs": [
    {
     "data": {
      "text/html": [
       "<div>\n",
       "<style scoped>\n",
       "    .dataframe tbody tr th:only-of-type {\n",
       "        vertical-align: middle;\n",
       "    }\n",
       "\n",
       "    .dataframe tbody tr th {\n",
       "        vertical-align: top;\n",
       "    }\n",
       "\n",
       "    .dataframe thead th {\n",
       "        text-align: right;\n",
       "    }\n",
       "</style>\n",
       "<table border=\"1\" class=\"dataframe\">\n",
       "  <thead>\n",
       "    <tr style=\"text-align: right;\">\n",
       "      <th></th>\n",
       "      <th>age</th>\n",
       "      <th>politeness</th>\n",
       "      <th>politeness_web</th>\n",
       "      <th>question_flag</th>\n",
       "      <th>role_dummy</th>\n",
       "      <th>text</th>\n",
       "      <th>gender_dummy</th>\n",
       "      <th>disease</th>\n",
       "      <th>id</th>\n",
       "    </tr>\n",
       "  </thead>\n",
       "  <tbody>\n",
       "    <tr>\n",
       "      <th>0</th>\n",
       "      <td>30.0</td>\n",
       "      <td>0.80</td>\n",
       "      <td>0.68</td>\n",
       "      <td>1</td>\n",
       "      <td>1</td>\n",
       "      <td>hi there,  I am a 22 year old male of Indian b...</td>\n",
       "      <td>0</td>\n",
       "      <td>Dermatology Topics</td>\n",
       "      <td>q0</td>\n",
       "    </tr>\n",
       "    <tr>\n",
       "      <th>1</th>\n",
       "      <td>68.0</td>\n",
       "      <td>0.68</td>\n",
       "      <td>0.00</td>\n",
       "      <td>0</td>\n",
       "      <td>0</td>\n",
       "      <td>Hello,Hypertrichosis relates to excessive grow...</td>\n",
       "      <td>0</td>\n",
       "      <td>Dermatology Topics</td>\n",
       "      <td>a0_0</td>\n",
       "    </tr>\n",
       "    <tr>\n",
       "      <th>2</th>\n",
       "      <td>31.0</td>\n",
       "      <td>0.95</td>\n",
       "      <td>0.97</td>\n",
       "      <td>1</td>\n",
       "      <td>1</td>\n",
       "      <td>Hello. i am a 23 year old female and ive had a...</td>\n",
       "      <td>1</td>\n",
       "      <td>Dermatology Topics</td>\n",
       "      <td>q1</td>\n",
       "    </tr>\n",
       "    <tr>\n",
       "      <th>3</th>\n",
       "      <td>68.0</td>\n",
       "      <td>0.94</td>\n",
       "      <td>0.93</td>\n",
       "      <td>0</td>\n",
       "      <td>0</td>\n",
       "      <td>Hello,Post inflammatory pigmentation(PIH) is e...</td>\n",
       "      <td>0</td>\n",
       "      <td>Dermatology Topics</td>\n",
       "      <td>a1_0</td>\n",
       "    </tr>\n",
       "    <tr>\n",
       "      <th>4</th>\n",
       "      <td>30.0</td>\n",
       "      <td>0.87</td>\n",
       "      <td>0.88</td>\n",
       "      <td>1</td>\n",
       "      <td>1</td>\n",
       "      <td>I first noticed these when I was younger, befo...</td>\n",
       "      <td>0</td>\n",
       "      <td>Dermatology Topics</td>\n",
       "      <td>q2</td>\n",
       "    </tr>\n",
       "  </tbody>\n",
       "</table>\n",
       "</div>"
      ],
      "text/plain": [
       "    age  politeness  politeness_web  question_flag  role_dummy  \\\n",
       "0  30.0        0.80            0.68              1           1   \n",
       "1  68.0        0.68            0.00              0           0   \n",
       "2  31.0        0.95            0.97              1           1   \n",
       "3  68.0        0.94            0.93              0           0   \n",
       "4  30.0        0.87            0.88              1           1   \n",
       "\n",
       "                                                text  gender_dummy  \\\n",
       "0  hi there,  I am a 22 year old male of Indian b...             0   \n",
       "1  Hello,Hypertrichosis relates to excessive grow...             0   \n",
       "2  Hello. i am a 23 year old female and ive had a...             1   \n",
       "3  Hello,Post inflammatory pigmentation(PIH) is e...             0   \n",
       "4  I first noticed these when I was younger, befo...             0   \n",
       "\n",
       "              disease    id  \n",
       "0  Dermatology Topics    q0  \n",
       "1  Dermatology Topics  a0_0  \n",
       "2  Dermatology Topics    q1  \n",
       "3  Dermatology Topics  a1_0  \n",
       "4  Dermatology Topics    q2  "
      ]
     },
     "execution_count": 93,
     "metadata": {},
     "output_type": "execute_result"
    }
   ],
   "source": [
    "df.head()"
   ]
  },
  {
   "cell_type": "code",
   "execution_count": 94,
   "metadata": {
    "ExecuteTime": {
     "end_time": "2018-08-24T03:56:37.709949Z",
     "start_time": "2018-08-24T03:56:37.687031Z"
    }
   },
   "outputs": [
    {
     "data": {
      "text/plain": [
       "Dermatology Topics                    3653\n",
       "Gastroenterology Topics               3647\n",
       "Neurology Topics                      2670\n",
       "Psychiatric Topics                    2090\n",
       "Obstetrics                            2017\n",
       "Pediatric Topics                      1789\n",
       "Urology Topics                        1713\n",
       "Cardiology Symptoms                   1564\n",
       "Male Sexual Disorders                 1467\n",
       "Miscellaneous Orthopedic Topics       1385\n",
       "Endocrinology Topics                  1307\n",
       "Sexually Transmitted Diseases         1202\n",
       "Lymphoma                              1118\n",
       "Rheumatology Topics                   1096\n",
       "Chest Symptoms                        1057\n",
       "Pharmacy & Drug Topics                1034\n",
       "Bone Trauma and Fractures              975\n",
       "Ear Nose and Throat                    966\n",
       "Hematology Topics                      959\n",
       "Spinal Problems and Back Pain          836\n",
       "Surgery Topics                         830\n",
       "Antidepressants                        816\n",
       "Fertility                              763\n",
       "Headaches                              750\n",
       "Miscellaneous Cardiology Topics        677\n",
       "Female Sexual Disorders                551\n",
       "Breast Cancer                          504\n",
       "Valvular Heart Diseases                491\n",
       "Arrhythmias                            445\n",
       "Urinary Tract Infections               445\n",
       "                                      ... \n",
       "Skin Cancer                            119\n",
       "Pneumonia                              111\n",
       "Renal Failure                          101\n",
       "Degenerative Bone Diseases              96\n",
       "Ovarian Cancer                          85\n",
       "Congenital Heart Disease in Adults      74\n",
       "Cervical Cancer                         73\n",
       "Diseases of the Aorta                   71\n",
       "Bone Infections                         64\n",
       "Liver Cancer                            56\n",
       "Esophageal Cancer                       54\n",
       "Pancreatic Cancer                       53\n",
       "Osteoporosis                            52\n",
       "Endocrine Cancers                       49\n",
       "Cardiomyopathy                          49\n",
       "Pericardial Diseases                    47\n",
       "Cardiology Treatment Modalities         46\n",
       "Cancer of Unknown Primary               43\n",
       "Chemotherapy                            38\n",
       "Prostate Cancer                         37\n",
       "Multiple Myeloma                        36\n",
       "Nephrotic Syndrome                      35\n",
       "Bladder Cancer                          27\n",
       "Carcinoid Tumor                         25\n",
       "Sarcoma                                 24\n",
       "Glomerulonephritis                      22\n",
       "Endometrial Cancer                      17\n",
       "Dialysis                                17\n",
       "Renal Cell Cancer                       16\n",
       "Gall Bladder Cancer                     15\n",
       "Name: disease, Length: 87, dtype: int64"
      ]
     },
     "execution_count": 94,
     "metadata": {},
     "output_type": "execute_result"
    }
   ],
   "source": [
    "df.disease.value_counts()"
   ]
  },
  {
   "cell_type": "code",
   "execution_count": 95,
   "metadata": {
    "ExecuteTime": {
     "end_time": "2018-08-24T03:56:45.694581Z",
     "start_time": "2018-08-24T03:56:43.826385Z"
    }
   },
   "outputs": [],
   "source": [
    "df.to_csv('ohc_v1.csv', index=False)"
   ]
  },
  {
   "cell_type": "markdown",
   "metadata": {},
   "source": [
    "---"
   ]
  },
  {
   "cell_type": "markdown",
   "metadata": {},
   "source": [
    "#### sentiment score"
   ]
  },
  {
   "cell_type": "code",
   "execution_count": 96,
   "metadata": {
    "ExecuteTime": {
     "end_time": "2018-08-24T03:56:49.429122Z",
     "start_time": "2018-08-24T03:56:48.892387Z"
    }
   },
   "outputs": [],
   "source": [
    "df = pd.read_csv('ohc_v1.csv')"
   ]
  },
  {
   "cell_type": "code",
   "execution_count": 97,
   "metadata": {
    "ExecuteTime": {
     "end_time": "2018-08-24T03:56:49.439126Z",
     "start_time": "2018-08-24T03:56:49.431303Z"
    }
   },
   "outputs": [
    {
     "data": {
      "text/plain": [
       "1"
      ]
     },
     "execution_count": 97,
     "metadata": {},
     "output_type": "execute_result"
    }
   ],
   "source": [
    "df.text.isnull().sum()"
   ]
  },
  {
   "cell_type": "code",
   "execution_count": 98,
   "metadata": {
    "ExecuteTime": {
     "end_time": "2018-08-24T03:56:49.484979Z",
     "start_time": "2018-08-24T03:56:49.440956Z"
    }
   },
   "outputs": [
    {
     "data": {
      "text/html": [
       "<div>\n",
       "<style scoped>\n",
       "    .dataframe tbody tr th:only-of-type {\n",
       "        vertical-align: middle;\n",
       "    }\n",
       "\n",
       "    .dataframe tbody tr th {\n",
       "        vertical-align: top;\n",
       "    }\n",
       "\n",
       "    .dataframe thead th {\n",
       "        text-align: right;\n",
       "    }\n",
       "</style>\n",
       "<table border=\"1\" class=\"dataframe\">\n",
       "  <thead>\n",
       "    <tr style=\"text-align: right;\">\n",
       "      <th></th>\n",
       "      <th>age</th>\n",
       "      <th>politeness</th>\n",
       "      <th>politeness_web</th>\n",
       "      <th>question_flag</th>\n",
       "      <th>role_dummy</th>\n",
       "      <th>text</th>\n",
       "      <th>gender_dummy</th>\n",
       "      <th>disease</th>\n",
       "      <th>id</th>\n",
       "    </tr>\n",
       "  </thead>\n",
       "  <tbody>\n",
       "    <tr>\n",
       "      <th>8326</th>\n",
       "      <td>NaN</td>\n",
       "      <td>0.31</td>\n",
       "      <td>-0.67</td>\n",
       "      <td>0</td>\n",
       "      <td>1</td>\n",
       "      <td>NaN</td>\n",
       "      <td>-1</td>\n",
       "      <td>Fertility</td>\n",
       "      <td>a303_0</td>\n",
       "    </tr>\n",
       "  </tbody>\n",
       "</table>\n",
       "</div>"
      ],
      "text/plain": [
       "      age  politeness  politeness_web  question_flag  role_dummy text  \\\n",
       "8326  NaN        0.31           -0.67              0           1  NaN   \n",
       "\n",
       "      gender_dummy    disease      id  \n",
       "8326            -1  Fertility  a303_0  "
      ]
     },
     "execution_count": 98,
     "metadata": {},
     "output_type": "execute_result"
    }
   ],
   "source": [
    "df[df.text.isnull()]"
   ]
  },
  {
   "cell_type": "code",
   "execution_count": 99,
   "metadata": {
    "ExecuteTime": {
     "end_time": "2018-08-24T03:56:51.558826Z",
     "start_time": "2018-08-24T03:56:51.211029Z"
    }
   },
   "outputs": [],
   "source": [
    "from joblib import Parallel, delayed"
   ]
  },
  {
   "cell_type": "code",
   "execution_count": 100,
   "metadata": {
    "ExecuteTime": {
     "end_time": "2018-08-24T03:56:51.864872Z",
     "start_time": "2018-08-24T03:56:51.562334Z"
    }
   },
   "outputs": [],
   "source": [
    "from vaderSentiment.vaderSentiment import SentimentIntensityAnalyzer\n",
    "global analyzer\n",
    "analyzer = SentimentIntensityAnalyzer()"
   ]
  },
  {
   "cell_type": "markdown",
   "metadata": {},
   "source": [
    "use a wrapper so that null can be done"
   ]
  },
  {
   "cell_type": "code",
   "execution_count": 101,
   "metadata": {
    "ExecuteTime": {
     "end_time": "2018-08-24T03:56:53.090936Z",
     "start_time": "2018-08-24T03:56:53.085897Z"
    }
   },
   "outputs": [],
   "source": [
    "def sentiment_wrapper(s):\n",
    "    global analyzer\n",
    "    if pd.isnull(s):\n",
    "        return None\n",
    "    else:\n",
    "        return analyzer.polarity_scores(s)['compound']"
   ]
  },
  {
   "cell_type": "code",
   "execution_count": 102,
   "metadata": {
    "ExecuteTime": {
     "end_time": "2018-08-24T03:57:45.673434Z",
     "start_time": "2018-08-24T03:56:58.325192Z"
    }
   },
   "outputs": [],
   "source": [
    "df['sentiment_score'] = Parallel(n_jobs=5)(delayed(sentiment_wrapper)(s) for s in df['text'].values)"
   ]
  },
  {
   "cell_type": "code",
   "execution_count": 103,
   "metadata": {
    "ExecuteTime": {
     "end_time": "2018-08-24T03:57:45.716150Z",
     "start_time": "2018-08-24T03:57:45.678545Z"
    }
   },
   "outputs": [
    {
     "data": {
      "text/html": [
       "<div>\n",
       "<style scoped>\n",
       "    .dataframe tbody tr th:only-of-type {\n",
       "        vertical-align: middle;\n",
       "    }\n",
       "\n",
       "    .dataframe tbody tr th {\n",
       "        vertical-align: top;\n",
       "    }\n",
       "\n",
       "    .dataframe thead th {\n",
       "        text-align: right;\n",
       "    }\n",
       "</style>\n",
       "<table border=\"1\" class=\"dataframe\">\n",
       "  <thead>\n",
       "    <tr style=\"text-align: right;\">\n",
       "      <th></th>\n",
       "      <th>age</th>\n",
       "      <th>politeness</th>\n",
       "      <th>politeness_web</th>\n",
       "      <th>question_flag</th>\n",
       "      <th>role_dummy</th>\n",
       "      <th>text</th>\n",
       "      <th>gender_dummy</th>\n",
       "      <th>disease</th>\n",
       "      <th>id</th>\n",
       "      <th>sentiment_score</th>\n",
       "    </tr>\n",
       "  </thead>\n",
       "  <tbody>\n",
       "    <tr>\n",
       "      <th>0</th>\n",
       "      <td>30.0</td>\n",
       "      <td>0.80</td>\n",
       "      <td>0.68</td>\n",
       "      <td>1</td>\n",
       "      <td>1</td>\n",
       "      <td>hi there,  I am a 22 year old male of Indian b...</td>\n",
       "      <td>0</td>\n",
       "      <td>Dermatology Topics</td>\n",
       "      <td>q0</td>\n",
       "      <td>0.6130</td>\n",
       "    </tr>\n",
       "    <tr>\n",
       "      <th>1</th>\n",
       "      <td>68.0</td>\n",
       "      <td>0.68</td>\n",
       "      <td>0.00</td>\n",
       "      <td>0</td>\n",
       "      <td>0</td>\n",
       "      <td>Hello,Hypertrichosis relates to excessive grow...</td>\n",
       "      <td>0</td>\n",
       "      <td>Dermatology Topics</td>\n",
       "      <td>a0_0</td>\n",
       "      <td>0.9169</td>\n",
       "    </tr>\n",
       "    <tr>\n",
       "      <th>2</th>\n",
       "      <td>31.0</td>\n",
       "      <td>0.95</td>\n",
       "      <td>0.97</td>\n",
       "      <td>1</td>\n",
       "      <td>1</td>\n",
       "      <td>Hello. i am a 23 year old female and ive had a...</td>\n",
       "      <td>1</td>\n",
       "      <td>Dermatology Topics</td>\n",
       "      <td>q1</td>\n",
       "      <td>-0.4399</td>\n",
       "    </tr>\n",
       "    <tr>\n",
       "      <th>3</th>\n",
       "      <td>68.0</td>\n",
       "      <td>0.94</td>\n",
       "      <td>0.93</td>\n",
       "      <td>0</td>\n",
       "      <td>0</td>\n",
       "      <td>Hello,Post inflammatory pigmentation(PIH) is e...</td>\n",
       "      <td>0</td>\n",
       "      <td>Dermatology Topics</td>\n",
       "      <td>a1_0</td>\n",
       "      <td>0.9376</td>\n",
       "    </tr>\n",
       "    <tr>\n",
       "      <th>4</th>\n",
       "      <td>30.0</td>\n",
       "      <td>0.87</td>\n",
       "      <td>0.88</td>\n",
       "      <td>1</td>\n",
       "      <td>1</td>\n",
       "      <td>I first noticed these when I was younger, befo...</td>\n",
       "      <td>0</td>\n",
       "      <td>Dermatology Topics</td>\n",
       "      <td>q2</td>\n",
       "      <td>0.8038</td>\n",
       "    </tr>\n",
       "  </tbody>\n",
       "</table>\n",
       "</div>"
      ],
      "text/plain": [
       "    age  politeness  politeness_web  question_flag  role_dummy  \\\n",
       "0  30.0        0.80            0.68              1           1   \n",
       "1  68.0        0.68            0.00              0           0   \n",
       "2  31.0        0.95            0.97              1           1   \n",
       "3  68.0        0.94            0.93              0           0   \n",
       "4  30.0        0.87            0.88              1           1   \n",
       "\n",
       "                                                text  gender_dummy  \\\n",
       "0  hi there,  I am a 22 year old male of Indian b...             0   \n",
       "1  Hello,Hypertrichosis relates to excessive grow...             0   \n",
       "2  Hello. i am a 23 year old female and ive had a...             1   \n",
       "3  Hello,Post inflammatory pigmentation(PIH) is e...             0   \n",
       "4  I first noticed these when I was younger, befo...             0   \n",
       "\n",
       "              disease    id  sentiment_score  \n",
       "0  Dermatology Topics    q0           0.6130  \n",
       "1  Dermatology Topics  a0_0           0.9169  \n",
       "2  Dermatology Topics    q1          -0.4399  \n",
       "3  Dermatology Topics  a1_0           0.9376  \n",
       "4  Dermatology Topics    q2           0.8038  "
      ]
     },
     "execution_count": 103,
     "metadata": {},
     "output_type": "execute_result"
    }
   ],
   "source": [
    "df.head()"
   ]
  },
  {
   "cell_type": "code",
   "execution_count": 104,
   "metadata": {
    "ExecuteTime": {
     "end_time": "2018-08-24T03:57:47.573150Z",
     "start_time": "2018-08-24T03:57:45.719597Z"
    }
   },
   "outputs": [],
   "source": [
    "df.to_csv('ohc_with_sentiment.csv', index=False)"
   ]
  },
  {
   "cell_type": "markdown",
   "metadata": {},
   "source": [
    "---"
   ]
  },
  {
   "cell_type": "markdown",
   "metadata": {},
   "source": [
    "#### topic modeling"
   ]
  },
  {
   "cell_type": "code",
   "execution_count": 105,
   "metadata": {
    "ExecuteTime": {
     "end_time": "2018-08-24T03:58:01.442275Z",
     "start_time": "2018-08-24T03:57:55.472389Z"
    }
   },
   "outputs": [],
   "source": [
    "from gensim import corpora\n",
    "from gensim.models import ldamodel, ldamulticore\n",
    "from gensim.models.coherencemodel import CoherenceModel"
   ]
  },
  {
   "cell_type": "code",
   "execution_count": 106,
   "metadata": {
    "ExecuteTime": {
     "end_time": "2018-08-24T03:58:01.972366Z",
     "start_time": "2018-08-24T03:58:01.446233Z"
    }
   },
   "outputs": [],
   "source": [
    "df = pd.read_csv('ohc_with_sentiment.csv')"
   ]
  },
  {
   "cell_type": "markdown",
   "metadata": {},
   "source": [
    "##### prepare"
   ]
  },
  {
   "cell_type": "code",
   "execution_count": 107,
   "metadata": {
    "ExecuteTime": {
     "end_time": "2018-08-24T03:58:07.862506Z",
     "start_time": "2018-08-24T03:58:01.974575Z"
    }
   },
   "outputs": [],
   "source": [
    "from tm_preprocessor import Preprocessor"
   ]
  },
  {
   "cell_type": "code",
   "execution_count": 108,
   "metadata": {
    "ExecuteTime": {
     "end_time": "2018-08-24T03:58:07.892432Z",
     "start_time": "2018-08-24T03:58:07.866022Z"
    }
   },
   "outputs": [],
   "source": [
    "idx = df[df.text.isnull()].index\n",
    "df.loc[idx, 'text'] = 'None'"
   ]
  },
  {
   "cell_type": "code",
   "execution_count": 109,
   "metadata": {
    "ExecuteTime": {
     "end_time": "2018-08-24T03:58:07.931176Z",
     "start_time": "2018-08-24T03:58:07.895630Z"
    }
   },
   "outputs": [
    {
     "data": {
      "text/plain": [
       "\"Dear Dr. Fouad,  Thank you for your reply.  I haven't seen a hematologist since my initial marrow biopsy seven years ago.  I was told it could be nutritional, to take a vitamin and put on a few pounds, which hasn't helped.  My internist monitors my counts periodically but doesn't seem interested in finding out the cause, though thankfully my counts are only mildly decreased.  I just hope they stay that way.  I've been doing a lot of research to determine the possible cause myself.  I think I've read everything there is to read on aplasic anemia on the net.  It appears to be a very severe disease.  Is it possible to have only mild aplastic anemia?    One more question, please.  In your response, you stated that soy is used to counteract marrow toxicity.  Can you explain briefly how this is possible?  Thanks again!     Autumn\""
      ]
     },
     "execution_count": 109,
     "metadata": {},
     "output_type": "execute_result"
    }
   ],
   "source": [
    "doc_arr = df.text.values.tolist()\n",
    "doc_arr[-1]"
   ]
  },
  {
   "cell_type": "code",
   "execution_count": 110,
   "metadata": {
    "ExecuteTime": {
     "end_time": "2018-08-24T03:58:08.132270Z",
     "start_time": "2018-08-24T03:58:07.934594Z"
    }
   },
   "outputs": [],
   "source": [
    "preprocessor = Preprocessor(doc_arr)"
   ]
  },
  {
   "cell_type": "code",
   "execution_count": 111,
   "metadata": {
    "ExecuteTime": {
     "end_time": "2018-08-24T03:58:09.481675Z",
     "start_time": "2018-08-24T03:58:08.134518Z"
    }
   },
   "outputs": [],
   "source": [
    "preprocessor.remove_digits_punctuactions()"
   ]
  },
  {
   "cell_type": "code",
   "execution_count": 112,
   "metadata": {
    "ExecuteTime": {
     "end_time": "2018-08-24T03:58:09.487892Z",
     "start_time": "2018-08-24T03:58:09.483797Z"
    }
   },
   "outputs": [
    {
     "data": {
      "text/plain": [
       "array([\"b'a'\", 'b\"a\\'s\"', \"b'ableabout'\", \"b'about'\", \"b'above'\",\n",
       "       \"b'according'\", \"b'accordingly'\", \"b'across'\", \"b'actually'\",\n",
       "       \"b'after'\"], \n",
       "      dtype='<U16')"
      ]
     },
     "execution_count": 112,
     "metadata": {},
     "output_type": "execute_result"
    }
   ],
   "source": [
    "preprocessor.stopwords[:10]"
   ]
  },
  {
   "cell_type": "code",
   "execution_count": 113,
   "metadata": {
    "ExecuteTime": {
     "end_time": "2018-08-24T03:58:09.495454Z",
     "start_time": "2018-08-24T03:58:09.489835Z"
    }
   },
   "outputs": [
    {
     "data": {
      "text/plain": [
       "'a'"
      ]
     },
     "execution_count": 113,
     "metadata": {},
     "output_type": "execute_result"
    }
   ],
   "source": [
    "eval(preprocessor.stopwords[0]).decode('utf-8')"
   ]
  },
  {
   "cell_type": "markdown",
   "metadata": {},
   "source": [
    "convert them from byte to string"
   ]
  },
  {
   "cell_type": "code",
   "execution_count": 114,
   "metadata": {
    "ExecuteTime": {
     "end_time": "2018-08-24T03:58:09.501927Z",
     "start_time": "2018-08-24T03:58:09.497330Z"
    }
   },
   "outputs": [],
   "source": [
    "def b2s(b):\n",
    "    return eval(b).decode('utf8')"
   ]
  },
  {
   "cell_type": "code",
   "execution_count": 115,
   "metadata": {
    "ExecuteTime": {
     "end_time": "2018-08-24T03:58:09.514776Z",
     "start_time": "2018-08-24T03:58:09.503784Z"
    }
   },
   "outputs": [
    {
     "data": {
      "text/plain": [
       "['a',\n",
       " \"a's\",\n",
       " 'ableabout',\n",
       " 'about',\n",
       " 'above',\n",
       " 'according',\n",
       " 'accordingly',\n",
       " 'across',\n",
       " 'actually',\n",
       " 'after']"
      ]
     },
     "execution_count": 115,
     "metadata": {},
     "output_type": "execute_result"
    }
   ],
   "source": [
    "preprocessor.stopwords = list(map(b2s, preprocessor.stopwords))\n",
    "preprocessor.stopwords[:10]"
   ]
  },
  {
   "cell_type": "code",
   "execution_count": 116,
   "metadata": {
    "ExecuteTime": {
     "end_time": "2018-08-24T03:58:49.249231Z",
     "start_time": "2018-08-24T03:58:09.516764Z"
    }
   },
   "outputs": [],
   "source": [
    "preprocessor.remove_stopwords()"
   ]
  },
  {
   "cell_type": "code",
   "execution_count": 117,
   "metadata": {
    "ExecuteTime": {
     "end_time": "2018-08-24T03:58:49.254006Z",
     "start_time": "2018-08-24T03:58:49.251284Z"
    }
   },
   "outputs": [],
   "source": [
    "min_freq = 0\n",
    "max_freq = 1\n",
    "min_len = 3"
   ]
  },
  {
   "cell_type": "code",
   "execution_count": 118,
   "metadata": {
    "ExecuteTime": {
     "end_time": "2018-08-24T03:58:49.302029Z",
     "start_time": "2018-08-24T03:58:49.255665Z"
    }
   },
   "outputs": [],
   "source": [
    "import nltk\n",
    "lemmatizer = nltk.WordNetLemmatizer()\n",
    "#stemmer  = nltk.PorterStemmer()"
   ]
  },
  {
   "cell_type": "code",
   "execution_count": 119,
   "metadata": {
    "ExecuteTime": {
     "end_time": "2018-08-24T04:02:18.725138Z",
     "start_time": "2018-08-24T03:58:49.303813Z"
    }
   },
   "outputs": [],
   "source": [
    "preprocessor.normalize(lemmatizer, min_freq, max_freq, min_len)"
   ]
  },
  {
   "cell_type": "code",
   "execution_count": 120,
   "metadata": {
    "ExecuteTime": {
     "end_time": "2018-08-24T04:02:19.348291Z",
     "start_time": "2018-08-24T04:02:18.727245Z"
    }
   },
   "outputs": [
    {
     "data": {
      "text/plain": [
       "(73944, 2)"
      ]
     },
     "execution_count": 120,
     "metadata": {},
     "output_type": "execute_result"
    }
   ],
   "source": [
    "preprocessor.get_word_ranking().shape"
   ]
  },
  {
   "cell_type": "markdown",
   "metadata": {},
   "source": [
    "export"
   ]
  },
  {
   "cell_type": "code",
   "execution_count": 121,
   "metadata": {
    "ExecuteTime": {
     "end_time": "2018-08-24T04:02:29.131613Z",
     "start_time": "2018-08-24T04:02:19.350311Z"
    }
   },
   "outputs": [],
   "source": [
    "preprocessor.serialize(format_='MmCorpus', path='./')"
   ]
  },
  {
   "cell_type": "markdown",
   "metadata": {},
   "source": [
    "dictionary"
   ]
  },
  {
   "cell_type": "code",
   "execution_count": 122,
   "metadata": {
    "ExecuteTime": {
     "end_time": "2018-08-24T04:02:32.486346Z",
     "start_time": "2018-08-24T04:02:29.133503Z"
    }
   },
   "outputs": [],
   "source": [
    "dictionary = corpora.Dictionary(preprocessor.corpus)"
   ]
  },
  {
   "cell_type": "code",
   "execution_count": 123,
   "metadata": {
    "ExecuteTime": {
     "end_time": "2018-08-24T04:02:32.569472Z",
     "start_time": "2018-08-24T04:02:32.488410Z"
    }
   },
   "outputs": [],
   "source": [
    "dictionary.save('corpus.dict')"
   ]
  },
  {
   "cell_type": "code",
   "execution_count": 124,
   "metadata": {
    "ExecuteTime": {
     "end_time": "2018-08-24T04:02:32.575201Z",
     "start_time": "2018-08-24T04:02:32.571499Z"
    }
   },
   "outputs": [
    {
     "data": {
      "text/plain": [
       "73944"
      ]
     },
     "execution_count": 124,
     "metadata": {},
     "output_type": "execute_result"
    }
   ],
   "source": [
    "len(dictionary.token2id)"
   ]
  },
  {
   "cell_type": "markdown",
   "metadata": {},
   "source": [
    "##### run with different k"
   ]
  },
  {
   "cell_type": "code",
   "execution_count": 125,
   "metadata": {
    "ExecuteTime": {
     "end_time": "2018-08-24T04:02:32.588365Z",
     "start_time": "2018-08-24T04:02:32.577186Z"
    }
   },
   "outputs": [
    {
     "data": {
      "text/plain": [
       "47881"
      ]
     },
     "execution_count": 125,
     "metadata": {},
     "output_type": "execute_result"
    }
   ],
   "source": [
    "corpus = corpora.MmCorpus('corpus_MmCorpus.dump')\n",
    "corpus.num_docs"
   ]
  },
  {
   "cell_type": "code",
   "execution_count": null,
   "metadata": {
    "ExecuteTime": {
     "end_time": "2018-08-15T05:10:48.387641Z",
     "start_time": "2018-08-15T05:10:48.326988Z"
    }
   },
   "outputs": [],
   "source": [
    "dictionary = corpora.Dictionary.load('corpus.dict')"
   ]
  },
  {
   "cell_type": "code",
   "execution_count": 126,
   "metadata": {
    "ExecuteTime": {
     "end_time": "2018-08-24T04:02:59.009358Z",
     "start_time": "2018-08-24T04:02:59.005588Z"
    }
   },
   "outputs": [],
   "source": [
    "num_workers = 15"
   ]
  },
  {
   "cell_type": "code",
   "execution_count": 127,
   "metadata": {
    "ExecuteTime": {
     "end_time": "2018-08-24T04:25:27.991563Z",
     "start_time": "2018-08-24T04:03:11.623047Z"
    }
   },
   "outputs": [
    {
     "name": "stderr",
     "output_type": "stream",
     "text": [
      "/Users/zhiyzuo/.virtualenvs/Zuo-Py3/lib/python3.6/site-packages/gensim/models/ldamodel.py:1023: RuntimeWarning: divide by zero encountered in log\n",
      "  diff = np.log(self.expElogbeta)\n"
     ]
    }
   ],
   "source": [
    "result_list = list()\n",
    "for k in range(50, 151, 10):\n",
    "    param_dict = {'num_topics': k, \n",
    "                  'workers': num_workers,\n",
    "                  'chunksize': len(corpus)//3, \n",
    "                  'passes': 5}\n",
    "    \n",
    "    lda = ldamulticore.LdaMulticore(corpus=corpus, \n",
    "                                    id2word=dictionary, \n",
    "                                    **param_dict)\n",
    "    cm = CoherenceModel(model=lda, corpus=corpus,\n",
    "                        coherence='u_mass')\n",
    "    score = cm.get_coherence()\n",
    "    result_list.append({'num_topics': k, 'coherence': score})"
   ]
  },
  {
   "cell_type": "code",
   "execution_count": 128,
   "metadata": {
    "ExecuteTime": {
     "end_time": "2018-08-24T04:32:50.867152Z",
     "start_time": "2018-08-24T04:32:50.848316Z"
    }
   },
   "outputs": [],
   "source": [
    "result_df = pd.DataFrame(result_list)\n",
    "result_df.to_csv('topic_coherence.csv', index=False)"
   ]
  },
  {
   "cell_type": "code",
   "execution_count": 129,
   "metadata": {
    "ExecuteTime": {
     "end_time": "2018-08-24T04:32:51.602010Z",
     "start_time": "2018-08-24T04:32:51.580714Z"
    }
   },
   "outputs": [
    {
     "data": {
      "text/html": [
       "<div>\n",
       "<style scoped>\n",
       "    .dataframe tbody tr th:only-of-type {\n",
       "        vertical-align: middle;\n",
       "    }\n",
       "\n",
       "    .dataframe tbody tr th {\n",
       "        vertical-align: top;\n",
       "    }\n",
       "\n",
       "    .dataframe thead th {\n",
       "        text-align: right;\n",
       "    }\n",
       "</style>\n",
       "<table border=\"1\" class=\"dataframe\">\n",
       "  <thead>\n",
       "    <tr style=\"text-align: right;\">\n",
       "      <th></th>\n",
       "      <th>coherence</th>\n",
       "      <th>num_topics</th>\n",
       "    </tr>\n",
       "  </thead>\n",
       "  <tbody>\n",
       "    <tr>\n",
       "      <th>0</th>\n",
       "      <td>-1.956231</td>\n",
       "      <td>50</td>\n",
       "    </tr>\n",
       "    <tr>\n",
       "      <th>1</th>\n",
       "      <td>-1.954615</td>\n",
       "      <td>60</td>\n",
       "    </tr>\n",
       "    <tr>\n",
       "      <th>2</th>\n",
       "      <td>-1.949213</td>\n",
       "      <td>70</td>\n",
       "    </tr>\n",
       "    <tr>\n",
       "      <th>3</th>\n",
       "      <td>-2.030527</td>\n",
       "      <td>80</td>\n",
       "    </tr>\n",
       "    <tr>\n",
       "      <th>4</th>\n",
       "      <td>-2.050053</td>\n",
       "      <td>90</td>\n",
       "    </tr>\n",
       "    <tr>\n",
       "      <th>5</th>\n",
       "      <td>-2.045317</td>\n",
       "      <td>100</td>\n",
       "    </tr>\n",
       "    <tr>\n",
       "      <th>6</th>\n",
       "      <td>-2.120689</td>\n",
       "      <td>110</td>\n",
       "    </tr>\n",
       "    <tr>\n",
       "      <th>7</th>\n",
       "      <td>-2.073066</td>\n",
       "      <td>120</td>\n",
       "    </tr>\n",
       "    <tr>\n",
       "      <th>8</th>\n",
       "      <td>-2.038321</td>\n",
       "      <td>130</td>\n",
       "    </tr>\n",
       "    <tr>\n",
       "      <th>9</th>\n",
       "      <td>-2.063613</td>\n",
       "      <td>140</td>\n",
       "    </tr>\n",
       "    <tr>\n",
       "      <th>10</th>\n",
       "      <td>-2.014346</td>\n",
       "      <td>150</td>\n",
       "    </tr>\n",
       "  </tbody>\n",
       "</table>\n",
       "</div>"
      ],
      "text/plain": [
       "    coherence  num_topics\n",
       "0   -1.956231          50\n",
       "1   -1.954615          60\n",
       "2   -1.949213          70\n",
       "3   -2.030527          80\n",
       "4   -2.050053          90\n",
       "5   -2.045317         100\n",
       "6   -2.120689         110\n",
       "7   -2.073066         120\n",
       "8   -2.038321         130\n",
       "9   -2.063613         140\n",
       "10  -2.014346         150"
      ]
     },
     "execution_count": 129,
     "metadata": {},
     "output_type": "execute_result"
    }
   ],
   "source": [
    "result_df"
   ]
  },
  {
   "cell_type": "code",
   "execution_count": 130,
   "metadata": {
    "ExecuteTime": {
     "end_time": "2018-08-24T04:32:55.011996Z",
     "start_time": "2018-08-24T04:32:54.220759Z"
    }
   },
   "outputs": [
    {
     "data": {
      "text/plain": [
       "<matplotlib.axes._subplots.AxesSubplot at 0x2b638c436128>"
      ]
     },
     "execution_count": 130,
     "metadata": {},
     "output_type": "execute_result"
    },
    {
     "data": {
      "image/png": "[encoded data removed]",
      "text/plain": [
       "<Figure size 432x288 with 1 Axes>"
      ]
     },
     "metadata": {},
     "output_type": "display_data"
    }
   ],
   "source": [
    "result_df.plot(x='num_topics', y='coherence', kind='line')"
   ]
  },
  {
   "cell_type": "markdown",
   "metadata": {},
   "source": [
    "##### best lda model"
   ]
  },
  {
   "cell_type": "code",
   "execution_count": 131,
   "metadata": {
    "ExecuteTime": {
     "end_time": "2018-08-24T04:32:59.186874Z",
     "start_time": "2018-08-24T04:32:59.178186Z"
    }
   },
   "outputs": [
    {
     "data": {
      "text/plain": [
       "70"
      ]
     },
     "execution_count": 131,
     "metadata": {},
     "output_type": "execute_result"
    }
   ],
   "source": [
    "best_k = result_df.set_index('num_topics')['coherence'].idxmax()\n",
    "best_k"
   ]
  },
  {
   "cell_type": "code",
   "execution_count": 132,
   "metadata": {
    "ExecuteTime": {
     "end_time": "2018-08-24T04:33:05.899015Z",
     "start_time": "2018-08-24T04:33:05.894824Z"
    }
   },
   "outputs": [],
   "source": [
    "param_dict = {'num_topics': best_k, 'workers': num_workers,\n",
    "              'chunksize': len(corpus)//3, 'passes': 5}"
   ]
  },
  {
   "cell_type": "code",
   "execution_count": 133,
   "metadata": {
    "ExecuteTime": {
     "end_time": "2018-08-24T04:34:43.192485Z",
     "start_time": "2018-08-24T04:33:07.598648Z"
    }
   },
   "outputs": [],
   "source": [
    "lda = ldamulticore.LdaMulticore(corpus=corpus, id2word=dictionary, \n",
    "                                **param_dict)"
   ]
  },
  {
   "cell_type": "markdown",
   "metadata": {},
   "source": [
    "save model"
   ]
  },
  {
   "cell_type": "code",
   "execution_count": 134,
   "metadata": {
    "ExecuteTime": {
     "end_time": "2018-08-24T04:34:43.199213Z",
     "start_time": "2018-08-24T04:34:43.196088Z"
    }
   },
   "outputs": [],
   "source": [
    "model_path = \"./ldamodel\""
   ]
  },
  {
   "cell_type": "code",
   "execution_count": 135,
   "metadata": {
    "ExecuteTime": {
     "end_time": "2018-08-24T04:34:44.386695Z",
     "start_time": "2018-08-24T04:34:43.200785Z"
    }
   },
   "outputs": [],
   "source": [
    "lda.save(model_path)"
   ]
  },
  {
   "cell_type": "markdown",
   "metadata": {},
   "source": [
    "topic representation"
   ]
  },
  {
   "cell_type": "code",
   "execution_count": 136,
   "metadata": {
    "ExecuteTime": {
     "end_time": "2018-08-24T04:34:44.425658Z",
     "start_time": "2018-08-24T04:34:44.390564Z"
    }
   },
   "outputs": [
    {
     "name": "stdout",
     "output_type": "stream",
     "text": [
      "topic 69\n",
      "0.020*\"baby\" + 0.009*\"doctor\" + 0.008*\"symptom\" + 0.008*\"body\" + 0.008*\"milk\" + 0.007*\"feel\" + 0.007*\"year\" + 0.007*\"eat\" + 0.006*\"pain\" + 0.006*\"test\"\n",
      "topic 16\n",
      "0.015*\"normal\" + 0.013*\"tsh\" + 0.012*\"thyroid\" + 0.012*\"eye\" + 0.010*\"test\" + 0.010*\"heart\" + 0.009*\"chest\" + 0.009*\"year\" + 0.009*\"feel\" + 0.008*\"day\"\n",
      "topic 44\n",
      "0.029*\"pain\" + 0.010*\"stool\" + 0.010*\"back\" + 0.009*\"time\" + 0.009*\"year\" + 0.008*\"week\" + 0.007*\"bowel\" + 0.007*\"movement\" + 0.007*\"doctor\" + 0.006*\"area\"\n",
      "topic 65\n",
      "0.013*\"problem\" + 0.009*\"normal\" + 0.009*\"blood\" + 0.009*\"year\" + 0.009*\"doctor\" + 0.008*\"back\" + 0.008*\"feel\" + 0.007*\"pain\" + 0.006*\"test\" + 0.006*\"thing\"\n",
      "topic 46\n",
      "0.061*\"pain\" + 0.022*\"chest\" + 0.013*\"doctor\" + 0.010*\"test\" + 0.009*\"infection\" + 0.008*\"muscle\" + 0.008*\"day\" + 0.007*\"back\" + 0.007*\"breath\" + 0.007*\"due\"\n",
      "topic 58\n",
      "0.011*\"symptom\" + 0.009*\"doctor\" + 0.008*\"year\" + 0.006*\"back\" + 0.006*\"heart\" + 0.006*\"time\" + 0.006*\"problem\" + 0.006*\"side\" + 0.006*\"feel\" + 0.005*\"pain\"\n",
      "topic 30\n",
      "0.028*\"headache\" + 0.028*\"nerve\" + 0.017*\"pain\" + 0.016*\"migraine\" + 0.013*\"problem\" + 0.013*\"symptom\" + 0.012*\"neck\" + 0.010*\"spinal\" + 0.010*\"neurologist\" + 0.008*\"spine\"\n",
      "topic 19\n",
      "0.026*\"level\" + 0.024*\"test\" + 0.022*\"blood\" + 0.022*\"normal\" + 0.019*\"urine\" + 0.016*\"kidney\" + 0.015*\"result\" + 0.013*\"liver\" + 0.011*\"high\" + 0.011*\"range\"\n",
      "topic 66\n",
      "0.022*\"test\" + 0.016*\"pain\" + 0.012*\"back\" + 0.010*\"year\" + 0.010*\"doctor\" + 0.010*\"infection\" + 0.009*\"week\" + 0.009*\"blood\" + 0.009*\"time\" + 0.007*\"symptom\"\n",
      "topic 25\n",
      "0.015*\"blood\" + 0.012*\"feel\" + 0.011*\"time\" + 0.009*\"bowel\" + 0.008*\"doctor\" + 0.008*\"year\" + 0.007*\"test\" + 0.007*\"normal\" + 0.006*\"week\" + 0.006*\"problem\"\n"
     ]
    }
   ],
   "source": [
    "for i, topic_str in lda.show_topics(num_topics=10, num_words=10):\n",
    "    print('topic', i)\n",
    "    print(topic_str)"
   ]
  },
  {
   "cell_type": "markdown",
   "metadata": {},
   "source": [
    "##### get wide table"
   ]
  },
  {
   "cell_type": "code",
   "execution_count": 137,
   "metadata": {
    "ExecuteTime": {
     "end_time": "2018-08-24T04:35:34.514437Z",
     "start_time": "2018-08-24T04:35:34.505591Z"
    }
   },
   "outputs": [
    {
     "data": {
      "text/plain": [
       "gensim.interfaces.TransformedCorpus"
      ]
     },
     "execution_count": 137,
     "metadata": {},
     "output_type": "execute_result"
    }
   ],
   "source": [
    "doc_topic_dist = lda.get_document_topics(bow=corpus, minimum_probability=0)\n",
    "type(doc_topic_dist)"
   ]
  },
  {
   "cell_type": "code",
   "execution_count": 138,
   "metadata": {
    "ExecuteTime": {
     "end_time": "2018-08-24T04:35:38.423399Z",
     "start_time": "2018-08-24T04:35:38.417451Z"
    }
   },
   "outputs": [
    {
     "data": {
      "text/plain": [
       "47881"
      ]
     },
     "execution_count": 138,
     "metadata": {},
     "output_type": "execute_result"
    }
   ],
   "source": [
    "len(doc_topic_dist)"
   ]
  },
  {
   "cell_type": "code",
   "execution_count": 139,
   "metadata": {
    "ExecuteTime": {
     "end_time": "2018-08-24T04:38:11.881094Z",
     "start_time": "2018-08-24T04:35:39.145057Z"
    }
   },
   "outputs": [
    {
     "data": {
      "text/html": [
       "<div>\n",
       "<style scoped>\n",
       "    .dataframe tbody tr th:only-of-type {\n",
       "        vertical-align: middle;\n",
       "    }\n",
       "\n",
       "    .dataframe tbody tr th {\n",
       "        vertical-align: top;\n",
       "    }\n",
       "\n",
       "    .dataframe thead th {\n",
       "        text-align: right;\n",
       "    }\n",
       "</style>\n",
       "<table border=\"1\" class=\"dataframe\">\n",
       "  <thead>\n",
       "    <tr style=\"text-align: right;\">\n",
       "      <th></th>\n",
       "      <th>topic</th>\n",
       "      <th>probability</th>\n",
       "      <th>doc_index</th>\n",
       "    </tr>\n",
       "  </thead>\n",
       "  <tbody>\n",
       "    <tr>\n",
       "      <th>0</th>\n",
       "      <td>0</td>\n",
       "      <td>0.000420</td>\n",
       "      <td>0</td>\n",
       "    </tr>\n",
       "    <tr>\n",
       "      <th>1</th>\n",
       "      <td>1</td>\n",
       "      <td>0.152814</td>\n",
       "      <td>0</td>\n",
       "    </tr>\n",
       "  </tbody>\n",
       "</table>\n",
       "</div>"
      ],
      "text/plain": [
       "   topic  probability  doc_index\n",
       "0      0     0.000420          0\n",
       "1      1     0.152814          0"
      ]
     },
     "execution_count": 139,
     "metadata": {},
     "output_type": "execute_result"
    }
   ],
   "source": [
    "doc_topic_df = list()\n",
    "for i in range(len(doc_topic_dist)):\n",
    "    tmp_df = pd.DataFrame(doc_topic_dist[i],\n",
    "                          columns=['topic', 'probability'])\n",
    "    tmp_df['doc_index'] = i\n",
    "    doc_topic_df.append(tmp_df)\n",
    "doc_topic_df = pd.concat(doc_topic_df, ignore_index=True)\n",
    "doc_topic_df.head(2)"
   ]
  },
  {
   "cell_type": "markdown",
   "metadata": {},
   "source": [
    "reshape dataframe"
   ]
  },
  {
   "cell_type": "code",
   "execution_count": 140,
   "metadata": {
    "ExecuteTime": {
     "end_time": "2018-08-24T04:38:14.150110Z",
     "start_time": "2018-08-24T04:38:11.883540Z"
    }
   },
   "outputs": [
    {
     "data": {
      "text/html": [
       "<div>\n",
       "<style scoped>\n",
       "    .dataframe tbody tr th:only-of-type {\n",
       "        vertical-align: middle;\n",
       "    }\n",
       "\n",
       "    .dataframe tbody tr th {\n",
       "        vertical-align: top;\n",
       "    }\n",
       "\n",
       "    .dataframe thead th {\n",
       "        text-align: right;\n",
       "    }\n",
       "</style>\n",
       "<table border=\"1\" class=\"dataframe\">\n",
       "  <thead>\n",
       "    <tr style=\"text-align: right;\">\n",
       "      <th>topic</th>\n",
       "      <th>0</th>\n",
       "      <th>1</th>\n",
       "      <th>2</th>\n",
       "      <th>3</th>\n",
       "      <th>4</th>\n",
       "      <th>5</th>\n",
       "      <th>6</th>\n",
       "      <th>7</th>\n",
       "      <th>8</th>\n",
       "      <th>9</th>\n",
       "      <th>...</th>\n",
       "      <th>60</th>\n",
       "      <th>61</th>\n",
       "      <th>62</th>\n",
       "      <th>63</th>\n",
       "      <th>64</th>\n",
       "      <th>65</th>\n",
       "      <th>66</th>\n",
       "      <th>67</th>\n",
       "      <th>68</th>\n",
       "      <th>69</th>\n",
       "    </tr>\n",
       "    <tr>\n",
       "      <th>doc_index</th>\n",
       "      <th></th>\n",
       "      <th></th>\n",
       "      <th></th>\n",
       "      <th></th>\n",
       "      <th></th>\n",
       "      <th></th>\n",
       "      <th></th>\n",
       "      <th></th>\n",
       "      <th></th>\n",
       "      <th></th>\n",
       "      <th></th>\n",
       "      <th></th>\n",
       "      <th></th>\n",
       "      <th></th>\n",
       "      <th></th>\n",
       "      <th></th>\n",
       "      <th></th>\n",
       "      <th></th>\n",
       "      <th></th>\n",
       "      <th></th>\n",
       "      <th></th>\n",
       "    </tr>\n",
       "  </thead>\n",
       "  <tbody>\n",
       "    <tr>\n",
       "      <th>0</th>\n",
       "      <td>0.000420</td>\n",
       "      <td>0.152814</td>\n",
       "      <td>0.000420</td>\n",
       "      <td>0.000420</td>\n",
       "      <td>0.000420</td>\n",
       "      <td>0.000420</td>\n",
       "      <td>0.000420</td>\n",
       "      <td>0.000420</td>\n",
       "      <td>0.000420</td>\n",
       "      <td>0.000420</td>\n",
       "      <td>...</td>\n",
       "      <td>0.000420</td>\n",
       "      <td>0.000420</td>\n",
       "      <td>0.000420</td>\n",
       "      <td>0.000420</td>\n",
       "      <td>0.000420</td>\n",
       "      <td>0.000420</td>\n",
       "      <td>0.000420</td>\n",
       "      <td>0.000420</td>\n",
       "      <td>0.337392</td>\n",
       "      <td>0.000420</td>\n",
       "    </tr>\n",
       "    <tr>\n",
       "      <th>1</th>\n",
       "      <td>0.368849</td>\n",
       "      <td>0.000161</td>\n",
       "      <td>0.000161</td>\n",
       "      <td>0.000161</td>\n",
       "      <td>0.000161</td>\n",
       "      <td>0.000161</td>\n",
       "      <td>0.091485</td>\n",
       "      <td>0.000161</td>\n",
       "      <td>0.000161</td>\n",
       "      <td>0.000161</td>\n",
       "      <td>...</td>\n",
       "      <td>0.000161</td>\n",
       "      <td>0.000161</td>\n",
       "      <td>0.000161</td>\n",
       "      <td>0.000161</td>\n",
       "      <td>0.000161</td>\n",
       "      <td>0.000161</td>\n",
       "      <td>0.000161</td>\n",
       "      <td>0.000161</td>\n",
       "      <td>0.000161</td>\n",
       "      <td>0.000161</td>\n",
       "    </tr>\n",
       "  </tbody>\n",
       "</table>\n",
       "<p>2 rows × 70 columns</p>\n",
       "</div>"
      ],
      "text/plain": [
       "topic            0         1         2         3         4         5   \\\n",
       "doc_index                                                               \n",
       "0          0.000420  0.152814  0.000420  0.000420  0.000420  0.000420   \n",
       "1          0.368849  0.000161  0.000161  0.000161  0.000161  0.000161   \n",
       "\n",
       "topic            6         7         8         9     ...           60  \\\n",
       "doc_index                                            ...                \n",
       "0          0.000420  0.000420  0.000420  0.000420    ...     0.000420   \n",
       "1          0.091485  0.000161  0.000161  0.000161    ...     0.000161   \n",
       "\n",
       "topic            61        62        63        64        65        66  \\\n",
       "doc_index                                                               \n",
       "0          0.000420  0.000420  0.000420  0.000420  0.000420  0.000420   \n",
       "1          0.000161  0.000161  0.000161  0.000161  0.000161  0.000161   \n",
       "\n",
       "topic            67        68        69  \n",
       "doc_index                                \n",
       "0          0.000420  0.337392  0.000420  \n",
       "1          0.000161  0.000161  0.000161  \n",
       "\n",
       "[2 rows x 70 columns]"
      ]
     },
     "execution_count": 140,
     "metadata": {},
     "output_type": "execute_result"
    }
   ],
   "source": [
    "wide_dt_df = doc_topic_df.pivot_table(index='doc_index', columns=['topic'], values='probability')\n",
    "wide_dt_df.head(2)"
   ]
  },
  {
   "cell_type": "code",
   "execution_count": 141,
   "metadata": {
    "ExecuteTime": {
     "end_time": "2018-08-24T04:38:37.429331Z",
     "start_time": "2018-08-24T04:38:29.843269Z"
    }
   },
   "outputs": [],
   "source": [
    "wide_dt_df.to_csv('doc-topic-df.csv')"
   ]
  },
  {
   "cell_type": "markdown",
   "metadata": {},
   "source": [
    "##### topical diverity"
   ]
  },
  {
   "cell_type": "code",
   "execution_count": 142,
   "metadata": {
    "ExecuteTime": {
     "end_time": "2018-08-24T04:38:37.437202Z",
     "start_time": "2018-08-24T04:38:37.433171Z"
    }
   },
   "outputs": [],
   "source": [
    "import scipy as sp"
   ]
  },
  {
   "cell_type": "code",
   "execution_count": 143,
   "metadata": {
    "ExecuteTime": {
     "end_time": "2018-08-24T04:38:37.457918Z",
     "start_time": "2018-08-24T04:38:37.440393Z"
    },
    "scrolled": true
   },
   "outputs": [
    {
     "data": {
      "text/plain": [
       "array([ 0.00042017,  0.15281428,  0.00042017,  0.00042017,  0.00042017])"
      ]
     },
     "execution_count": 143,
     "metadata": {},
     "output_type": "execute_result"
    }
   ],
   "source": [
    "wide_dt_df.loc[0].values[:5]"
   ]
  },
  {
   "cell_type": "code",
   "execution_count": 144,
   "metadata": {
    "ExecuteTime": {
     "end_time": "2018-08-24T04:38:37.471509Z",
     "start_time": "2018-08-24T04:38:37.461456Z"
    }
   },
   "outputs": [
    {
     "data": {
      "text/plain": [
       "1.2243835860691357"
      ]
     },
     "execution_count": 144,
     "metadata": {},
     "output_type": "execute_result"
    }
   ],
   "source": [
    "sp.stats.entropy(wide_dt_df.loc[0].values)"
   ]
  },
  {
   "cell_type": "code",
   "execution_count": 145,
   "metadata": {
    "ExecuteTime": {
     "end_time": "2018-08-24T04:38:37.508961Z",
     "start_time": "2018-08-24T04:38:37.474932Z"
    }
   },
   "outputs": [],
   "source": [
    "def calc_topic_diversity(i, val):\n",
    "    return i, sp.stats.entropy(val)"
   ]
  },
  {
   "cell_type": "code",
   "execution_count": 146,
   "metadata": {
    "ExecuteTime": {
     "end_time": "2018-08-24T04:38:37.579433Z",
     "start_time": "2018-08-24T04:38:37.512348Z"
    }
   },
   "outputs": [
    {
     "data": {
      "text/plain": [
       "(3, 1.2023147661693772)"
      ]
     },
     "execution_count": 146,
     "metadata": {},
     "output_type": "execute_result"
    }
   ],
   "source": [
    "i = 3\n",
    "calc_topic_diversity(i, wide_dt_df.loc[i].values)"
   ]
  },
  {
   "cell_type": "code",
   "execution_count": 147,
   "metadata": {
    "ExecuteTime": {
     "end_time": "2018-08-24T04:38:40.102349Z",
     "start_time": "2018-08-24T04:38:40.098931Z"
    }
   },
   "outputs": [],
   "source": [
    "n_jobs = 25"
   ]
  },
  {
   "cell_type": "code",
   "execution_count": 148,
   "metadata": {
    "ExecuteTime": {
     "end_time": "2018-08-24T04:38:49.195510Z",
     "start_time": "2018-08-24T04:38:42.993710Z"
    }
   },
   "outputs": [],
   "source": [
    "doc_topic_diversity_df = Parallel(n_jobs=n_jobs)(delayed(calc_topic_diversity)(i, val.values) for i, val in wide_dt_df.iterrows())\n",
    "doc_topic_diversity_df = pd.DataFrame(doc_topic_diversity_df, columns=['doc_index', 'topic_diversity'])"
   ]
  },
  {
   "cell_type": "code",
   "execution_count": 149,
   "metadata": {
    "ExecuteTime": {
     "end_time": "2018-08-24T04:38:49.213499Z",
     "start_time": "2018-08-24T04:38:49.199583Z"
    }
   },
   "outputs": [
    {
     "data": {
      "text/html": [
       "<div>\n",
       "<style scoped>\n",
       "    .dataframe tbody tr th:only-of-type {\n",
       "        vertical-align: middle;\n",
       "    }\n",
       "\n",
       "    .dataframe tbody tr th {\n",
       "        vertical-align: top;\n",
       "    }\n",
       "\n",
       "    .dataframe thead th {\n",
       "        text-align: right;\n",
       "    }\n",
       "</style>\n",
       "<table border=\"1\" class=\"dataframe\">\n",
       "  <thead>\n",
       "    <tr style=\"text-align: right;\">\n",
       "      <th></th>\n",
       "      <th>doc_index</th>\n",
       "      <th>topic_diversity</th>\n",
       "    </tr>\n",
       "  </thead>\n",
       "  <tbody>\n",
       "    <tr>\n",
       "      <th>0</th>\n",
       "      <td>0</td>\n",
       "      <td>1.224384</td>\n",
       "    </tr>\n",
       "    <tr>\n",
       "      <th>1</th>\n",
       "      <td>1</td>\n",
       "      <td>1.359934</td>\n",
       "    </tr>\n",
       "  </tbody>\n",
       "</table>\n",
       "</div>"
      ],
      "text/plain": [
       "   doc_index  topic_diversity\n",
       "0          0         1.224384\n",
       "1          1         1.359934"
      ]
     },
     "execution_count": 149,
     "metadata": {},
     "output_type": "execute_result"
    }
   ],
   "source": [
    "doc_topic_diversity_df.head(2)"
   ]
  },
  {
   "cell_type": "code",
   "execution_count": 150,
   "metadata": {
    "ExecuteTime": {
     "end_time": "2018-08-24T04:38:49.238573Z",
     "start_time": "2018-08-24T04:38:49.215859Z"
    }
   },
   "outputs": [
    {
     "data": {
      "text/plain": [
       "True"
      ]
     },
     "execution_count": 150,
     "metadata": {},
     "output_type": "execute_result"
    }
   ],
   "source": [
    "pd.np.all(doc_topic_diversity_df.doc_index==doc_topic_diversity_df.index)"
   ]
  },
  {
   "cell_type": "code",
   "execution_count": 151,
   "metadata": {
    "ExecuteTime": {
     "end_time": "2018-08-24T04:38:49.267400Z",
     "start_time": "2018-08-24T04:38:49.240858Z"
    }
   },
   "outputs": [
    {
     "data": {
      "text/plain": [
       "(47881, 47881)"
      ]
     },
     "execution_count": 151,
     "metadata": {},
     "output_type": "execute_result"
    }
   ],
   "source": [
    "doc_topic_diversity_df.shape[0], df.shape[0]"
   ]
  },
  {
   "cell_type": "code",
   "execution_count": 152,
   "metadata": {
    "ExecuteTime": {
     "end_time": "2018-08-24T04:38:49.324018Z",
     "start_time": "2018-08-24T04:38:49.269436Z"
    }
   },
   "outputs": [
    {
     "data": {
      "text/html": [
       "<div>\n",
       "<style scoped>\n",
       "    .dataframe tbody tr th:only-of-type {\n",
       "        vertical-align: middle;\n",
       "    }\n",
       "\n",
       "    .dataframe tbody tr th {\n",
       "        vertical-align: top;\n",
       "    }\n",
       "\n",
       "    .dataframe thead th {\n",
       "        text-align: right;\n",
       "    }\n",
       "</style>\n",
       "<table border=\"1\" class=\"dataframe\">\n",
       "  <thead>\n",
       "    <tr style=\"text-align: right;\">\n",
       "      <th></th>\n",
       "      <th>age</th>\n",
       "      <th>politeness</th>\n",
       "      <th>politeness_web</th>\n",
       "      <th>question_flag</th>\n",
       "      <th>role_dummy</th>\n",
       "      <th>text</th>\n",
       "      <th>gender_dummy</th>\n",
       "      <th>disease</th>\n",
       "      <th>id</th>\n",
       "      <th>sentiment_score</th>\n",
       "      <th>topic_diversity</th>\n",
       "    </tr>\n",
       "  </thead>\n",
       "  <tbody>\n",
       "    <tr>\n",
       "      <th>0</th>\n",
       "      <td>30.0</td>\n",
       "      <td>0.80</td>\n",
       "      <td>0.68</td>\n",
       "      <td>1</td>\n",
       "      <td>1</td>\n",
       "      <td>hi there,  I am a 22 year old male of Indian b...</td>\n",
       "      <td>0</td>\n",
       "      <td>Dermatology Topics</td>\n",
       "      <td>q0</td>\n",
       "      <td>0.6130</td>\n",
       "      <td>1.224384</td>\n",
       "    </tr>\n",
       "    <tr>\n",
       "      <th>1</th>\n",
       "      <td>68.0</td>\n",
       "      <td>0.68</td>\n",
       "      <td>0.00</td>\n",
       "      <td>0</td>\n",
       "      <td>0</td>\n",
       "      <td>Hello,Hypertrichosis relates to excessive grow...</td>\n",
       "      <td>0</td>\n",
       "      <td>Dermatology Topics</td>\n",
       "      <td>a0_0</td>\n",
       "      <td>0.9169</td>\n",
       "      <td>1.359934</td>\n",
       "    </tr>\n",
       "  </tbody>\n",
       "</table>\n",
       "</div>"
      ],
      "text/plain": [
       "    age  politeness  politeness_web  question_flag  role_dummy  \\\n",
       "0  30.0        0.80            0.68              1           1   \n",
       "1  68.0        0.68            0.00              0           0   \n",
       "\n",
       "                                                text  gender_dummy  \\\n",
       "0  hi there,  I am a 22 year old male of Indian b...             0   \n",
       "1  Hello,Hypertrichosis relates to excessive grow...             0   \n",
       "\n",
       "              disease    id  sentiment_score  topic_diversity  \n",
       "0  Dermatology Topics    q0           0.6130         1.224384  \n",
       "1  Dermatology Topics  a0_0           0.9169         1.359934  "
      ]
     },
     "execution_count": 152,
     "metadata": {},
     "output_type": "execute_result"
    }
   ],
   "source": [
    "df['topic_diversity'] = doc_topic_diversity_df['topic_diversity']\n",
    "df.head(2)"
   ]
  },
  {
   "cell_type": "markdown",
   "metadata": {},
   "source": [
    "maybe keep the text and age"
   ]
  },
  {
   "cell_type": "code",
   "execution_count": null,
   "metadata": {
    "ExecuteTime": {
     "end_time": "2018-08-15T05:40:03.479705Z",
     "start_time": "2018-08-15T05:40:02.917978Z"
    }
   },
   "outputs": [],
   "source": [
    "#df.drop(columns=['text', 'age']).to_csv('./ohc_data.csv', index=False)\n",
    "#df.drop(columns=['text', 'age']).to_stata('./ohc_data.dta')"
   ]
  },
  {
   "cell_type": "code",
   "execution_count": 154,
   "metadata": {
    "ExecuteTime": {
     "end_time": "2018-08-24T04:40:00.265722Z",
     "start_time": "2018-08-24T04:39:57.907795Z"
    }
   },
   "outputs": [],
   "source": [
    "df.to_csv('./ohc_data.csv', index=False)\n",
    "df.drop(columns=['text']).to_stata('./ohc_data.dta')"
   ]
  }
 ],
 "metadata": {
  "kernelspec": {
   "display_name": "Python 3",
   "language": "python",
   "name": "python3"
  },
  "language_info": {
   "codemirror_mode": {
    "name": "ipython",
    "version": 3
   },
   "file_extension": ".py",
   "mimetype": "text/x-python",
   "name": "python",
   "nbconvert_exporter": "python",
   "pygments_lexer": "ipython3",
   "version": "3.6.4"
  },
  "toc": {
   "base_numbering": 1,
   "nav_menu": {},
   "number_sections": true,
   "sideBar": true,
   "skip_h1_title": true,
   "title_cell": "Table of Contents",
   "title_sidebar": "Contents",
   "toc_cell": false,
   "toc_position": {
    "height": "calc(100% - 180px)",
    "left": "10px",
    "top": "150px",
    "width": "336px"
   },
   "toc_section_display": true,
   "toc_window_display": true
  }
 },
 "nbformat": 4,
 "nbformat_minor": 2
}
