{
 "cells": [
  {
   "cell_type": "markdown",
   "metadata": {},
   "source": [
    "sentiment score for each post.\n",
    "\n",
    "export file columns:\n",
    "- compound score (maybe add pos, neg, and score)\n",
    "- gender\n",
    "- role\n",
    "- age"
   ]
  },
  {
   "cell_type": "markdown",
   "metadata": {},
   "source": [
    "07-12-2018"
   ]
  },
  {
   "cell_type": "markdown",
   "metadata": {},
   "source": [
    "---"
   ]
  },
  {
   "cell_type": "code",
   "execution_count": 91,
   "metadata": {
    "ExecuteTime": {
     "end_time": "2018-07-12T22:21:14.353451Z",
     "start_time": "2018-07-12T22:21:14.348870Z"
    }
   },
   "outputs": [],
   "source": [
    "import pandas as pd"
   ]
  },
  {
   "cell_type": "code",
   "execution_count": 92,
   "metadata": {
    "ExecuteTime": {
     "end_time": "2018-07-12T22:21:14.509218Z",
     "start_time": "2018-07-12T22:21:14.505228Z"
    }
   },
   "outputs": [],
   "source": [
    "from vaderSentiment.vaderSentiment import SentimentIntensityAnalyzer"
   ]
  },
  {
   "cell_type": "code",
   "execution_count": 93,
   "metadata": {
    "ExecuteTime": {
     "end_time": "2018-07-12T22:21:14.747095Z",
     "start_time": "2018-07-12T22:21:14.740685Z"
    }
   },
   "outputs": [],
   "source": [
    "from sqlalchemy import create_engine\n",
    "engine = create_engine('postgresql://zhiyzuo@localhost:5432/ic2s2_datathon')"
   ]
  },
  {
   "cell_type": "markdown",
   "metadata": {},
   "source": [
    "---"
   ]
  },
  {
   "cell_type": "markdown",
   "metadata": {},
   "source": [
    "#### extract information"
   ]
  },
  {
   "cell_type": "code",
   "execution_count": 94,
   "metadata": {
    "ExecuteTime": {
     "end_time": "2018-07-12T22:21:15.752108Z",
     "start_time": "2018-07-12T22:21:15.396670Z"
    }
   },
   "outputs": [
    {
     "data": {
      "text/html": [
       "<div>\n",
       "<style scoped>\n",
       "    .dataframe tbody tr th:only-of-type {\n",
       "        vertical-align: middle;\n",
       "    }\n",
       "\n",
       "    .dataframe tbody tr th {\n",
       "        vertical-align: top;\n",
       "    }\n",
       "\n",
       "    .dataframe thead th {\n",
       "        text-align: right;\n",
       "    }\n",
       "</style>\n",
       "<table border=\"1\" class=\"dataframe\">\n",
       "  <thead>\n",
       "    <tr style=\"text-align: right;\">\n",
       "      <th></th>\n",
       "      <th>qa_id</th>\n",
       "      <th>text</th>\n",
       "      <th>asker_id</th>\n",
       "      <th>answerer_id</th>\n",
       "      <th>type</th>\n",
       "      <th>post_user_id</th>\n",
       "      <th>disease</th>\n",
       "    </tr>\n",
       "  </thead>\n",
       "  <tbody>\n",
       "    <tr>\n",
       "      <th>0</th>\n",
       "      <td>0</td>\n",
       "      <td>Hello, I'm a male in his 20s and I've had fati...</td>\n",
       "      <td>TigerShot</td>\n",
       "      <td>Faye Lang, RN, MSW</td>\n",
       "      <td>q</td>\n",
       "      <td>TigerShot</td>\n",
       "      <td>psychiatric topics</td>\n",
       "    </tr>\n",
       "    <tr>\n",
       "      <th>1</th>\n",
       "      <td>1</td>\n",
       "      <td>Hello.. You might remember me contacting you 3...</td>\n",
       "      <td>marcia smith</td>\n",
       "      <td>Faye Lang, RN, MSW</td>\n",
       "      <td>q</td>\n",
       "      <td>marcia smith</td>\n",
       "      <td>psychiatric topics</td>\n",
       "    </tr>\n",
       "  </tbody>\n",
       "</table>\n",
       "</div>"
      ],
      "text/plain": [
       "   qa_id                                               text      asker_id  \\\n",
       "0      0  Hello, I'm a male in his 20s and I've had fati...     TigerShot   \n",
       "1      1  Hello.. You might remember me contacting you 3...  marcia smith   \n",
       "\n",
       "          answerer_id type  post_user_id             disease  \n",
       "0  Faye Lang, RN, MSW    q     TigerShot  psychiatric topics  \n",
       "1  Faye Lang, RN, MSW    q  marcia smith  psychiatric topics  "
      ]
     },
     "execution_count": 94,
     "metadata": {},
     "output_type": "execute_result"
    }
   ],
   "source": [
    "text_df = pd.read_sql_table(table_name='text', con=engine)\n",
    "text_df.head(2)"
   ]
  },
  {
   "cell_type": "code",
   "execution_count": 95,
   "metadata": {
    "ExecuteTime": {
     "end_time": "2018-07-12T22:21:16.596265Z",
     "start_time": "2018-07-12T22:21:16.574033Z"
    }
   },
   "outputs": [
    {
     "data": {
      "text/html": [
       "<div>\n",
       "<style scoped>\n",
       "    .dataframe tbody tr th:only-of-type {\n",
       "        vertical-align: middle;\n",
       "    }\n",
       "\n",
       "    .dataframe tbody tr th {\n",
       "        vertical-align: top;\n",
       "    }\n",
       "\n",
       "    .dataframe thead th {\n",
       "        text-align: right;\n",
       "    }\n",
       "</style>\n",
       "<table border=\"1\" class=\"dataframe\">\n",
       "  <thead>\n",
       "    <tr style=\"text-align: right;\">\n",
       "      <th></th>\n",
       "      <th>qa_id</th>\n",
       "      <th>text</th>\n",
       "      <th>asker_id</th>\n",
       "      <th>answerer_id</th>\n",
       "      <th>type</th>\n",
       "      <th>post_user_id</th>\n",
       "      <th>disease</th>\n",
       "    </tr>\n",
       "  </thead>\n",
       "  <tbody>\n",
       "    <tr>\n",
       "      <th>22001</th>\n",
       "      <td>79</td>\n",
       "      <td>Dear CED, I havent heard anything to indicate ...</td>\n",
       "      <td>CED</td>\n",
       "      <td>Dr. Tamer Fouad</td>\n",
       "      <td>a</td>\n",
       "      <td>Dr. Tamer Fouad</td>\n",
       "      <td>leukemia</td>\n",
       "    </tr>\n",
       "    <tr>\n",
       "      <th>22002</th>\n",
       "      <td>80</td>\n",
       "      <td>Dear Janet, Leukemia is an aggressive disease ...</td>\n",
       "      <td>JANET B</td>\n",
       "      <td>Dr. Tamer Fouad</td>\n",
       "      <td>a</td>\n",
       "      <td>Dr. Tamer Fouad</td>\n",
       "      <td>leukemia</td>\n",
       "    </tr>\n",
       "  </tbody>\n",
       "</table>\n",
       "</div>"
      ],
      "text/plain": [
       "       qa_id                                               text asker_id  \\\n",
       "22001     79  Dear CED, I havent heard anything to indicate ...      CED   \n",
       "22002     80  Dear Janet, Leukemia is an aggressive disease ...  JANET B   \n",
       "\n",
       "           answerer_id type     post_user_id   disease  \n",
       "22001  Dr. Tamer Fouad    a  Dr. Tamer Fouad  leukemia  \n",
       "22002  Dr. Tamer Fouad    a  Dr. Tamer Fouad  leukemia  "
      ]
     },
     "execution_count": 95,
     "metadata": {},
     "output_type": "execute_result"
    }
   ],
   "source": [
    "text_df.tail(2)"
   ]
  },
  {
   "cell_type": "markdown",
   "metadata": {},
   "source": [
    "setup an index so that there's a unique id"
   ]
  },
  {
   "cell_type": "code",
   "execution_count": 96,
   "metadata": {
    "ExecuteTime": {
     "end_time": "2018-07-12T22:21:17.126025Z",
     "start_time": "2018-07-12T22:21:17.100872Z"
    }
   },
   "outputs": [
    {
     "data": {
      "text/html": [
       "<div>\n",
       "<style scoped>\n",
       "    .dataframe tbody tr th:only-of-type {\n",
       "        vertical-align: middle;\n",
       "    }\n",
       "\n",
       "    .dataframe tbody tr th {\n",
       "        vertical-align: top;\n",
       "    }\n",
       "\n",
       "    .dataframe thead th {\n",
       "        text-align: right;\n",
       "    }\n",
       "</style>\n",
       "<table border=\"1\" class=\"dataframe\">\n",
       "  <thead>\n",
       "    <tr style=\"text-align: right;\">\n",
       "      <th></th>\n",
       "      <th>qa_id</th>\n",
       "      <th>text</th>\n",
       "      <th>asker_id</th>\n",
       "      <th>answerer_id</th>\n",
       "      <th>type</th>\n",
       "      <th>post_user_id</th>\n",
       "      <th>disease</th>\n",
       "      <th>index</th>\n",
       "    </tr>\n",
       "  </thead>\n",
       "  <tbody>\n",
       "    <tr>\n",
       "      <th>0</th>\n",
       "      <td>0</td>\n",
       "      <td>Hello, I'm a male in his 20s and I've had fati...</td>\n",
       "      <td>TigerShot</td>\n",
       "      <td>Faye Lang, RN, MSW</td>\n",
       "      <td>q</td>\n",
       "      <td>TigerShot</td>\n",
       "      <td>psychiatric topics</td>\n",
       "      <td>0</td>\n",
       "    </tr>\n",
       "    <tr>\n",
       "      <th>1</th>\n",
       "      <td>1</td>\n",
       "      <td>Hello.. You might remember me contacting you 3...</td>\n",
       "      <td>marcia smith</td>\n",
       "      <td>Faye Lang, RN, MSW</td>\n",
       "      <td>q</td>\n",
       "      <td>marcia smith</td>\n",
       "      <td>psychiatric topics</td>\n",
       "      <td>1</td>\n",
       "    </tr>\n",
       "  </tbody>\n",
       "</table>\n",
       "</div>"
      ],
      "text/plain": [
       "   qa_id                                               text      asker_id  \\\n",
       "0      0  Hello, I'm a male in his 20s and I've had fati...     TigerShot   \n",
       "1      1  Hello.. You might remember me contacting you 3...  marcia smith   \n",
       "\n",
       "          answerer_id type  post_user_id             disease  index  \n",
       "0  Faye Lang, RN, MSW    q     TigerShot  psychiatric topics      0  \n",
       "1  Faye Lang, RN, MSW    q  marcia smith  psychiatric topics      1  "
      ]
     },
     "execution_count": 96,
     "metadata": {},
     "output_type": "execute_result"
    }
   ],
   "source": [
    "text_df['index'] = pd.np.arange(text_df.shape[0])\n",
    "text_df.head(2)"
   ]
  },
  {
   "cell_type": "markdown",
   "metadata": {},
   "source": [
    "subset"
   ]
  },
  {
   "cell_type": "code",
   "execution_count": 97,
   "metadata": {
    "ExecuteTime": {
     "end_time": "2018-07-12T22:21:18.649268Z",
     "start_time": "2018-07-12T22:21:18.625144Z"
    }
   },
   "outputs": [
    {
     "data": {
      "text/html": [
       "<div>\n",
       "<style scoped>\n",
       "    .dataframe tbody tr th:only-of-type {\n",
       "        vertical-align: middle;\n",
       "    }\n",
       "\n",
       "    .dataframe tbody tr th {\n",
       "        vertical-align: top;\n",
       "    }\n",
       "\n",
       "    .dataframe thead th {\n",
       "        text-align: right;\n",
       "    }\n",
       "</style>\n",
       "<table border=\"1\" class=\"dataframe\">\n",
       "  <thead>\n",
       "    <tr style=\"text-align: right;\">\n",
       "      <th></th>\n",
       "      <th>index</th>\n",
       "      <th>text</th>\n",
       "      <th>type</th>\n",
       "      <th>disease</th>\n",
       "      <th>post_user_id</th>\n",
       "    </tr>\n",
       "  </thead>\n",
       "  <tbody>\n",
       "    <tr>\n",
       "      <th>0</th>\n",
       "      <td>0</td>\n",
       "      <td>Hello, I'm a male in his 20s and I've had fati...</td>\n",
       "      <td>q</td>\n",
       "      <td>psychiatric topics</td>\n",
       "      <td>TigerShot</td>\n",
       "    </tr>\n",
       "    <tr>\n",
       "      <th>1</th>\n",
       "      <td>1</td>\n",
       "      <td>Hello.. You might remember me contacting you 3...</td>\n",
       "      <td>q</td>\n",
       "      <td>psychiatric topics</td>\n",
       "      <td>marcia smith</td>\n",
       "    </tr>\n",
       "  </tbody>\n",
       "</table>\n",
       "</div>"
      ],
      "text/plain": [
       "   index                                               text type  \\\n",
       "0      0  Hello, I'm a male in his 20s and I've had fati...    q   \n",
       "1      1  Hello.. You might remember me contacting you 3...    q   \n",
       "\n",
       "              disease  post_user_id  \n",
       "0  psychiatric topics     TigerShot  \n",
       "1  psychiatric topics  marcia smith  "
      ]
     },
     "execution_count": 97,
     "metadata": {},
     "output_type": "execute_result"
    }
   ],
   "source": [
    "df = text_df[['index', 'text', 'type', 'disease', 'post_user_id']]\n",
    "df.head(2)"
   ]
  },
  {
   "cell_type": "code",
   "execution_count": 98,
   "metadata": {
    "ExecuteTime": {
     "end_time": "2018-07-12T22:21:20.668139Z",
     "start_time": "2018-07-12T22:21:20.662435Z"
    }
   },
   "outputs": [
    {
     "data": {
      "text/plain": [
       "(22003, 5)"
      ]
     },
     "execution_count": 98,
     "metadata": {},
     "output_type": "execute_result"
    }
   ],
   "source": [
    "df.shape"
   ]
  },
  {
   "cell_type": "markdown",
   "metadata": {},
   "source": [
    "---"
   ]
  },
  {
   "cell_type": "markdown",
   "metadata": {},
   "source": [
    "#### calculate sentiment score"
   ]
  },
  {
   "cell_type": "code",
   "execution_count": 99,
   "metadata": {
    "ExecuteTime": {
     "end_time": "2018-07-12T22:21:22.738845Z",
     "start_time": "2018-07-12T22:21:22.735322Z"
    }
   },
   "outputs": [],
   "source": [
    "from joblib import Parallel, delayed"
   ]
  },
  {
   "cell_type": "code",
   "execution_count": 100,
   "metadata": {
    "ExecuteTime": {
     "end_time": "2018-07-12T22:21:22.891469Z",
     "start_time": "2018-07-12T22:21:22.852960Z"
    }
   },
   "outputs": [],
   "source": [
    "analyzer = SentimentIntensityAnalyzer()"
   ]
  },
  {
   "cell_type": "code",
   "execution_count": 101,
   "metadata": {
    "ExecuteTime": {
     "end_time": "2018-07-12T22:23:49.020070Z",
     "start_time": "2018-07-12T22:21:23.038614Z"
    }
   },
   "outputs": [],
   "source": [
    "n_jobs = 28\n",
    "score_list = Parallel(n_jobs=n_jobs)(delayed(analyzer.polarity_scores)(s) for s in df['text'].values)"
   ]
  },
  {
   "cell_type": "code",
   "execution_count": 102,
   "metadata": {
    "ExecuteTime": {
     "end_time": "2018-07-12T22:23:49.034496Z",
     "start_time": "2018-07-12T22:23:49.025875Z"
    }
   },
   "outputs": [
    {
     "data": {
      "text/plain": [
       "{'neg': 0.123, 'neu': 0.776, 'pos': 0.101, 'compound': -0.6515}"
      ]
     },
     "execution_count": 102,
     "metadata": {},
     "output_type": "execute_result"
    }
   ],
   "source": [
    "score_list[0]"
   ]
  },
  {
   "cell_type": "code",
   "execution_count": 103,
   "metadata": {
    "ExecuteTime": {
     "end_time": "2018-07-12T22:23:49.142281Z",
     "start_time": "2018-07-12T22:23:49.036703Z"
    }
   },
   "outputs": [
    {
     "data": {
      "text/html": [
       "<div>\n",
       "<style scoped>\n",
       "    .dataframe tbody tr th:only-of-type {\n",
       "        vertical-align: middle;\n",
       "    }\n",
       "\n",
       "    .dataframe tbody tr th {\n",
       "        vertical-align: top;\n",
       "    }\n",
       "\n",
       "    .dataframe thead th {\n",
       "        text-align: right;\n",
       "    }\n",
       "</style>\n",
       "<table border=\"1\" class=\"dataframe\">\n",
       "  <thead>\n",
       "    <tr style=\"text-align: right;\">\n",
       "      <th></th>\n",
       "      <th>compound</th>\n",
       "      <th>neg</th>\n",
       "      <th>neu</th>\n",
       "      <th>pos</th>\n",
       "    </tr>\n",
       "  </thead>\n",
       "  <tbody>\n",
       "    <tr>\n",
       "      <th>0</th>\n",
       "      <td>-0.6515</td>\n",
       "      <td>0.123</td>\n",
       "      <td>0.776</td>\n",
       "      <td>0.101</td>\n",
       "    </tr>\n",
       "    <tr>\n",
       "      <th>1</th>\n",
       "      <td>-0.3861</td>\n",
       "      <td>0.143</td>\n",
       "      <td>0.719</td>\n",
       "      <td>0.138</td>\n",
       "    </tr>\n",
       "  </tbody>\n",
       "</table>\n",
       "</div>"
      ],
      "text/plain": [
       "   compound    neg    neu    pos\n",
       "0   -0.6515  0.123  0.776  0.101\n",
       "1   -0.3861  0.143  0.719  0.138"
      ]
     },
     "execution_count": 103,
     "metadata": {},
     "output_type": "execute_result"
    }
   ],
   "source": [
    "score_df = pd.DataFrame(score_list)\n",
    "score_df.head(2)"
   ]
  },
  {
   "cell_type": "code",
   "execution_count": 104,
   "metadata": {
    "ExecuteTime": {
     "end_time": "2018-07-12T22:23:49.153642Z",
     "start_time": "2018-07-12T22:23:49.146710Z"
    }
   },
   "outputs": [
    {
     "data": {
      "text/plain": [
       "(22003, 4)"
      ]
     },
     "execution_count": 104,
     "metadata": {},
     "output_type": "execute_result"
    }
   ],
   "source": [
    "score_df.shape"
   ]
  },
  {
   "cell_type": "markdown",
   "metadata": {},
   "source": [
    "##### merge"
   ]
  },
  {
   "cell_type": "markdown",
   "metadata": {},
   "source": [
    "add index to merge them back on"
   ]
  },
  {
   "cell_type": "code",
   "execution_count": 105,
   "metadata": {
    "ExecuteTime": {
     "end_time": "2018-07-12T22:23:59.651777Z",
     "start_time": "2018-07-12T22:23:59.643936Z"
    }
   },
   "outputs": [],
   "source": [
    "score_df['index'] = pd.np.arange(score_df.shape[0])"
   ]
  },
  {
   "cell_type": "code",
   "execution_count": 106,
   "metadata": {
    "ExecuteTime": {
     "end_time": "2018-07-12T22:24:00.152114Z",
     "start_time": "2018-07-12T22:24:00.027531Z"
    }
   },
   "outputs": [
    {
     "data": {
      "text/html": [
       "<div>\n",
       "<style scoped>\n",
       "    .dataframe tbody tr th:only-of-type {\n",
       "        vertical-align: middle;\n",
       "    }\n",
       "\n",
       "    .dataframe tbody tr th {\n",
       "        vertical-align: top;\n",
       "    }\n",
       "\n",
       "    .dataframe thead th {\n",
       "        text-align: right;\n",
       "    }\n",
       "</style>\n",
       "<table border=\"1\" class=\"dataframe\">\n",
       "  <thead>\n",
       "    <tr style=\"text-align: right;\">\n",
       "      <th></th>\n",
       "      <th>index</th>\n",
       "      <th>text</th>\n",
       "      <th>type</th>\n",
       "      <th>disease</th>\n",
       "      <th>post_user_id</th>\n",
       "      <th>compound</th>\n",
       "      <th>neg</th>\n",
       "      <th>neu</th>\n",
       "      <th>pos</th>\n",
       "    </tr>\n",
       "  </thead>\n",
       "  <tbody>\n",
       "    <tr>\n",
       "      <th>0</th>\n",
       "      <td>0</td>\n",
       "      <td>Hello, I'm a male in his 20s and I've had fati...</td>\n",
       "      <td>q</td>\n",
       "      <td>psychiatric topics</td>\n",
       "      <td>TigerShot</td>\n",
       "      <td>-0.6515</td>\n",
       "      <td>0.123</td>\n",
       "      <td>0.776</td>\n",
       "      <td>0.101</td>\n",
       "    </tr>\n",
       "    <tr>\n",
       "      <th>1</th>\n",
       "      <td>1</td>\n",
       "      <td>Hello.. You might remember me contacting you 3...</td>\n",
       "      <td>q</td>\n",
       "      <td>psychiatric topics</td>\n",
       "      <td>marcia smith</td>\n",
       "      <td>-0.3861</td>\n",
       "      <td>0.143</td>\n",
       "      <td>0.719</td>\n",
       "      <td>0.138</td>\n",
       "    </tr>\n",
       "  </tbody>\n",
       "</table>\n",
       "</div>"
      ],
      "text/plain": [
       "   index                                               text type  \\\n",
       "0      0  Hello, I'm a male in his 20s and I've had fati...    q   \n",
       "1      1  Hello.. You might remember me contacting you 3...    q   \n",
       "\n",
       "              disease  post_user_id  compound    neg    neu    pos  \n",
       "0  psychiatric topics     TigerShot   -0.6515  0.123  0.776  0.101  \n",
       "1  psychiatric topics  marcia smith   -0.3861  0.143  0.719  0.138  "
      ]
     },
     "execution_count": 106,
     "metadata": {},
     "output_type": "execute_result"
    }
   ],
   "source": [
    "df = df.merge(score_df, on='index')\n",
    "df.head(2)"
   ]
  },
  {
   "cell_type": "markdown",
   "metadata": {},
   "source": [
    "---"
   ]
  },
  {
   "cell_type": "markdown",
   "metadata": {},
   "source": [
    "#### merge with user"
   ]
  },
  {
   "cell_type": "markdown",
   "metadata": {},
   "source": [
    "get user info"
   ]
  },
  {
   "cell_type": "code",
   "execution_count": 107,
   "metadata": {
    "ExecuteTime": {
     "end_time": "2018-07-12T22:24:02.978234Z",
     "start_time": "2018-07-12T22:24:02.856559Z"
    }
   },
   "outputs": [
    {
     "data": {
      "text/html": [
       "<div>\n",
       "<style scoped>\n",
       "    .dataframe tbody tr th:only-of-type {\n",
       "        vertical-align: middle;\n",
       "    }\n",
       "\n",
       "    .dataframe tbody tr th {\n",
       "        vertical-align: top;\n",
       "    }\n",
       "\n",
       "    .dataframe thead th {\n",
       "        text-align: right;\n",
       "    }\n",
       "</style>\n",
       "<table border=\"1\" class=\"dataframe\">\n",
       "  <thead>\n",
       "    <tr style=\"text-align: right;\">\n",
       "      <th></th>\n",
       "      <th>age</th>\n",
       "      <th>gender</th>\n",
       "      <th>role</th>\n",
       "      <th>user_id</th>\n",
       "      <th>id</th>\n",
       "    </tr>\n",
       "  </thead>\n",
       "  <tbody>\n",
       "    <tr>\n",
       "      <th>0</th>\n",
       "      <td>74.0</td>\n",
       "      <td>Female</td>\n",
       "      <td>Nurse</td>\n",
       "      <td>Faye Lang, RN, MSW</td>\n",
       "      <td>0</td>\n",
       "    </tr>\n",
       "    <tr>\n",
       "      <th>1</th>\n",
       "      <td>NaN</td>\n",
       "      <td>Male</td>\n",
       "      <td>Psychotherapist</td>\n",
       "      <td>Tim W Latsko</td>\n",
       "      <td>66</td>\n",
       "    </tr>\n",
       "  </tbody>\n",
       "</table>\n",
       "</div>"
      ],
      "text/plain": [
       "    age  gender             role             user_id  id\n",
       "0  74.0  Female            Nurse  Faye Lang, RN, MSW   0\n",
       "1   NaN    Male  Psychotherapist        Tim W Latsko  66"
      ]
     },
     "execution_count": 107,
     "metadata": {},
     "output_type": "execute_result"
    }
   ],
   "source": [
    "user_table = pd.read_sql_table('user', engine)\n",
    "user_table.head(2)"
   ]
  },
  {
   "cell_type": "markdown",
   "metadata": {},
   "source": [
    "remove NAs"
   ]
  },
  {
   "cell_type": "code",
   "execution_count": 108,
   "metadata": {
    "ExecuteTime": {
     "end_time": "2018-07-12T22:24:04.802736Z",
     "start_time": "2018-07-12T22:24:04.789223Z"
    }
   },
   "outputs": [],
   "source": [
    "user_table.dropna(subset=['gender', 'user_id'], inplace=True, how='all')"
   ]
  },
  {
   "cell_type": "code",
   "execution_count": 109,
   "metadata": {
    "ExecuteTime": {
     "end_time": "2018-07-12T22:24:05.976784Z",
     "start_time": "2018-07-12T22:24:05.952046Z"
    }
   },
   "outputs": [
    {
     "data": {
      "text/html": [
       "<div>\n",
       "<style scoped>\n",
       "    .dataframe tbody tr th:only-of-type {\n",
       "        vertical-align: middle;\n",
       "    }\n",
       "\n",
       "    .dataframe tbody tr th {\n",
       "        vertical-align: top;\n",
       "    }\n",
       "\n",
       "    .dataframe thead th {\n",
       "        text-align: right;\n",
       "    }\n",
       "</style>\n",
       "<table border=\"1\" class=\"dataframe\">\n",
       "  <thead>\n",
       "    <tr style=\"text-align: right;\">\n",
       "      <th></th>\n",
       "      <th>index</th>\n",
       "      <th>text</th>\n",
       "      <th>type</th>\n",
       "      <th>disease</th>\n",
       "      <th>post_user_id</th>\n",
       "      <th>compound</th>\n",
       "      <th>neg</th>\n",
       "      <th>neu</th>\n",
       "      <th>pos</th>\n",
       "    </tr>\n",
       "  </thead>\n",
       "  <tbody>\n",
       "    <tr>\n",
       "      <th>0</th>\n",
       "      <td>0</td>\n",
       "      <td>Hello, I'm a male in his 20s and I've had fati...</td>\n",
       "      <td>q</td>\n",
       "      <td>psychiatric topics</td>\n",
       "      <td>TigerShot</td>\n",
       "      <td>-0.6515</td>\n",
       "      <td>0.123</td>\n",
       "      <td>0.776</td>\n",
       "      <td>0.101</td>\n",
       "    </tr>\n",
       "    <tr>\n",
       "      <th>1</th>\n",
       "      <td>1</td>\n",
       "      <td>Hello.. You might remember me contacting you 3...</td>\n",
       "      <td>q</td>\n",
       "      <td>psychiatric topics</td>\n",
       "      <td>marcia smith</td>\n",
       "      <td>-0.3861</td>\n",
       "      <td>0.143</td>\n",
       "      <td>0.719</td>\n",
       "      <td>0.138</td>\n",
       "    </tr>\n",
       "  </tbody>\n",
       "</table>\n",
       "</div>"
      ],
      "text/plain": [
       "   index                                               text type  \\\n",
       "0      0  Hello, I'm a male in his 20s and I've had fati...    q   \n",
       "1      1  Hello.. You might remember me contacting you 3...    q   \n",
       "\n",
       "              disease  post_user_id  compound    neg    neu    pos  \n",
       "0  psychiatric topics     TigerShot   -0.6515  0.123  0.776  0.101  \n",
       "1  psychiatric topics  marcia smith   -0.3861  0.143  0.719  0.138  "
      ]
     },
     "execution_count": 109,
     "metadata": {},
     "output_type": "execute_result"
    }
   ],
   "source": [
    "df.head(2)"
   ]
  },
  {
   "cell_type": "code",
   "execution_count": 110,
   "metadata": {
    "ExecuteTime": {
     "end_time": "2018-07-12T22:24:07.033604Z",
     "start_time": "2018-07-12T22:24:07.026352Z"
    }
   },
   "outputs": [],
   "source": [
    "df.rename(columns={'post_user_id': 'user_id'}, inplace=True)"
   ]
  },
  {
   "cell_type": "code",
   "execution_count": 111,
   "metadata": {
    "ExecuteTime": {
     "end_time": "2018-07-12T22:24:07.387634Z",
     "start_time": "2018-07-12T22:24:07.365400Z"
    }
   },
   "outputs": [],
   "source": [
    "df = df.query(\"user_id in @user_table.user_id\")"
   ]
  },
  {
   "cell_type": "code",
   "execution_count": 112,
   "metadata": {
    "ExecuteTime": {
     "end_time": "2018-07-12T22:24:07.585733Z",
     "start_time": "2018-07-12T22:24:07.555988Z"
    }
   },
   "outputs": [],
   "source": [
    "df = df.merge(user_table[user_table.columns[:-1]], on='user_id')"
   ]
  },
  {
   "cell_type": "code",
   "execution_count": 113,
   "metadata": {
    "ExecuteTime": {
     "end_time": "2018-07-12T22:24:07.805162Z",
     "start_time": "2018-07-12T22:24:07.774041Z"
    }
   },
   "outputs": [
    {
     "data": {
      "text/html": [
       "<div>\n",
       "<style scoped>\n",
       "    .dataframe tbody tr th:only-of-type {\n",
       "        vertical-align: middle;\n",
       "    }\n",
       "\n",
       "    .dataframe tbody tr th {\n",
       "        vertical-align: top;\n",
       "    }\n",
       "\n",
       "    .dataframe thead th {\n",
       "        text-align: right;\n",
       "    }\n",
       "</style>\n",
       "<table border=\"1\" class=\"dataframe\">\n",
       "  <thead>\n",
       "    <tr style=\"text-align: right;\">\n",
       "      <th></th>\n",
       "      <th>index</th>\n",
       "      <th>text</th>\n",
       "      <th>type</th>\n",
       "      <th>disease</th>\n",
       "      <th>user_id</th>\n",
       "      <th>compound</th>\n",
       "      <th>neg</th>\n",
       "      <th>neu</th>\n",
       "      <th>pos</th>\n",
       "      <th>age</th>\n",
       "      <th>gender</th>\n",
       "      <th>role</th>\n",
       "    </tr>\n",
       "  </thead>\n",
       "  <tbody>\n",
       "    <tr>\n",
       "      <th>0</th>\n",
       "      <td>0</td>\n",
       "      <td>Hello, I'm a male in his 20s and I've had fati...</td>\n",
       "      <td>q</td>\n",
       "      <td>psychiatric topics</td>\n",
       "      <td>TigerShot</td>\n",
       "      <td>-0.6515</td>\n",
       "      <td>0.123</td>\n",
       "      <td>0.776</td>\n",
       "      <td>0.101</td>\n",
       "      <td>32.0</td>\n",
       "      <td>Male</td>\n",
       "      <td>patient</td>\n",
       "    </tr>\n",
       "    <tr>\n",
       "      <th>1</th>\n",
       "      <td>2207</td>\n",
       "      <td>I'm a 23 year old male and my problems started...</td>\n",
       "      <td>q</td>\n",
       "      <td>neurology topics</td>\n",
       "      <td>TigerShot</td>\n",
       "      <td>-0.9760</td>\n",
       "      <td>0.145</td>\n",
       "      <td>0.793</td>\n",
       "      <td>0.062</td>\n",
       "      <td>32.0</td>\n",
       "      <td>Male</td>\n",
       "      <td>patient</td>\n",
       "    </tr>\n",
       "  </tbody>\n",
       "</table>\n",
       "</div>"
      ],
      "text/plain": [
       "   index                                               text type  \\\n",
       "0      0  Hello, I'm a male in his 20s and I've had fati...    q   \n",
       "1   2207  I'm a 23 year old male and my problems started...    q   \n",
       "\n",
       "              disease    user_id  compound    neg    neu    pos   age gender  \\\n",
       "0  psychiatric topics  TigerShot   -0.6515  0.123  0.776  0.101  32.0   Male   \n",
       "1    neurology topics  TigerShot   -0.9760  0.145  0.793  0.062  32.0   Male   \n",
       "\n",
       "      role  \n",
       "0  patient  \n",
       "1  patient  "
      ]
     },
     "execution_count": 113,
     "metadata": {},
     "output_type": "execute_result"
    }
   ],
   "source": [
    "df.head(2)"
   ]
  },
  {
   "cell_type": "code",
   "execution_count": 114,
   "metadata": {
    "ExecuteTime": {
     "end_time": "2018-07-12T22:24:09.179478Z",
     "start_time": "2018-07-12T22:24:09.162536Z"
    }
   },
   "outputs": [
    {
     "data": {
      "text/plain": [
       "array(['Male', 'Female'], dtype=object)"
      ]
     },
     "execution_count": 114,
     "metadata": {},
     "output_type": "execute_result"
    }
   ],
   "source": [
    "df.gender.unique()"
   ]
  },
  {
   "cell_type": "markdown",
   "metadata": {},
   "source": [
    "strip `gender` and map to binary"
   ]
  },
  {
   "cell_type": "code",
   "execution_count": 115,
   "metadata": {
    "ExecuteTime": {
     "end_time": "2018-07-12T22:24:11.116225Z",
     "start_time": "2018-07-12T22:24:11.082894Z"
    }
   },
   "outputs": [],
   "source": [
    "df['gender'] = df['gender'].str.strip()\n",
    "df['gender'] = df.gender.map({'Female':1, 'Male':0, None:-1})"
   ]
  },
  {
   "cell_type": "code",
   "execution_count": 116,
   "metadata": {
    "ExecuteTime": {
     "end_time": "2018-07-12T22:24:12.053119Z",
     "start_time": "2018-07-12T22:24:12.022102Z"
    }
   },
   "outputs": [
    {
     "data": {
      "text/html": [
       "<div>\n",
       "<style scoped>\n",
       "    .dataframe tbody tr th:only-of-type {\n",
       "        vertical-align: middle;\n",
       "    }\n",
       "\n",
       "    .dataframe tbody tr th {\n",
       "        vertical-align: top;\n",
       "    }\n",
       "\n",
       "    .dataframe thead th {\n",
       "        text-align: right;\n",
       "    }\n",
       "</style>\n",
       "<table border=\"1\" class=\"dataframe\">\n",
       "  <thead>\n",
       "    <tr style=\"text-align: right;\">\n",
       "      <th></th>\n",
       "      <th>index</th>\n",
       "      <th>text</th>\n",
       "      <th>type</th>\n",
       "      <th>disease</th>\n",
       "      <th>user_id</th>\n",
       "      <th>compound</th>\n",
       "      <th>neg</th>\n",
       "      <th>neu</th>\n",
       "      <th>pos</th>\n",
       "      <th>age</th>\n",
       "      <th>gender</th>\n",
       "      <th>role</th>\n",
       "    </tr>\n",
       "  </thead>\n",
       "  <tbody>\n",
       "    <tr>\n",
       "      <th>0</th>\n",
       "      <td>0</td>\n",
       "      <td>Hello, I'm a male in his 20s and I've had fati...</td>\n",
       "      <td>q</td>\n",
       "      <td>psychiatric topics</td>\n",
       "      <td>TigerShot</td>\n",
       "      <td>-0.6515</td>\n",
       "      <td>0.123</td>\n",
       "      <td>0.776</td>\n",
       "      <td>0.101</td>\n",
       "      <td>32.0</td>\n",
       "      <td>0</td>\n",
       "      <td>patient</td>\n",
       "    </tr>\n",
       "    <tr>\n",
       "      <th>1</th>\n",
       "      <td>2207</td>\n",
       "      <td>I'm a 23 year old male and my problems started...</td>\n",
       "      <td>q</td>\n",
       "      <td>neurology topics</td>\n",
       "      <td>TigerShot</td>\n",
       "      <td>-0.9760</td>\n",
       "      <td>0.145</td>\n",
       "      <td>0.793</td>\n",
       "      <td>0.062</td>\n",
       "      <td>32.0</td>\n",
       "      <td>0</td>\n",
       "      <td>patient</td>\n",
       "    </tr>\n",
       "  </tbody>\n",
       "</table>\n",
       "</div>"
      ],
      "text/plain": [
       "   index                                               text type  \\\n",
       "0      0  Hello, I'm a male in his 20s and I've had fati...    q   \n",
       "1   2207  I'm a 23 year old male and my problems started...    q   \n",
       "\n",
       "              disease    user_id  compound    neg    neu    pos   age  gender  \\\n",
       "0  psychiatric topics  TigerShot   -0.6515  0.123  0.776  0.101  32.0       0   \n",
       "1    neurology topics  TigerShot   -0.9760  0.145  0.793  0.062  32.0       0   \n",
       "\n",
       "      role  \n",
       "0  patient  \n",
       "1  patient  "
      ]
     },
     "execution_count": 116,
     "metadata": {},
     "output_type": "execute_result"
    }
   ],
   "source": [
    "df.head(2)"
   ]
  },
  {
   "cell_type": "markdown",
   "metadata": {},
   "source": [
    "convert role"
   ]
  },
  {
   "cell_type": "code",
   "execution_count": 117,
   "metadata": {
    "ExecuteTime": {
     "end_time": "2018-07-12T22:24:13.400651Z",
     "start_time": "2018-07-12T22:24:13.392135Z"
    }
   },
   "outputs": [
    {
     "data": {
      "text/plain": [
       "array(['patient', 'Medical Doctor', 'Nurse', 'Paramedic',\n",
       "       'Physician Assistant', 'Psychotherapist', 'Medical Assistant',\n",
       "       'Nurse Assistant', 'Pharmacist', 'Medical Student'], dtype=object)"
      ]
     },
     "execution_count": 117,
     "metadata": {},
     "output_type": "execute_result"
    }
   ],
   "source": [
    "df['role'].unique()"
   ]
  },
  {
   "cell_type": "code",
   "execution_count": 119,
   "metadata": {
    "ExecuteTime": {
     "end_time": "2018-07-12T22:25:48.197185Z",
     "start_time": "2018-07-12T22:25:48.189491Z"
    }
   },
   "outputs": [],
   "source": [
    "df['role_binary'] = (df['role'].values == 'patient').astype(int)"
   ]
  },
  {
   "cell_type": "code",
   "execution_count": 120,
   "metadata": {
    "ExecuteTime": {
     "end_time": "2018-07-12T22:25:51.497800Z",
     "start_time": "2018-07-12T22:25:51.460661Z"
    }
   },
   "outputs": [
    {
     "data": {
      "text/html": [
       "<div>\n",
       "<style scoped>\n",
       "    .dataframe tbody tr th:only-of-type {\n",
       "        vertical-align: middle;\n",
       "    }\n",
       "\n",
       "    .dataframe tbody tr th {\n",
       "        vertical-align: top;\n",
       "    }\n",
       "\n",
       "    .dataframe thead th {\n",
       "        text-align: right;\n",
       "    }\n",
       "</style>\n",
       "<table border=\"1\" class=\"dataframe\">\n",
       "  <thead>\n",
       "    <tr style=\"text-align: right;\">\n",
       "      <th></th>\n",
       "      <th>index</th>\n",
       "      <th>text</th>\n",
       "      <th>type</th>\n",
       "      <th>disease</th>\n",
       "      <th>user_id</th>\n",
       "      <th>compound</th>\n",
       "      <th>neg</th>\n",
       "      <th>neu</th>\n",
       "      <th>pos</th>\n",
       "      <th>age</th>\n",
       "      <th>gender</th>\n",
       "      <th>role</th>\n",
       "      <th>role_binary</th>\n",
       "    </tr>\n",
       "  </thead>\n",
       "  <tbody>\n",
       "    <tr>\n",
       "      <th>0</th>\n",
       "      <td>0</td>\n",
       "      <td>Hello, I'm a male in his 20s and I've had fati...</td>\n",
       "      <td>q</td>\n",
       "      <td>psychiatric topics</td>\n",
       "      <td>TigerShot</td>\n",
       "      <td>-0.6515</td>\n",
       "      <td>0.123</td>\n",
       "      <td>0.776</td>\n",
       "      <td>0.101</td>\n",
       "      <td>32.0</td>\n",
       "      <td>0</td>\n",
       "      <td>patient</td>\n",
       "      <td>1</td>\n",
       "    </tr>\n",
       "    <tr>\n",
       "      <th>1</th>\n",
       "      <td>2207</td>\n",
       "      <td>I'm a 23 year old male and my problems started...</td>\n",
       "      <td>q</td>\n",
       "      <td>neurology topics</td>\n",
       "      <td>TigerShot</td>\n",
       "      <td>-0.9760</td>\n",
       "      <td>0.145</td>\n",
       "      <td>0.793</td>\n",
       "      <td>0.062</td>\n",
       "      <td>32.0</td>\n",
       "      <td>0</td>\n",
       "      <td>patient</td>\n",
       "      <td>1</td>\n",
       "    </tr>\n",
       "  </tbody>\n",
       "</table>\n",
       "</div>"
      ],
      "text/plain": [
       "   index                                               text type  \\\n",
       "0      0  Hello, I'm a male in his 20s and I've had fati...    q   \n",
       "1   2207  I'm a 23 year old male and my problems started...    q   \n",
       "\n",
       "              disease    user_id  compound    neg    neu    pos   age  gender  \\\n",
       "0  psychiatric topics  TigerShot   -0.6515  0.123  0.776  0.101  32.0       0   \n",
       "1    neurology topics  TigerShot   -0.9760  0.145  0.793  0.062  32.0       0   \n",
       "\n",
       "      role  role_binary  \n",
       "0  patient            1  \n",
       "1  patient            1  "
      ]
     },
     "execution_count": 120,
     "metadata": {},
     "output_type": "execute_result"
    }
   ],
   "source": [
    "df.head(2)"
   ]
  },
  {
   "cell_type": "code",
   "execution_count": 122,
   "metadata": {
    "ExecuteTime": {
     "end_time": "2018-07-12T22:28:13.528835Z",
     "start_time": "2018-07-12T22:28:12.410070Z"
    }
   },
   "outputs": [],
   "source": [
    "df.to_csv('data/sentiment.csv', index=False)"
   ]
  },
  {
   "cell_type": "code",
   "execution_count": 126,
   "metadata": {
    "ExecuteTime": {
     "end_time": "2018-07-12T23:37:06.183521Z",
     "start_time": "2018-07-12T23:37:05.810744Z"
    }
   },
   "outputs": [],
   "source": [
    "df.drop(columns=['text', 'user_id']).to_stata('data/sentiment.dta')"
   ]
  }
 ],
 "metadata": {
  "kernelspec": {
   "display_name": "Python 2",
   "language": "python",
   "name": "python2"
  },
  "language_info": {
   "codemirror_mode": {
    "name": "ipython",
    "version": 2
   },
   "file_extension": ".py",
   "mimetype": "text/x-python",
   "name": "python",
   "nbconvert_exporter": "python",
   "pygments_lexer": "ipython2",
   "version": "2.7.14"
  },
  "toc": {
   "base_numbering": 1,
   "nav_menu": {},
   "number_sections": true,
   "sideBar": true,
   "skip_h1_title": true,
   "title_cell": "Table of Contents",
   "title_sidebar": "Contents",
   "toc_cell": false,
   "toc_position": {
    "height": "calc(100% - 180px)",
    "left": "10px",
    "top": "150px",
    "width": "335px"
   },
   "toc_section_display": true,
   "toc_window_display": true
  }
 },
 "nbformat": 4,
 "nbformat_minor": 2
}
