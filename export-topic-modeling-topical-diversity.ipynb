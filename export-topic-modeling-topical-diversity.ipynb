{
 "cells": [
  {
   "cell_type": "markdown",
   "metadata": {},
   "source": [
    "test: apply lda onto a small corpus"
   ]
  },
  {
   "cell_type": "markdown",
   "metadata": {},
   "source": [
    "--- "
   ]
  },
  {
   "cell_type": "code",
   "execution_count": 31,
   "metadata": {
    "ExecuteTime": {
     "end_time": "2018-07-13T00:57:09.356671Z",
     "start_time": "2018-07-13T00:57:07.599009Z"
    }
   },
   "outputs": [],
   "source": [
    "import pandas as pd\n",
    "from tm_preprocessor import Preprocessor"
   ]
  },
  {
   "cell_type": "code",
   "execution_count": 67,
   "metadata": {
    "ExecuteTime": {
     "end_time": "2018-07-13T01:52:15.304686Z",
     "start_time": "2018-07-13T01:52:14.881487Z"
    }
   },
   "outputs": [],
   "source": [
    "import seaborn\n",
    "from matplotlib import pyplot as plt\n",
    "%matplotlib inline"
   ]
  },
  {
   "cell_type": "code",
   "execution_count": 3,
   "metadata": {
    "ExecuteTime": {
     "end_time": "2018-07-12T23:46:35.795569Z",
     "start_time": "2018-07-12T23:46:35.456117Z"
    }
   },
   "outputs": [],
   "source": [
    "from sqlalchemy import create_engine\n",
    "engine = create_engine('postgresql://zhiyzuo@localhost:5432/ic2s2_datathon')"
   ]
  },
  {
   "cell_type": "markdown",
   "metadata": {},
   "source": [
    "---"
   ]
  },
  {
   "cell_type": "markdown",
   "metadata": {},
   "source": [
    "#### preprocessing"
   ]
  },
  {
   "cell_type": "code",
   "execution_count": 9,
   "metadata": {
    "ExecuteTime": {
     "end_time": "2018-07-12T23:47:59.988571Z",
     "start_time": "2018-07-12T23:47:59.665905Z"
    }
   },
   "outputs": [
    {
     "data": {
      "text/html": [
       "<div>\n",
       "<style scoped>\n",
       "    .dataframe tbody tr th:only-of-type {\n",
       "        vertical-align: middle;\n",
       "    }\n",
       "\n",
       "    .dataframe tbody tr th {\n",
       "        vertical-align: top;\n",
       "    }\n",
       "\n",
       "    .dataframe thead th {\n",
       "        text-align: right;\n",
       "    }\n",
       "</style>\n",
       "<table border=\"1\" class=\"dataframe\">\n",
       "  <thead>\n",
       "    <tr style=\"text-align: right;\">\n",
       "      <th></th>\n",
       "      <th>qa_id</th>\n",
       "      <th>text</th>\n",
       "      <th>asker_id</th>\n",
       "      <th>answerer_id</th>\n",
       "      <th>type</th>\n",
       "      <th>post_user_id</th>\n",
       "      <th>disease</th>\n",
       "    </tr>\n",
       "  </thead>\n",
       "  <tbody>\n",
       "    <tr>\n",
       "      <th>0</th>\n",
       "      <td>0</td>\n",
       "      <td>Hello, I'm a male in his 20s and I've had fati...</td>\n",
       "      <td>TigerShot</td>\n",
       "      <td>Faye Lang, RN, MSW</td>\n",
       "      <td>q</td>\n",
       "      <td>TigerShot</td>\n",
       "      <td>psychiatric topics</td>\n",
       "    </tr>\n",
       "    <tr>\n",
       "      <th>1</th>\n",
       "      <td>1</td>\n",
       "      <td>Hello.. You might remember me contacting you 3...</td>\n",
       "      <td>marcia smith</td>\n",
       "      <td>Faye Lang, RN, MSW</td>\n",
       "      <td>q</td>\n",
       "      <td>marcia smith</td>\n",
       "      <td>psychiatric topics</td>\n",
       "    </tr>\n",
       "  </tbody>\n",
       "</table>\n",
       "</div>"
      ],
      "text/plain": [
       "   qa_id                                               text      asker_id  \\\n",
       "0      0  Hello, I'm a male in his 20s and I've had fati...     TigerShot   \n",
       "1      1  Hello.. You might remember me contacting you 3...  marcia smith   \n",
       "\n",
       "          answerer_id type  post_user_id             disease  \n",
       "0  Faye Lang, RN, MSW    q     TigerShot  psychiatric topics  \n",
       "1  Faye Lang, RN, MSW    q  marcia smith  psychiatric topics  "
      ]
     },
     "execution_count": 9,
     "metadata": {},
     "output_type": "execute_result"
    }
   ],
   "source": [
    "text_df = pd.read_sql_table(table_name='text', con=engine)\n",
    "text_df.head(2)"
   ]
  },
  {
   "cell_type": "code",
   "execution_count": 10,
   "metadata": {
    "ExecuteTime": {
     "end_time": "2018-07-12T23:48:00.073190Z",
     "start_time": "2018-07-12T23:48:00.058469Z"
    }
   },
   "outputs": [
    {
     "data": {
      "text/html": [
       "<div>\n",
       "<style scoped>\n",
       "    .dataframe tbody tr th:only-of-type {\n",
       "        vertical-align: middle;\n",
       "    }\n",
       "\n",
       "    .dataframe tbody tr th {\n",
       "        vertical-align: top;\n",
       "    }\n",
       "\n",
       "    .dataframe thead th {\n",
       "        text-align: right;\n",
       "    }\n",
       "</style>\n",
       "<table border=\"1\" class=\"dataframe\">\n",
       "  <thead>\n",
       "    <tr style=\"text-align: right;\">\n",
       "      <th></th>\n",
       "      <th>qa_id</th>\n",
       "      <th>text</th>\n",
       "      <th>asker_id</th>\n",
       "      <th>answerer_id</th>\n",
       "      <th>type</th>\n",
       "      <th>post_user_id</th>\n",
       "      <th>disease</th>\n",
       "    </tr>\n",
       "  </thead>\n",
       "  <tbody>\n",
       "    <tr>\n",
       "      <th>22001</th>\n",
       "      <td>79</td>\n",
       "      <td>Dear CED, I havent heard anything to indicate ...</td>\n",
       "      <td>CED</td>\n",
       "      <td>Dr. Tamer Fouad</td>\n",
       "      <td>a</td>\n",
       "      <td>Dr. Tamer Fouad</td>\n",
       "      <td>leukemia</td>\n",
       "    </tr>\n",
       "    <tr>\n",
       "      <th>22002</th>\n",
       "      <td>80</td>\n",
       "      <td>Dear Janet, Leukemia is an aggressive disease ...</td>\n",
       "      <td>JANET B</td>\n",
       "      <td>Dr. Tamer Fouad</td>\n",
       "      <td>a</td>\n",
       "      <td>Dr. Tamer Fouad</td>\n",
       "      <td>leukemia</td>\n",
       "    </tr>\n",
       "  </tbody>\n",
       "</table>\n",
       "</div>"
      ],
      "text/plain": [
       "       qa_id                                               text asker_id  \\\n",
       "22001     79  Dear CED, I havent heard anything to indicate ...      CED   \n",
       "22002     80  Dear Janet, Leukemia is an aggressive disease ...  JANET B   \n",
       "\n",
       "           answerer_id type     post_user_id   disease  \n",
       "22001  Dr. Tamer Fouad    a  Dr. Tamer Fouad  leukemia  \n",
       "22002  Dr. Tamer Fouad    a  Dr. Tamer Fouad  leukemia  "
      ]
     },
     "execution_count": 10,
     "metadata": {},
     "output_type": "execute_result"
    }
   ],
   "source": [
    "text_df.tail(2)"
   ]
  },
  {
   "cell_type": "markdown",
   "metadata": {},
   "source": [
    "setup an index so that there's a unique id"
   ]
  },
  {
   "cell_type": "code",
   "execution_count": 11,
   "metadata": {
    "ExecuteTime": {
     "end_time": "2018-07-12T23:48:02.183906Z",
     "start_time": "2018-07-12T23:48:02.156441Z"
    }
   },
   "outputs": [
    {
     "data": {
      "text/html": [
       "<div>\n",
       "<style scoped>\n",
       "    .dataframe tbody tr th:only-of-type {\n",
       "        vertical-align: middle;\n",
       "    }\n",
       "\n",
       "    .dataframe tbody tr th {\n",
       "        vertical-align: top;\n",
       "    }\n",
       "\n",
       "    .dataframe thead th {\n",
       "        text-align: right;\n",
       "    }\n",
       "</style>\n",
       "<table border=\"1\" class=\"dataframe\">\n",
       "  <thead>\n",
       "    <tr style=\"text-align: right;\">\n",
       "      <th></th>\n",
       "      <th>qa_id</th>\n",
       "      <th>text</th>\n",
       "      <th>asker_id</th>\n",
       "      <th>answerer_id</th>\n",
       "      <th>type</th>\n",
       "      <th>post_user_id</th>\n",
       "      <th>disease</th>\n",
       "      <th>index</th>\n",
       "    </tr>\n",
       "  </thead>\n",
       "  <tbody>\n",
       "    <tr>\n",
       "      <th>0</th>\n",
       "      <td>0</td>\n",
       "      <td>Hello, I'm a male in his 20s and I've had fati...</td>\n",
       "      <td>TigerShot</td>\n",
       "      <td>Faye Lang, RN, MSW</td>\n",
       "      <td>q</td>\n",
       "      <td>TigerShot</td>\n",
       "      <td>psychiatric topics</td>\n",
       "      <td>0</td>\n",
       "    </tr>\n",
       "    <tr>\n",
       "      <th>1</th>\n",
       "      <td>1</td>\n",
       "      <td>Hello.. You might remember me contacting you 3...</td>\n",
       "      <td>marcia smith</td>\n",
       "      <td>Faye Lang, RN, MSW</td>\n",
       "      <td>q</td>\n",
       "      <td>marcia smith</td>\n",
       "      <td>psychiatric topics</td>\n",
       "      <td>1</td>\n",
       "    </tr>\n",
       "  </tbody>\n",
       "</table>\n",
       "</div>"
      ],
      "text/plain": [
       "   qa_id                                               text      asker_id  \\\n",
       "0      0  Hello, I'm a male in his 20s and I've had fati...     TigerShot   \n",
       "1      1  Hello.. You might remember me contacting you 3...  marcia smith   \n",
       "\n",
       "          answerer_id type  post_user_id             disease  index  \n",
       "0  Faye Lang, RN, MSW    q     TigerShot  psychiatric topics      0  \n",
       "1  Faye Lang, RN, MSW    q  marcia smith  psychiatric topics      1  "
      ]
     },
     "execution_count": 11,
     "metadata": {},
     "output_type": "execute_result"
    }
   ],
   "source": [
    "text_df['index'] = pd.np.arange(text_df.shape[0])\n",
    "text_df.head(2)"
   ]
  },
  {
   "cell_type": "markdown",
   "metadata": {},
   "source": [
    "subset"
   ]
  },
  {
   "cell_type": "code",
   "execution_count": 12,
   "metadata": {
    "ExecuteTime": {
     "end_time": "2018-07-12T23:48:02.459659Z",
     "start_time": "2018-07-12T23:48:02.433730Z"
    }
   },
   "outputs": [
    {
     "data": {
      "text/html": [
       "<div>\n",
       "<style scoped>\n",
       "    .dataframe tbody tr th:only-of-type {\n",
       "        vertical-align: middle;\n",
       "    }\n",
       "\n",
       "    .dataframe tbody tr th {\n",
       "        vertical-align: top;\n",
       "    }\n",
       "\n",
       "    .dataframe thead th {\n",
       "        text-align: right;\n",
       "    }\n",
       "</style>\n",
       "<table border=\"1\" class=\"dataframe\">\n",
       "  <thead>\n",
       "    <tr style=\"text-align: right;\">\n",
       "      <th></th>\n",
       "      <th>index</th>\n",
       "      <th>text</th>\n",
       "      <th>type</th>\n",
       "      <th>disease</th>\n",
       "      <th>post_user_id</th>\n",
       "    </tr>\n",
       "  </thead>\n",
       "  <tbody>\n",
       "    <tr>\n",
       "      <th>0</th>\n",
       "      <td>0</td>\n",
       "      <td>Hello, I'm a male in his 20s and I've had fati...</td>\n",
       "      <td>q</td>\n",
       "      <td>psychiatric topics</td>\n",
       "      <td>TigerShot</td>\n",
       "    </tr>\n",
       "    <tr>\n",
       "      <th>1</th>\n",
       "      <td>1</td>\n",
       "      <td>Hello.. You might remember me contacting you 3...</td>\n",
       "      <td>q</td>\n",
       "      <td>psychiatric topics</td>\n",
       "      <td>marcia smith</td>\n",
       "    </tr>\n",
       "  </tbody>\n",
       "</table>\n",
       "</div>"
      ],
      "text/plain": [
       "   index                                               text type  \\\n",
       "0      0  Hello, I'm a male in his 20s and I've had fati...    q   \n",
       "1      1  Hello.. You might remember me contacting you 3...    q   \n",
       "\n",
       "              disease  post_user_id  \n",
       "0  psychiatric topics     TigerShot  \n",
       "1  psychiatric topics  marcia smith  "
      ]
     },
     "execution_count": 12,
     "metadata": {},
     "output_type": "execute_result"
    }
   ],
   "source": [
    "df = text_df[['index', 'text', 'type', 'disease', 'post_user_id']]\n",
    "df.head(2)"
   ]
  },
  {
   "cell_type": "code",
   "execution_count": 13,
   "metadata": {
    "ExecuteTime": {
     "end_time": "2018-07-12T23:48:03.867893Z",
     "start_time": "2018-07-12T23:48:03.860578Z"
    }
   },
   "outputs": [
    {
     "data": {
      "text/plain": [
       "(22003, 5)"
      ]
     },
     "execution_count": 13,
     "metadata": {},
     "output_type": "execute_result"
    }
   ],
   "source": [
    "df.shape"
   ]
  },
  {
   "cell_type": "code",
   "execution_count": 16,
   "metadata": {
    "ExecuteTime": {
     "end_time": "2018-07-12T23:48:27.592985Z",
     "start_time": "2018-07-12T23:48:27.583637Z"
    }
   },
   "outputs": [
    {
     "data": {
      "text/plain": [
       "'Dear Janet, Leukemia is an aggressive disease of the blood cells. The blood cells turn into cancer cells. This requires aggressive treatment in the form of chemotherapy and sometimes various bone marrow transplantation techniques.  Spontaneous bleeding denotes a bleeding tendency which may be due to the disease itself or due to the chemo or a manifestation of an associated condition.  Vomiting is a known side effect of chemotherapy however there are many other causes (check the symptom diagnosis list in the left hand menu of this page).  What type of leukemia was she diagnosed with? What is her last CBC count? how many days has she been on chemo?  Best regards,'"
      ]
     },
     "execution_count": 16,
     "metadata": {},
     "output_type": "execute_result"
    }
   ],
   "source": [
    "doc_arr = df.text.values.tolist()\n",
    "doc_arr[-1]"
   ]
  },
  {
   "cell_type": "code",
   "execution_count": 17,
   "metadata": {
    "ExecuteTime": {
     "end_time": "2018-07-12T23:48:34.439798Z",
     "start_time": "2018-07-12T23:48:34.288359Z"
    }
   },
   "outputs": [],
   "source": [
    "preprocessor = Preprocessor(doc_arr)"
   ]
  },
  {
   "cell_type": "code",
   "execution_count": 18,
   "metadata": {
    "ExecuteTime": {
     "end_time": "2018-07-12T23:48:43.546243Z",
     "start_time": "2018-07-12T23:48:42.695153Z"
    }
   },
   "outputs": [],
   "source": [
    "preprocessor.remove_digits_punctuactions()"
   ]
  },
  {
   "cell_type": "code",
   "execution_count": 19,
   "metadata": {
    "ExecuteTime": {
     "end_time": "2018-07-12T23:49:12.868549Z",
     "start_time": "2018-07-12T23:48:43.549633Z"
    }
   },
   "outputs": [],
   "source": [
    "preprocessor.remove_stopwords()"
   ]
  },
  {
   "cell_type": "code",
   "execution_count": 27,
   "metadata": {
    "ExecuteTime": {
     "end_time": "2018-07-12T23:51:05.708013Z",
     "start_time": "2018-07-12T23:51:05.703538Z"
    }
   },
   "outputs": [],
   "source": [
    "min_freq = 0\n",
    "max_freq = 1\n",
    "min_len = 2"
   ]
  },
  {
   "cell_type": "code",
   "execution_count": 30,
   "metadata": {
    "ExecuteTime": {
     "end_time": "2018-07-12T23:52:34.393937Z",
     "start_time": "2018-07-12T23:52:34.387432Z"
    }
   },
   "outputs": [],
   "source": [
    "import nltk\n",
    "lemmatizer  = nltk.WordNetLemmatizer()\n",
    "#stemmer  = nltk.PorterStemmer()"
   ]
  },
  {
   "cell_type": "code",
   "execution_count": 31,
   "metadata": {
    "ExecuteTime": {
     "end_time": "2018-07-12T23:54:13.165750Z",
     "start_time": "2018-07-12T23:52:38.044731Z"
    }
   },
   "outputs": [],
   "source": [
    "preprocessor.normalize(lemmatizer, min_freq, max_freq, min_len)\n",
    "#preprocessor.normalize(stemmer, min_freq, max_freq, min_len)"
   ]
  },
  {
   "cell_type": "markdown",
   "metadata": {},
   "source": [
    "export"
   ]
  },
  {
   "cell_type": "code",
   "execution_count": 33,
   "metadata": {
    "ExecuteTime": {
     "end_time": "2018-07-12T23:57:33.469648Z",
     "start_time": "2018-07-12T23:57:28.659218Z"
    }
   },
   "outputs": [],
   "source": [
    "preprocessor.serialize(format_='MmCorpus', path='./data/')"
   ]
  },
  {
   "cell_type": "markdown",
   "metadata": {},
   "source": [
    "dictionary"
   ]
  },
  {
   "cell_type": "code",
   "execution_count": 39,
   "metadata": {
    "ExecuteTime": {
     "end_time": "2018-07-12T23:59:56.735250Z",
     "start_time": "2018-07-12T23:59:55.026322Z"
    }
   },
   "outputs": [],
   "source": [
    "dictionary = corpora.Dictionary(preprocessor.corpus)"
   ]
  },
  {
   "cell_type": "code",
   "execution_count": 40,
   "metadata": {
    "ExecuteTime": {
     "end_time": "2018-07-12T23:59:56.770570Z",
     "start_time": "2018-07-12T23:59:56.737695Z"
    }
   },
   "outputs": [],
   "source": [
    "dictionary.save('data/corpus.dict')"
   ]
  },
  {
   "cell_type": "markdown",
   "metadata": {},
   "source": [
    "---"
   ]
  },
  {
   "cell_type": "markdown",
   "metadata": {},
   "source": [
    "#### apply lda"
   ]
  },
  {
   "cell_type": "code",
   "execution_count": 15,
   "metadata": {
    "ExecuteTime": {
     "end_time": "2018-07-13T00:09:04.002123Z",
     "start_time": "2018-07-13T00:09:03.996505Z"
    }
   },
   "outputs": [],
   "source": [
    "from gensim import corpora\n",
    "from gensim.models import ldamodel, ldamulticore\n",
    "from gensim.models.coherencemodel import CoherenceModel"
   ]
  },
  {
   "cell_type": "code",
   "execution_count": 5,
   "metadata": {
    "ExecuteTime": {
     "end_time": "2018-07-13T00:03:13.576960Z",
     "start_time": "2018-07-13T00:03:13.547779Z"
    }
   },
   "outputs": [
    {
     "data": {
      "text/plain": [
       "22003"
      ]
     },
     "execution_count": 5,
     "metadata": {},
     "output_type": "execute_result"
    }
   ],
   "source": [
    "corpus = corpora.MmCorpus('data/corpus_MmCorpus.dump')\n",
    "corpus.num_docs"
   ]
  },
  {
   "cell_type": "code",
   "execution_count": 9,
   "metadata": {
    "ExecuteTime": {
     "end_time": "2018-07-13T00:03:56.043380Z",
     "start_time": "2018-07-13T00:03:55.982355Z"
    }
   },
   "outputs": [],
   "source": [
    "dictionary = corpora.Dictionary.load('data/corpus.dict')"
   ]
  },
  {
   "cell_type": "markdown",
   "metadata": {},
   "source": [
    "to vector"
   ]
  },
  {
   "cell_type": "markdown",
   "metadata": {},
   "source": [
    "##### test"
   ]
  },
  {
   "cell_type": "code",
   "execution_count": 24,
   "metadata": {
    "ExecuteTime": {
     "end_time": "2018-07-13T00:15:14.759491Z",
     "start_time": "2018-07-13T00:15:14.753409Z"
    }
   },
   "outputs": [],
   "source": [
    "param_dict = {'num_topics': 50, 'workers': 25,\n",
    "              'chunksize': len(corpus)//3, 'passes': 5}"
   ]
  },
  {
   "cell_type": "code",
   "execution_count": 25,
   "metadata": {
    "ExecuteTime": {
     "end_time": "2018-07-13T00:16:46.533684Z",
     "start_time": "2018-07-13T00:15:15.254812Z"
    }
   },
   "outputs": [],
   "source": [
    "lda = ldamulticore.LdaMulticore(corpus=corpus, id2word=dictionary, \n",
    "                                **param_dict)"
   ]
  },
  {
   "cell_type": "code",
   "execution_count": 27,
   "metadata": {
    "ExecuteTime": {
     "end_time": "2018-07-13T00:23:59.877597Z",
     "start_time": "2018-07-13T00:23:58.078154Z"
    }
   },
   "outputs": [
    {
     "data": {
      "text/plain": [
       "-2.0316351759805338"
      ]
     },
     "execution_count": 27,
     "metadata": {},
     "output_type": "execute_result"
    }
   ],
   "source": [
    "cm = CoherenceModel(model=lda, corpus=corpus,\n",
    "                    coherence='u_mass')\n",
    "cm.get_coherence()"
   ]
  },
  {
   "cell_type": "markdown",
   "metadata": {},
   "source": [
    "##### run for different `num_topics`"
   ]
  },
  {
   "cell_type": "code",
   "execution_count": 29,
   "metadata": {
    "ExecuteTime": {
     "end_time": "2018-07-13T00:56:52.490265Z",
     "start_time": "2018-07-13T00:25:47.793636Z"
    }
   },
   "outputs": [
    {
     "name": "stderr",
     "output_type": "stream",
     "text": [
      "/Users/zhiyzuo/.virtualenvs/Zuo-Py3/lib/python3.6/site-packages/gensim/models/ldamodel.py:1023: RuntimeWarning: divide by zero encountered in log\n",
      "  diff = np.log(self.expElogbeta)\n"
     ]
    }
   ],
   "source": [
    "result_list = list()\n",
    "for k in range(100, 151, 10):\n",
    "    param_dict = {'num_topics': k, \n",
    "                  'workers': 25,\n",
    "                  'chunksize': len(corpus)//3, \n",
    "                  'passes': 5}\n",
    "    \n",
    "    lda = ldamulticore.LdaMulticore(corpus=corpus, \n",
    "                                    id2word=dictionary, \n",
    "                                    **param_dict)\n",
    "    cm = CoherenceModel(model=lda, corpus=corpus,\n",
    "                        coherence='u_mass')\n",
    "    score = cm.get_coherence()\n",
    "    result_list.append({'num_topics': k, 'coherence': score})"
   ]
  },
  {
   "cell_type": "code",
   "execution_count": 32,
   "metadata": {
    "ExecuteTime": {
     "end_time": "2018-07-13T00:57:09.381304Z",
     "start_time": "2018-07-13T00:57:09.358905Z"
    }
   },
   "outputs": [
    {
     "data": {
      "text/html": [
       "<div>\n",
       "<style scoped>\n",
       "    .dataframe tbody tr th:only-of-type {\n",
       "        vertical-align: middle;\n",
       "    }\n",
       "\n",
       "    .dataframe tbody tr th {\n",
       "        vertical-align: top;\n",
       "    }\n",
       "\n",
       "    .dataframe thead th {\n",
       "        text-align: right;\n",
       "    }\n",
       "</style>\n",
       "<table border=\"1\" class=\"dataframe\">\n",
       "  <thead>\n",
       "    <tr style=\"text-align: right;\">\n",
       "      <th></th>\n",
       "      <th>coherence</th>\n",
       "      <th>num_topics</th>\n",
       "    </tr>\n",
       "  </thead>\n",
       "  <tbody>\n",
       "    <tr>\n",
       "      <th>0</th>\n",
       "      <td>-2.158152</td>\n",
       "      <td>100</td>\n",
       "    </tr>\n",
       "    <tr>\n",
       "      <th>1</th>\n",
       "      <td>-2.163577</td>\n",
       "      <td>110</td>\n",
       "    </tr>\n",
       "    <tr>\n",
       "      <th>2</th>\n",
       "      <td>-2.174580</td>\n",
       "      <td>120</td>\n",
       "    </tr>\n",
       "    <tr>\n",
       "      <th>3</th>\n",
       "      <td>-2.139994</td>\n",
       "      <td>130</td>\n",
       "    </tr>\n",
       "    <tr>\n",
       "      <th>4</th>\n",
       "      <td>-2.152813</td>\n",
       "      <td>140</td>\n",
       "    </tr>\n",
       "    <tr>\n",
       "      <th>5</th>\n",
       "      <td>-2.170055</td>\n",
       "      <td>150</td>\n",
       "    </tr>\n",
       "  </tbody>\n",
       "</table>\n",
       "</div>"
      ],
      "text/plain": [
       "   coherence  num_topics\n",
       "0  -2.158152         100\n",
       "1  -2.163577         110\n",
       "2  -2.174580         120\n",
       "3  -2.139994         130\n",
       "4  -2.152813         140\n",
       "5  -2.170055         150"
      ]
     },
     "execution_count": 32,
     "metadata": {},
     "output_type": "execute_result"
    }
   ],
   "source": [
    "pd.DataFrame(result_list)"
   ]
  },
  {
   "cell_type": "code",
   "execution_count": 33,
   "metadata": {
    "ExecuteTime": {
     "end_time": "2018-07-13T00:59:12.620194Z",
     "start_time": "2018-07-13T00:59:12.600972Z"
    }
   },
   "outputs": [],
   "source": [
    "result_df = pd.DataFrame(result_list)\n",
    "result_df.to_csv('data/topic_coherence.csv', index=False)"
   ]
  },
  {
   "cell_type": "code",
   "execution_count": 69,
   "metadata": {
    "ExecuteTime": {
     "end_time": "2018-07-13T01:53:06.263090Z",
     "start_time": "2018-07-13T01:53:05.942150Z"
    }
   },
   "outputs": [
    {
     "data": {
      "text/plain": [
       "<matplotlib.axes._subplots.AxesSubplot at 0x2ab36b404710>"
      ]
     },
     "execution_count": 69,
     "metadata": {},
     "output_type": "execute_result"
    },
    {
     "data": {
      "image/png": "[encoded data removed]",
      "text/plain": [
       "<Figure size 432x288 with 1 Axes>"
      ]
     },
     "metadata": {},
     "output_type": "display_data"
    }
   ],
   "source": [
    "result_df.plot(x='num_topics', y='coherence', kind='line')"
   ]
  },
  {
   "cell_type": "markdown",
   "metadata": {},
   "source": [
    "---"
   ]
  },
  {
   "cell_type": "markdown",
   "metadata": {},
   "source": [
    "#### best lda model"
   ]
  },
  {
   "cell_type": "markdown",
   "metadata": {},
   "source": [
    "k = 130"
   ]
  },
  {
   "cell_type": "code",
   "execution_count": 35,
   "metadata": {
    "ExecuteTime": {
     "end_time": "2018-07-13T00:59:38.052124Z",
     "start_time": "2018-07-13T00:59:38.039135Z"
    }
   },
   "outputs": [],
   "source": [
    "param_dict = {'num_topics': 130, 'workers': 28,\n",
    "              'chunksize': len(corpus)//3, 'passes': 5}"
   ]
  },
  {
   "cell_type": "code",
   "execution_count": 36,
   "metadata": {
    "ExecuteTime": {
     "end_time": "2018-07-13T01:04:58.477604Z",
     "start_time": "2018-07-13T00:59:38.663194Z"
    }
   },
   "outputs": [
    {
     "name": "stderr",
     "output_type": "stream",
     "text": [
      "/Users/zhiyzuo/.virtualenvs/Zuo-Py3/lib/python3.6/site-packages/gensim/models/ldamodel.py:1023: RuntimeWarning: divide by zero encountered in log\n",
      "  diff = np.log(self.expElogbeta)\n"
     ]
    }
   ],
   "source": [
    "lda = ldamulticore.LdaMulticore(corpus=corpus, id2word=dictionary, \n",
    "                                **param_dict)"
   ]
  },
  {
   "cell_type": "markdown",
   "metadata": {},
   "source": [
    "save model"
   ]
  },
  {
   "cell_type": "code",
   "execution_count": 64,
   "metadata": {
    "ExecuteTime": {
     "end_time": "2018-07-13T01:50:12.118208Z",
     "start_time": "2018-07-13T01:50:12.113641Z"
    }
   },
   "outputs": [],
   "source": [
    "model_path = \"./data/ldamodel\""
   ]
  },
  {
   "cell_type": "code",
   "execution_count": 65,
   "metadata": {
    "ExecuteTime": {
     "end_time": "2018-07-13T01:50:13.265558Z",
     "start_time": "2018-07-13T01:50:12.412307Z"
    }
   },
   "outputs": [],
   "source": [
    "lda.save(model_path)"
   ]
  },
  {
   "cell_type": "markdown",
   "metadata": {},
   "source": [
    "topic representation"
   ]
  },
  {
   "cell_type": "code",
   "execution_count": 66,
   "metadata": {
    "ExecuteTime": {
     "end_time": "2018-07-13T01:51:15.028987Z",
     "start_time": "2018-07-13T01:51:15.001623Z"
    }
   },
   "outputs": [
    {
     "name": "stdout",
     "output_type": "stream",
     "text": [
      "topic 33\n",
      "0.012*\"symptom\" + 0.010*\"disease\" + 0.010*\"problem\" + 0.009*\"pain\" + 0.008*\"test\" + 0.008*\"doctor\" + 0.007*\"thyroid\" + 0.007*\"blood\" + 0.007*\"good\" + 0.007*\"find\"\n",
      "topic 102\n",
      "0.010*\"heart\" + 0.009*\"rate\" + 0.007*\"case\" + 0.006*\"problem\" + 0.006*\"infection\" + 0.006*\"doctor\" + 0.005*\"time\" + 0.005*\"long\" + 0.005*\"pain\" + 0.005*\"common\"\n",
      "topic 56\n",
      "0.027*\"day\" + 0.017*\"pain\" + 0.009*\"test\" + 0.008*\"normal\" + 0.007*\"month\" + 0.007*\"doctor\" + 0.007*\"time\" + 0.006*\"leave\" + 0.005*\"problem\" + 0.005*\"year\"\n",
      "topic 118\n",
      "0.010*\"time\" + 0.009*\"normal\" + 0.009*\"week\" + 0.008*\"test\" + 0.008*\"year\" + 0.007*\"month\" + 0.006*\"nipple\" + 0.006*\"period\" + 0.005*\"pregnancy\" + 0.005*\"doctor\"\n",
      "topic 5\n",
      "0.020*\"abilify\" + 0.011*\"buy\" + 0.008*\"bump\" + 0.007*\"skin\" + 0.007*\"doctor\" + 0.006*\"symptom\" + 0.006*\"disorder\" + 0.006*\"start\" + 0.006*\"time\" + 0.006*\"month\"\n",
      "topic 39\n",
      "0.021*\"day\" + 0.020*\"year\" + 0.014*\"blood\" + 0.014*\"week\" + 0.014*\"time\" + 0.009*\"mg\" + 0.009*\"month\" + 0.007*\"normal\" + 0.007*\"ve\" + 0.006*\"period\"\n",
      "topic 65\n",
      "0.011*\"problem\" + 0.009*\"doctor\" + 0.008*\"pain\" + 0.007*\"chest\" + 0.005*\"hope\" + 0.005*\"luck\" + 0.005*\"good\" + 0.005*\"symptom\" + 0.004*\"time\" + 0.004*\"thing\"\n",
      "topic 108\n",
      "0.009*\"problem\" + 0.007*\"year\" + 0.007*\"grow\" + 0.006*\"scar\" + 0.005*\"infection\" + 0.005*\"ve\" + 0.005*\"time\" + 0.005*\"feel\" + 0.005*\"thing\" + 0.005*\"leave\"\n",
      "topic 97\n",
      "0.014*\"problem\" + 0.008*\"year\" + 0.007*\"symptom\" + 0.007*\"side\" + 0.006*\"day\" + 0.006*\"pain\" + 0.006*\"good\" + 0.006*\"neck\" + 0.006*\"leave\" + 0.005*\"test\"\n",
      "topic 84\n",
      "0.020*\"symptom\" + 0.016*\"effect\" + 0.016*\"brain\" + 0.013*\"doctor\" + 0.013*\"medication\" + 0.012*\"antidepressant\" + 0.008*\"good\" + 0.008*\"side\" + 0.007*\"include\" + 0.007*\"treatment\"\n"
     ]
    }
   ],
   "source": [
    "for i, topic_str in lda.show_topics(num_topics=10, num_words=10):\n",
    "    print('topic', i)\n",
    "    print(topic_str)"
   ]
  },
  {
   "cell_type": "markdown",
   "metadata": {},
   "source": [
    "---"
   ]
  },
  {
   "cell_type": "markdown",
   "metadata": {},
   "source": [
    "#### calculate topical diversity"
   ]
  },
  {
   "cell_type": "code",
   "execution_count": 70,
   "metadata": {
    "ExecuteTime": {
     "end_time": "2018-07-13T01:56:54.169745Z",
     "start_time": "2018-07-13T01:56:54.162596Z"
    }
   },
   "outputs": [
    {
     "data": {
      "text/plain": [
       "<gensim.corpora.mmcorpus.MmCorpus at 0x2ab3ceec91c8>"
      ]
     },
     "execution_count": 70,
     "metadata": {},
     "output_type": "execute_result"
    }
   ],
   "source": [
    "corpus"
   ]
  },
  {
   "cell_type": "code",
   "execution_count": 79,
   "metadata": {
    "ExecuteTime": {
     "end_time": "2018-07-13T02:00:51.382010Z",
     "start_time": "2018-07-13T02:00:51.374422Z"
    }
   },
   "outputs": [
    {
     "data": {
      "text/plain": [
       "gensim.interfaces.TransformedCorpus"
      ]
     },
     "execution_count": 79,
     "metadata": {},
     "output_type": "execute_result"
    }
   ],
   "source": [
    "doc_topic_dist = lda.get_document_topics(bow=corpus, minimum_probability=0)\n",
    "type(doc_topic_dist)"
   ]
  },
  {
   "cell_type": "markdown",
   "metadata": {},
   "source": [
    "##### test"
   ]
  },
  {
   "cell_type": "markdown",
   "metadata": {},
   "source": [
    "does topic distribution sum to 1?"
   ]
  },
  {
   "cell_type": "code",
   "execution_count": 80,
   "metadata": {
    "ExecuteTime": {
     "end_time": "2018-07-13T02:00:52.517597Z",
     "start_time": "2018-07-13T02:00:52.457748Z"
    },
    "collapsed": true
   },
   "outputs": [
    {
     "data": {
      "text/plain": [
       "[(0, 5.2687039e-05),\n",
       " (1, 5.2687039e-05),\n",
       " (2, 5.2687039e-05),\n",
       " (3, 5.2687039e-05),\n",
       " (4, 5.2687039e-05),\n",
       " (5, 5.2687039e-05),\n",
       " (6, 5.2687039e-05),\n",
       " (7, 5.2687039e-05),\n",
       " (8, 5.2687039e-05),\n",
       " (9, 5.2687039e-05),\n",
       " (10, 5.2687039e-05),\n",
       " (11, 5.2687039e-05),\n",
       " (12, 0.096448436),\n",
       " (13, 5.2687039e-05),\n",
       " (14, 5.2687039e-05),\n",
       " (15, 5.2687039e-05),\n",
       " (16, 5.2687039e-05),\n",
       " (17, 5.2687039e-05),\n",
       " (18, 5.2687039e-05),\n",
       " (19, 5.2687039e-05),\n",
       " (20, 5.2687039e-05),\n",
       " (21, 5.2687039e-05),\n",
       " (22, 5.2687039e-05),\n",
       " (23, 5.2687039e-05),\n",
       " (24, 5.2687039e-05),\n",
       " (25, 0.092528366),\n",
       " (26, 0.23910363),\n",
       " (27, 5.2687039e-05),\n",
       " (28, 5.2687039e-05),\n",
       " (29, 5.2687039e-05),\n",
       " (30, 5.2687039e-05),\n",
       " (31, 5.2687039e-05),\n",
       " (32, 5.2687039e-05),\n",
       " (33, 5.2687039e-05),\n",
       " (34, 5.2687039e-05),\n",
       " (35, 5.2687039e-05),\n",
       " (36, 5.2687039e-05),\n",
       " (37, 5.2687039e-05),\n",
       " (38, 5.2687039e-05),\n",
       " (39, 5.2687039e-05),\n",
       " (40, 5.2687039e-05),\n",
       " (41, 5.2687039e-05),\n",
       " (42, 5.2687039e-05),\n",
       " (43, 5.2687039e-05),\n",
       " (44, 5.2687039e-05),\n",
       " (45, 5.2687039e-05),\n",
       " (46, 5.2687039e-05),\n",
       " (47, 5.2687039e-05),\n",
       " (48, 5.2687039e-05),\n",
       " (49, 5.2687039e-05),\n",
       " (50, 5.2687039e-05),\n",
       " (51, 5.2687039e-05),\n",
       " (52, 5.2687039e-05),\n",
       " (53, 5.2687039e-05),\n",
       " (54, 5.2687039e-05),\n",
       " (55, 5.2687039e-05),\n",
       " (56, 5.2687039e-05),\n",
       " (57, 5.2687039e-05),\n",
       " (58, 5.2687039e-05),\n",
       " (59, 5.2687039e-05),\n",
       " (60, 5.2687039e-05),\n",
       " (61, 5.2687039e-05),\n",
       " (62, 5.2687039e-05),\n",
       " (63, 0.30844763),\n",
       " (64, 5.2687039e-05),\n",
       " (65, 5.2687039e-05),\n",
       " (66, 5.2687039e-05),\n",
       " (67, 5.2687039e-05),\n",
       " (68, 5.2687039e-05),\n",
       " (69, 5.2687039e-05),\n",
       " (70, 5.2687039e-05),\n",
       " (71, 5.2687039e-05),\n",
       " (72, 5.2687039e-05),\n",
       " (73, 5.2687039e-05),\n",
       " (74, 5.2687039e-05),\n",
       " (75, 5.2687039e-05),\n",
       " (76, 5.2687039e-05),\n",
       " (77, 5.2687039e-05),\n",
       " (78, 5.2687039e-05),\n",
       " (79, 0.25688604),\n",
       " (80, 5.2687039e-05),\n",
       " (81, 5.2687039e-05),\n",
       " (82, 5.2687039e-05),\n",
       " (83, 5.2687039e-05),\n",
       " (84, 5.2687039e-05),\n",
       " (85, 5.2687039e-05),\n",
       " (86, 5.2687039e-05),\n",
       " (87, 5.2687039e-05),\n",
       " (88, 5.2687039e-05),\n",
       " (89, 5.2687039e-05),\n",
       " (90, 5.2687039e-05),\n",
       " (91, 5.2687039e-05),\n",
       " (92, 5.2687039e-05),\n",
       " (93, 5.2687039e-05),\n",
       " (94, 5.2687039e-05),\n",
       " (95, 5.2687039e-05),\n",
       " (96, 5.2687039e-05),\n",
       " (97, 5.2687039e-05),\n",
       " (98, 5.2687039e-05),\n",
       " (99, 5.2687039e-05),\n",
       " (100, 5.2687039e-05),\n",
       " (101, 5.2687039e-05),\n",
       " (102, 5.2687039e-05),\n",
       " (103, 5.2687039e-05),\n",
       " (104, 5.2687039e-05),\n",
       " (105, 5.2687039e-05),\n",
       " (106, 5.2687039e-05),\n",
       " (107, 5.2687039e-05),\n",
       " (108, 5.2687039e-05),\n",
       " (109, 5.2687039e-05),\n",
       " (110, 5.2687039e-05),\n",
       " (111, 5.2687039e-05),\n",
       " (112, 5.2687039e-05),\n",
       " (113, 5.2687039e-05),\n",
       " (114, 5.2687039e-05),\n",
       " (115, 5.2687039e-05),\n",
       " (116, 5.2687039e-05),\n",
       " (117, 5.2687039e-05),\n",
       " (118, 5.2687039e-05),\n",
       " (119, 5.2687039e-05),\n",
       " (120, 5.2687039e-05),\n",
       " (121, 5.2687039e-05),\n",
       " (122, 5.2687039e-05),\n",
       " (123, 5.2687039e-05),\n",
       " (124, 5.2687039e-05),\n",
       " (125, 5.2687039e-05),\n",
       " (126, 5.2687039e-05),\n",
       " (127, 5.2687039e-05),\n",
       " (128, 5.2687039e-05),\n",
       " (129, 5.2687039e-05)]"
      ]
     },
     "execution_count": 80,
     "metadata": {},
     "output_type": "execute_result"
    }
   ],
   "source": [
    "doc_topic_dist[0]"
   ]
  },
  {
   "cell_type": "code",
   "execution_count": 82,
   "metadata": {
    "ExecuteTime": {
     "end_time": "2018-07-13T02:01:10.399888Z",
     "start_time": "2018-07-13T02:01:10.384478Z"
    }
   },
   "outputs": [
    {
     "data": {
      "text/plain": [
       "0.99999997640770744"
      ]
     },
     "execution_count": 82,
     "metadata": {},
     "output_type": "execute_result"
    }
   ],
   "source": [
    "sum([p for _, p in doc_topic_dist[0]])"
   ]
  },
  {
   "cell_type": "code",
   "execution_count": 85,
   "metadata": {
    "ExecuteTime": {
     "end_time": "2018-07-13T02:03:17.642573Z",
     "start_time": "2018-07-13T02:03:17.571830Z"
    }
   },
   "outputs": [
    {
     "data": {
      "text/html": [
       "<div>\n",
       "<style scoped>\n",
       "    .dataframe tbody tr th:only-of-type {\n",
       "        vertical-align: middle;\n",
       "    }\n",
       "\n",
       "    .dataframe tbody tr th {\n",
       "        vertical-align: top;\n",
       "    }\n",
       "\n",
       "    .dataframe thead th {\n",
       "        text-align: right;\n",
       "    }\n",
       "</style>\n",
       "<table border=\"1\" class=\"dataframe\">\n",
       "  <thead>\n",
       "    <tr style=\"text-align: right;\">\n",
       "      <th></th>\n",
       "      <th>topic</th>\n",
       "      <th>probability</th>\n",
       "    </tr>\n",
       "  </thead>\n",
       "  <tbody>\n",
       "    <tr>\n",
       "      <th>0</th>\n",
       "      <td>0</td>\n",
       "      <td>0.000053</td>\n",
       "    </tr>\n",
       "    <tr>\n",
       "      <th>1</th>\n",
       "      <td>1</td>\n",
       "      <td>0.000053</td>\n",
       "    </tr>\n",
       "  </tbody>\n",
       "</table>\n",
       "</div>"
      ],
      "text/plain": [
       "   topic  probability\n",
       "0      0     0.000053\n",
       "1      1     0.000053"
      ]
     },
     "execution_count": 85,
     "metadata": {},
     "output_type": "execute_result"
    }
   ],
   "source": [
    "topic_dist_df = pd.DataFrame(doc_topic_dist[0], columns=['topic', 'probability'])\n",
    "topic_dist_df.head(2)"
   ]
  },
  {
   "cell_type": "markdown",
   "metadata": {},
   "source": [
    "##### convert to df first"
   ]
  },
  {
   "cell_type": "code",
   "execution_count": 86,
   "metadata": {
    "ExecuteTime": {
     "end_time": "2018-07-13T02:05:47.405586Z",
     "start_time": "2018-07-13T02:05:47.398712Z"
    }
   },
   "outputs": [
    {
     "data": {
      "text/plain": [
       "22003"
      ]
     },
     "execution_count": 86,
     "metadata": {},
     "output_type": "execute_result"
    }
   ],
   "source": [
    "len(doc_topic_dist)"
   ]
  },
  {
   "cell_type": "code",
   "execution_count": 88,
   "metadata": {
    "ExecuteTime": {
     "end_time": "2018-07-13T02:14:30.316076Z",
     "start_time": "2018-07-13T02:12:45.566810Z"
    }
   },
   "outputs": [
    {
     "data": {
      "text/html": [
       "<div>\n",
       "<style scoped>\n",
       "    .dataframe tbody tr th:only-of-type {\n",
       "        vertical-align: middle;\n",
       "    }\n",
       "\n",
       "    .dataframe tbody tr th {\n",
       "        vertical-align: top;\n",
       "    }\n",
       "\n",
       "    .dataframe thead th {\n",
       "        text-align: right;\n",
       "    }\n",
       "</style>\n",
       "<table border=\"1\" class=\"dataframe\">\n",
       "  <thead>\n",
       "    <tr style=\"text-align: right;\">\n",
       "      <th></th>\n",
       "      <th>topic</th>\n",
       "      <th>probability</th>\n",
       "      <th>doc_index</th>\n",
       "    </tr>\n",
       "  </thead>\n",
       "  <tbody>\n",
       "    <tr>\n",
       "      <th>0</th>\n",
       "      <td>0</td>\n",
       "      <td>0.000053</td>\n",
       "      <td>0</td>\n",
       "    </tr>\n",
       "    <tr>\n",
       "      <th>1</th>\n",
       "      <td>1</td>\n",
       "      <td>0.000053</td>\n",
       "      <td>0</td>\n",
       "    </tr>\n",
       "  </tbody>\n",
       "</table>\n",
       "</div>"
      ],
      "text/plain": [
       "   topic  probability  doc_index\n",
       "0      0     0.000053          0\n",
       "1      1     0.000053          0"
      ]
     },
     "execution_count": 88,
     "metadata": {},
     "output_type": "execute_result"
    }
   ],
   "source": [
    "doc_topic_df = list()\n",
    "for i in range(len(doc_topic_dist)):\n",
    "    tmp_df = pd.DataFrame(doc_topic_dist[i],\n",
    "                          columns=['topic', 'probability'])\n",
    "    tmp_df['doc_index'] = i\n",
    "    doc_topic_df.append(tmp_df)\n",
    "doc_topic_df = pd.concat(doc_topic_df, ignore_index=True)\n",
    "doc_topic_df.head(2)"
   ]
  },
  {
   "cell_type": "markdown",
   "metadata": {},
   "source": [
    "reshape dataframe"
   ]
  },
  {
   "cell_type": "code",
   "execution_count": 91,
   "metadata": {
    "ExecuteTime": {
     "end_time": "2018-07-13T02:16:28.819074Z",
     "start_time": "2018-07-13T02:16:26.793818Z"
    }
   },
   "outputs": [
    {
     "data": {
      "text/html": [
       "<div>\n",
       "<style scoped>\n",
       "    .dataframe tbody tr th:only-of-type {\n",
       "        vertical-align: middle;\n",
       "    }\n",
       "\n",
       "    .dataframe tbody tr th {\n",
       "        vertical-align: top;\n",
       "    }\n",
       "\n",
       "    .dataframe thead th {\n",
       "        text-align: right;\n",
       "    }\n",
       "</style>\n",
       "<table border=\"1\" class=\"dataframe\">\n",
       "  <thead>\n",
       "    <tr style=\"text-align: right;\">\n",
       "      <th>topic</th>\n",
       "      <th>0</th>\n",
       "      <th>1</th>\n",
       "      <th>2</th>\n",
       "      <th>3</th>\n",
       "      <th>4</th>\n",
       "      <th>5</th>\n",
       "      <th>6</th>\n",
       "      <th>7</th>\n",
       "      <th>8</th>\n",
       "      <th>9</th>\n",
       "      <th>...</th>\n",
       "      <th>120</th>\n",
       "      <th>121</th>\n",
       "      <th>122</th>\n",
       "      <th>123</th>\n",
       "      <th>124</th>\n",
       "      <th>125</th>\n",
       "      <th>126</th>\n",
       "      <th>127</th>\n",
       "      <th>128</th>\n",
       "      <th>129</th>\n",
       "    </tr>\n",
       "    <tr>\n",
       "      <th>doc_index</th>\n",
       "      <th></th>\n",
       "      <th></th>\n",
       "      <th></th>\n",
       "      <th></th>\n",
       "      <th></th>\n",
       "      <th></th>\n",
       "      <th></th>\n",
       "      <th></th>\n",
       "      <th></th>\n",
       "      <th></th>\n",
       "      <th></th>\n",
       "      <th></th>\n",
       "      <th></th>\n",
       "      <th></th>\n",
       "      <th></th>\n",
       "      <th></th>\n",
       "      <th></th>\n",
       "      <th></th>\n",
       "      <th></th>\n",
       "      <th></th>\n",
       "      <th></th>\n",
       "    </tr>\n",
       "  </thead>\n",
       "  <tbody>\n",
       "    <tr>\n",
       "      <th>0</th>\n",
       "      <td>0.000053</td>\n",
       "      <td>0.000053</td>\n",
       "      <td>0.000053</td>\n",
       "      <td>0.000053</td>\n",
       "      <td>0.000053</td>\n",
       "      <td>0.000053</td>\n",
       "      <td>0.000053</td>\n",
       "      <td>0.000053</td>\n",
       "      <td>0.000053</td>\n",
       "      <td>0.000053</td>\n",
       "      <td>...</td>\n",
       "      <td>0.000053</td>\n",
       "      <td>0.000053</td>\n",
       "      <td>0.000053</td>\n",
       "      <td>0.000053</td>\n",
       "      <td>0.000053</td>\n",
       "      <td>0.000053</td>\n",
       "      <td>0.000053</td>\n",
       "      <td>0.000053</td>\n",
       "      <td>0.000053</td>\n",
       "      <td>0.000053</td>\n",
       "    </tr>\n",
       "    <tr>\n",
       "      <th>1</th>\n",
       "      <td>0.000063</td>\n",
       "      <td>0.000063</td>\n",
       "      <td>0.000063</td>\n",
       "      <td>0.000063</td>\n",
       "      <td>0.000063</td>\n",
       "      <td>0.000063</td>\n",
       "      <td>0.000063</td>\n",
       "      <td>0.000063</td>\n",
       "      <td>0.000063</td>\n",
       "      <td>0.000063</td>\n",
       "      <td>...</td>\n",
       "      <td>0.000063</td>\n",
       "      <td>0.000063</td>\n",
       "      <td>0.000063</td>\n",
       "      <td>0.000063</td>\n",
       "      <td>0.000063</td>\n",
       "      <td>0.000063</td>\n",
       "      <td>0.000063</td>\n",
       "      <td>0.000063</td>\n",
       "      <td>0.000063</td>\n",
       "      <td>0.000063</td>\n",
       "    </tr>\n",
       "  </tbody>\n",
       "</table>\n",
       "<p>2 rows × 130 columns</p>\n",
       "</div>"
      ],
      "text/plain": [
       "topic           0         1         2         3         4         5    \\\n",
       "doc_index                                                               \n",
       "0          0.000053  0.000053  0.000053  0.000053  0.000053  0.000053   \n",
       "1          0.000063  0.000063  0.000063  0.000063  0.000063  0.000063   \n",
       "\n",
       "topic           6         7         8         9      ...          120  \\\n",
       "doc_index                                            ...                \n",
       "0          0.000053  0.000053  0.000053  0.000053    ...     0.000053   \n",
       "1          0.000063  0.000063  0.000063  0.000063    ...     0.000063   \n",
       "\n",
       "topic           121       122       123       124       125       126  \\\n",
       "doc_index                                                               \n",
       "0          0.000053  0.000053  0.000053  0.000053  0.000053  0.000053   \n",
       "1          0.000063  0.000063  0.000063  0.000063  0.000063  0.000063   \n",
       "\n",
       "topic           127       128       129  \n",
       "doc_index                                \n",
       "0          0.000053  0.000053  0.000053  \n",
       "1          0.000063  0.000063  0.000063  \n",
       "\n",
       "[2 rows x 130 columns]"
      ]
     },
     "execution_count": 91,
     "metadata": {},
     "output_type": "execute_result"
    }
   ],
   "source": [
    "wide_dt_df = doc_topic_df.pivot_table(index='doc_index', columns=['topic'], values='probability')\n",
    "wide_dt_df.head(2)"
   ]
  },
  {
   "cell_type": "code",
   "execution_count": 93,
   "metadata": {
    "ExecuteTime": {
     "end_time": "2018-07-13T02:16:57.631608Z",
     "start_time": "2018-07-13T02:16:51.947423Z"
    }
   },
   "outputs": [],
   "source": [
    "wide_dt_df.to_csv('./data/doc-topic-df.csv')"
   ]
  },
  {
   "cell_type": "markdown",
   "metadata": {},
   "source": [
    "##### entropy: diversity"
   ]
  },
  {
   "cell_type": "code",
   "execution_count": 97,
   "metadata": {
    "ExecuteTime": {
     "end_time": "2018-07-13T02:19:32.121781Z",
     "start_time": "2018-07-13T02:19:32.069772Z"
    }
   },
   "outputs": [],
   "source": [
    "import scipy as sp\n",
    "from joblib import Parallel, delayed"
   ]
  },
  {
   "cell_type": "code",
   "execution_count": 94,
   "metadata": {
    "ExecuteTime": {
     "end_time": "2018-07-13T02:18:01.996462Z",
     "start_time": "2018-07-13T02:18:01.981130Z"
    },
    "collapsed": true
   },
   "outputs": [
    {
     "data": {
      "text/plain": [
       "array([  5.26870463e-05,   5.26870463e-05,   5.26870463e-05,\n",
       "         5.26870463e-05,   5.26870463e-05,   5.26870463e-05,\n",
       "         5.26870463e-05,   5.26870463e-05,   5.26870463e-05,\n",
       "         5.26870463e-05,   5.26870463e-05,   5.26870463e-05,\n",
       "         9.94876623e-02,   5.26870463e-05,   5.26870463e-05,\n",
       "         5.26870463e-05,   5.26870463e-05,   5.26870463e-05,\n",
       "         5.26870463e-05,   5.26870463e-05,   5.26870463e-05,\n",
       "         5.26870463e-05,   5.26870463e-05,   5.26870463e-05,\n",
       "         5.26870463e-05,   8.70015696e-02,   2.39781991e-01,\n",
       "         5.26870463e-05,   5.26870463e-05,   5.26870463e-05,\n",
       "         5.26870463e-05,   5.26870463e-05,   5.26870463e-05,\n",
       "         5.26870463e-05,   5.26870463e-05,   5.26870463e-05,\n",
       "         5.26870463e-05,   5.26870463e-05,   5.26870463e-05,\n",
       "         5.26870463e-05,   5.26870463e-05,   5.26870463e-05,\n",
       "         5.26870463e-05,   5.26870463e-05,   5.26870463e-05,\n",
       "         5.26870463e-05,   5.26870463e-05,   5.26870463e-05,\n",
       "         5.26870463e-05,   5.26870463e-05,   5.26870463e-05,\n",
       "         5.26870463e-05,   5.26870463e-05,   5.26870463e-05,\n",
       "         5.26870463e-05,   5.26870463e-05,   5.26870463e-05,\n",
       "         5.26870463e-05,   5.26870463e-05,   5.26870463e-05,\n",
       "         5.26870463e-05,   5.26870463e-05,   5.26870463e-05,\n",
       "         3.09818119e-01,   5.26870463e-05,   5.26870463e-05,\n",
       "         5.26870463e-05,   5.26870463e-05,   5.26870463e-05,\n",
       "         5.26870463e-05,   5.26870463e-05,   5.26870463e-05,\n",
       "         5.26870463e-05,   5.26870463e-05,   5.26870463e-05,\n",
       "         5.26870463e-05,   5.26870463e-05,   5.26870463e-05,\n",
       "         5.26870463e-05,   2.57324755e-01,   5.26870463e-05,\n",
       "         5.26870463e-05,   5.26870463e-05,   5.26870463e-05,\n",
       "         5.26870463e-05,   5.26870463e-05,   5.26870463e-05,\n",
       "         5.26870463e-05,   5.26870463e-05,   5.26870463e-05,\n",
       "         5.26870463e-05,   5.26870463e-05,   5.26870463e-05,\n",
       "         5.26870463e-05,   5.26870463e-05,   5.26870463e-05,\n",
       "         5.26870463e-05,   5.26870463e-05,   5.26870463e-05,\n",
       "         5.26870463e-05,   5.26870463e-05,   5.26870463e-05,\n",
       "         5.26870463e-05,   5.26870463e-05,   5.26870463e-05,\n",
       "         5.26870463e-05,   5.26870463e-05,   5.26870463e-05,\n",
       "         5.26870463e-05,   5.26870463e-05,   5.26870463e-05,\n",
       "         5.26870463e-05,   5.26870463e-05,   5.26870463e-05,\n",
       "         5.26870463e-05,   5.26870463e-05,   5.26870463e-05,\n",
       "         5.26870463e-05,   5.26870463e-05,   5.26870463e-05,\n",
       "         5.26870463e-05,   5.26870463e-05,   5.26870463e-05,\n",
       "         5.26870463e-05,   5.26870463e-05,   5.26870463e-05,\n",
       "         5.26870463e-05,   5.26870463e-05,   5.26870463e-05,\n",
       "         5.26870463e-05])"
      ]
     },
     "execution_count": 94,
     "metadata": {},
     "output_type": "execute_result"
    }
   ],
   "source": [
    "wide_dt_df.loc[0].values"
   ]
  },
  {
   "cell_type": "code",
   "execution_count": 95,
   "metadata": {
    "ExecuteTime": {
     "end_time": "2018-07-13T02:18:07.057270Z",
     "start_time": "2018-07-13T02:18:07.050073Z"
    },
    "collapsed": true
   },
   "outputs": [
    {
     "data": {
      "text/plain": [
       "1.5616583272854041"
      ]
     },
     "execution_count": 95,
     "metadata": {},
     "output_type": "execute_result"
    }
   ],
   "source": [
    "sp.stats.entropy(wide_dt_df.loc[0].values)"
   ]
  },
  {
   "cell_type": "code",
   "execution_count": 102,
   "metadata": {
    "ExecuteTime": {
     "end_time": "2018-07-13T02:21:09.036950Z",
     "start_time": "2018-07-13T02:21:09.032755Z"
    }
   },
   "outputs": [],
   "source": [
    "def calc_topic_diversity(i, val):\n",
    "    return i, sp.stats.entropy(val)"
   ]
  },
  {
   "cell_type": "code",
   "execution_count": 103,
   "metadata": {
    "ExecuteTime": {
     "end_time": "2018-07-13T02:21:16.498093Z",
     "start_time": "2018-07-13T02:21:16.491330Z"
    }
   },
   "outputs": [
    {
     "data": {
      "text/plain": [
       "(3, 0.97344700189040922)"
      ]
     },
     "execution_count": 103,
     "metadata": {},
     "output_type": "execute_result"
    }
   ],
   "source": [
    "i = 3\n",
    "calc_topic_diversity(i, wide_dt_df.loc[i].values)"
   ]
  },
  {
   "cell_type": "code",
   "execution_count": 104,
   "metadata": {
    "ExecuteTime": {
     "end_time": "2018-07-13T02:21:17.744617Z",
     "start_time": "2018-07-13T02:21:17.740820Z"
    }
   },
   "outputs": [],
   "source": [
    "n_jobs = 25"
   ]
  },
  {
   "cell_type": "code",
   "execution_count": 105,
   "metadata": {
    "ExecuteTime": {
     "end_time": "2018-07-13T02:21:58.942419Z",
     "start_time": "2018-07-13T02:21:55.367070Z"
    }
   },
   "outputs": [],
   "source": [
    "doc_topic_diversity_df = Parallel(n_jobs=n_jobs)(delayed(calc_topic_diversity)(i, val.values) for i, val in wide_dt_df.iterrows())\n",
    "doc_topic_diversity_df = pd.DataFrame(doc_topic_diversity_df, columns=['doc_index', 'topic_diversity'])"
   ]
  },
  {
   "cell_type": "code",
   "execution_count": 106,
   "metadata": {
    "ExecuteTime": {
     "end_time": "2018-07-13T02:23:43.189010Z",
     "start_time": "2018-07-13T02:23:43.163923Z"
    }
   },
   "outputs": [
    {
     "data": {
      "text/html": [
       "<div>\n",
       "<style scoped>\n",
       "    .dataframe tbody tr th:only-of-type {\n",
       "        vertical-align: middle;\n",
       "    }\n",
       "\n",
       "    .dataframe tbody tr th {\n",
       "        vertical-align: top;\n",
       "    }\n",
       "\n",
       "    .dataframe thead th {\n",
       "        text-align: right;\n",
       "    }\n",
       "</style>\n",
       "<table border=\"1\" class=\"dataframe\">\n",
       "  <thead>\n",
       "    <tr style=\"text-align: right;\">\n",
       "      <th></th>\n",
       "      <th>doc_index</th>\n",
       "      <th>topic_diversity</th>\n",
       "    </tr>\n",
       "  </thead>\n",
       "  <tbody>\n",
       "    <tr>\n",
       "      <th>0</th>\n",
       "      <td>0</td>\n",
       "      <td>1.561658</td>\n",
       "    </tr>\n",
       "    <tr>\n",
       "      <th>1</th>\n",
       "      <td>1</td>\n",
       "      <td>0.086766</td>\n",
       "    </tr>\n",
       "  </tbody>\n",
       "</table>\n",
       "</div>"
      ],
      "text/plain": [
       "   doc_index  topic_diversity\n",
       "0          0         1.561658\n",
       "1          1         0.086766"
      ]
     },
     "execution_count": 106,
     "metadata": {},
     "output_type": "execute_result"
    }
   ],
   "source": [
    "doc_topic_diversity_df.head(2)"
   ]
  },
  {
   "cell_type": "markdown",
   "metadata": {},
   "source": [
    "---"
   ]
  },
  {
   "cell_type": "markdown",
   "metadata": {},
   "source": [
    "##### merge with sentiment"
   ]
  },
  {
   "cell_type": "code",
   "execution_count": 107,
   "metadata": {
    "ExecuteTime": {
     "end_time": "2018-07-13T02:25:16.644264Z",
     "start_time": "2018-07-13T02:25:16.260853Z"
    }
   },
   "outputs": [
    {
     "data": {
      "text/html": [
       "<div>\n",
       "<style scoped>\n",
       "    .dataframe tbody tr th:only-of-type {\n",
       "        vertical-align: middle;\n",
       "    }\n",
       "\n",
       "    .dataframe tbody tr th {\n",
       "        vertical-align: top;\n",
       "    }\n",
       "\n",
       "    .dataframe thead th {\n",
       "        text-align: right;\n",
       "    }\n",
       "</style>\n",
       "<table border=\"1\" class=\"dataframe\">\n",
       "  <thead>\n",
       "    <tr style=\"text-align: right;\">\n",
       "      <th></th>\n",
       "      <th>index</th>\n",
       "      <th>text</th>\n",
       "      <th>type</th>\n",
       "      <th>disease</th>\n",
       "      <th>user_id</th>\n",
       "      <th>compound</th>\n",
       "      <th>neg</th>\n",
       "      <th>neu</th>\n",
       "      <th>pos</th>\n",
       "      <th>age</th>\n",
       "      <th>gender</th>\n",
       "      <th>role</th>\n",
       "      <th>role_binary</th>\n",
       "    </tr>\n",
       "  </thead>\n",
       "  <tbody>\n",
       "    <tr>\n",
       "      <th>0</th>\n",
       "      <td>0</td>\n",
       "      <td>Hello, I'm a male in his 20s and I've had fati...</td>\n",
       "      <td>q</td>\n",
       "      <td>psychiatric topics</td>\n",
       "      <td>TigerShot</td>\n",
       "      <td>-0.6515</td>\n",
       "      <td>0.123</td>\n",
       "      <td>0.776</td>\n",
       "      <td>0.101</td>\n",
       "      <td>32.0</td>\n",
       "      <td>0</td>\n",
       "      <td>patient</td>\n",
       "      <td>1</td>\n",
       "    </tr>\n",
       "    <tr>\n",
       "      <th>1</th>\n",
       "      <td>2207</td>\n",
       "      <td>I'm a 23 year old male and my problems started...</td>\n",
       "      <td>q</td>\n",
       "      <td>neurology topics</td>\n",
       "      <td>TigerShot</td>\n",
       "      <td>-0.9760</td>\n",
       "      <td>0.145</td>\n",
       "      <td>0.793</td>\n",
       "      <td>0.062</td>\n",
       "      <td>32.0</td>\n",
       "      <td>0</td>\n",
       "      <td>patient</td>\n",
       "      <td>1</td>\n",
       "    </tr>\n",
       "  </tbody>\n",
       "</table>\n",
       "</div>"
      ],
      "text/plain": [
       "   index                                               text type  \\\n",
       "0      0  Hello, I'm a male in his 20s and I've had fati...    q   \n",
       "1   2207  I'm a 23 year old male and my problems started...    q   \n",
       "\n",
       "              disease    user_id  compound    neg    neu    pos   age  gender  \\\n",
       "0  psychiatric topics  TigerShot   -0.6515  0.123  0.776  0.101  32.0       0   \n",
       "1    neurology topics  TigerShot   -0.9760  0.145  0.793  0.062  32.0       0   \n",
       "\n",
       "      role  role_binary  \n",
       "0  patient            1  \n",
       "1  patient            1  "
      ]
     },
     "execution_count": 107,
     "metadata": {},
     "output_type": "execute_result"
    }
   ],
   "source": [
    "sentiment_df = pd.read_csv('data/sentiment.csv')\n",
    "sentiment_df.head(2)"
   ]
  },
  {
   "cell_type": "code",
   "execution_count": 109,
   "metadata": {
    "ExecuteTime": {
     "end_time": "2018-07-13T02:25:37.690419Z",
     "start_time": "2018-07-13T02:25:37.683449Z"
    }
   },
   "outputs": [
    {
     "data": {
      "text/plain": [
       "(22003, 22003)"
      ]
     },
     "execution_count": 109,
     "metadata": {},
     "output_type": "execute_result"
    }
   ],
   "source": [
    "sentiment_df.shape[0], doc_topic_diversity_df.shape[0]"
   ]
  },
  {
   "cell_type": "code",
   "execution_count": 111,
   "metadata": {
    "ExecuteTime": {
     "end_time": "2018-07-13T02:27:06.138722Z",
     "start_time": "2018-07-13T02:27:06.131980Z"
    }
   },
   "outputs": [],
   "source": [
    "sentiment_df['topic_diversity'] = doc_topic_diversity_df.topic_diversity.values"
   ]
  },
  {
   "cell_type": "code",
   "execution_count": 114,
   "metadata": {
    "ExecuteTime": {
     "end_time": "2018-07-13T02:28:09.815661Z",
     "start_time": "2018-07-13T02:28:09.778450Z"
    }
   },
   "outputs": [
    {
     "data": {
      "text/html": [
       "<div>\n",
       "<style scoped>\n",
       "    .dataframe tbody tr th:only-of-type {\n",
       "        vertical-align: middle;\n",
       "    }\n",
       "\n",
       "    .dataframe tbody tr th {\n",
       "        vertical-align: top;\n",
       "    }\n",
       "\n",
       "    .dataframe thead th {\n",
       "        text-align: right;\n",
       "    }\n",
       "</style>\n",
       "<table border=\"1\" class=\"dataframe\">\n",
       "  <thead>\n",
       "    <tr style=\"text-align: right;\">\n",
       "      <th></th>\n",
       "      <th>index</th>\n",
       "      <th>text</th>\n",
       "      <th>type</th>\n",
       "      <th>disease</th>\n",
       "      <th>user_id</th>\n",
       "      <th>compound</th>\n",
       "      <th>neg</th>\n",
       "      <th>neu</th>\n",
       "      <th>pos</th>\n",
       "      <th>age</th>\n",
       "      <th>gender</th>\n",
       "      <th>role</th>\n",
       "      <th>role_binary</th>\n",
       "      <th>topic_diversity</th>\n",
       "    </tr>\n",
       "  </thead>\n",
       "  <tbody>\n",
       "    <tr>\n",
       "      <th>0</th>\n",
       "      <td>0</td>\n",
       "      <td>Hello, I'm a male in his 20s and I've had fati...</td>\n",
       "      <td>q</td>\n",
       "      <td>psychiatric topics</td>\n",
       "      <td>TigerShot</td>\n",
       "      <td>-0.6515</td>\n",
       "      <td>0.123</td>\n",
       "      <td>0.776</td>\n",
       "      <td>0.101</td>\n",
       "      <td>32.0</td>\n",
       "      <td>0</td>\n",
       "      <td>patient</td>\n",
       "      <td>1</td>\n",
       "      <td>1.561658</td>\n",
       "    </tr>\n",
       "    <tr>\n",
       "      <th>1</th>\n",
       "      <td>2207</td>\n",
       "      <td>I'm a 23 year old male and my problems started...</td>\n",
       "      <td>q</td>\n",
       "      <td>neurology topics</td>\n",
       "      <td>TigerShot</td>\n",
       "      <td>-0.9760</td>\n",
       "      <td>0.145</td>\n",
       "      <td>0.793</td>\n",
       "      <td>0.062</td>\n",
       "      <td>32.0</td>\n",
       "      <td>0</td>\n",
       "      <td>patient</td>\n",
       "      <td>1</td>\n",
       "      <td>0.086766</td>\n",
       "    </tr>\n",
       "  </tbody>\n",
       "</table>\n",
       "</div>"
      ],
      "text/plain": [
       "   index                                               text type  \\\n",
       "0      0  Hello, I'm a male in his 20s and I've had fati...    q   \n",
       "1   2207  I'm a 23 year old male and my problems started...    q   \n",
       "\n",
       "              disease    user_id  compound    neg    neu    pos   age  gender  \\\n",
       "0  psychiatric topics  TigerShot   -0.6515  0.123  0.776  0.101  32.0       0   \n",
       "1    neurology topics  TigerShot   -0.9760  0.145  0.793  0.062  32.0       0   \n",
       "\n",
       "      role  role_binary  topic_diversity  \n",
       "0  patient            1         1.561658  \n",
       "1  patient            1         0.086766  "
      ]
     },
     "execution_count": 114,
     "metadata": {},
     "output_type": "execute_result"
    }
   ],
   "source": [
    "sentiment_df.head(2)"
   ]
  },
  {
   "cell_type": "code",
   "execution_count": 116,
   "metadata": {
    "ExecuteTime": {
     "end_time": "2018-07-13T02:28:25.548460Z",
     "start_time": "2018-07-13T02:28:24.415717Z"
    }
   },
   "outputs": [],
   "source": [
    "sentiment_df.to_csv('data/sentiment-topic_diversity.csv', index=False)"
   ]
  },
  {
   "cell_type": "code",
   "execution_count": 117,
   "metadata": {
    "ExecuteTime": {
     "end_time": "2018-07-13T02:28:55.212310Z",
     "start_time": "2018-07-13T02:28:54.945822Z"
    }
   },
   "outputs": [],
   "source": [
    "sentiment_df.drop(columns=['text', 'user_id']).to_stata('data/sentiment-topic_diversity.dta')"
   ]
  }
 ],
 "metadata": {
  "kernelspec": {
   "display_name": "Python 3",
   "language": "python",
   "name": "python3"
  },
  "language_info": {
   "codemirror_mode": {
    "name": "ipython",
    "version": 3
   },
   "file_extension": ".py",
   "mimetype": "text/x-python",
   "name": "python",
   "nbconvert_exporter": "python",
   "pygments_lexer": "ipython3",
   "version": "3.6.4"
  },
  "toc": {
   "base_numbering": 1,
   "nav_menu": {},
   "number_sections": true,
   "sideBar": true,
   "skip_h1_title": false,
   "title_cell": "Table of Contents",
   "title_sidebar": "Contents",
   "toc_cell": false,
   "toc_position": {
    "height": "calc(100% - 180px)",
    "left": "10px",
    "top": "150px",
    "width": "188px"
   },
   "toc_section_display": true,
   "toc_window_display": true
  }
 },
 "nbformat": 4,
 "nbformat_minor": 2
}
