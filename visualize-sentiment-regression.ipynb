{
 "cells": [
  {
   "cell_type": "markdown",
   "metadata": {},
   "source": [
    "visualize box plots for sentiment score distribution"
   ]
  },
  {
   "cell_type": "markdown",
   "metadata": {},
   "source": [
    "----"
   ]
  },
  {
   "cell_type": "code",
   "execution_count": 1,
   "metadata": {
    "ExecuteTime": {
     "end_time": "2018-07-13T04:03:16.289113Z",
     "start_time": "2018-07-13T04:03:16.041811Z"
    }
   },
   "outputs": [],
   "source": [
    "import scipy as sp"
   ]
  },
  {
   "cell_type": "code",
   "execution_count": null,
   "metadata": {
    "ExecuteTime": {
     "end_time": "2018-07-13T04:03:18.977187Z",
     "start_time": "2018-07-13T04:03:17.095669Z"
    }
   },
   "outputs": [],
   "source": [
    "import pandas as pd"
   ]
  },
  {
   "cell_type": "code",
   "execution_count": 4,
   "metadata": {
    "ExecuteTime": {
     "end_time": "2018-07-13T04:03:42.611175Z",
     "start_time": "2018-07-13T04:03:42.137968Z"
    }
   },
   "outputs": [
    {
     "data": {
      "text/html": [
       "<div>\n",
       "<style scoped>\n",
       "    .dataframe tbody tr th:only-of-type {\n",
       "        vertical-align: middle;\n",
       "    }\n",
       "\n",
       "    .dataframe tbody tr th {\n",
       "        vertical-align: top;\n",
       "    }\n",
       "\n",
       "    .dataframe thead th {\n",
       "        text-align: right;\n",
       "    }\n",
       "</style>\n",
       "<table border=\"1\" class=\"dataframe\">\n",
       "  <thead>\n",
       "    <tr style=\"text-align: right;\">\n",
       "      <th></th>\n",
       "      <th>level_0</th>\n",
       "      <th>index</th>\n",
       "      <th>type</th>\n",
       "      <th>disease</th>\n",
       "      <th>compound</th>\n",
       "      <th>neg</th>\n",
       "      <th>neu</th>\n",
       "      <th>pos</th>\n",
       "      <th>age</th>\n",
       "      <th>gender</th>\n",
       "      <th>role</th>\n",
       "      <th>role_binary</th>\n",
       "      <th>topic_diversity</th>\n",
       "    </tr>\n",
       "  </thead>\n",
       "  <tbody>\n",
       "    <tr>\n",
       "      <th>0</th>\n",
       "      <td>0</td>\n",
       "      <td>0</td>\n",
       "      <td>q</td>\n",
       "      <td>psychiatric topics</td>\n",
       "      <td>-0.6515</td>\n",
       "      <td>0.123</td>\n",
       "      <td>0.776</td>\n",
       "      <td>0.101</td>\n",
       "      <td>32.0</td>\n",
       "      <td>0</td>\n",
       "      <td>patient</td>\n",
       "      <td>1</td>\n",
       "      <td>1.561658</td>\n",
       "    </tr>\n",
       "    <tr>\n",
       "      <th>1</th>\n",
       "      <td>1</td>\n",
       "      <td>2207</td>\n",
       "      <td>q</td>\n",
       "      <td>neurology topics</td>\n",
       "      <td>-0.9760</td>\n",
       "      <td>0.145</td>\n",
       "      <td>0.793</td>\n",
       "      <td>0.062</td>\n",
       "      <td>32.0</td>\n",
       "      <td>0</td>\n",
       "      <td>patient</td>\n",
       "      <td>1</td>\n",
       "      <td>0.086766</td>\n",
       "    </tr>\n",
       "  </tbody>\n",
       "</table>\n",
       "</div>"
      ],
      "text/plain": [
       "   level_0  index type             disease  compound    neg    neu    pos  \\\n",
       "0        0      0    q  psychiatric topics   -0.6515  0.123  0.776  0.101   \n",
       "1        1   2207    q    neurology topics   -0.9760  0.145  0.793  0.062   \n",
       "\n",
       "    age  gender     role  role_binary  topic_diversity  \n",
       "0  32.0       0  patient            1         1.561658  \n",
       "1  32.0       0  patient            1         0.086766  "
      ]
     },
     "execution_count": 4,
     "metadata": {},
     "output_type": "execute_result"
    }
   ],
   "source": [
    "#df = pd.read_csv('data/sentiment.csv')\n",
    "df = pd.read_stata('data/sentiment-topic_diversity.dta')\n",
    "df.head(2)"
   ]
  },
  {
   "cell_type": "code",
   "execution_count": 26,
   "metadata": {
    "ExecuteTime": {
     "end_time": "2018-07-13T04:13:15.117151Z",
     "start_time": "2018-07-13T04:13:15.084772Z"
    }
   },
   "outputs": [],
   "source": [
    "import seaborn as sns\n",
    "sns.set_context('paper')\n",
    "sns.set_style('white')\n",
    "\n",
    "from matplotlib import pyplot as plt\n",
    "from matplotlib.lines import Line2D\n",
    "%matplotlib inline"
   ]
  },
  {
   "cell_type": "markdown",
   "metadata": {},
   "source": [
    "---"
   ]
  },
  {
   "cell_type": "markdown",
   "metadata": {},
   "source": [
    "#### gender"
   ]
  },
  {
   "cell_type": "markdown",
   "metadata": {},
   "source": [
    "female vs. male"
   ]
  },
  {
   "cell_type": "code",
   "execution_count": 7,
   "metadata": {
    "ExecuteTime": {
     "end_time": "2018-07-13T04:05:29.917899Z",
     "start_time": "2018-07-13T04:05:29.902943Z"
    }
   },
   "outputs": [
    {
     "data": {
      "text/plain": [
       "(-2.23536969038807, 0.025403080837245143)"
      ]
     },
     "execution_count": 7,
     "metadata": {},
     "output_type": "execute_result"
    }
   ],
   "source": [
    "sp.stats.ttest_ind(df[df.gender==1]['compound'].values,\n",
    "                   df[df.gender==0]['compound'].values)"
   ]
  },
  {
   "cell_type": "code",
   "execution_count": 8,
   "metadata": {
    "ExecuteTime": {
     "end_time": "2018-07-13T04:05:30.769674Z",
     "start_time": "2018-07-13T04:05:30.463466Z"
    }
   },
   "outputs": [
    {
     "data": {
      "text/plain": [
       "<matplotlib.axes._subplots.AxesSubplot at 0x2b461344f8d0>"
      ]
     },
     "execution_count": 8,
     "metadata": {},
     "output_type": "execute_result"
    },
    {
     "data": {
      "image/png": "[encoded data removed]",
      "text/plain": [
       "<Figure size 432x288 with 1 Axes>"
      ]
     },
     "metadata": {},
     "output_type": "display_data"
    }
   ],
   "source": [
    "sns.boxplot(x='gender', y='compound', data=df)"
   ]
  },
  {
   "cell_type": "markdown",
   "metadata": {},
   "source": [
    "---"
   ]
  },
  {
   "cell_type": "markdown",
   "metadata": {},
   "source": [
    "#### occupation"
   ]
  },
  {
   "cell_type": "markdown",
   "metadata": {},
   "source": [
    "patient vs. doctor"
   ]
  },
  {
   "cell_type": "code",
   "execution_count": 9,
   "metadata": {
    "ExecuteTime": {
     "end_time": "2018-07-13T04:05:32.458326Z",
     "start_time": "2018-07-13T04:05:32.396221Z"
    }
   },
   "outputs": [
    {
     "data": {
      "text/plain": [
       "(-64.55135844461559, 0.0)"
      ]
     },
     "execution_count": 9,
     "metadata": {},
     "output_type": "execute_result"
    }
   ],
   "source": [
    "sp.stats.ttest_ind(df[df.role_binary==1]['compound'].values,\n",
    "                   df[df.role_binary==0]['compound'].values)"
   ]
  },
  {
   "cell_type": "code",
   "execution_count": 10,
   "metadata": {
    "ExecuteTime": {
     "end_time": "2018-07-13T04:05:32.970588Z",
     "start_time": "2018-07-13T04:05:32.571652Z"
    }
   },
   "outputs": [
    {
     "data": {
      "text/plain": [
       "<matplotlib.axes._subplots.AxesSubplot at 0x2b4613513a90>"
      ]
     },
     "execution_count": 10,
     "metadata": {},
     "output_type": "execute_result"
    },
    {
     "data": {
      "image/png": "[encoded data removed]",
      "text/plain": [
       "<Figure size 432x288 with 1 Axes>"
      ]
     },
     "metadata": {},
     "output_type": "display_data"
    }
   ],
   "source": [
    "sns.boxplot(x='role_binary', y='compound', data=df)"
   ]
  },
  {
   "cell_type": "markdown",
   "metadata": {},
   "source": [
    "---"
   ]
  },
  {
   "cell_type": "markdown",
   "metadata": {},
   "source": [
    "#### female"
   ]
  },
  {
   "cell_type": "code",
   "execution_count": 11,
   "metadata": {
    "ExecuteTime": {
     "end_time": "2018-07-13T04:05:33.208791Z",
     "start_time": "2018-07-13T04:05:33.182514Z"
    }
   },
   "outputs": [
    {
     "data": {
      "text/plain": [
       "(-64.69486412499096, 0.0)"
      ]
     },
     "execution_count": 11,
     "metadata": {},
     "output_type": "execute_result"
    }
   ],
   "source": [
    "sp.stats.ttest_ind(df[(df.role_binary==1)&(df.gender==1)]['compound'].values,\n",
    "                   df[(df.role_binary==0)&(df.gender==1)]['compound'].values)"
   ]
  },
  {
   "cell_type": "code",
   "execution_count": 12,
   "metadata": {
    "ExecuteTime": {
     "end_time": "2018-07-13T04:05:34.065371Z",
     "start_time": "2018-07-13T04:05:33.410342Z"
    }
   },
   "outputs": [
    {
     "data": {
      "text/plain": [
       "<matplotlib.axes._subplots.AxesSubplot at 0x2b46134f2290>"
      ]
     },
     "execution_count": 12,
     "metadata": {},
     "output_type": "execute_result"
    },
    {
     "data": {
      "image/png": "[encoded data removed]",
      "text/plain": [
       "<Figure size 432x288 with 1 Axes>"
      ]
     },
     "metadata": {},
     "output_type": "display_data"
    }
   ],
   "source": [
    "sns.boxplot(x='role_binary', y='compound', data=df.query('gender==1'))"
   ]
  },
  {
   "cell_type": "markdown",
   "metadata": {},
   "source": [
    "---"
   ]
  },
  {
   "cell_type": "markdown",
   "metadata": {},
   "source": [
    "#### male"
   ]
  },
  {
   "cell_type": "code",
   "execution_count": 13,
   "metadata": {
    "ExecuteTime": {
     "end_time": "2018-07-13T04:05:34.140820Z",
     "start_time": "2018-07-13T04:05:34.088423Z"
    }
   },
   "outputs": [
    {
     "data": {
      "text/plain": [
       "(-30.492625734422642, 2.8285434759403912e-196)"
      ]
     },
     "execution_count": 13,
     "metadata": {},
     "output_type": "execute_result"
    }
   ],
   "source": [
    "sp.stats.ttest_ind(df[(df.role_binary==1)&(df.gender==0)]['compound'].values,\n",
    "                   df[(df.role_binary==0)&(df.gender==0)]['compound'].values)"
   ]
  },
  {
   "cell_type": "code",
   "execution_count": 14,
   "metadata": {
    "ExecuteTime": {
     "end_time": "2018-07-13T04:05:34.690998Z",
     "start_time": "2018-07-13T04:05:34.345793Z"
    }
   },
   "outputs": [
    {
     "data": {
      "text/plain": [
       "<matplotlib.axes._subplots.AxesSubplot at 0x2b461353fc90>"
      ]
     },
     "execution_count": 14,
     "metadata": {},
     "output_type": "execute_result"
    },
    {
     "data": {
      "image/png": "[encoded data removed]",
      "text/plain": [
       "<Figure size 432x288 with 1 Axes>"
      ]
     },
     "metadata": {},
     "output_type": "display_data"
    }
   ],
   "source": [
    "sns.boxplot(x='role_binary', y='compound', data=df.query('gender==0'))"
   ]
  },
  {
   "cell_type": "markdown",
   "metadata": {},
   "source": [
    "---"
   ]
  },
  {
   "cell_type": "markdown",
   "metadata": {},
   "source": [
    "#### patient"
   ]
  },
  {
   "cell_type": "code",
   "execution_count": 15,
   "metadata": {
    "ExecuteTime": {
     "end_time": "2018-07-13T04:05:35.900169Z",
     "start_time": "2018-07-13T04:05:35.869856Z"
    }
   },
   "outputs": [
    {
     "data": {
      "text/plain": [
       "(-6.181983149508034, 6.58763716466045e-10)"
      ]
     },
     "execution_count": 15,
     "metadata": {},
     "output_type": "execute_result"
    }
   ],
   "source": [
    "sp.stats.ttest_ind(df[(df.gender==1)&(df.role_binary==1)]['compound'].values,\n",
    "                   df[(df.gender==0)&(df.role_binary==1)]['compound'].values)"
   ]
  },
  {
   "cell_type": "code",
   "execution_count": 16,
   "metadata": {
    "ExecuteTime": {
     "end_time": "2018-07-13T04:05:36.582484Z",
     "start_time": "2018-07-13T04:05:36.090126Z"
    }
   },
   "outputs": [
    {
     "data": {
      "text/plain": [
       "<matplotlib.axes._subplots.AxesSubplot at 0x2b462ac72e90>"
      ]
     },
     "execution_count": 16,
     "metadata": {},
     "output_type": "execute_result"
    },
    {
     "data": {
      "image/png": "[encoded data removed]",
      "text/plain": [
       "<Figure size 432x288 with 1 Axes>"
      ]
     },
     "metadata": {},
     "output_type": "display_data"
    }
   ],
   "source": [
    "sns.boxplot(x='gender', y='compound', data=df.query('role_binary==1'))"
   ]
  },
  {
   "cell_type": "markdown",
   "metadata": {},
   "source": [
    "---"
   ]
  },
  {
   "cell_type": "markdown",
   "metadata": {},
   "source": [
    "#### doctor"
   ]
  },
  {
   "cell_type": "code",
   "execution_count": 17,
   "metadata": {
    "ExecuteTime": {
     "end_time": "2018-07-13T04:05:37.051598Z",
     "start_time": "2018-07-13T04:05:37.020066Z"
    }
   },
   "outputs": [
    {
     "data": {
      "text/plain": [
       "(24.346240802625214, 6.258568130568341e-128)"
      ]
     },
     "execution_count": 17,
     "metadata": {},
     "output_type": "execute_result"
    }
   ],
   "source": [
    "sp.stats.ttest_ind(df[(df.gender==1)&(df.role_binary==0)]['compound'].values,\n",
    "                   df[(df.gender==0)&(df.role_binary==0)]['compound'].values)"
   ]
  },
  {
   "cell_type": "code",
   "execution_count": 18,
   "metadata": {
    "ExecuteTime": {
     "end_time": "2018-07-13T04:05:37.534304Z",
     "start_time": "2018-07-13T04:05:37.185852Z"
    }
   },
   "outputs": [
    {
     "data": {
      "text/plain": [
       "<matplotlib.axes._subplots.AxesSubplot at 0x2b462ad92650>"
      ]
     },
     "execution_count": 18,
     "metadata": {},
     "output_type": "execute_result"
    },
    {
     "data": {
      "image/png": "[encoded data removed]",
      "text/plain": [
       "<Figure size 432x288 with 1 Axes>"
      ]
     },
     "metadata": {},
     "output_type": "display_data"
    }
   ],
   "source": [
    "sns.boxplot(x='gender', y='compound', data=df.query('role_binary==0'))"
   ]
  },
  {
   "cell_type": "markdown",
   "metadata": {},
   "source": [
    "---"
   ]
  },
  {
   "cell_type": "markdown",
   "metadata": {},
   "source": [
    "#### regression"
   ]
  },
  {
   "cell_type": "markdown",
   "metadata": {},
   "source": [
    "4 models:\n",
    "- role\n",
    "- gender\n",
    "- role + gender\n",
    "- role + gender + role x gender"
   ]
  },
  {
   "cell_type": "code",
   "execution_count": 20,
   "metadata": {
    "ExecuteTime": {
     "end_time": "2018-07-13T04:10:11.116376Z",
     "start_time": "2018-07-13T04:10:10.276244Z"
    }
   },
   "outputs": [],
   "source": [
    "import statsmodels.formula.api as smf"
   ]
  },
  {
   "cell_type": "code",
   "execution_count": 21,
   "metadata": {
    "ExecuteTime": {
     "end_time": "2018-07-13T04:10:11.219028Z",
     "start_time": "2018-07-13T04:10:11.180175Z"
    }
   },
   "outputs": [
    {
     "data": {
      "text/html": [
       "<div>\n",
       "<style scoped>\n",
       "    .dataframe tbody tr th:only-of-type {\n",
       "        vertical-align: middle;\n",
       "    }\n",
       "\n",
       "    .dataframe tbody tr th {\n",
       "        vertical-align: top;\n",
       "    }\n",
       "\n",
       "    .dataframe thead th {\n",
       "        text-align: right;\n",
       "    }\n",
       "</style>\n",
       "<table border=\"1\" class=\"dataframe\">\n",
       "  <thead>\n",
       "    <tr style=\"text-align: right;\">\n",
       "      <th></th>\n",
       "      <th>level_0</th>\n",
       "      <th>index</th>\n",
       "      <th>type</th>\n",
       "      <th>disease</th>\n",
       "      <th>compound</th>\n",
       "      <th>neg</th>\n",
       "      <th>neu</th>\n",
       "      <th>pos</th>\n",
       "      <th>age</th>\n",
       "      <th>gender</th>\n",
       "      <th>role</th>\n",
       "      <th>role_binary</th>\n",
       "      <th>topic_diversity</th>\n",
       "    </tr>\n",
       "  </thead>\n",
       "  <tbody>\n",
       "    <tr>\n",
       "      <th>0</th>\n",
       "      <td>0</td>\n",
       "      <td>0</td>\n",
       "      <td>q</td>\n",
       "      <td>psychiatric topics</td>\n",
       "      <td>-0.6515</td>\n",
       "      <td>0.123</td>\n",
       "      <td>0.776</td>\n",
       "      <td>0.101</td>\n",
       "      <td>32.0</td>\n",
       "      <td>0</td>\n",
       "      <td>patient</td>\n",
       "      <td>1</td>\n",
       "      <td>1.561658</td>\n",
       "    </tr>\n",
       "    <tr>\n",
       "      <th>1</th>\n",
       "      <td>1</td>\n",
       "      <td>2207</td>\n",
       "      <td>q</td>\n",
       "      <td>neurology topics</td>\n",
       "      <td>-0.9760</td>\n",
       "      <td>0.145</td>\n",
       "      <td>0.793</td>\n",
       "      <td>0.062</td>\n",
       "      <td>32.0</td>\n",
       "      <td>0</td>\n",
       "      <td>patient</td>\n",
       "      <td>1</td>\n",
       "      <td>0.086766</td>\n",
       "    </tr>\n",
       "  </tbody>\n",
       "</table>\n",
       "</div>"
      ],
      "text/plain": [
       "   level_0  index type             disease  compound    neg    neu    pos  \\\n",
       "0        0      0    q  psychiatric topics   -0.6515  0.123  0.776  0.101   \n",
       "1        1   2207    q    neurology topics   -0.9760  0.145  0.793  0.062   \n",
       "\n",
       "    age  gender     role  role_binary  topic_diversity  \n",
       "0  32.0       0  patient            1         1.561658  \n",
       "1  32.0       0  patient            1         0.086766  "
      ]
     },
     "execution_count": 21,
     "metadata": {},
     "output_type": "execute_result"
    }
   ],
   "source": [
    "df.head(2)"
   ]
  },
  {
   "cell_type": "code",
   "execution_count": 38,
   "metadata": {
    "ExecuteTime": {
     "end_time": "2018-07-13T04:22:50.860320Z",
     "start_time": "2018-07-13T04:22:50.811948Z"
    }
   },
   "outputs": [],
   "source": [
    "df['compound_std'] = (df['compound'].values - df['compound'].mean()) / df['compound'].std()"
   ]
  },
  {
   "cell_type": "code",
   "execution_count": 39,
   "metadata": {
    "ExecuteTime": {
     "end_time": "2018-07-13T04:23:02.478345Z",
     "start_time": "2018-07-13T04:23:02.381103Z"
    }
   },
   "outputs": [],
   "source": [
    "r_reg = smf.ols('compound_std ~ role_binary', data=df).fit()\n",
    "g_reg = smf.ols('compound_std ~ gender', data=df).fit()\n",
    "rg_reg = smf.ols('compound_std ~ role_binary + gender', data=df).fit()\n",
    "rg_inter_reg = smf.ols('compound_std ~ role_binary*gender', data=df).fit()"
   ]
  },
  {
   "cell_type": "code",
   "execution_count": 43,
   "metadata": {
    "ExecuteTime": {
     "end_time": "2018-07-13T04:23:35.630059Z",
     "start_time": "2018-07-13T04:23:35.592893Z"
    }
   },
   "outputs": [
    {
     "data": {
      "text/html": [
       "<div>\n",
       "<style scoped>\n",
       "    .dataframe tbody tr th:only-of-type {\n",
       "        vertical-align: middle;\n",
       "    }\n",
       "\n",
       "    .dataframe tbody tr th {\n",
       "        vertical-align: top;\n",
       "    }\n",
       "\n",
       "    .dataframe thead th {\n",
       "        text-align: right;\n",
       "    }\n",
       "</style>\n",
       "<table border=\"1\" class=\"dataframe\">\n",
       "  <thead>\n",
       "    <tr style=\"text-align: right;\">\n",
       "      <th></th>\n",
       "      <th>coef</th>\n",
       "      <th>err</th>\n",
       "      <th>model</th>\n",
       "      <th>varname</th>\n",
       "    </tr>\n",
       "  </thead>\n",
       "  <tbody>\n",
       "    <tr>\n",
       "      <th>0</th>\n",
       "      <td>-0.842536</td>\n",
       "      <td>0.025016</td>\n",
       "      <td>model 1</td>\n",
       "      <td>role_binary</td>\n",
       "    </tr>\n",
       "    <tr>\n",
       "      <th>1</th>\n",
       "      <td>0.163064</td>\n",
       "      <td>0.024820</td>\n",
       "      <td>model 1</td>\n",
       "      <td>gender</td>\n",
       "    </tr>\n",
       "    <tr>\n",
       "      <th>0</th>\n",
       "      <td>-0.577705</td>\n",
       "      <td>0.035752</td>\n",
       "      <td>model 2</td>\n",
       "      <td>role_binary</td>\n",
       "    </tr>\n",
       "    <tr>\n",
       "      <th>1</th>\n",
       "      <td>0.384771</td>\n",
       "      <td>0.032712</td>\n",
       "      <td>model 2</td>\n",
       "      <td>gender</td>\n",
       "    </tr>\n",
       "    <tr>\n",
       "      <th>2</th>\n",
       "      <td>-0.510016</td>\n",
       "      <td>0.049615</td>\n",
       "      <td>model 2</td>\n",
       "      <td>role_binary:gender</td>\n",
       "    </tr>\n",
       "  </tbody>\n",
       "</table>\n",
       "</div>"
      ],
      "text/plain": [
       "       coef       err    model             varname\n",
       "0 -0.842536  0.025016  model 1         role_binary\n",
       "1  0.163064  0.024820  model 1              gender\n",
       "0 -0.577705  0.035752  model 2         role_binary\n",
       "1  0.384771  0.032712  model 2              gender\n",
       "2 -0.510016  0.049615  model 2  role_binary:gender"
      ]
     },
     "execution_count": 43,
     "metadata": {},
     "output_type": "execute_result"
    }
   ],
   "source": [
    "coef_df = pd.DataFrame()\n",
    "#for i, mod in enumerate([r_reg, g_reg, rg_reg, rg_inter_reg]):\n",
    "for i, mod in enumerate([rg_reg, rg_inter_reg]):\n",
    "    err_series = mod.params - mod.conf_int()[0]\n",
    "    coef_df = coef_df.append(pd.DataFrame({'coef': mod.params.values[1:],\n",
    "                                           'err': err_series.values[1:],\n",
    "                                           'varname': err_series.index.values[1:],\n",
    "                                           'model': 'model %d'%(i+1)\n",
    "                                          })\n",
    "                            )\n",
    "coef_df"
   ]
  },
  {
   "cell_type": "code",
   "execution_count": 97,
   "metadata": {
    "ExecuteTime": {
     "end_time": "2018-07-13T04:45:55.838380Z",
     "start_time": "2018-07-13T04:45:55.794716Z"
    }
   },
   "outputs": [
    {
     "data": {
      "text/plain": [
       "array([-0.2,  0.8,  1.8])"
      ]
     },
     "execution_count": 97,
     "metadata": {},
     "output_type": "execute_result"
    }
   ],
   "source": [
    "## marker to use\n",
    "#marker_list = 'soxv'\n",
    "marker_list = 'vo'\n",
    "width=0.25\n",
    "## 3 covariates in total\n",
    "base_x = pd.np.arange(3) - 0.2\n",
    "base_x"
   ]
  },
  {
   "cell_type": "code",
   "execution_count": 99,
   "metadata": {
    "ExecuteTime": {
     "end_time": "2018-07-13T04:46:03.918848Z",
     "start_time": "2018-07-13T04:46:03.458874Z"
    }
   },
   "outputs": [
    {
     "data": {
      "image/png": "[encoded data removed]",
      "text/plain": [
       "<Figure size 720x360 with 1 Axes>"
      ]
     },
     "metadata": {},
     "output_type": "display_data"
    }
   ],
   "source": [
    "fig, ax = plt.subplots(figsize=(10, 5))\n",
    "for i, mod in enumerate(coef_df.model.unique()):\n",
    "    mod_df = coef_df[coef_df.model == mod]\n",
    "    mod_df = mod_df.set_index('varname').reindex(coef_df['varname'].unique())\n",
    "    ## offset x posistions\n",
    "    X = base_x + width*i\n",
    "    ax.bar(X, mod_df['coef'], ecolor='r',\n",
    "           color='none',yerr=mod_df['err'])\n",
    "    ## remove axis labels\n",
    "    ax.set_ylabel('')\n",
    "    ax.set_xlabel('')\n",
    "    ax.scatter(x=X, \n",
    "               marker=marker_list[i], s=100, \n",
    "               y=mod_df['coef'], color='r', alpha=0.6)\n",
    "    ax.axhline(y=0, linestyle='--', color='black', linewidth=4)\n",
    "    ax.xaxis.set_ticks_position('none')\n",
    "    #_ = ax.set_xticklabels(['', 'Role', 'Gender', 'Role x Gender'], \n",
    "    #                       rotation=0, fontsize=16)\n",
    "    \n",
    "## finally, build customized legend\n",
    "legend_elements = [Line2D([0], [0], marker=m,\n",
    "                          label='Model %d'%(i+1),\n",
    "                          color = 'r', alpha=0.6,\n",
    "                          markersize=10)\n",
    "                   for i, m in enumerate(marker_list)\n",
    "                  ]\n",
    "_ = ax.legend(handles=legend_elements, loc=2, \n",
    "              #bbox_to_anchor=()\n",
    "              prop={'size': 15}, labelspacing=1.2)\n",
    "\n",
    "_ = ax.set_xticklabels(['']*2 +  ['Role'] + ['', 'Gender', '', 'Role x Gender'] + ['']*2, \n",
    "                       rotation=0, fontsize=16)\n",
    "ax.tick_params(axis='both', which='major', labelsize=15)"
   ]
  },
  {
   "cell_type": "markdown",
   "metadata": {},
   "source": [
    "##### regresion fix role"
   ]
  },
  {
   "cell_type": "code",
   "execution_count": 80,
   "metadata": {
    "ExecuteTime": {
     "end_time": "2018-07-13T04:36:36.003188Z",
     "start_time": "2018-07-13T04:36:35.985725Z"
    }
   },
   "outputs": [
    {
     "data": {
      "text/plain": [
       "Intercept             0.202194\n",
       "role_binary          -0.577705\n",
       "gender                0.384771\n",
       "role_binary:gender   -0.510016\n",
       "dtype: float64"
      ]
     },
     "execution_count": 80,
     "metadata": {},
     "output_type": "execute_result"
    }
   ],
   "source": [
    "rg_inter_reg.params"
   ]
  },
  {
   "cell_type": "markdown",
   "metadata": {},
   "source": [
    "if role == 1:\n",
    "> $sentiment = 0.202194 - 0.577705 + 0.384771*gender - 0.510016$"
   ]
  },
  {
   "cell_type": "code",
   "execution_count": 85,
   "metadata": {
    "ExecuteTime": {
     "end_time": "2018-07-13T04:42:28.098235Z",
     "start_time": "2018-07-13T04:42:28.084914Z"
    }
   },
   "outputs": [
    {
     "data": {
      "text/plain": [
       "[[0, 1], [-0.8855270000000001, -0.5007560000000001]]"
      ]
     },
     "execution_count": 85,
     "metadata": {},
     "output_type": "execute_result"
    }
   ],
   "source": [
    "patient_points = [[0, 1], \n",
    "                  [0.202194 - 0.577705 + 0.384771*0 - 0.510016, 0.202194 - 0.577705 + 0.384771*1 - 0.510016]]\n",
    "patient_points"
   ]
  },
  {
   "cell_type": "markdown",
   "metadata": {},
   "source": [
    "if role == 0:\n",
    "> $sentiment = 0.202194  + 0.384771*gender$"
   ]
  },
  {
   "cell_type": "code",
   "execution_count": 86,
   "metadata": {
    "ExecuteTime": {
     "end_time": "2018-07-13T04:42:36.071732Z",
     "start_time": "2018-07-13T04:42:36.062347Z"
    }
   },
   "outputs": [
    {
     "data": {
      "text/plain": [
       "[[0, 1], [0.202194, 0.586965]]"
      ]
     },
     "execution_count": 86,
     "metadata": {},
     "output_type": "execute_result"
    }
   ],
   "source": [
    "doctor_points = [[0, 1], [0.202194, 0.202194+0.384771]]\n",
    "doctor_points"
   ]
  },
  {
   "cell_type": "code",
   "execution_count": 111,
   "metadata": {
    "ExecuteTime": {
     "end_time": "2018-07-13T04:48:27.146929Z",
     "start_time": "2018-07-13T04:48:26.850800Z"
    }
   },
   "outputs": [
    {
     "data": {
      "text/plain": [
       "Text(0,0.5,'Sentiment')"
      ]
     },
     "execution_count": 111,
     "metadata": {},
     "output_type": "execute_result"
    },
    {
     "data": {
      "image/png": "[encoded data removed]",
      "text/plain": [
       "<Figure size 720x360 with 1 Axes>"
      ]
     },
     "metadata": {},
     "output_type": "display_data"
    }
   ],
   "source": [
    "fig, ax = plt.subplots(figsize=(10, 5))\n",
    "ax.plot(*patient_points, color='r', ls='--')\n",
    "ax.scatter(*patient_points, color='r', marker='v', s=100, label='Patient')\n",
    "ax.plot(*doctor_points, color='k', ls='--')\n",
    "ax.scatter(*doctor_points, color='k', marker='o', s=100, label='Doctor')\n",
    "ax.tick_params(axis='both', which='major', labelsize=15)\n",
    "ax.set_xticks([0, 1])\n",
    "ax.set_xticklabels(['Male', 'Female'])\n",
    "ax.legend(prop={'size': 15}, \n",
    "          loc=5,\n",
    "          labelspacing=1)\n",
    "ax.set_ylabel('Sentiment', size=15)"
   ]
  }
 ],
 "metadata": {
  "kernelspec": {
   "display_name": "Python 2",
   "language": "python",
   "name": "python2"
  },
  "language_info": {
   "codemirror_mode": {
    "name": "ipython",
    "version": 2
   },
   "file_extension": ".py",
   "mimetype": "text/x-python",
   "name": "python",
   "nbconvert_exporter": "python",
   "pygments_lexer": "ipython2",
   "version": "2.7.14"
  },
  "toc": {
   "base_numbering": 1,
   "nav_menu": {},
   "number_sections": true,
   "sideBar": true,
   "skip_h1_title": true,
   "title_cell": "Table of Contents",
   "title_sidebar": "Contents",
   "toc_cell": false,
   "toc_position": {
    "height": "calc(100% - 180px)",
    "left": "10px",
    "top": "150px",
    "width": "165px"
   },
   "toc_section_display": true,
   "toc_window_display": true
  }
 },
 "nbformat": 4,
 "nbformat_minor": 2
}
