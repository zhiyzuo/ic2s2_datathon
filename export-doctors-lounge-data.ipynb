{
 "cells": [
  {
   "cell_type": "markdown",
   "metadata": {},
   "source": [
    "export dataset: to `ic2s2_datathon`"
   ]
  },
  {
   "cell_type": "markdown",
   "metadata": {},
   "source": [
    "update `helpers.extract_user_text_data`:\n",
    "    - include who posted the `text`\n",
    "    - include pre-computed politeness score"
   ]
  },
  {
   "cell_type": "markdown",
   "metadata": {},
   "source": [
    "---"
   ]
  },
  {
   "cell_type": "code",
   "execution_count": 1,
   "metadata": {
    "ExecuteTime": {
     "end_time": "2018-07-13T13:35:48.763633Z",
     "start_time": "2018-07-13T13:35:47.805094Z"
    }
   },
   "outputs": [],
   "source": [
    "import os, helpers, warnings, tqdm\n",
    "warnings.simplefilter('once')"
   ]
  },
  {
   "cell_type": "code",
   "execution_count": 2,
   "metadata": {
    "ExecuteTime": {
     "end_time": "2018-07-13T13:35:48.773206Z",
     "start_time": "2018-07-13T13:35:48.768419Z"
    }
   },
   "outputs": [],
   "source": [
    "import pandas as pd"
   ]
  },
  {
   "cell_type": "code",
   "execution_count": 3,
   "metadata": {
    "ExecuteTime": {
     "end_time": "2018-07-13T13:35:48.960937Z",
     "start_time": "2018-07-13T13:35:48.777358Z"
    }
   },
   "outputs": [
    {
     "name": "stderr",
     "output_type": "stream",
     "text": [
      "/Users/zhiyzuo/.virtualenvs/Zuo-Py2/lib/python2.7/site-packages/psycopg2/__init__.py:144: UserWarning: The psycopg2 wheel package will be renamed from release 2.8; in order to keep installing from binary please use \"pip install psycopg2-binary\" instead. For details see: <http://initd.org/psycopg/docs/install.html#binary-install-from-pypi>.\n",
      "  \"\"\")\n"
     ]
    }
   ],
   "source": [
    "from sqlalchemy import create_engine\n",
    "engine = create_engine('postgresql://zhiyzuo@localhost:5432/ic2s2_datathon')"
   ]
  },
  {
   "cell_type": "markdown",
   "metadata": {},
   "source": [
    "---"
   ]
  },
  {
   "cell_type": "markdown",
   "metadata": {},
   "source": [
    "loop through all excel files"
   ]
  },
  {
   "cell_type": "code",
   "execution_count": 4,
   "metadata": {
    "ExecuteTime": {
     "end_time": "2018-07-13T13:35:48.969637Z",
     "start_time": "2018-07-13T13:35:48.965270Z"
    }
   },
   "outputs": [],
   "source": [
    "base_dir = 'excel-data/'"
   ]
  },
  {
   "cell_type": "code",
   "execution_count": 5,
   "metadata": {
    "ExecuteTime": {
     "end_time": "2018-07-13T13:35:48.989704Z",
     "start_time": "2018-07-13T13:35:48.973737Z"
    }
   },
   "outputs": [
    {
     "data": {
      "text/plain": [
       "85"
      ]
     },
     "execution_count": 5,
     "metadata": {},
     "output_type": "execute_result"
    }
   ],
   "source": [
    "file_list = [base_dir+f for f in os.listdir(base_dir) if f.endswith('.xlsx')]\n",
    "len(file_list)"
   ]
  },
  {
   "cell_type": "markdown",
   "metadata": {},
   "source": [
    "use a for loop to create a giant user and text file"
   ]
  },
  {
   "cell_type": "code",
   "execution_count": 6,
   "metadata": {
    "ExecuteTime": {
     "end_time": "2018-07-13T13:35:48.998420Z",
     "start_time": "2018-07-13T13:35:48.993894Z"
    }
   },
   "outputs": [],
   "source": [
    "user_df = list()\n",
    "text_df = list()"
   ]
  },
  {
   "cell_type": "code",
   "execution_count": 7,
   "metadata": {
    "ExecuteTime": {
     "end_time": "2018-07-13T13:35:49.010709Z",
     "start_time": "2018-07-13T13:35:49.002560Z"
    }
   },
   "outputs": [
    {
     "data": {
      "text/plain": [
       "'excel-data/score_Cervical Cancer.xlsx'"
      ]
     },
     "execution_count": 7,
     "metadata": {},
     "output_type": "execute_result"
    }
   ],
   "source": [
    "file_list[38]"
   ]
  },
  {
   "cell_type": "code",
   "execution_count": 8,
   "metadata": {
    "ExecuteTime": {
     "end_time": "2018-07-13T13:36:10.319319Z",
     "start_time": "2018-07-13T13:35:49.014863Z"
    }
   },
   "outputs": [
    {
     "data": {
      "application/vnd.jupyter.widget-view+json": {
       "model_id": "e6eae19ce53e4757b7d2dec47b429533",
       "version_major": 2,
       "version_minor": 0
      },
      "text/plain": [
       "HBox(children=(IntProgress(value=0, max=85), HTML(value=u'')))"
      ]
     },
     "metadata": {},
     "output_type": "display_data"
    },
    {
     "name": "stderr",
     "output_type": "stream",
     "text": [
      "/Users/zhiyzuo/.virtualenvs/Zuo-Py2/lib/python2.7/site-packages/pandas/core/indexing.py:362: SettingWithCopyWarning: \n",
      "A value is trying to be set on a copy of a slice from a DataFrame.\n",
      "Try using .loc[row_indexer,col_indexer] = value instead\n",
      "\n",
      "See the caveats in the documentation: http://pandas.pydata.org/pandas-docs/stable/indexing.html#indexing-view-versus-copy\n",
      "  self.obj[key] = _infer_fill_value(value)\n",
      "helpers.py:63: SettingWithCopyWarning: \n",
      "A value is trying to be set on a copy of a slice from a DataFrame.\n",
      "Try using .loc[row_indexer,col_indexer] = value instead\n",
      "\n",
      "See the caveats in the documentation: http://pandas.pydata.org/pandas-docs/stable/indexing.html#indexing-view-versus-copy\n",
      "  question_df['type'] = 'q'\n"
     ]
    },
    {
     "name": "stdout",
     "output_type": "stream",
     "text": [
      "\n"
     ]
    },
    {
     "data": {
      "text/plain": [
       "(True, True)"
      ]
     },
     "execution_count": 8,
     "metadata": {},
     "output_type": "execute_result"
    }
   ],
   "source": [
    "for f in tqdm.tqdm_notebook(file_list):\n",
    "    #print(f)\n",
    "    u_df, t_df = helpers.extract_user_text_data(f)\n",
    "    user_df.append(u_df)\n",
    "    text_df.append(t_df)\n",
    "len(user_df) == len(text_df), len(text_df) == len(file_list)"
   ]
  },
  {
   "cell_type": "code",
   "execution_count": 9,
   "metadata": {
    "ExecuteTime": {
     "end_time": "2018-07-13T13:36:10.348583Z",
     "start_time": "2018-07-13T13:36:10.323561Z"
    }
   },
   "outputs": [
    {
     "data": {
      "text/plain": [
       "(21995, 5)"
      ]
     },
     "execution_count": 9,
     "metadata": {},
     "output_type": "execute_result"
    }
   ],
   "source": [
    "user_df = pd.concat(user_df,ignore_index=True)\n",
    "user_df.shape"
   ]
  },
  {
   "cell_type": "code",
   "execution_count": 10,
   "metadata": {
    "ExecuteTime": {
     "end_time": "2018-07-13T13:36:10.368142Z",
     "start_time": "2018-07-13T13:36:10.352594Z"
    }
   },
   "outputs": [
    {
     "data": {
      "text/html": [
       "<div>\n",
       "<style scoped>\n",
       "    .dataframe tbody tr th:only-of-type {\n",
       "        vertical-align: middle;\n",
       "    }\n",
       "\n",
       "    .dataframe tbody tr th {\n",
       "        vertical-align: top;\n",
       "    }\n",
       "\n",
       "    .dataframe thead th {\n",
       "        text-align: right;\n",
       "    }\n",
       "</style>\n",
       "<table border=\"1\" class=\"dataframe\">\n",
       "  <thead>\n",
       "    <tr style=\"text-align: right;\">\n",
       "      <th></th>\n",
       "      <th>age</th>\n",
       "      <th>gender</th>\n",
       "      <th>role</th>\n",
       "      <th>user_id</th>\n",
       "      <th>id</th>\n",
       "    </tr>\n",
       "  </thead>\n",
       "  <tbody>\n",
       "    <tr>\n",
       "      <th>0</th>\n",
       "      <td>74.0</td>\n",
       "      <td>Female</td>\n",
       "      <td>Nurse</td>\n",
       "      <td>Faye Lang, RN, MSW</td>\n",
       "      <td>0</td>\n",
       "    </tr>\n",
       "    <tr>\n",
       "      <th>1</th>\n",
       "      <td>74.0</td>\n",
       "      <td>Female</td>\n",
       "      <td>Nurse</td>\n",
       "      <td>Faye Lang, RN, MSW</td>\n",
       "      <td>1</td>\n",
       "    </tr>\n",
       "  </tbody>\n",
       "</table>\n",
       "</div>"
      ],
      "text/plain": [
       "    age  gender   role             user_id  id\n",
       "0  74.0  Female  Nurse  Faye Lang, RN, MSW   0\n",
       "1  74.0  Female  Nurse  Faye Lang, RN, MSW   1"
      ]
     },
     "execution_count": 10,
     "metadata": {},
     "output_type": "execute_result"
    }
   ],
   "source": [
    "user_df.head(2)"
   ]
  },
  {
   "cell_type": "markdown",
   "metadata": {
    "ExecuteTime": {
     "end_time": "2018-07-12T20:32:34.249984Z",
     "start_time": "2018-07-12T20:32:34.239922Z"
    }
   },
   "source": [
    "duplicates"
   ]
  },
  {
   "cell_type": "code",
   "execution_count": 11,
   "metadata": {
    "ExecuteTime": {
     "end_time": "2018-07-13T13:36:10.385593Z",
     "start_time": "2018-07-13T13:36:10.372322Z"
    }
   },
   "outputs": [
    {
     "data": {
      "text/plain": [
       "(9005, 5)"
      ]
     },
     "execution_count": 11,
     "metadata": {},
     "output_type": "execute_result"
    }
   ],
   "source": [
    "user_df.drop_duplicates(subset=['user_id'], inplace=True, keep='first')\n",
    "user_df.shape"
   ]
  },
  {
   "cell_type": "code",
   "execution_count": 12,
   "metadata": {
    "ExecuteTime": {
     "end_time": "2018-07-13T13:36:10.397806Z",
     "start_time": "2018-07-13T13:36:10.389862Z"
    }
   },
   "outputs": [
    {
     "data": {
      "text/plain": [
       "0"
      ]
     },
     "execution_count": 12,
     "metadata": {},
     "output_type": "execute_result"
    }
   ],
   "source": [
    "user_df.user_id.isnull().sum()"
   ]
  },
  {
   "cell_type": "code",
   "execution_count": 13,
   "metadata": {
    "ExecuteTime": {
     "end_time": "2018-07-13T13:36:10.441407Z",
     "start_time": "2018-07-13T13:36:10.402031Z"
    }
   },
   "outputs": [
    {
     "data": {
      "text/plain": [
       "(22003, 8)"
      ]
     },
     "execution_count": 13,
     "metadata": {},
     "output_type": "execute_result"
    }
   ],
   "source": [
    "text_df = pd.concat(text_df, ignore_index=True)\n",
    "text_df.shape"
   ]
  },
  {
   "cell_type": "code",
   "execution_count": 14,
   "metadata": {
    "ExecuteTime": {
     "end_time": "2018-07-13T13:36:10.471267Z",
     "start_time": "2018-07-13T13:36:10.445517Z"
    }
   },
   "outputs": [
    {
     "data": {
      "text/html": [
       "<div>\n",
       "<style scoped>\n",
       "    .dataframe tbody tr th:only-of-type {\n",
       "        vertical-align: middle;\n",
       "    }\n",
       "\n",
       "    .dataframe tbody tr th {\n",
       "        vertical-align: top;\n",
       "    }\n",
       "\n",
       "    .dataframe thead th {\n",
       "        text-align: right;\n",
       "    }\n",
       "</style>\n",
       "<table border=\"1\" class=\"dataframe\">\n",
       "  <thead>\n",
       "    <tr style=\"text-align: right;\">\n",
       "      <th></th>\n",
       "      <th>qa_id</th>\n",
       "      <th>text</th>\n",
       "      <th>asker_id</th>\n",
       "      <th>answerer_id</th>\n",
       "      <th>politeness</th>\n",
       "      <th>type</th>\n",
       "      <th>post_user_id</th>\n",
       "      <th>disease</th>\n",
       "    </tr>\n",
       "  </thead>\n",
       "  <tbody>\n",
       "    <tr>\n",
       "      <th>0</th>\n",
       "      <td>0</td>\n",
       "      <td>Hello, I'm a male in his 20s and I've had fati...</td>\n",
       "      <td>TigerShot</td>\n",
       "      <td>Faye Lang, RN, MSW</td>\n",
       "      <td>0.75</td>\n",
       "      <td>q</td>\n",
       "      <td>TigerShot</td>\n",
       "      <td>psychiatric topics</td>\n",
       "    </tr>\n",
       "    <tr>\n",
       "      <th>1</th>\n",
       "      <td>1</td>\n",
       "      <td>Hello.. You might remember me contacting you 3...</td>\n",
       "      <td>marcia smith</td>\n",
       "      <td>Faye Lang, RN, MSW</td>\n",
       "      <td>0.66</td>\n",
       "      <td>q</td>\n",
       "      <td>marcia smith</td>\n",
       "      <td>psychiatric topics</td>\n",
       "    </tr>\n",
       "  </tbody>\n",
       "</table>\n",
       "</div>"
      ],
      "text/plain": [
       "   qa_id                                               text      asker_id  \\\n",
       "0      0  Hello, I'm a male in his 20s and I've had fati...     TigerShot   \n",
       "1      1  Hello.. You might remember me contacting you 3...  marcia smith   \n",
       "\n",
       "          answerer_id  politeness type  post_user_id             disease  \n",
       "0  Faye Lang, RN, MSW        0.75    q     TigerShot  psychiatric topics  \n",
       "1  Faye Lang, RN, MSW        0.66    q  marcia smith  psychiatric topics  "
      ]
     },
     "execution_count": 14,
     "metadata": {},
     "output_type": "execute_result"
    }
   ],
   "source": [
    "text_df.head(2)"
   ]
  },
  {
   "cell_type": "code",
   "execution_count": 15,
   "metadata": {
    "ExecuteTime": {
     "end_time": "2018-07-13T13:36:10.490051Z",
     "start_time": "2018-07-13T13:36:10.477008Z"
    }
   },
   "outputs": [
    {
     "data": {
      "text/plain": [
       "0"
      ]
     },
     "execution_count": 15,
     "metadata": {},
     "output_type": "execute_result"
    }
   ],
   "source": [
    "text_df.post_user_id.isnull().sum()"
   ]
  },
  {
   "cell_type": "markdown",
   "metadata": {},
   "source": [
    "save to a database"
   ]
  },
  {
   "cell_type": "code",
   "execution_count": 16,
   "metadata": {
    "ExecuteTime": {
     "end_time": "2018-07-13T13:36:14.644025Z",
     "start_time": "2018-07-13T13:36:10.496022Z"
    }
   },
   "outputs": [],
   "source": [
    "user_df.to_sql('user', con=engine, index=False, if_exists='replace')\n",
    "text_df.to_sql('text', con=engine, index=False, if_exists='replace')"
   ]
  }
 ],
 "metadata": {
  "kernelspec": {
   "display_name": "Python 2",
   "language": "python",
   "name": "python2"
  },
  "language_info": {
   "codemirror_mode": {
    "name": "ipython",
    "version": 2
   },
   "file_extension": ".py",
   "mimetype": "text/x-python",
   "name": "python",
   "nbconvert_exporter": "python",
   "pygments_lexer": "ipython2",
   "version": "2.7.14"
  },
  "toc": {
   "base_numbering": 1,
   "nav_menu": {},
   "number_sections": true,
   "sideBar": true,
   "skip_h1_title": false,
   "title_cell": "Table of Contents",
   "title_sidebar": "Contents",
   "toc_cell": false,
   "toc_position": {},
   "toc_section_display": true,
   "toc_window_display": false
  }
 },
 "nbformat": 4,
 "nbformat_minor": 2
}
