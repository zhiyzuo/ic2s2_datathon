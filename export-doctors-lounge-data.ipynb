{
 "cells": [
  {
   "cell_type": "markdown",
   "metadata": {},
   "source": [
    "export dataset: to `ic2s2_datathon`"
   ]
  },
  {
   "cell_type": "markdown",
   "metadata": {},
   "source": [
    "---"
   ]
  },
  {
   "cell_type": "code",
   "execution_count": 1,
   "metadata": {
    "ExecuteTime": {
     "end_time": "2018-07-12T20:30:04.639196Z",
     "start_time": "2018-07-12T20:30:03.741606Z"
    }
   },
   "outputs": [],
   "source": [
    "import os, helpers, warnings, tqdm\n",
    "warnings.simplefilter('once')"
   ]
  },
  {
   "cell_type": "code",
   "execution_count": 2,
   "metadata": {
    "ExecuteTime": {
     "end_time": "2018-07-12T20:30:04.648409Z",
     "start_time": "2018-07-12T20:30:04.643311Z"
    }
   },
   "outputs": [],
   "source": [
    "import pandas as pd"
   ]
  },
  {
   "cell_type": "code",
   "execution_count": 28,
   "metadata": {
    "ExecuteTime": {
     "end_time": "2018-07-12T20:35:13.123475Z",
     "start_time": "2018-07-12T20:35:13.119711Z"
    }
   },
   "outputs": [],
   "source": [
    "from sqlalchemy import create_engine\n",
    "engine = create_engine('postgresql://zhiyzuo@localhost:5432/ic2s2_datathon')"
   ]
  },
  {
   "cell_type": "markdown",
   "metadata": {},
   "source": [
    "---"
   ]
  },
  {
   "cell_type": "markdown",
   "metadata": {},
   "source": [
    "loop through all excel files"
   ]
  },
  {
   "cell_type": "code",
   "execution_count": 4,
   "metadata": {
    "ExecuteTime": {
     "end_time": "2018-07-12T20:30:04.920712Z",
     "start_time": "2018-07-12T20:30:04.916450Z"
    }
   },
   "outputs": [],
   "source": [
    "base_dir = 'data/'"
   ]
  },
  {
   "cell_type": "code",
   "execution_count": 10,
   "metadata": {
    "ExecuteTime": {
     "end_time": "2018-07-12T20:30:51.336439Z",
     "start_time": "2018-07-12T20:30:51.328758Z"
    }
   },
   "outputs": [
    {
     "data": {
      "text/plain": [
       "85"
      ]
     },
     "execution_count": 10,
     "metadata": {},
     "output_type": "execute_result"
    }
   ],
   "source": [
    "file_list = [base_dir+f for f in os.listdir(base_dir) if f.endswith('.xlsx')]\n",
    "len(file_list)"
   ]
  },
  {
   "cell_type": "markdown",
   "metadata": {},
   "source": [
    "use a for loop to create a giant user and text file"
   ]
  },
  {
   "cell_type": "code",
   "execution_count": 11,
   "metadata": {
    "ExecuteTime": {
     "end_time": "2018-07-12T20:30:51.735433Z",
     "start_time": "2018-07-12T20:30:51.703462Z"
    }
   },
   "outputs": [],
   "source": [
    "user_df = list()\n",
    "text_df = list()"
   ]
  },
  {
   "cell_type": "code",
   "execution_count": 12,
   "metadata": {
    "ExecuteTime": {
     "end_time": "2018-07-12T20:30:52.032791Z",
     "start_time": "2018-07-12T20:30:52.024192Z"
    }
   },
   "outputs": [
    {
     "data": {
      "text/plain": [
       "'data/score_Bone infections.xlsx'"
      ]
     },
     "execution_count": 12,
     "metadata": {},
     "output_type": "execute_result"
    }
   ],
   "source": [
    "file_list[38]"
   ]
  },
  {
   "cell_type": "code",
   "execution_count": 13,
   "metadata": {
    "ExecuteTime": {
     "end_time": "2018-07-12T20:31:10.651271Z",
     "start_time": "2018-07-12T20:30:52.500406Z"
    }
   },
   "outputs": [
    {
     "data": {
      "application/vnd.jupyter.widget-view+json": {
       "model_id": "923e58a825c142f98c05d4a59be2a9d8",
       "version_major": 2,
       "version_minor": 0
      },
      "text/plain": [
       "HBox(children=(IntProgress(value=0, max=85), HTML(value='')))"
      ]
     },
     "metadata": {},
     "output_type": "display_data"
    },
    {
     "name": "stderr",
     "output_type": "stream",
     "text": [
      "/Users/zhiyzuo/.virtualenvs/py3/lib/python3.7/site-packages/pandas/core/indexing.py:362: SettingWithCopyWarning: \n",
      "A value is trying to be set on a copy of a slice from a DataFrame.\n",
      "Try using .loc[row_indexer,col_indexer] = value instead\n",
      "\n",
      "See the caveats in the documentation: http://pandas.pydata.org/pandas-docs/stable/indexing.html#indexing-view-versus-copy\n",
      "  self.obj[key] = _infer_fill_value(value)\n",
      "/Users/zhiyzuo/OneDrive - University of Iowa/2018summer/2018IC2S2/datathon/helpers.py:55: SettingWithCopyWarning: \n",
      "A value is trying to be set on a copy of a slice from a DataFrame.\n",
      "Try using .loc[row_indexer,col_indexer] = value instead\n",
      "\n",
      "See the caveats in the documentation: http://pandas.pydata.org/pandas-docs/stable/indexing.html#indexing-view-versus-copy\n",
      "  question_df['type'] = 'q'\n"
     ]
    },
    {
     "data": {
      "text/plain": [
       "(True, True)"
      ]
     },
     "execution_count": 13,
     "metadata": {},
     "output_type": "execute_result"
    }
   ],
   "source": [
    "for f in tqdm.tqdm_notebook(file_list):\n",
    "    #print(f)\n",
    "    u_df, t_df = helpers.extract_user_text_data(f)\n",
    "    user_df.append(u_df)\n",
    "    text_df.append(t_df)\n",
    "len(user_df) == len(text_df), len(text_df) == len(file_list)"
   ]
  },
  {
   "cell_type": "code",
   "execution_count": 15,
   "metadata": {
    "ExecuteTime": {
     "end_time": "2018-07-12T20:31:29.291421Z",
     "start_time": "2018-07-12T20:31:29.253568Z"
    }
   },
   "outputs": [
    {
     "data": {
      "text/plain": [
       "(52286, 5)"
      ]
     },
     "execution_count": 15,
     "metadata": {},
     "output_type": "execute_result"
    }
   ],
   "source": [
    "user_df = pd.concat(user_df,ignore_index=True)\n",
    "user_df.shape"
   ]
  },
  {
   "cell_type": "code",
   "execution_count": 16,
   "metadata": {
    "ExecuteTime": {
     "end_time": "2018-07-12T20:31:32.727768Z",
     "start_time": "2018-07-12T20:31:32.712234Z"
    }
   },
   "outputs": [
    {
     "data": {
      "text/html": [
       "<div>\n",
       "<style scoped>\n",
       "    .dataframe tbody tr th:only-of-type {\n",
       "        vertical-align: middle;\n",
       "    }\n",
       "\n",
       "    .dataframe tbody tr th {\n",
       "        vertical-align: top;\n",
       "    }\n",
       "\n",
       "    .dataframe thead th {\n",
       "        text-align: right;\n",
       "    }\n",
       "</style>\n",
       "<table border=\"1\" class=\"dataframe\">\n",
       "  <thead>\n",
       "    <tr style=\"text-align: right;\">\n",
       "      <th></th>\n",
       "      <th>age</th>\n",
       "      <th>gender</th>\n",
       "      <th>role</th>\n",
       "      <th>user_id</th>\n",
       "      <th>id</th>\n",
       "    </tr>\n",
       "  </thead>\n",
       "  <tbody>\n",
       "    <tr>\n",
       "      <th>0</th>\n",
       "      <td>68.0</td>\n",
       "      <td>Male</td>\n",
       "      <td>Medical Doctor</td>\n",
       "      <td>Dr.M.jagesh kamath</td>\n",
       "      <td>0</td>\n",
       "    </tr>\n",
       "    <tr>\n",
       "      <th>1</th>\n",
       "      <td>73.0</td>\n",
       "      <td>Male</td>\n",
       "      <td>Nurse Assistant</td>\n",
       "      <td>John Kenyon, CNA</td>\n",
       "      <td>1</td>\n",
       "    </tr>\n",
       "  </tbody>\n",
       "</table>\n",
       "</div>"
      ],
      "text/plain": [
       "    age gender             role             user_id  id\n",
       "0  68.0   Male   Medical Doctor  Dr.M.jagesh kamath   0\n",
       "1  73.0   Male  Nurse Assistant    John Kenyon, CNA   1"
      ]
     },
     "execution_count": 16,
     "metadata": {},
     "output_type": "execute_result"
    }
   ],
   "source": [
    "user_df.head(2)"
   ]
  },
  {
   "cell_type": "markdown",
   "metadata": {
    "ExecuteTime": {
     "end_time": "2018-07-12T20:32:34.249984Z",
     "start_time": "2018-07-12T20:32:34.239922Z"
    }
   },
   "source": [
    "duplicates"
   ]
  },
  {
   "cell_type": "code",
   "execution_count": 17,
   "metadata": {
    "ExecuteTime": {
     "end_time": "2018-07-12T20:32:18.971790Z",
     "start_time": "2018-07-12T20:32:18.951381Z"
    }
   },
   "outputs": [
    {
     "data": {
      "text/plain": [
       "(21127, 5)"
      ]
     },
     "execution_count": 17,
     "metadata": {},
     "output_type": "execute_result"
    }
   ],
   "source": [
    "user_df.drop_duplicates(subset=['user_id'], inplace=True, keep='first')\n",
    "user_df.shape"
   ]
  },
  {
   "cell_type": "code",
   "execution_count": 19,
   "metadata": {
    "ExecuteTime": {
     "end_time": "2018-07-12T20:32:54.991084Z",
     "start_time": "2018-07-12T20:32:54.950104Z"
    }
   },
   "outputs": [
    {
     "data": {
      "text/plain": [
       "(49392, 6)"
      ]
     },
     "execution_count": 19,
     "metadata": {},
     "output_type": "execute_result"
    }
   ],
   "source": [
    "text_df = pd.concat(text_df, ignore_index=True)\n",
    "text_df.shape"
   ]
  },
  {
   "cell_type": "code",
   "execution_count": 20,
   "metadata": {
    "ExecuteTime": {
     "end_time": "2018-07-12T20:33:01.927550Z",
     "start_time": "2018-07-12T20:33:01.912964Z"
    }
   },
   "outputs": [
    {
     "data": {
      "text/html": [
       "<div>\n",
       "<style scoped>\n",
       "    .dataframe tbody tr th:only-of-type {\n",
       "        vertical-align: middle;\n",
       "    }\n",
       "\n",
       "    .dataframe tbody tr th {\n",
       "        vertical-align: top;\n",
       "    }\n",
       "\n",
       "    .dataframe thead th {\n",
       "        text-align: right;\n",
       "    }\n",
       "</style>\n",
       "<table border=\"1\" class=\"dataframe\">\n",
       "  <thead>\n",
       "    <tr style=\"text-align: right;\">\n",
       "      <th></th>\n",
       "      <th>qa_id</th>\n",
       "      <th>text</th>\n",
       "      <th>asker_id</th>\n",
       "      <th>answerer_id</th>\n",
       "      <th>type</th>\n",
       "      <th>disease</th>\n",
       "    </tr>\n",
       "  </thead>\n",
       "  <tbody>\n",
       "    <tr>\n",
       "      <th>0</th>\n",
       "      <td>0</td>\n",
       "      <td>I normally had 120/80 blood pressure.  While i...</td>\n",
       "      <td>macacat210</td>\n",
       "      <td>Dr.M.jagesh kamath</td>\n",
       "      <td>q</td>\n",
       "      <td>diseases of the aorta</td>\n",
       "    </tr>\n",
       "    <tr>\n",
       "      <th>1</th>\n",
       "      <td>1</td>\n",
       "      <td>Hello. I have developed hip and knee pain. It ...</td>\n",
       "      <td>mial7</td>\n",
       "      <td>John Kenyon, CNA</td>\n",
       "      <td>q</td>\n",
       "      <td>diseases of the aorta</td>\n",
       "    </tr>\n",
       "  </tbody>\n",
       "</table>\n",
       "</div>"
      ],
      "text/plain": [
       "   qa_id                                               text    asker_id  \\\n",
       "0      0  I normally had 120/80 blood pressure.  While i...  macacat210   \n",
       "1      1  Hello. I have developed hip and knee pain. It ...       mial7   \n",
       "\n",
       "          answerer_id type                disease  \n",
       "0  Dr.M.jagesh kamath    q  diseases of the aorta  \n",
       "1    John Kenyon, CNA    q  diseases of the aorta  "
      ]
     },
     "execution_count": 20,
     "metadata": {},
     "output_type": "execute_result"
    }
   ],
   "source": [
    "text_df.head(2)"
   ]
  },
  {
   "cell_type": "markdown",
   "metadata": {},
   "source": [
    "save to a database"
   ]
  },
  {
   "cell_type": "code",
   "execution_count": 29,
   "metadata": {
    "ExecuteTime": {
     "end_time": "2018-07-12T20:35:29.102857Z",
     "start_time": "2018-07-12T20:35:15.642667Z"
    }
   },
   "outputs": [],
   "source": [
    "user_df.to_sql('user', con=engine, index=False)\n",
    "text_df.to_sql('text', con=engine, index=False)"
   ]
  }
 ],
 "metadata": {
  "kernelspec": {
   "display_name": "Python 3",
   "language": "python",
   "name": "python3"
  },
  "language_info": {
   "codemirror_mode": {
    "name": "ipython",
    "version": 3
   },
   "file_extension": ".py",
   "mimetype": "text/x-python",
   "name": "python",
   "nbconvert_exporter": "python",
   "pygments_lexer": "ipython3",
   "version": "3.7.0"
  },
  "toc": {
   "base_numbering": 1,
   "nav_menu": {},
   "number_sections": true,
   "sideBar": true,
   "skip_h1_title": false,
   "title_cell": "Table of Contents",
   "title_sidebar": "Contents",
   "toc_cell": false,
   "toc_position": {},
   "toc_section_display": true,
   "toc_window_display": false
  }
 },
 "nbformat": 4,
 "nbformat_minor": 2
}
